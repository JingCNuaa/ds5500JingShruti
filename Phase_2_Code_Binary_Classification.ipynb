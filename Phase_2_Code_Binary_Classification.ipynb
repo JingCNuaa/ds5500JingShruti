{
  "cells": [
    {
      "cell_type": "markdown",
      "metadata": {
        "id": "ID7VBHALVeoM"
      },
      "source": [
        "# Baby Cry Classification using Machine Learning Algorithms Phase 2"
      ]
    },
    {
      "cell_type": "markdown",
      "metadata": {
        "id": "uI-cAETgZ58s"
      },
      "source": [
        "## Overview"
      ]
    },
    {
      "cell_type": "markdown",
      "metadata": {
        "id": "GIm0QrFJVeoP"
      },
      "source": [
        "**Project Goal**: The entire project (1st & 2nd phases) aims to classify baby cry reason based on the acoustic cry signals and babies' demographic features using machine learning techniques. The 2nd phase of our research will focus on building a new classifier based on  the insight from the first phase to achieve better F1 score and classification accuracy."
      ]
    },
    {
      "cell_type": "markdown",
      "source": [
        "**Summary of Codebook**: In this codebook, we design a process to extract the Local Binary Pattern (LBP) features and Histogram of Oriented Gradient features from spectrogram images, and extract acoustic features MFCC, LPCC, F1, F2, and F3 from audio files. The classification algorithms include KNN, Random Forest, SVM, XGBoost, and Fuzzy SVM for Class Imbalanced Learning."
      ],
      "metadata": {
        "id": "U2dzbvvMxg-J"
      }
    },
    {
      "cell_type": "markdown",
      "metadata": {
        "id": "jZtgOxF4VeoP"
      },
      "source": [
        "**Inputs**:\n",
        "*   Visual Features: LBP and HOG features extracted from Spectrogram images.\n",
        "*   Acoustic Features: MFCC, LPCC, F1,F2,F3 features extracted from audios.\n",
        "*   Combined feature set that includes both visual features and acoustic features.\n",
        "\n",
        "\n",
        "\n",
        "\n",
        "\n",
        "\n",
        "\n"
      ]
    },
    {
      "cell_type": "markdown",
      "metadata": {
        "id": "VbsTUloWVeoP"
      },
      "source": [
        "**Binary Classification Outputs**: Labels of cry reasons:\n",
        "*   Hungry vs. Not Hungry\n",
        "\n",
        "\n",
        "\n",
        "\n",
        "\n",
        "\n",
        "\n",
        "\n",
        "\n"
      ]
    },
    {
      "cell_type": "markdown",
      "metadata": {
        "id": "Di57lYVBR0WO"
      },
      "source": [
        "### Structure of Code\n",
        "\n",
        "        I. Install and Import Packages\n",
        "\n",
        "        II. Load Dataset- audio files\n",
        "\n",
        "        III. Exploratory Data Analysis\n",
        "\n",
        "        IV. Pre-processing and Feature Extraction\n",
        "\n",
        "        V. PCA/Feature Selection\n",
        "\n",
        "        VI. Build Classifier\n",
        "\n",
        "        VII. Run all models and Report Performance"
      ]
    },
    {
      "cell_type": "code",
      "execution_count": null,
      "metadata": {
        "id": "N-87MNPnKrpu"
      },
      "outputs": [],
      "source": [
        "# Please change the file path to where you have the input data saved.\n",
        "project_path = \"/content/gdrive/MyDrive/DS5500_Data/\""
      ]
    },
    {
      "cell_type": "markdown",
      "metadata": {
        "id": "Gz-CGiDkasP6"
      },
      "source": [
        "## I. Install and Import packages"
      ]
    },
    {
      "cell_type": "code",
      "source": [
        "!pip install pydub praat-parselmouth"
      ],
      "metadata": {
        "colab": {
          "base_uri": "https://localhost:8080/"
        },
        "id": "acMU1AUHI5ci",
        "outputId": "ba14962d-ff45-428f-9cd5-9be7b02a9382"
      },
      "execution_count": null,
      "outputs": [
        {
          "output_type": "stream",
          "name": "stdout",
          "text": [
            "Collecting pydub\n",
            "  Downloading pydub-0.25.1-py2.py3-none-any.whl (32 kB)\n",
            "Collecting praat-parselmouth\n",
            "  Downloading praat_parselmouth-0.4.3-cp310-cp310-manylinux_2_12_x86_64.manylinux2010_x86_64.whl (10.7 MB)\n",
            "\u001b[2K     \u001b[90m━━━━━━━━━━━━━━━━━━━━━━━━━━━━━━━━━━━━━━━━\u001b[0m \u001b[32m10.7/10.7 MB\u001b[0m \u001b[31m22.3 MB/s\u001b[0m eta \u001b[36m0:00:00\u001b[0m\n",
            "\u001b[?25hRequirement already satisfied: numpy>=1.7.0 in /usr/local/lib/python3.10/dist-packages (from praat-parselmouth) (1.22.4)\n",
            "Installing collected packages: pydub, praat-parselmouth\n",
            "Successfully installed praat-parselmouth-0.4.3 pydub-0.25.1\n"
          ]
        }
      ]
    },
    {
      "cell_type": "code",
      "source": [
        "!pip install pydub"
      ],
      "metadata": {
        "colab": {
          "base_uri": "https://localhost:8080/"
        },
        "id": "_sRKiBu6I7Tu",
        "outputId": "f27dd9b6-f21b-457d-9e67-1a76b91e09fc"
      },
      "execution_count": null,
      "outputs": [
        {
          "output_type": "stream",
          "name": "stdout",
          "text": [
            "Requirement already satisfied: pydub in /usr/local/lib/python3.10/dist-packages (0.25.1)\n"
          ]
        }
      ]
    },
    {
      "cell_type": "code",
      "source": [
        "! pip install -U tensorflow-addons"
      ],
      "metadata": {
        "colab": {
          "base_uri": "https://localhost:8080/"
        },
        "id": "MWeD6E8AI9ym",
        "outputId": "8397c945-0505-4d6b-e7fb-74fbabcb6073"
      },
      "execution_count": null,
      "outputs": [
        {
          "output_type": "stream",
          "name": "stdout",
          "text": [
            "Collecting tensorflow-addons\n",
            "  Downloading tensorflow_addons-0.21.0-cp310-cp310-manylinux_2_17_x86_64.manylinux2014_x86_64.whl (612 kB)\n",
            "\u001b[?25l     \u001b[90m━━━━━━━━━━━━━━━━━━━━━━━━━━━━━━━━━━━━━━━━\u001b[0m \u001b[32m0.0/612.1 kB\u001b[0m \u001b[31m?\u001b[0m eta \u001b[36m-:--:--\u001b[0m\r\u001b[2K     \u001b[91m━━━━━━\u001b[0m\u001b[90m╺\u001b[0m\u001b[90m━━━━━━━━━━━━━━━━━━━━━━━━━━━━━━━━━\u001b[0m \u001b[32m92.2/612.1 kB\u001b[0m \u001b[31m2.7 MB/s\u001b[0m eta \u001b[36m0:00:01\u001b[0m\r\u001b[2K     \u001b[91m━━━━━━━━━━━━━━━━━━━━━━━━━\u001b[0m\u001b[90m╺\u001b[0m\u001b[90m━━━━━━━━━━━━━\u001b[0m \u001b[32m399.4/612.1 kB\u001b[0m \u001b[31m5.8 MB/s\u001b[0m eta \u001b[36m0:00:01\u001b[0m\r\u001b[2K     \u001b[91m━━━━━━━━━━━━━━━━━━━━━━━━━━\u001b[0m\u001b[91m╸\u001b[0m\u001b[90m━━━━━━━━━━━━\u001b[0m \u001b[32m419.8/612.1 kB\u001b[0m \u001b[31m4.8 MB/s\u001b[0m eta \u001b[36m0:00:01\u001b[0m\r\u001b[2K     \u001b[91m━━━━━━━━━━━━━━━━━━━━━━━━━━━━━━━━━━━━━━\u001b[0m\u001b[90m╺\u001b[0m \u001b[32m604.2/612.1 kB\u001b[0m \u001b[31m4.4 MB/s\u001b[0m eta \u001b[36m0:00:01\u001b[0m\r\u001b[2K     \u001b[90m━━━━━━━━━━━━━━━━━━━━━━━━━━━━━━━━━━━━━━━\u001b[0m \u001b[32m612.1/612.1 kB\u001b[0m \u001b[31m4.1 MB/s\u001b[0m eta \u001b[36m0:00:00\u001b[0m\n",
            "\u001b[?25hRequirement already satisfied: packaging in /usr/local/lib/python3.10/dist-packages (from tensorflow-addons) (23.1)\n",
            "Collecting typeguard<3.0.0,>=2.7 (from tensorflow-addons)\n",
            "  Downloading typeguard-2.13.3-py3-none-any.whl (17 kB)\n",
            "Installing collected packages: typeguard, tensorflow-addons\n",
            "Successfully installed tensorflow-addons-0.21.0 typeguard-2.13.3\n"
          ]
        }
      ]
    },
    {
      "cell_type": "code",
      "execution_count": null,
      "metadata": {
        "id": "EqvWsuXGVeoQ",
        "colab": {
          "base_uri": "https://localhost:8080/"
        },
        "outputId": "0e27448b-dc6c-49d7-bfde-73c5ed4192cc"
      },
      "outputs": [
        {
          "output_type": "stream",
          "name": "stderr",
          "text": [
            "/usr/local/lib/python3.10/dist-packages/tensorflow_addons/utils/tfa_eol_msg.py:23: UserWarning: \n",
            "\n",
            "TensorFlow Addons (TFA) has ended development and introduction of new features.\n",
            "TFA has entered a minimal maintenance and release mode until a planned end of life in May 2024.\n",
            "Please modify downstream libraries to take dependencies from other repositories in our TensorFlow community (e.g. Keras, Keras-CV, and Keras-NLP). \n",
            "\n",
            "For more information see: https://github.com/tensorflow/addons/issues/2807 \n",
            "\n",
            "  warnings.warn(\n"
          ]
        }
      ],
      "source": [
        "# load required packages\n",
        "import math\n",
        "import os\n",
        "import os\n",
        "import cv2\n",
        "from skimage.feature import local_binary_pattern\n",
        "import matplotlib\n",
        "import matplotlib.pyplot as plt\n",
        "import librosa\n",
        "import librosa.display\n",
        "import wave\n",
        "import pandas as pd\n",
        "import numpy as np\n",
        "import pydub\n",
        "import parselmouth\n",
        "from parselmouth import praat\n",
        "from scipy.io.wavfile import read\n",
        "from pydub import AudioSegment\n",
        "from pydub.utils import make_chunks\n",
        "from os import walk\n",
        "from os import listdir\n",
        "from os.path import isfile, join\n",
        "import random\n",
        "import seaborn as sns\n",
        "%matplotlib inline\n",
        "from statistics import mean\n",
        "from matplotlib import pyplot, cm\n",
        "from sklearn.model_selection import train_test_split,cross_validate,RepeatedStratifiedKFold\n",
        "from sklearn.metrics import precision_score, recall_score, accuracy_score,precision_recall_fscore_support\n",
        "from sklearn.metrics import ConfusionMatrixDisplay, multilabel_confusion_matrix\n",
        "from sklearn.preprocessing import MinMaxScaler,StandardScaler,normalize,LabelEncoder\n",
        "from sklearn.decomposition import PCA\n",
        "from sklearn.ensemble import RandomForestClassifier, RandomForestRegressor\n",
        "from sklearn.model_selection import RandomizedSearchCV,StratifiedKFold,GridSearchCV, StratifiedKFold\n",
        "from sklearn.linear_model import LogisticRegression\n",
        "from sklearn.neighbors import KNeighborsClassifier\n",
        "from imblearn.over_sampling import SMOTE,ADASYN,RandomOverSampler,BorderlineSMOTE\n",
        "from skimage.io import imread\n",
        "from skimage.transform import resize\n",
        "from skimage.feature import hog\n",
        "from skimage import exposure\n",
        "import sklearn\n",
        "from imblearn.ensemble import BalancedRandomForestClassifier\n",
        "from collections import Counter\n",
        "from numpy.linalg import eigh\n",
        "from sklearn.svm import SVC\n",
        "from tensorflow import keras\n",
        "from keras.models import Sequential, load_model\n",
        "from keras.layers import Dense, Dropout, Activation, Flatten, Layer, Convolution2D, Conv2D, MaxPooling2D, GlobalAveragePooling2D, Embedding, Input, LayerNormalization, MultiHeadAttention\n",
        "from keras.layers import MultiHeadAttention as MHA\n",
        "from keras.optimizers import Adam\n",
        "from keras.utils import np_utils\n",
        "from sklearn import metrics\n",
        "from keras.callbacks import ModelCheckpoint\n",
        "from datetime import datetime\n",
        "from keras.utils import to_categorical\n",
        "from PIL import Image\n",
        "from IPython.display import display\n",
        "from keras.utils import to_categorical\n",
        "import tensorflow as tf\n",
        "from tensorflow.keras import layers\n",
        "import tensorflow_addons as tfa\n",
        "from tensorflow_addons.optimizers import AdamW\n",
        "from tqdm.auto import tqdm\n",
        "import soundfile as sf\n",
        "import xgboost as xgb\n",
        "from sklearn.utils.class_weight import compute_sample_weight\n",
        "from sklearn.feature_selection import RFECV"
      ]
    },
    {
      "cell_type": "markdown",
      "metadata": {
        "id": "Jnm25l7XVeoS"
      },
      "source": [
        "## II. Load Dataset- audio files"
      ]
    },
    {
      "cell_type": "markdown",
      "metadata": {
        "id": "9h0S2sBOVeoS"
      },
      "source": [
        "In this phase, we plan to record babies’ cries associated with belly pain, burping, discomfort, and tiredness and combine these new recordings with the Donate-A-Cry Dataset to build a new dataset for research use. The Donate-A-Cry corpus dataset consists of 457 children's cry audio files along with metadata for babies’ demographic information and cry reasons."
      ]
    },
    {
      "cell_type": "code",
      "execution_count": null,
      "metadata": {
        "colab": {
          "base_uri": "https://localhost:8080/"
        },
        "id": "G3vbYDWGsaM9",
        "outputId": "e71f9ddc-e509-454b-dde2-b59c551aca54"
      },
      "outputs": [
        {
          "output_type": "stream",
          "name": "stdout",
          "text": [
            "Mounted at /content/gdrive\n"
          ]
        }
      ],
      "source": [
        "# mount google drive to access files and folders\n",
        "from google.colab import drive\n",
        "drive.mount(\"/content/gdrive\")"
      ]
    },
    {
      "cell_type": "code",
      "source": [
        "# Convert new iphone recorded file to wave form and save them into the input data folder\n",
        "file_path_df = pd.DataFrame(columns=['file_name','audio_type'])\n",
        "sub_folder_name = [\"belly_pain\",\"burping\",\"discomfort\",\"tired\",\"hungry\"]\n",
        "\n",
        "# Generate a datafram that contains the filename and locations for all the new recordings in the new_recordings folder.\n",
        "for t in sub_folder_name:\n",
        "    wav_files = [project_path + \"new_recordings/\" +t+\"/\"+ f for f in os.listdir(project_path +\"/new_recordings/\"+t) if f.endswith(\".m4a\")]\n",
        "    short_file_names = [f.split(\".\")[0] for f in os.listdir(project_path +\"/new_recordings/\"+t) if f.endswith(\".m4a\")]\n",
        "    temp_df = pd.DataFrame({ \"file_name\" : wav_files,\n",
        "                            \"short_file_name\" : short_file_names,\n",
        "                            \"audio_type\" : t})\n",
        "    file_path_df = pd.concat([file_path_df, temp_df], ignore_index=True)\n",
        "\n",
        "label_dict = {\n",
        "    \"belly_pain\": \"bp\",\n",
        "    \"burping\": \"bu\",\n",
        "    \"discomfort\": \"dc\",\n",
        "    \"hungry\": \"hu\",\n",
        "    \"tired\": \"ti\"\n",
        "}\n",
        "\n",
        "# Go through all the files in the new_recordings folder.\n",
        "# If there is new file that doesn't exist in the audio folder as a wav file, we convert it to a wav file and then save it to the audio folder.\n",
        "for i in range(len(file_path_df)):\n",
        "  m4a_file = file_path_df['file_name'][i]\n",
        "  audio_path = project_path+f\"/audio/{file_path_df['audio_type'][i]}/\"+file_path_df['short_file_name'][i] + \".wav\"\n",
        "  if not os.path.isfile(audio_path):\n",
        "    track = AudioSegment.from_file(m4a_file,  format= 'm4a')\n",
        "    print(m4a_file)\n",
        "    #track.export(project_path+f\"/new_recordings_wav/{file_path_df['audio_type'][i]}/\"+file_path_df['short_file_name'][i] + \".wav\", format='wav')\n",
        "    #track.export(project_path+f\"/audio/{file_path_df['audio_type'][i]}/\"+file_path_df['short_file_name'][i] + \".wav\", format='wav')"
      ],
      "metadata": {
        "id": "FtOhFCnkguLE"
      },
      "execution_count": null,
      "outputs": []
    },
    {
      "cell_type": "code",
      "execution_count": null,
      "metadata": {
        "id": "QFleZNIbVeoS"
      },
      "outputs": [],
      "source": [
        "# create a data frame that contains all file path of audio files in the audio folder and associated label for cry reason\n",
        "dic_path = os.getcwd()\n",
        "sub_folder_name = [\"belly_pain\",\"burping\",\"discomfort\",\"hungry\",\"tired\"]\n",
        "file_path_df = pd.DataFrame(columns=['file_name','audio_type'])\n",
        "for t in sub_folder_name:\n",
        "    wav_files = [project_path+\"audio/\"+t+\"/\"+ f for f in os.listdir(project_path+\"audio/\"+t) if f.endswith(\".wav\")]\n",
        "    temp_df = pd.DataFrame({ \"file_name\" : wav_files, \"audio_type\" : t})\n",
        "    file_path_df = pd.concat([file_path_df, temp_df], ignore_index=True)"
      ]
    },
    {
      "cell_type": "markdown",
      "metadata": {
        "id": "mJIEIWiwVeoT"
      },
      "source": [
        "## III. Exploratory Data Analysis"
      ]
    },
    {
      "cell_type": "code",
      "execution_count": null,
      "metadata": {
        "id": "87lAFiTMVeoT"
      },
      "outputs": [],
      "source": [
        "# extract length of file, age and gender of babies from the files and append to the dataframe\n",
        "\n",
        "def calculate_audio_length(file_path):\n",
        "    # load audio file using file path and calculate the length of audio in minutes\n",
        "    y,sr = librosa.load(file_path)\n",
        "    length = len(y)/sr\n",
        "    return length\n",
        "\n",
        "def extract_gender(file_path):\n",
        "    # extract information on gender from file name\n",
        "    g = file_path.split(\"-\")[-3]\n",
        "    if g == \"m\":\n",
        "        return \"Male\"\n",
        "    else: return \"Female\"\n",
        "\n",
        "def extract_age(file_path):\n",
        "    # extract information on age in month from file name\n",
        "    a = int(file_path.split(\"-\")[-2])\n",
        "    return a\n",
        "\n",
        "def extract_audio_index(file_path):\n",
        "  # extract audio index from file name\n",
        "    audio_index = int(file_path.split(\"/\")[-1].split(\"-\")[0])\n",
        "    return audio_index\n",
        "\n",
        "def identify_source(audio_index):\n",
        "  # extract information on age in month from file name\n",
        "  if audio_index <=456:\n",
        "    return \"Donate-A-Cry Dataset\"\n",
        "  else:\n",
        "    return \"New Recordings\"\n",
        "\n",
        "def identify_binary_cry_type(cry_reason):\n",
        "  if cry_reason == \"hungry\":\n",
        "    return \"hungry\"\n",
        "  else:\n",
        "    return \"not hungry\""
      ]
    },
    {
      "cell_type": "code",
      "execution_count": null,
      "metadata": {
        "id": "ThjKCjQOVeoU"
      },
      "outputs": [],
      "source": [
        "# Extract the demographic information from the audio file names\n",
        "#file_path_df[\"length\"] = file_path_df[\"file_name\"].map(lambda x:calculate_audio_length(x))\n",
        "file_path_df[\"gender\"] = file_path_df[\"file_name\"].map(lambda x:extract_gender(x))\n",
        "file_path_df[\"age_in_months\"] = file_path_df[\"file_name\"].map(lambda x:extract_age(x))\n",
        "file_path_df[\"audio_index\"] = file_path_df[\"file_name\"].map(lambda x:extract_audio_index(x))\n",
        "file_path_df[\"source\"] = file_path_df[\"audio_index\"].map(lambda x:identify_source(x))\n",
        "file_path_df[\"audio_type\"] = file_path_df[\"audio_type\"].map(lambda x:identify_binary_cry_type(x))"
      ]
    },
    {
      "cell_type": "markdown",
      "metadata": {
        "id": "icp0U1P9VeoU"
      },
      "source": [
        "### Age"
      ]
    },
    {
      "cell_type": "code",
      "execution_count": null,
      "metadata": {
        "colab": {
          "base_uri": "https://localhost:8080/"
        },
        "id": "0D_QeKW-VeoV",
        "outputId": "5a556a8b-0606-4893-d852-3fbf5a007946"
      },
      "outputs": [
        {
          "output_type": "execute_result",
          "data": {
            "text/plain": [
              "max       72.0\n",
              "median    26.0\n",
              "min        4.0\n",
              "Name: age_in_months, dtype: float64"
            ]
          },
          "metadata": {},
          "execution_count": 12
        }
      ],
      "source": [
        "# Get the statistics on age of babies\n",
        "file_path_df['age_in_months'].apply([\"max\",\"median\",\"min\"])"
      ]
    },
    {
      "cell_type": "code",
      "execution_count": null,
      "metadata": {
        "colab": {
          "base_uri": "https://localhost:8080/",
          "height": 492
        },
        "id": "zQRMw_MrVeoV",
        "outputId": "fa8ee6a8-7153-4234-9d57-0e5d63e385c4"
      },
      "outputs": [
        {
          "output_type": "display_data",
          "data": {
            "text/plain": [
              "<Figure size 640x480 with 1 Axes>"
            ],
            "image/png": "[encoded data removed]"
          },
          "metadata": {}
        }
      ],
      "source": [
        "# Create list of data according to different gender\n",
        "x1 = list(file_path_df[file_path_df['gender'] == \"Male\"]['age_in_months'])\n",
        "x2 = list(file_path_df[file_path_df['gender'] == \"Female\"]['age_in_months'])\n",
        "\n",
        "colors=['mediumturquoise', 'pink']\n",
        "names=['Male', 'Female']\n",
        "\n",
        "plt.hist([x1, x2], color=colors, label=names, stacked = True)\n",
        "plt.grid(color='#9ba3a3', linestyle='--', linewidth=1, axis='y', alpha=0.7)\n",
        "plt.xlabel('Age in Months', fontsize = 15)\n",
        "plt.ylabel('Number of Audio Files', fontsize = 15)\n",
        "plt.title('Number of Audio Files by Age in Months',fontsize = 20)\n",
        "plt.legend(title='Gender', fontsize = 20)\n",
        "plt.xticks(fontsize = 15)\n",
        "plt.show()"
      ]
    },
    {
      "cell_type": "markdown",
      "metadata": {
        "id": "632JPyyjVeoW"
      },
      "source": [
        "### Cry Reason"
      ]
    },
    {
      "cell_type": "code",
      "execution_count": null,
      "metadata": {
        "colab": {
          "base_uri": "https://localhost:8080/",
          "height": 489
        },
        "id": "LyqOHyoQVeoW",
        "outputId": "76daa1b3-d5bb-4ff1-93fe-318b7fa10d22"
      },
      "outputs": [
        {
          "output_type": "display_data",
          "data": {
            "text/plain": [
              "<Figure size 640x480 with 1 Axes>"
            ],
            "image/png": "[encoded data removed]"
          },
          "metadata": {}
        }
      ],
      "source": [
        "# Plot number of file audios by cry reason and souce\n",
        "count_by_type = pd.DataFrame(file_path_df.groupby(['audio_type','source']).size()).rename(columns={0: \"count\"})\n",
        "count_by_type.reset_index(inplace=True)\n",
        "statistics = pd.pivot_table(count_by_type, values='count', index='audio_type', columns='source',fill_value=0)\n",
        "groups = statistics.index.tolist()\n",
        "values1 = statistics['Donate-A-Cry Dataset']\n",
        "values2 = statistics['New Recordings']\n",
        "fig, ax = plt.subplots()\n",
        "ax.bar(groups, values1, color = \"salmon\", alpha = 0.5, label = \"Donate-A-Cry Dataset\")\n",
        "ax.bar(groups, values2, bottom = values1, color = \"blue\", alpha = 0.5, label = \"New Recordings\")\n",
        "plt.xlabel('Cry Reason', fontsize = 14)\n",
        "plt.ylabel('Number of Audio Files', fontsize = 15)\n",
        "plt.title('Number of Audio Files by Cry Reason', fontsize = 20)\n",
        "ax.legend(loc=2)\n",
        "plt.xticks(fontsize = 12)\n",
        "plt.show()\n"
      ]
    },
    {
      "cell_type": "markdown",
      "metadata": {
        "id": "xwiB4px0VeoW"
      },
      "source": [
        "## IV. Pre-processing and Feature Extraction"
      ]
    },
    {
      "cell_type": "markdown",
      "source": [
        "### A. Extract Visual Features from Spectrogram Images"
      ],
      "metadata": {
        "id": "KlJ1eKPn0Rgw"
      }
    },
    {
      "cell_type": "markdown",
      "source": [
        "**Local Binary Pattern (LBP)** was introduced by Ojala et al. in 1994, which characterizes an image with local spatial patterns and grayscale contrast in the image with three main steps.\n"
      ],
      "metadata": {
        "id": "pFrpKsHMKmpR"
      }
    },
    {
      "cell_type": "markdown",
      "metadata": {
        "id": "ALWGbdIuVeoW"
      },
      "source": [
        "**(1)** Convert audio files into spectrogram images\n",
        "\n",
        "**(2)** Convert the RGB image to grayscale.\n",
        "\n",
        "**(3)** Extract LBP-based features: Consider the spectrogram as a texture and use the Local Binary Pattern (LBP) operator to get features\n"
      ]
    },
    {
      "cell_type": "code",
      "execution_count": null,
      "metadata": {
        "id": "SdeXWxvo97qP"
      },
      "outputs": [],
      "source": [
        "# convert audio files into spectrogram images if spectrogram image doesn't exist\n",
        "# second_num = 6\n",
        "# # this is the number of samples in a window per fft\n",
        "# n_fft = 2048\n",
        "# # The amount of samples we are shifting after each fft\n",
        "# hop_length = 512\n",
        "\n",
        "# for i in tqdm(range(file_path_df.shape[0])):\n",
        "#   # check if spectrogram exists in the image folder\n",
        "#   plt_image_path = project_path + f\"image/{str(file_path_df['audio_type'][i])},audio_{str(file_path_df['audio_index'][i])}_1.jpg\"\n",
        "#   if not os.path.isfile(plt_image_path):  # if it doesn't exists in the image folder\n",
        "#     signal, sr = librosa.load(file_path_df['file_name'][i])\n",
        "#     signal, _ = librosa.effects.trim(signal)\n",
        "#     j = 0\n",
        "#     # cut the wav file into segment of 6 seconds and then convert it to spectrograms\n",
        "#     while len(signal)>= second_num*sr:\n",
        "#         signal_seg = signal[:second_num*sr]\n",
        "#         signal = signal[second_num*sr:]\n",
        "#         j += 1\n",
        "#         # Generate Mel-spectrogram\n",
        "#         mel_signal = librosa.feature.melspectrogram(y=signal_seg, sr=sr, hop_length=hop_length, n_fft=n_fft)\n",
        "#         spectrogram = np.abs(mel_signal)\n",
        "#         power_to_db = librosa.power_to_db(spectrogram, ref=np.max)\n",
        "#         plt.figure(figsize=(3, 1))\n",
        "#         librosa.display.specshow(power_to_db, sr=sr, x_axis='time', y_axis='mel', cmap='magma',hop_length=hop_length)\n",
        "#         plt.axis('off')\n",
        "        #plt.savefig(project_path + f\"image/{str(file_path_df['audio_type'][i])},audio_{str(file_path_df['audio_index'][i])}_{j}.jpg\", bbox_inches='tight', dpi=300)"
      ]
    },
    {
      "cell_type": "code",
      "execution_count": null,
      "metadata": {
        "id": "cWuOHgpK94fR",
        "colab": {
          "base_uri": "https://localhost:8080/",
          "height": 49,
          "referenced_widgets": [
            "e73f42d07a684e86bc5454bda667ee67",
            "231ac739c916463a912203882c6fac5c",
            "3680a34ddc1140ebab5f319b441b0b09",
            "04af4e137ffc4b33ad326900063c2bce",
            "c3693e9d5c024eb681908ea5f3d64dcd",
            "a62db1f1a13a47db8372da6c8f330c0b",
            "92c163cf4875404b84ca273b8412ea73",
            "790c64a317f64f4a98513c978d34508a",
            "fcb2b5abd45d4663a870564eee47eb00",
            "9eacd37863d74b8e8022a1417e6e185f",
            "aac67d4574a640e399e6049c6ec2bfa4"
          ]
        },
        "outputId": "1e5c5306-cff1-4d84-ea30-0a3d964e3018"
      },
      "outputs": [
        {
          "output_type": "display_data",
          "data": {
            "text/plain": [
              "  0%|          | 0/509 [00:00<?, ?it/s]"
            ],
            "application/vnd.jupyter.widget-view+json": {
              "version_major": 2,
              "version_minor": 0,
              "model_id": "e73f42d07a684e86bc5454bda667ee67"
            }
          },
          "metadata": {}
        }
      ],
      "source": [
        "# Load spectrogram images\n",
        "option  = \"image\"\n",
        "images_paths = os.listdir(project_path + option)\n",
        "images = []\n",
        "y = []\n",
        "image_size = 200\n",
        "class_name_dic = {\n",
        "    \"discomfort\": 0,\n",
        "    \"burping\":0,\n",
        "    \"hungry\":1,\n",
        "    \"tired\":0,\n",
        "    \"belly_pain\":0\n",
        "}\n",
        "for path in tqdm(images_paths):\n",
        "  img = cv2.imread(project_path + f\"{option}/\" + path)\n",
        "  img = cv2.cvtColor(img, cv2.COLOR_BGR2RGB)\n",
        "  img = cv2.resize(img, dsize=(image_size,image_size))\n",
        "  img = cv2.cvtColor(img, cv2.COLOR_RGB2GRAY)\n",
        "  class_name = path.split(\",\")[0]\n",
        "  images.append(img)\n",
        "  y.append(class_name_dic[class_name])\n",
        "images_array = np.array(images)\n",
        "y = np.array(y)"
      ]
    },
    {
      "cell_type": "code",
      "execution_count": null,
      "metadata": {
        "id": "xaNGC67-_nEk"
      },
      "outputs": [],
      "source": [
        "classnames = ['not hungry','hungry']"
      ]
    },
    {
      "cell_type": "code",
      "execution_count": null,
      "metadata": {
        "colab": {
          "base_uri": "https://localhost:8080/",
          "height": 49,
          "referenced_widgets": [
            "6654f14f3fdb44f4a91fc9d60f0c1674",
            "bfc7f07ea0934d3494b1e56ea40e2571",
            "317d4e4ed72a47b4825ea9ceb1580f60",
            "fbabc8d6ca034a1fa0d1f50f18185282",
            "3499beaeb2c14aba899491c5232ece5c",
            "ba408a10c4fa420a979e1aa7a4d8d314",
            "769db866abb64a57ab3a40505a2ccc0b",
            "e4b8359eac0c487b83dbf5b8c38a6ba0",
            "b4605db1e11c49e58a3d528b52e51981",
            "8d48fe4e1b2a4e2abcedd4f7b93e7fc7",
            "fddba2034aa84352aada32644686389d"
          ]
        },
        "id": "6rNNyHIxB8qC",
        "outputId": "2c1c5cab-ab52-404d-f10c-e7e9b6f9db80"
      },
      "outputs": [
        {
          "output_type": "display_data",
          "data": {
            "text/plain": [
              "  0%|          | 0/509 [00:00<?, ?it/s]"
            ],
            "application/vnd.jupyter.widget-view+json": {
              "version_major": 2,
              "version_minor": 0,
              "model_id": "6654f14f3fdb44f4a91fc9d60f0c1674"
            }
          },
          "metadata": {}
        }
      ],
      "source": [
        "# generate histogram based on LBP 2D array\n",
        "lbps = []\n",
        "for image in tqdm(images_array):\n",
        "  lbp = local_binary_pattern(image, P=8, R=1)\n",
        "  lbps.append(lbp)\n",
        "X_lbps = np.array(lbps)"
      ]
    },
    {
      "cell_type": "code",
      "execution_count": null,
      "metadata": {
        "id": "IrS7E6l2ay0u",
        "colab": {
          "base_uri": "https://localhost:8080/",
          "height": 49,
          "referenced_widgets": [
            "53dc3988a5eb4659a1f55f7d48ff6bba",
            "01339b67e6964481ac124d2772d02a6d",
            "5ae5aa107e5841d9bd5f3bb767a453b4",
            "64a8e09aa2b442178158e5db5c5e29ee",
            "9fc90501a21c465d8a6bfae6a050d238",
            "6f84f1b19cb847728f3d54133321009a",
            "438cf327bce74649b25f2a06b160f6be",
            "c277a769f64e4b6488d110bac4c3b78b",
            "1792b77da7ea4e2690059bce0b70e62d",
            "34ff65e180b64fa1aa7d91e4d365009e",
            "24dccf17458f408f8eaaf17a5d4c812a"
          ]
        },
        "outputId": "15850ce6-03a6-49eb-b60d-2983c2794bdb"
      },
      "outputs": [
        {
          "output_type": "display_data",
          "data": {
            "text/plain": [
              "  0%|          | 0/509 [00:00<?, ?it/s]"
            ],
            "application/vnd.jupyter.widget-view+json": {
              "version_major": 2,
              "version_minor": 0,
              "model_id": "53dc3988a5eb4659a1f55f7d48ff6bba"
            }
          },
          "metadata": {}
        }
      ],
      "source": [
        "# generate histogram based on the LBP 2D array\n",
        "cell_width = 4\n",
        "bins_num = 64\n",
        "X_list = []\n",
        "for x in tqdm(X_lbps):\n",
        "  grid = np.arange(0, image_size +1, image_size//cell_width)\n",
        "  cell_histograms = []\n",
        "  cell_num = len(grid)\n",
        "  for i in range(cell_num - 1):\n",
        "      for j in range(cell_num - 1):\n",
        "          cell = x[grid[i]:grid[i+1], grid[j]:grid[j+1]]\n",
        "          cell_hist = np.histogram(cell, bins=bins_num)[0]\n",
        "          cell_histograms.append(cell_hist)\n",
        "  image_histogram = np.array(cell_histograms).flatten()\n",
        "  X_list.append(image_histogram)\n",
        "X_lbp_features  = np.array(X_list)"
      ]
    },
    {
      "cell_type": "markdown",
      "source": [
        "**Histogram of Oriented Gradients (HOG)** describes the local object appearance and shape within an image by the distribution of intensity gradients or edge directions with 3 main steps: (1) Divide the image  into small connected cells; (2) Calculate the magnitude of horizontal and vertical gradients at every pixel; and (3) Generate and compile histograms of gradients."
      ],
      "metadata": {
        "id": "kZUzI8n0K9EX"
      }
    },
    {
      "cell_type": "code",
      "source": [
        "# Generate HOG based features\n",
        "hog_images = []\n",
        "hog_histograms = []\n",
        "# reading the image\n",
        "for i in tqdm(range(len(images_paths))):\n",
        "  img = imread(project_path + \"image/\" + images_paths[i])\n",
        "  # resizing image\n",
        "  resized_img = resize(img, (64, 64))\n",
        "  # creating hog features\n",
        "  hog_histogram, hog_image = hog(resized_img, orientations=9, pixels_per_cell=(8, 8),cells_per_block=(2, 2), visualize=True, multichannel=True)\n",
        "  hog_images.append(hog_image)\n",
        "  hog_histograms.append(hog_histogram)\n",
        "  if i==0:\n",
        "    plt.axis(\"off\")\n",
        "    plt.imshow(img)\n",
        "    plt.show()\n",
        "    plt.axis(\"off\")\n",
        "    plt.imshow(resized_img)\n",
        "    plt.show()\n",
        "    plt.axis(\"off\")\n",
        "    plt.imshow(hog_image, cmap=\"gray\")\n",
        "    plt.show()\n",
        "hog_images = np.array(hog_images)\n",
        "X_hog_features = np.array(hog_histograms)"
      ],
      "metadata": {
        "colab": {
          "base_uri": "https://localhost:8080/",
          "height": 1000,
          "referenced_widgets": [
            "c506badc5c904e2d825ded23e160766c",
            "9c8427081f9847b5a2f94d08e6a9edb5",
            "46046cdad4a04513a2a93d96ccac1f4d",
            "8fb8db29c1344334b13401b9802b2162",
            "c97b63eaf48e49bab4713e73b3115616",
            "da86d5c4c8404449b40e2b8fcdb4a880",
            "db94771f99d24fa28e86e46d01396af6",
            "63d820c7ff9b47f095f255c0a737bdb6",
            "c346fd4dc05449f790ebb694decdfc57",
            "322feec896a546baadd0908fa037af22",
            "aaedab85edac4e17a84a5fe757036a40"
          ]
        },
        "id": "oLwfElxx45U9",
        "outputId": "b2691ab7-5d58-40b6-8af3-21c2230450f6"
      },
      "execution_count": null,
      "outputs": [
        {
          "output_type": "display_data",
          "data": {
            "text/plain": [
              "  0%|          | 0/509 [00:00<?, ?it/s]"
            ],
            "application/vnd.jupyter.widget-view+json": {
              "version_major": 2,
              "version_minor": 0,
              "model_id": "c506badc5c904e2d825ded23e160766c"
            }
          },
          "metadata": {}
        },
        {
          "output_type": "stream",
          "name": "stderr",
          "text": [
            "<ipython-input-20-07579f4e9e01>:10: FutureWarning: `multichannel` is a deprecated argument name for `hog`. It will be removed in version 1.0. Please use `channel_axis` instead.\n",
            "  hog_histogram, hog_image = hog(resized_img, orientations=9, pixels_per_cell=(8, 8),cells_per_block=(2, 2), visualize=True, multichannel=True)\n"
          ]
        },
        {
          "output_type": "display_data",
          "data": {
            "text/plain": [
              "<Figure size 640x480 with 1 Axes>"
            ],
            "image/png": "[encoded data removed]"
          },
          "metadata": {}
        },
        {
          "output_type": "display_data",
          "data": {
            "text/plain": [
              "<Figure size 640x480 with 1 Axes>"
            ],
            "image/png": "[encoded data removed]"
          },
          "metadata": {}
        },
        {
          "output_type": "display_data",
          "data": {
            "text/plain": [
              "<Figure size 640x480 with 1 Axes>"
            ],
            "image/png": "[encoded data removed]"
          },
          "metadata": {}
        }
      ]
    },
    {
      "cell_type": "markdown",
      "source": [
        "Combine LBP features with HOG features"
      ],
      "metadata": {
        "id": "vlHP3zmbLRId"
      }
    },
    {
      "cell_type": "code",
      "source": [
        "X_lbp_features.shape"
      ],
      "metadata": {
        "colab": {
          "base_uri": "https://localhost:8080/"
        },
        "id": "BepE40P857t2",
        "outputId": "f7ab02a7-b575-459a-c714-15d11db30250"
      },
      "execution_count": null,
      "outputs": [
        {
          "output_type": "execute_result",
          "data": {
            "text/plain": [
              "(509, 1024)"
            ]
          },
          "metadata": {},
          "execution_count": 21
        }
      ]
    },
    {
      "cell_type": "code",
      "source": [
        "X_hog_features.shape"
      ],
      "metadata": {
        "colab": {
          "base_uri": "https://localhost:8080/"
        },
        "id": "_kc1e9gj6RZL",
        "outputId": "206ec39f-532e-44a6-9be7-cf0059ceb3cd"
      },
      "execution_count": null,
      "outputs": [
        {
          "output_type": "execute_result",
          "data": {
            "text/plain": [
              "(509, 1764)"
            ]
          },
          "metadata": {},
          "execution_count": 22
        }
      ]
    },
    {
      "cell_type": "code",
      "source": [
        "X = np.hstack((X_lbp_features,X_hog_features))\n",
        "X.shape"
      ],
      "metadata": {
        "colab": {
          "base_uri": "https://localhost:8080/"
        },
        "id": "3gGSR7IO6XMZ",
        "outputId": "9836f95f-3a14-4e5d-c691-ec6cb6249242"
      },
      "execution_count": null,
      "outputs": [
        {
          "output_type": "execute_result",
          "data": {
            "text/plain": [
              "(509, 2788)"
            ]
          },
          "metadata": {},
          "execution_count": 23
        }
      ]
    },
    {
      "cell_type": "code",
      "execution_count": null,
      "metadata": {
        "id": "ETyxmYtdDl7p"
      },
      "outputs": [],
      "source": [
        "# Train test split\n",
        "X_index_list = list(file_path_df[\"audio_index\"])\n",
        "y_cry_reason = file_path_df['audio_type']\n",
        "# X_train_index,X_test_index,_,_ = train_test_split(X_index_list,\n",
        "#                                                   y_cry_reason,\n",
        "#                                                   test_size=0.25,\n",
        "#                                                   stratify=y_cry_reason,\n",
        "#                                                   shuffle=True,\n",
        "#                                                   random_state=100)"
      ]
    },
    {
      "cell_type": "code",
      "source": [
        "# In order to ensure the multiclass and binary classification use the same test sets. We manually assign the indexes for train and test set.\n",
        "# these are the random train index generated from multiclass classification notebook\n",
        "X_train_index = [457, 7, 459, 4, 338, 292, 34, 287, 200, 494, 9, 94, 155, 220, 164, 445, 490, 311, 75, 179, 372, 148, 397, 82, 136, 496, 422, 131, 196, 425, 201, 206, 491, 380, 79, 50, 334, 147, 229, 166, 406, 98, 474, 395, 105, 354, 499, 353, 231, 95, 377, 341, 362, 15, 116, 203, 217, 170, 145, 156, 160, 92, 245, 66, 244, 364, 132, 251, 412, 376, 109, 378, 471, 473, 317, 61, 227, 324, 81, 432, 436, 22, 460, 11, 415, 262, 199, 385, 278, 356, 329, 112, 492, 175, 243, 151, 482, 204, 194, 70, 464, 241, 100, 408, 417, 134, 325, 430, 205, 409, 165, 288, 123, 294, 270, 159, 345, 405, 479, 465, 101, 448, 71, 128, 274, 273, 261, 144, 177, 493, 393, 104, 277, 221, 333, 265, 124, 361, 257, 118, 39, 21, 102, 83, 283, 119, 351, 122, 69, 304, 173, 181, 475, 8, 62, 234, 162, 306, 370, 248, 198, 305, 114, 315, 215, 347, 90, 339, 303, 13, 429, 483, 302, 352, 35, 169, 290, 489, 275, 433, 289, 360, 135, 480, 394, 296, 279, 469, 59, 458, 91, 348, 250, 213, 373, 346, 40, 363, 23, 157, 435, 86, 197, 463, 440, 96, 486, 254, 207, 172, 400, 120, 410, 190, 388, 242, 187, 344, 149, 219, 340, 89, 256, 97, 36, 212, 32, 301, 153, 454, 237, 99, 298, 368, 230, 158, 161, 12, 226, 51, 240, 107, 167, 439, 472, 495, 31, 493, 246, 27, 336, 18, 450, 214, 60, 297, 184, 209, 322, 113, 33, 193, 48, 328, 310, 434, 386, 446, 316, 260, 259, 497, 252, 117, 437, 441, 481, 314, 41, 239, 125, 0, 152, 374, 53, 466, 255, 461, 264, 73, 186, 424, 414, 37, 121, 426, 127, 76, 467, 282, 456, 141, 202, 64, 224, 236, 276, 312, 235, 271, 411, 57, 431, 133, 24, 300, 280, 238, 195, 30, 452, 331, 210, 140, 399, 468, 29, 42, 126, 74, 150, 478, 407, 343, 293, 14, 85, 487, 26, 267, 470, 178, 208, 358, 319, 453, 44, 423, 225, 52, 188, 391, 5, 154, 272, 396, 350, 383, 389, 77, 443, 263, 335, 163, 387, 10, 488, 247, 253, 176, 313, 192, 55, 191, 111, 211]"
      ],
      "metadata": {
        "id": "Mg8HyGKmCHWm"
      },
      "execution_count": null,
      "outputs": []
    },
    {
      "cell_type": "code",
      "source": [
        "# these are the random test index generated from multiclass classification notebook\n",
        "X_test_index = [369, 418, 281, 49, 168, 143, 218, 447, 174, 146, 137, 268, 93, 6, 232, 139, 103, 390, 476, 498, 285, 80, 404, 327, 442, 110, 68, 307, 451, 72, 444, 485, 286, 171, 46, 17, 349, 359, 16, 355, 455, 291, 129, 38, 449, 258, 484, 321, 56, 2, 58, 222, 84, 330, 308, 342, 295, 228, 366, 309, 323, 438, 392, 477, 3, 1, 500, 381, 419, 87, 43, 420, 365, 130, 54, 189, 183, 421, 63, 138, 320, 28, 45, 216, 371, 142, 223, 67, 379, 398, 266, 403, 357, 318, 185, 401, 88, 249, 233, 299, 65, 19, 428, 384, 337, 284, 413, 427, 78, 106, 332, 108, 180, 402, 326, 375, 47, 416, 115, 382, 25, 367, 269, 462, 20, 182]"
      ],
      "metadata": {
        "id": "sGjteujjCMdp"
      },
      "execution_count": null,
      "outputs": []
    },
    {
      "cell_type": "code",
      "source": [
        "audio_type_dict = pd.Series(file_path_df['audio_type'].values,file_path_df['audio_index']).to_dict()"
      ],
      "metadata": {
        "id": "ShwH3CarPox9"
      },
      "execution_count": null,
      "outputs": []
    },
    {
      "cell_type": "code",
      "source": [
        "def find_cry_reason(audio_index):\n",
        "  type = audio_type_dict[audio_index]\n",
        "  return type"
      ],
      "metadata": {
        "id": "S85O2V_yOEFm"
      },
      "execution_count": null,
      "outputs": []
    },
    {
      "cell_type": "code",
      "source": [
        "image_segment_audio_index = pd.DataFrame(images_paths)[0].apply(lambda x: x.split(',')[1])\n",
        "image_segment_audio_index = image_segment_audio_index.apply(lambda x: x.split('_')[1]).astype(int)\n",
        "vf_df= pd.DataFrame(X)\n",
        "vf_df['audio_index'] = image_segment_audio_index\n",
        "vf_df['cry_reason'] = y\n",
        "vf_df.columns = [f\"vf_{i}\" for i in range(X.shape[1])] + ['audio_index','cry_reason']"
      ],
      "metadata": {
        "id": "kMfCgVZnBoqQ"
      },
      "execution_count": null,
      "outputs": []
    },
    {
      "cell_type": "code",
      "source": [
        "### Split data into train and test sets\n",
        "train_df_vf = vf_df[vf_df['audio_index'].isin(X_train_index).tolist()]\n",
        "test_df_vf = vf_df[vf_df['audio_index'].isin(X_test_index)]\n",
        "col = ['audio_index','cry_reason']\n",
        "X_train_vf = train_df_vf[[x for x in train_df_vf.columns if x not in col]]\n",
        "y_train_vf = train_df_vf['cry_reason']\n",
        "X_test_vf = test_df_vf[[x for x in test_df_vf.columns if x not in col]]\n",
        "y_test_vf = test_df_vf['cry_reason']"
      ],
      "metadata": {
        "id": "FNnIvvRqBryx"
      },
      "execution_count": null,
      "outputs": []
    },
    {
      "cell_type": "markdown",
      "source": [
        "### B. Extract Acoustic Features from Audio Files"
      ],
      "metadata": {
        "id": "-y44BaSO0eO5"
      }
    },
    {
      "cell_type": "markdown",
      "source": [
        "| Acoustic Feature | Definition | Number of Features Extracted per Frame |\n",
        "| :-: |:-- | :-: |\n",
        "| Mel-frequency cepstral coefficients (MFCC)| A set of features derived from log short-term power spectrum of a sound signal  on a nonlinear mel scale of frequency| 39 |\n",
        "| Linear predictive cepstrum coefficient (LPCC)|It is the spectral feature derived from the linear predictive analysis to represent the emotion-specific phonetic representation of the speech signal.| 39 |\n",
        "| Formant F1| Lowest resonant frequency of the vocal tract influenced by vertical position of tongue within the mouth and provides spectral information about the quantitative properties of the vocal tract. | 7 |\n",
        "| Formant F2| Second resonant frequency of the vocal tract  influenced by the horizontal position of the tongue within the mouth provides spectral information about the quantitative properties.| 7  |\n",
        "| Formant F3| Third resonant frequency of the vocal tract influenced by both vertical and horizontal position of the tongue within the mouth and provides spectral information of the vocal tract.| 7  |"
      ],
      "metadata": {
        "id": "w5ZJXdin_2Mf"
      }
    },
    {
      "cell_type": "code",
      "source": [
        "def acoustic_feature_extraction(audio_df = file_path_df, seg_dur = 6):\n",
        "  gender = []\n",
        "  age = []\n",
        "  cry_reason = []\n",
        "  audio_index = []\n",
        "  mfccs = []\n",
        "  mfccs_mean = []\n",
        "  mfccs_med = []\n",
        "  mfccs_sd = []\n",
        "  lpccs_coeff = []\n",
        "  lpccs_mean = []\n",
        "  lpccs_med = []\n",
        "  lpccs_sd = []\n",
        "  f1_mean = []\n",
        "  f2_mean = []\n",
        "  f3_mean = []\n",
        "  f1_med = []\n",
        "  f2_med = []\n",
        "  f3_med = []\n",
        "  f1_min = []\n",
        "  f2_min = []\n",
        "  f3_min = []\n",
        "  f1_max = []\n",
        "  f2_max = []\n",
        "  f3_max = []\n",
        "  f1_r = []\n",
        "  f2_r = []\n",
        "  f3_r = []\n",
        "  f1_bwd = []\n",
        "  f2_bwd = []\n",
        "  f3_bwd = []\n",
        "  f1_sd = []\n",
        "  f2_sd = []\n",
        "  f3_sd = []\n",
        "  for i in tqdm(range(audio_df.shape[0])):\n",
        "    #read the audio file;returns the audio time series and sample rate\n",
        "    f = audio_df['file_name'][i]\n",
        "    audio, sr = librosa.load(f)\n",
        "    seg_len = sr * seg_dur\n",
        "    seg = 0\n",
        "    while len(audio)>= seg_len:\n",
        "      #get gender of the baby from the df\n",
        "      gender.append(audio_df['gender'][i])\n",
        "      #get age of the baby from the df\n",
        "      age.append(audio_df['age_in_months'][i])\n",
        "      #get the cry reason label of the audio from the df\n",
        "      cry_reason.append(audio_df['audio_type'][i])\n",
        "      # Start from dividing the sound signal into the form of frames with a duration of 1-seconds\n",
        "      audio_seg = audio[:seg_len]\n",
        "      audio = audio[seg_len:]\n",
        "\n",
        "      # Extract Mel-frequency cepstral coefficients (MFCCs) to represent the short-term power spectrum of sound.\n",
        "      mfcc = librosa.feature.mfcc(y=audio_seg, sr=sr, n_mfcc=13)\n",
        "      mfccs.append(mfcc)\n",
        "      # calculate mean, median and std deviation of each MFCC coeff\n",
        "      mfccs_mean.append(np.mean(mfcc.T,axis = 0))\n",
        "      mfccs_med.append(np.median(mfcc.T,axis = 0))\n",
        "      mfccs_sd.append(np.std(mfcc.T,axis = 0))\n",
        "\n",
        "      # Extract formants F1, F2 and F3 at each glottal pulse\n",
        "      out_filename = f\"segment{str(1)}.wav\"\n",
        "      sf.write(project_path+ \"/export_audio/\"+ out_filename, audio_seg, sr)\n",
        "      sound = parselmouth.Sound(project_path+ \"/export_audio/\"+ out_filename)\n",
        "      f0min=75\n",
        "      f0max=300\n",
        "      pointProcess = praat.call(sound, \"To PointProcess (periodic, cc)\", f0min, f0max)\n",
        "      formants = praat.call(sound, \"To Formant (burg)\", 0.0025, 3, 5500, 0.025, 50)\n",
        "      numPoints = praat.call(pointProcess, \"Get number of points\")\n",
        "      time_f1 = []\n",
        "      time_f2 = []\n",
        "      time_f3 = []\n",
        "      # extract formants only at glottal pulses\n",
        "      for j in range(0, numPoints):\n",
        "        j += 1\n",
        "        time = praat.call(pointProcess, \"Get time from index\", j)\n",
        "        f1 = praat.call(formants, \"Get value at time\", 1, time, 'Hertz', 'Linear')\n",
        "        f2 = praat.call(formants, \"Get value at time\", 2, time, 'Hertz', 'Linear')\n",
        "        f3 = praat.call(formants, \"Get value at time\", 3, time, 'Hertz', 'Linear')\n",
        "        time_f1.append(f1)\n",
        "        time_f2.append(f2)\n",
        "        time_f3.append(f3)\n",
        "      time_f1 = [f1 for f1 in time_f1 if str(f1) != 'nan']\n",
        "      time_f2 = [f2 for f2 in time_f2 if str(f2) != 'nan']\n",
        "      time_f3 = [f3 for f3 in time_f3 if str(f3) != 'nan']\n",
        "      #calculate mean, median, min, max, range and bandwidth of formants across pulses\n",
        "      if len(time_f1)== 0:\n",
        "        f1_mean.append(0)\n",
        "        f1_min.append(0)\n",
        "        f1_max.append(0)\n",
        "        f1_r.append(0)\n",
        "        f1_med.append(0)\n",
        "        f1_bwd.append(0)\n",
        "        f1_sd.append(0)\n",
        "      else:\n",
        "        f1_mean.append(np.mean(time_f1))\n",
        "        f1_min.append(min(time_f1))\n",
        "        f1_max.append(max(time_f1))\n",
        "        f1_r.append(max(time_f1)-min(time_f1))\n",
        "        f1_med.append(np.median(time_f1))\n",
        "        f1_bwd.append(np.mean(time_f1)-min(time_f1))\n",
        "        f1_sd.append(np.std(time_f1))\n",
        "      if len(time_f2)== 0:\n",
        "        f2_mean.append(0)\n",
        "        f2_min.append(0)\n",
        "        f2_max.append(0)\n",
        "        f2_r.append(0)\n",
        "        f2_med.append(0)\n",
        "        f2_bwd.append(0)\n",
        "        f2_sd.append(0)\n",
        "      else:\n",
        "        f2_mean.append(np.mean(time_f2))\n",
        "        f2_min.append(min(time_f2))\n",
        "        f2_max.append(max(time_f2))\n",
        "        f2_r.append(max(time_f2)-min(time_f1))\n",
        "        f2_med.append(np.median(time_f2))\n",
        "        f2_bwd.append(np.mean(time_f2)-min(time_f1))\n",
        "        f2_sd.append(np.std(time_f2))\n",
        "      if len(time_f3)== 0:\n",
        "        f3_mean.append(0)\n",
        "        f3_min.append(0)\n",
        "        f3_max.append(0)\n",
        "        f3_r.append(0)\n",
        "        f3_med.append(0)\n",
        "        f3_bwd.append(0)\n",
        "        f3_sd.append(0)\n",
        "      else:\n",
        "        f3_mean.append(np.mean(time_f3))\n",
        "        f3_min.append(min(time_f3))\n",
        "        f3_max.append(max(time_f3))\n",
        "        f3_r.append(max(time_f3)-min(time_f1))\n",
        "        f3_med.append(np.median(time_f3))\n",
        "        f3_bwd.append(np.mean(time_f3)-min(time_f1))\n",
        "        f3_sd.append(np.std(time_f3))\n",
        "\n",
        "      # Extract LPCC features\n",
        "      try:\n",
        "        lpccs = lpcc(audio_seg,\n",
        "                   fs=22050,\n",
        "                   order=13,\n",
        "                   pre_emph=0,\n",
        "                   window=SlidingWindow(0.03, 0.015, \"hamming\"))\n",
        "      except:\n",
        "        lpccs = np.zeros((65,13))\n",
        "      lpccs_coeff.append(lpccs)\n",
        "      #calculate the mean, median and standard deviation of each LPCC coeff\n",
        "      lpccs_mean.append(np.mean(lpccs, axis = 0))\n",
        "      lpccs_med.append(np.median(lpccs, axis = 0))\n",
        "      lpccs_sd.append(np.std(lpccs, axis = 0))\n",
        "      seg += 1\n",
        "      audio_index.append(audio_df['audio_index'][i])\n",
        "  output_df = pd.DataFrame({\"audio_index\": audio_index,\n",
        "                            \"gender\" : gender,\n",
        "                            \"age\" : age,\n",
        "                            \"cry_reason\" : cry_reason,\n",
        "                            \"mfcc\" : mfccs,\n",
        "                            \"mfcc_mean\" : mfccs_mean,\n",
        "                            \"mfcc_med\" : mfccs_med,\n",
        "                            \"mfcc_sd\" : mfccs_sd,\n",
        "                            \"lpccs\" : lpccs_coeff,\n",
        "                            \"lpccs_mean\" : lpccs_mean,\n",
        "                            \"lpccs_med\" : lpccs_med,\n",
        "                            \"lpccs_sd\" : lpccs_sd,\n",
        "                            \"f1_mean\" : f1_mean,\n",
        "                            \"f2_mean\" : f2_mean,\n",
        "                            \"f3_mean\" : f3_mean,\n",
        "                            \"f1_med\" : f1_med,\n",
        "                            \"f2_med\" : f2_med,\n",
        "                            \"f3_med\" : f3_med,\n",
        "                            \"f1_min\" : f1_min,\n",
        "                            \"f2_min\" : f2_min,\n",
        "                            \"f3_min\" : f3_min,\n",
        "                            \"f1_max\" : f1_max,\n",
        "                            \"f2_max\" : f2_max,\n",
        "                            \"f3_max\" : f3_max,\n",
        "                            \"f1_r\" : f1_r,\n",
        "                            \"f2_r\" : f2_r,\n",
        "                            \"f3_r\" : f3_r,\n",
        "                            \"f1_bwd\" : f1_bwd,\n",
        "                            \"f2_bwd\" : f2_bwd,\n",
        "                            \"f3_bwd\" : f3_bwd,\n",
        "                            \"f1_sd\" : f1_sd,\n",
        "                            \"f2_sd\" : f2_sd,\n",
        "                            \"f3_sd\" : f3_sd\n",
        "                            })\n",
        "  return output_df"
      ],
      "metadata": {
        "id": "kLPnPJZm0hdd"
      },
      "execution_count": null,
      "outputs": []
    },
    {
      "cell_type": "code",
      "source": [
        "### Feature Extraction\n",
        "data_df = acoustic_feature_extraction(audio_df= file_path_df , seg_dur =6)"
      ],
      "metadata": {
        "colab": {
          "base_uri": "https://localhost:8080/",
          "height": 49,
          "referenced_widgets": [
            "d0d419f42aba43669f61b384c31c46fd",
            "c296c85f90f74de786a322d21eba6075",
            "815c7ff6c7b94cfebf547dee612f10c7",
            "66937253cec14ee78496df35073ecd15",
            "6df742b2faeb48b182f205d4b1a44017",
            "7d796bb303864b49aab084b3c790fd81",
            "fcf8ee5928d949eb9e10bfb236fb8a63",
            "b920e19c2c9a42e295bd36606aa819b0",
            "7e0021e07ca640f28109f9009de48cc2",
            "343e4db770e7435a99aa385c7671b28e",
            "c9149873e8f443a28f618dfc09e245c9"
          ]
        },
        "id": "vqyM9_WL6DLK",
        "outputId": "9f0e2717-b0e4-44e9-ca3b-89d48bb67b54"
      },
      "execution_count": null,
      "outputs": [
        {
          "output_type": "display_data",
          "data": {
            "text/plain": [
              "  0%|          | 0/502 [00:00<?, ?it/s]"
            ],
            "application/vnd.jupyter.widget-view+json": {
              "version_major": 2,
              "version_minor": 0,
              "model_id": "d0d419f42aba43669f61b384c31c46fd"
            }
          },
          "metadata": {}
        }
      ]
    },
    {
      "cell_type": "code",
      "source": [
        "# Check the shape of selected features\n",
        "print(data_df['mfcc'][0].shape)\n",
        "print(data_df['lpccs'][0].shape)"
      ],
      "metadata": {
        "colab": {
          "base_uri": "https://localhost:8080/"
        },
        "id": "kSvcPyDZGn9x",
        "outputId": "340c5ab8-99a8-427f-8233-b01729cb4aab"
      },
      "execution_count": null,
      "outputs": [
        {
          "output_type": "stream",
          "name": "stdout",
          "text": [
            "(13, 259)\n",
            "(65, 13)\n"
          ]
        }
      ]
    },
    {
      "cell_type": "code",
      "source": [
        "# define functions to flatten the 2d array columns\n",
        "def convert_matrix_vector_to_df(matrix_vector):\n",
        "    # convert a vector of matrix to a vector of arrays by flattening all nested arrays\n",
        "    flatten_df = matrix_vector.flatten()\n",
        "    return flatten_df\n",
        "def convert_matrix_to_columns(data, column_name):\n",
        "    # if the first cell of the column is a matrix then convert this column into multiple columns by flattening the matrix\n",
        "    df = data[column_name].map(lambda x:convert_matrix_vector_to_df(x))\n",
        "    temp_df = pd.DataFrame(df.tolist(),index = df.index)\n",
        "    temp_df.columns = [column_name + f'{c}' for c in temp_df.columns]\n",
        "    data = pd.concat([data,temp_df],axis =1)\n",
        "    data = data.drop([column_name], axis=1)\n",
        "    return data\n",
        "def flattening(data_df):\n",
        "    #2-D acoustic features are converted into 1-d vector before passing as input in the next process by flattening.\n",
        "    flatten_data_df = data_df.copy()\n",
        "    for column_name in data_df.columns:\n",
        "      if type( data_df[column_name][0]) != str and not isinstance(data_df[column_name][0], (int, np.integer,float)):\n",
        "            flatten_data_df = convert_matrix_to_columns(flatten_data_df, column_name)\n",
        "    return flatten_data_df"
      ],
      "metadata": {
        "id": "BOj-rIQ4GrXW"
      },
      "execution_count": null,
      "outputs": []
    },
    {
      "cell_type": "code",
      "source": [
        "# drop the mfcc and lpcc feature columns and just keep their mean, median and std deviation columns\n",
        "data_df_drop = data_df.drop(['mfcc','lpccs'], axis = 1)"
      ],
      "metadata": {
        "id": "PHBIOsUrJCn-"
      },
      "execution_count": null,
      "outputs": []
    },
    {
      "cell_type": "code",
      "source": [
        "# flatten 2D features to 1D vector\n",
        "flatten_data_df = flattening(data_df_drop)"
      ],
      "metadata": {
        "id": "TKAvLgSPG2kU"
      },
      "execution_count": null,
      "outputs": []
    },
    {
      "cell_type": "code",
      "source": [
        "flatten_data_df_2 = flatten_data_df.drop_duplicates(subset = 'audio_index', keep='first')\n",
        "class_name_dic = {\n",
        "    \"not hungry\": 0,\n",
        "    \"hungry\":1\n",
        "}\n",
        "def convert_label_to_number(label):\n",
        "  return class_name_dic[label]\n",
        "flatten_data_df_2[\"cry_reason\"] = flatten_data_df_2[\"cry_reason\"].map(lambda x: convert_label_to_number(x))"
      ],
      "metadata": {
        "colab": {
          "base_uri": "https://localhost:8080/"
        },
        "id": "KTP4HxM3Fths",
        "outputId": "69f18390-dedc-45b2-ddca-8ae8b692943c"
      },
      "execution_count": null,
      "outputs": [
        {
          "output_type": "stream",
          "name": "stderr",
          "text": [
            "<ipython-input-37-759b78492ff6>:8: SettingWithCopyWarning: \n",
            "A value is trying to be set on a copy of a slice from a DataFrame.\n",
            "Try using .loc[row_indexer,col_indexer] = value instead\n",
            "\n",
            "See the caveats in the documentation: https://pandas.pydata.org/pandas-docs/stable/user_guide/indexing.html#returning-a-view-versus-a-copy\n",
            "  flatten_data_df_2[\"cry_reason\"] = flatten_data_df_2[\"cry_reason\"].map(lambda x: convert_label_to_number(x))\n"
          ]
        }
      ]
    },
    {
      "cell_type": "code",
      "source": [
        "### Split data into train and test sets\n",
        "train_df_af = flatten_data_df_2[flatten_data_df_2['audio_index'].isin(X_train_index).tolist()]\n",
        "test_df_af = flatten_data_df_2[flatten_data_df_2['audio_index'].isin(X_test_index)]\n",
        "col = ['audio_index','cry_reason','gender','k_fold_index',\"age\"]\n",
        "X_train_af = train_df_af[[x for x in train_df_af.columns if x not in col]]\n",
        "y_train_af = train_df_af['cry_reason']\n",
        "X_test_af = test_df_af[[x for x in test_df_af.columns if x not in col]]\n",
        "y_test_af = test_df_af['cry_reason']"
      ],
      "metadata": {
        "id": "04WMrBBhkEZF"
      },
      "execution_count": null,
      "outputs": []
    },
    {
      "cell_type": "code",
      "source": [
        "vf_df_2 = vf_df.drop_duplicates(subset = 'audio_index', keep='first')\n",
        "X_combined = pd.merge(flatten_data_df_2, vf_df_2, on=['audio_index','cry_reason'])"
      ],
      "metadata": {
        "id": "btdqGOq27Of7"
      },
      "execution_count": null,
      "outputs": []
    },
    {
      "cell_type": "code",
      "source": [
        "X_combined.shape"
      ],
      "metadata": {
        "colab": {
          "base_uri": "https://localhost:8080/"
        },
        "id": "J8JvhI9wXOe0",
        "outputId": "9c126de9-e946-44eb-9af5-5c33aae2faa0"
      },
      "execution_count": null,
      "outputs": [
        {
          "output_type": "execute_result",
          "data": {
            "text/plain": [
              "(497, 2891)"
            ]
          },
          "metadata": {},
          "execution_count": 40
        }
      ]
    },
    {
      "cell_type": "code",
      "source": [
        "### Split data into train and test sets\n",
        "train_df_combined = X_combined[X_combined['audio_index'].isin(X_train_index).tolist()]\n",
        "test_df_combined =X_combined[X_combined['audio_index'].isin(X_test_index)]\n",
        "col = ['audio_index','cry_reason','gender','k_fold_index',\"age\"]\n",
        "X_train_combined = train_df_combined[[x for x in train_df_combined.columns if x not in col]]\n",
        "y_train_combined = train_df_combined['cry_reason']\n",
        "X_test_combined = test_df_combined[[x for x in test_df_combined.columns if x not in col]]\n",
        "y_test_combined = test_df_combined['cry_reason']"
      ],
      "metadata": {
        "id": "Yo0h2mmA9WyN"
      },
      "execution_count": null,
      "outputs": []
    },
    {
      "cell_type": "code",
      "source": [
        "print(X_combined.groupby(['cry_reason'])['cry_reason'].count())\n",
        "print(vf_df.groupby(['cry_reason'])['cry_reason'].count())\n",
        "print(flatten_data_df_2.groupby(['cry_reason'])['cry_reason'].count())"
      ],
      "metadata": {
        "colab": {
          "base_uri": "https://localhost:8080/"
        },
        "id": "vOhbRloAljL2",
        "outputId": "0083f85d-4421-48fd-b836-0e20690f130f"
      },
      "execution_count": null,
      "outputs": [
        {
          "output_type": "stream",
          "name": "stdout",
          "text": [
            "cry_reason\n",
            "0    119\n",
            "1    378\n",
            "Name: cry_reason, dtype: int64\n",
            "cry_reason\n",
            "0    131\n",
            "1    378\n",
            "Name: cry_reason, dtype: int64\n",
            "cry_reason\n",
            "0    119\n",
            "1    382\n",
            "Name: cry_reason, dtype: int64\n"
          ]
        }
      ]
    },
    {
      "cell_type": "markdown",
      "source": [
        "## V. Dimensionality Reduction or Feature Selection"
      ],
      "metadata": {
        "id": "Oy8Z5crU4HVA"
      }
    },
    {
      "cell_type": "markdown",
      "source": [
        "Principal Component Analysis for Dimensionality Reduction"
      ],
      "metadata": {
        "id": "c1OKGRvY4w9h"
      }
    },
    {
      "cell_type": "code",
      "source": [
        "# Function that reduces train and test data to key components that explain at least 90% of the variance\n",
        "def derive_pc(X_train,X_test):\n",
        "    # input: X matrix\n",
        "    # output: principal components that explain at least 90% of the variance\n",
        "\n",
        "    # Standardize X_train for classification\n",
        "    X_train_standardized = StandardScaler().fit_transform(X_train)\n",
        "\n",
        "     # Calculate the Eigenvectors and eigenvalues\n",
        "    covariance_matrix = np.cov(X_train_standardized.T)\n",
        "    eigen_values, eigen_vectors = eigh(covariance_matrix)\n",
        "\n",
        "    # Calculate share of explained variance by number of features\n",
        "    tot = sum(eigen_values)\n",
        "    variance_explained = [(i/tot)*100 for i in sorted(eigen_values, reverse=True)]\n",
        "    cum_variance_explained = np.cumsum(variance_explained)\n",
        "\n",
        "    # Find the smallest number of features that explain at least 90% of the variance\n",
        "    eigen_count = next(x for x, val in enumerate(cum_variance_explained)if val > 90) + 1\n",
        "\n",
        "    # Calculate principal components\n",
        "    pca = PCA(n_components= eigen_count)\n",
        "    pca.fit(X_train_standardized)\n",
        "    X_train_pc = pca.transform(X_train_standardized)\n",
        "\n",
        "    # Sandardize and normalize X_test matrix\n",
        "    X_test_standardized = StandardScaler().fit_transform(X_test)\n",
        "    X_test_pc = pca.transform(X_test_standardized)\n",
        "\n",
        "    return X_train_pc, X_test_pc"
      ],
      "metadata": {
        "id": "GogzhFGT4N-i"
      },
      "execution_count": null,
      "outputs": []
    },
    {
      "cell_type": "markdown",
      "source": [
        "Feature Selection with Distribution of Null Importance"
      ],
      "metadata": {
        "id": "r_riXtzx4z3x"
      }
    },
    {
      "cell_type": "code",
      "source": [
        "def get_rf_importances(X, y, shuffle, rf_params=None):\n",
        "  # calculate the importance of features\n",
        "  # output is a dataframe that includes the feature names and associated Gini importance.\n",
        "  if rf_params is None:\n",
        "    rf_params = dict()\n",
        "  rf_params['oob_score'] = True\n",
        "  y_new = y.copy()\n",
        "  if shuffle:\n",
        "    y_new = y_new.sample(frac = 1.0)\n",
        "\n",
        "  clf = RandomForestClassifier(**rf_params)\n",
        "  clf.fit(X, y_new)\n",
        "  imp_df = pd.DataFrame({\n",
        "      'feature': clf.feature_names_in_,\n",
        "      'importance': clf.feature_importances_,\n",
        "      'train_oob_score': clf.oob_score_,\n",
        "  })\n",
        "  return imp_df.sort_values(by=['importance'], ascending=False).reset_index(drop=True)\n",
        "\n",
        "def get_null_imp_distribs(X, y, n_bench=1, n_null=50, rf_params=None):\n",
        "  ### importance of the real label distribution\n",
        "  real_imp = []\n",
        "  for i in range(n_bench):\n",
        "    curr_imp = get_rf_importances(X, y, shuffle=False, rf_params=rf_params)\n",
        "    curr_imp['iter'] = i\n",
        "    real_imp.append(curr_imp)\n",
        "  real_imp = pd.concat(real_imp, axis=0, ignore_index=True)\n",
        "\n",
        "  ### importance of the null label distribution\n",
        "  null_imp = []\n",
        "  for i in tqdm(range(n_null)):\n",
        "    curr_imp = get_rf_importances(X, y, shuffle=True, rf_params=rf_params)\n",
        "    curr_imp['iter'] = i\n",
        "    null_imp.append(curr_imp)\n",
        "  null_imp = pd.concat(null_imp, axis=0, ignore_index=True)\n",
        "  ### calculate feature score based on the distribution of null importances and the value of real importance\n",
        "  mean_real_imp = real_imp.groupby('feature')['importance'].median().to_frame('real_importance').reset_index()\n",
        "  tmp_score_df = null_imp.merge(mean_real_imp, on=['feature'], how='left')\n",
        "  tmp_score_df['is_real_better'] = tmp_score_df['real_importance'] > tmp_score_df['importance']\n",
        "  score_df = tmp_score_df.groupby('feature')['is_real_better'].sum().to_frame('C').reset_index()\n",
        "  score_df['score'] = (score_df['C'] - n_null/2)/np.sqrt(n_null/4)\n",
        "  score_df = score_df.sort_values(by=['score'], ascending=False).reset_index(drop=True)\n",
        "  return real_imp, null_imp, score_df\n",
        "\n",
        "def show_null_distribs(real_imp, null_imp, feature_list):\n",
        "  # This function is defined for data visualization\n",
        "  n = len(feature_list)\n",
        "  ncols = 2\n",
        "  nrows = (n-1)//ncols + 1\n",
        "  fig, axes = plt.subplots(nrows=nrows, ncols=ncols, figsize=(16, 5*nrows))\n",
        "  for i, feat in enumerate(feature_list):\n",
        "    fig_row = i//ncols\n",
        "    fig_col = i - fig_row*ncols\n",
        "    ax = axes[fig_row][fig_col]\n",
        "    fig.patch.set_facecolor('white')\n",
        "    p = ax.hist(null_imp.loc[null_imp['feature']==feat, 'importance'].values,\n",
        "                label='null importances',color=\"skyblue\", edgecolor= \"skyblue\")\n",
        "    ax.vlines(x=real_imp.loc[real_imp['feature']==feat, 'importance'].mean(),\n",
        "             ymin=0, ymax=np.max(p[0]),\n",
        "              color='coral',\n",
        "              linewidth=8,\n",
        "              label='real importance')\n",
        "    ax.set_title(feat, fontsize = 20)\n"
      ],
      "metadata": {
        "id": "J2yxFafS46lD"
      },
      "execution_count": null,
      "outputs": []
    },
    {
      "cell_type": "code",
      "source": [
        "def select_feature_null_importance(X_train,X_test,y_train):\n",
        "  X_train_selected = X_train[imp_score['feature'][:60]]\n",
        "  X_test_selected = X_test[imp_score['feature'][:60]]\n",
        "  return X_train_selected,X_test_selected"
      ],
      "metadata": {
        "id": "LQH-YpSqTLGd"
      },
      "execution_count": null,
      "outputs": []
    },
    {
      "cell_type": "code",
      "source": [
        "rf_params = None\n",
        "real_imp_vf, null_imp_vf, imp_score_vf = get_null_imp_distribs(X_train_vf, y_train_vf, n_null=300, rf_params=rf_params)\n",
        "real_imp_af, null_imp_af, imp_score_af = get_null_imp_distribs(X_train_af, y_train_af, n_null=300, rf_params=rf_params)\n",
        "real_imp_combined, null_imp_combined, imp_score_combined = get_null_imp_distribs(X_train_combined, y_train_combined, n_null=300, rf_params=rf_params)"
      ],
      "metadata": {
        "colab": {
          "base_uri": "https://localhost:8080/",
          "height": 113,
          "referenced_widgets": [
            "155dccf20ac04f16ac289b2b934feaa7",
            "bed10fe9d377492bbad88ac5bf6a95a3",
            "8e88d179c8394a46b64ba5ea53de8b33",
            "82b737166ad94e958f99b64bb2fed5c9",
            "a407785113e6410882b74e11d7236722",
            "47a33092d0964cf2b1a6b32a09c19480",
            "04acc16632b040b3a6a2b527f0495e3a",
            "58473c66cf9d4121897b72eaa88def9f",
            "b8412bef1c524aa0b013dde82ab14a49",
            "5f29d89114aa4bae8fb5ba5c3b971553",
            "8f9b109b1db24c529e08e393c5279a61",
            "165f496ad68a4ef397bc7ae915987224",
            "4d71f668a53a4b7ba64f64d2810f6f9c",
            "508e4529b5644eb0ad5f7a0c76ba7386",
            "8a45a6f12d8f4dc19a48ddffabe088e7",
            "6c0c6272ce0744d3bd8d802cd9317df0",
            "cc975bcd532947a0a6c01aa525265864",
            "e42de6dcee6e4eabb3ffa8c2199d3041",
            "74addc7b59554e0c981cfd51bf12c537",
            "42bdcd0cbf6340beaa4927790d68ae5f",
            "5aac8efb7efd49e396ef30d4bc9f166b",
            "18f586f5026b4f24b33768499353e777",
            "103584485e4e44ffb9b0ddec613d18cf",
            "b6e0bda24f2249a88728313530385fa8",
            "7f26b40c7ae445598c5ea5a2fdb0d2d7",
            "ed7b82bbd2fc4e83a7f9068a01390a88",
            "c3057bec30fb4667bbc095c53dcf88de",
            "49f8d1b45e8443bb923d79b51a838a25",
            "0b3dd4cf619f4ec382bcd0de3e658506",
            "52dd42c187294c55a99af4f86195d096",
            "9cb920cb3b974c69bb998cd70bc9e6db",
            "f89d0281267043c6b92b7e49eca93424",
            "0652c5e3c51a4b4699a19bdfa9b3dfcb"
          ]
        },
        "id": "T05YRwXrrtbE",
        "outputId": "01e465bc-bb22-4bbc-b202-bbaed8a58fb1"
      },
      "execution_count": null,
      "outputs": [
        {
          "output_type": "display_data",
          "data": {
            "text/plain": [
              "  0%|          | 0/300 [00:00<?, ?it/s]"
            ],
            "application/vnd.jupyter.widget-view+json": {
              "version_major": 2,
              "version_minor": 0,
              "model_id": "155dccf20ac04f16ac289b2b934feaa7"
            }
          },
          "metadata": {}
        },
        {
          "output_type": "display_data",
          "data": {
            "text/plain": [
              "  0%|          | 0/300 [00:00<?, ?it/s]"
            ],
            "application/vnd.jupyter.widget-view+json": {
              "version_major": 2,
              "version_minor": 0,
              "model_id": "165f496ad68a4ef397bc7ae915987224"
            }
          },
          "metadata": {}
        },
        {
          "output_type": "display_data",
          "data": {
            "text/plain": [
              "  0%|          | 0/300 [00:00<?, ?it/s]"
            ],
            "application/vnd.jupyter.widget-view+json": {
              "version_major": 2,
              "version_minor": 0,
              "model_id": "103584485e4e44ffb9b0ddec613d18cf"
            }
          },
          "metadata": {}
        }
      ]
    },
    {
      "cell_type": "markdown",
      "source": [
        "Recursive Feature Elimination with Random Forest"
      ],
      "metadata": {
        "id": "wt2srXPe-wPI"
      }
    },
    {
      "cell_type": "code",
      "source": [
        "rf = RandomForestClassifier(random_state=42,verbose=True)\n",
        "# Recursively eliminate features with cross validation\n",
        "min_features_to_select = 1\n",
        "rfecv = RFECV(estimator=rf, min_features_to_select =min_features_to_select, step = 1, cv=3, scoring='f1_weighted')\n",
        "rfecv.fit(X_train_af, y_train_af)\n",
        "rfe_feature_af = rfecv.support_\n",
        "X_test_af.iloc[:, rfe_feature_af]\n",
        "rfe_selected_feature_af = X_test_af.iloc[:, rfe_feature_af].columns.values.tolist()\n",
        "\n",
        "rf = RandomForestClassifier(random_state=42,verbose=True)\n",
        "# Recursively eliminate features with cross validation\n",
        "min_features_to_select = 1\n",
        "rfecv = RFECV(estimator=rf, min_features_to_select =min_features_to_select, step = 5, cv=3, scoring='f1_weighted')\n",
        "rfecv.fit(X_train_vf, y_train_vf)\n",
        "rfe_feature_vf = rfecv.support_\n",
        "X_test_vf.iloc[:, rfe_feature_vf]\n",
        "rfe_selected_feature_vf = X_test_vf.iloc[:, rfe_feature_vf].columns.values.tolist()\n",
        "\n",
        "rf = RandomForestClassifier(random_state=42,verbose=True)\n",
        "# Recursively eliminate features with cross validation\n",
        "min_features_to_select = 1\n",
        "rfecv = RFECV(estimator=rf, min_features_to_select =min_features_to_select, step = 5, cv=3, scoring='f1_weighted')\n",
        "rfecv.fit(X_train_combined, y_train_combined)\n",
        "rfe_feature_combined = rfecv.support_\n",
        "X_test_combined.iloc[:, rfe_feature_combined]\n",
        "rfe_selected_feature_combined = X_test_combined.iloc[:, rfe_feature_combined].columns.values.tolist()"
      ],
      "metadata": {
        "id": "bGvBBQLLd1f2"
      },
      "execution_count": null,
      "outputs": []
    },
    {
      "cell_type": "markdown",
      "metadata": {
        "id": "dMSqRv_UVeoY"
      },
      "source": [
        "## VI. Build Classifiers"
      ]
    },
    {
      "cell_type": "markdown",
      "metadata": {
        "id": "P2XTsRgRVeoY"
      },
      "source": [
        "#### **Baseline Model**"
      ]
    },
    {
      "cell_type": "markdown",
      "metadata": {
        "id": "aWg84UjhVeoY"
      },
      "source": [
        "**Baseline Model** predicts the label with majority group in training data"
      ]
    },
    {
      "cell_type": "code",
      "execution_count": null,
      "metadata": {
        "id": "qUj-lPqdVeoZ"
      },
      "outputs": [],
      "source": [
        "def baseline(X_train, X_test, y_train, y_test):\n",
        "    # baseline predicts the cry reason with majority group in y_train\n",
        "    stats = Counter(y_train)\n",
        "    majority_group = max(stats, key=lambda key: stats[key])\n",
        "    y_pred = [majority_group for i in range(y_test.shape[0])]\n",
        "    return y_pred"
      ]
    },
    {
      "cell_type": "markdown",
      "metadata": {
        "id": "wU34Br0fVeoZ"
      },
      "source": [
        "#### **Random Forest**"
      ]
    },
    {
      "cell_type": "markdown",
      "metadata": {
        "id": "OxzHq7EzVeoZ"
      },
      "source": [
        "**Random Forest (RF)**: RF combines the outputs of all decision trees (DT) to generate a single classification label.\n",
        "\n",
        "For each DT:\n",
        "\n",
        "(1) Draw a bootstrap sample of size N from training data\n",
        "\n",
        "(2) Grow a RF tree with bootstrap sample by recursively repeat the steps below  at node until hyperparameter setting  is reached.\n",
        "\n",
        "    Select a subset of variable at random\n",
        "    Perform partition\n",
        "\n",
        "Combine the output of all trees by taking the majority vote of classification prediction from all trees.\n"
      ]
    },
    {
      "cell_type": "code",
      "source": [
        "def rf(XX_train_processed, X_test_processed, y_train_processed, y_test_processed):\n",
        "\n",
        "    # Set hyperparameters grid\n",
        "    n_estimators = [50,100,200,300,400] # Number of trees in random forest\n",
        "    max_features = [None]\n",
        "    max_depth = [None] # Maximum number of levels in tree\n",
        "    max_depth.append(None)\n",
        "    min_samples_split = [2] # Minimum number of samples required to split a node\n",
        "    min_samples_leaf = [1] # Minimum number of samples required at each leaf node\n",
        "    bootstrap = [True] # Method of selecting samples for training each tree\n",
        "    # Create the hyperparameter grid\n",
        "    random_grid = {'n_estimators': n_estimators,\n",
        "                   'max_features': max_features,\n",
        "                   'max_depth': max_depth,\n",
        "                   'min_samples_split': min_samples_split,\n",
        "                   'min_samples_leaf': min_samples_leaf,\n",
        "                   'bootstrap': bootstrap}\n",
        "\n",
        "    # Set the base model\n",
        "    rf_model = RandomForestClassifier()\n",
        "    # Find the hyperparameter combination that returns the best result\n",
        "    rf_model_optimal = GridSearchCV(estimator = rf_model,\n",
        "                                        param_grid = random_grid,\n",
        "                                        cv = 2,# 2-fold cross validation,\n",
        "                                        verbose=2,# the computation time for each fold, parameter candidate, and the score are displayed\n",
        "                                        n_jobs = -1) #using all processor\n",
        "\n",
        "    rf_model_optimal.fit(X_train_processed, y_train_processed)\n",
        "\n",
        "    y_pred = rf_model_optimal.predict(X_test_processed)\n",
        "    return y_pred"
      ],
      "metadata": {
        "id": "e6OK6sU6pW4L"
      },
      "execution_count": null,
      "outputs": []
    },
    {
      "cell_type": "markdown",
      "source": [
        "## **KNN**   \n",
        "The k-nearest neighbors algorithm (KNN) is a non-parametric supervised learning algorithm first developed by Evelyn Fix and Joseph Hodges in 1951. An observation is assigned to the most common class of its k nearest neighbors."
      ],
      "metadata": {
        "id": "u0nh3SBLAgI7"
      }
    },
    {
      "cell_type": "code",
      "source": [
        "def knn(X_train_processed, X_test_processed, y_train_processed, y_test_processed):\n",
        "  knn = KNeighborsClassifier()\n",
        "  params = {'n_neighbors':[1,2,3,4,5,6],\n",
        "            'leaf_size':list(range(1,50,5))}\n",
        "  optimal_knn = GridSearchCV(knn, param_grid= params, cv = 5,scoring='f1_weighted',verbose=1)\n",
        "  optimal_knn.fit(X_train_processed, y_train_processed)\n",
        "  y_pred = optimal_knn.predict(X_test_processed)\n",
        "  print(optimal_knn.best_params_)\n",
        "  return y_pred"
      ],
      "metadata": {
        "id": "mugwRNC5BmWA"
      },
      "execution_count": null,
      "outputs": []
    },
    {
      "cell_type": "markdown",
      "source": [
        "## **SVM**"
      ],
      "metadata": {
        "id": "9_w772EZFV9z"
      }
    },
    {
      "cell_type": "markdown",
      "source": [
        "Its main objective is to identify the best hyperplane in an N-dimensional space that effectively separates data points into distinct classes. The algorithm achieves this by maximizing the margin between the hyperplane and the closest data points from each class, which are referred to as “support vectors”."
      ],
      "metadata": {
        "id": "CAuzEOwg3KOw"
      }
    },
    {
      "cell_type": "code",
      "source": [
        "def svm(X_train_processed, X_test_processed, y_train_processed, y_test_processed):\n",
        "\n",
        "    # Create the hyperparameter grid\n",
        "    param_grid = [{'kernel': ['rbf'],#'poly','sigmoid'\n",
        "                    'gamma': [1e-2],#,1e-3\n",
        "                    'C': [10,100],#1,\n",
        "                    'degree':[2]}]# 3\n",
        "\n",
        "    # Set the base model with class_weight as balanced\n",
        "    svm_grid_model = SVC()\n",
        "    # Find the hyperparameter combination that returns the best result\n",
        "    svm_grid_model_optimal = GridSearchCV(estimator = svm_grid_model,\n",
        "                                        param_grid = param_grid,\n",
        "                                        refit=True, # refit the model with best paramter on the dataset\n",
        "                                        cv = 2,# 4-fold cross validation,\n",
        "                                        verbose=2,# the computation time for each fold, parameter candidate, and the score are displayed\n",
        "                                        n_jobs = -1) #using all processor\n",
        "\n",
        "    # fit the model\n",
        "    svm_grid_model_optimal.fit(X_train_processed, y_train_processed)\n",
        "\n",
        "    # Get the best SVM classifier from the grid search\n",
        "    y_pred = svm_grid_model_optimal.predict(X_test_processed)\n",
        "\n",
        "    print('best params',svm_grid_model_optimal.best_params_)\n",
        "\n",
        "    return y_pred"
      ],
      "metadata": {
        "id": "EUJ0N_plE0x9"
      },
      "execution_count": null,
      "outputs": []
    },
    {
      "cell_type": "markdown",
      "source": [
        "## **XGBoost**"
      ],
      "metadata": {
        "id": "fccAgy0a6Oa3"
      }
    },
    {
      "cell_type": "code",
      "source": [
        "# XGB with hyperparameters\n",
        "def xgb_hyperparam_weights(X_train_processed, X_test_processed, y_train_processed, y_test_processed):\n",
        "  X_train, X_val, y_train, y_val = train_test_split(X_train_processed,\n",
        "                                                    y_train_processed,\n",
        "                                                    test_size=0.3,\n",
        "                                                    stratify=y_train_processed,\n",
        "                                                    shuffle=True,\n",
        "                                                    random_state=42)\n",
        "  sample_weight = compute_sample_weight(class_weight='balanced', y=y_train)\n",
        "  params = {\n",
        "        'min_child_weight': [5, 10],\n",
        "        'gamma': [0 , 0.5, 1.5],\n",
        "        'subsample': [0.6, 0.8],\n",
        "        'colsample_bytree': [0.6, 0.8],\n",
        "        'max_depth': [3, 6],\n",
        "        'learning_rate': [0.01, 0.1]\n",
        "        }\n",
        "\n",
        "  xgbhyp = xgb.XGBClassifier(objective='binary:logistic',random_state=42)\n",
        "\n",
        "  xgb_model = GridSearchCV(\n",
        "                          estimator=xgbhyp,\n",
        "                           param_grid=params,\n",
        "                           cv=2,\n",
        "                           verbose=2,\n",
        "                           n_jobs = -1\n",
        "                           )\n",
        "\n",
        "\n",
        "  # training the model\n",
        "  xgb_model.fit(\n",
        "                X_train,y_train,\n",
        "                eval_set=[(X_train, y_train),(X_val, y_val)],\n",
        "                sample_weight= sample_weight,\n",
        "                verbose= 0\n",
        "                )\n",
        "\n",
        "  # Get the best classifier from the grid search\n",
        "  best_model = xgb_model.best_estimator_\n",
        "  # best hyperparams\n",
        "  print(xgb_model.best_params_)\n",
        "\n",
        "  # testing the model\n",
        "  y_preds = best_model.predict(X_test_processed)\n",
        "  return y_preds"
      ],
      "metadata": {
        "id": "rXXPlTBC6SIa"
      },
      "execution_count": null,
      "outputs": []
    },
    {
      "cell_type": "markdown",
      "metadata": {
        "id": "7HcCiFu2Veoe"
      },
      "source": [
        "## VII. Report Performance"
      ]
    },
    {
      "cell_type": "markdown",
      "source": [
        "This study will be done using 2 feature selection algorithms, 4 resampling strategies, 5 classification algorithms, and 3 input feature sets."
      ],
      "metadata": {
        "id": "LS-ODMXnEm8L"
      }
    },
    {
      "cell_type": "markdown",
      "source": [
        "## Feature Selection/ Dimensionality Reduction Algorithms:\n",
        "\n",
        "Feature Selection:   \n",
        "Feature selection based on real Gini importance and distribution of null Importances\n",
        "SVM Recursive Feature Elimination\n",
        "\n",
        "Dimensionality Reduction:  \n",
        "Principal Component Analysis (PCA) and\n",
        "Linear Discriminant Analysis (LDA)\n",
        "\n"
      ],
      "metadata": {
        "id": "oMxF1EDUq6RY"
      }
    },
    {
      "cell_type": "markdown",
      "source": [
        "### Resampling Techniques:"
      ],
      "metadata": {
        "id": "hF0Kg4ZGqJzB"
      }
    },
    {
      "cell_type": "markdown",
      "source": [
        "**Random Oversampling** (ROS) (Japkowicz, 2000) duplicates instances from the minority class.   \n",
        "\n",
        "**Synthetic Minority Oversampling Technique** (SMOTE) (Chawla et al., 2002) generates instances that are close in feature space, using interpolation between positive cases that are close to each other.  \n",
        "\n",
        "**Adaptive Synthetic** (ADASYN) algorithm (He et al., 2008) adaptively generates minority data samples according to their distributions.   \n",
        "\n",
        "**Borderline SMOTE** (Han, Wang and Mao, 2005) finds out the borderline minority samples and generates synthetic samples along the line between the borderline samples and their nearest neighbors of the same class\n",
        "\n"
      ],
      "metadata": {
        "id": "QWQWw_6Hp07r"
      }
    },
    {
      "cell_type": "markdown",
      "source": [
        "### Classification Algorithms:"
      ],
      "metadata": {
        "id": "s-0WL4A1qwLG"
      }
    },
    {
      "cell_type": "markdown",
      "source": [
        "  \n",
        "\n",
        "*   Random Forest (RF)\n",
        "*   XGBoost\n",
        "*   Support Vector Machine (SVM)  \n",
        "*   K-Nearest Neighbors (KNN) Algorithm  \n",
        "*   Fuzzy SVM for Class Imbalanced Learning (FSVM-CIL) proposed by Batuwita and Palade in 2010. This algorithm assigns each sample a fuzzy membership value based on its relevance, making it less sensitive to noise or outliers in the data.  \n"
      ],
      "metadata": {
        "id": "XhktPJRyqq1R"
      }
    },
    {
      "cell_type": "markdown",
      "source": [
        "### Inputs\n",
        "\n"
      ],
      "metadata": {
        "id": "GOXGPv3a9pUx"
      }
    },
    {
      "cell_type": "markdown",
      "source": [
        "\n",
        "\n",
        "*   Visual Features: LBP and HOG features extracted from Spectrogram images.\n",
        "*   Acoustic Features: MFCC, LPCC, F1,F2,F3 features extracted from audios.\n",
        "*   Combined feature set that include both visual features and acoustic features\n",
        "\n",
        "\n",
        "\n"
      ],
      "metadata": {
        "id": "H_00nei09z7U"
      }
    },
    {
      "cell_type": "code",
      "source": [
        "# Define function for reporting performance metrics\n",
        "\n",
        "def report_performance(test_df,y_pred):\n",
        "    # input: test data that contains both real label of cry reason and all features\n",
        "    # output: a dictionary with metric names as keys.\n",
        "\n",
        "    # calculate the number of audios by cry reason\n",
        "    test_count = test_df.groupby(['cry_reason']).size()\n",
        "    reason_dict = test_count.to_dict()\n",
        "\n",
        "    # build a function that only keeps the most frequent cry reason from an array\n",
        "    def parse_pred(entry):\n",
        "        if isinstance(entry, str) or isinstance(entry, np.int64) or isinstance(entry, int) or isinstance(entry, np.int32):\n",
        "            return entry\n",
        "        return max(entry, key=lambda x: reason_dict[x])\n",
        "    pred_dict = {'audio_index': test_df['audio_index'], 'y_test': test_df['cry_reason'], 'y_pred': y_pred}\n",
        "    temp_df = pd.DataFrame(pred_dict)\n",
        "\n",
        "    # predict the entire audio's cry reason based on the majority group of predicted labels of its cuts\n",
        "    temp_result = temp_df.groupby(['audio_index'])[['y_test','y_pred']].agg(pd.Series.mode)\n",
        "    temp_result['y_pred'] = temp_result['y_pred'].map(parse_pred)\n",
        "\n",
        "    # calculate precision, recall, and f1 based on the cry reason of orginal audio and predictions\n",
        "    precision_1, recall_1,f1_1, null_value_1 = precision_recall_fscore_support(temp_result['y_test'],\n",
        "                                                                               temp_result['y_pred'],\n",
        "                                                                               average='macro',\n",
        "                                                                               zero_division=0)\n",
        "\n",
        "    precision_2, recall_2,f1_2, null_value_2 = precision_recall_fscore_support(temp_result['y_test'],\n",
        "                                                                               temp_result['y_pred'],\n",
        "                                                                               average='weighted',\n",
        "                                                                               zero_division=0)\n",
        "    # calucate accuracy rate\n",
        "\n",
        "    accuracy = accuracy_score(temp_result['y_test'],temp_result['y_pred'])\n",
        "    return {\n",
        "        'precision_macro': precision_1,\n",
        "        'recall_macro': recall_1,\n",
        "        'f1_macro': f1_1,\n",
        "        'precision_weighted': precision_2,\n",
        "        'recall_weighted': recall_2,\n",
        "        'f1_weighted': f1_2,\n",
        "        'accuracy': accuracy\n",
        "    }"
      ],
      "metadata": {
        "id": "hUaDJ6dHBD_l"
      },
      "execution_count": null,
      "outputs": []
    },
    {
      "cell_type": "code",
      "source": [
        "imp_score_dict = {\n",
        "    \"Visual Features\": imp_score_vf['feature'][:60],\n",
        "    \"Acoustic Features\":imp_score_af['feature'][:60],\n",
        "    \"Combined Features\":imp_score_combined['feature'][:60]\n",
        "}"
      ],
      "metadata": {
        "id": "jMR_sXRcs-aH"
      },
      "execution_count": null,
      "outputs": []
    },
    {
      "cell_type": "code",
      "source": [
        "rfe_feature_dict = {\n",
        "    \"Visual Features\": rfe_selected_feature_vf,\n",
        "    \"Acoustic Features\":rfe_selected_feature_af,\n",
        "    \"Combined Features\":rfe_selected_feature_combined\n",
        "}"
      ],
      "metadata": {
        "id": "iBtXZ1EHTTE4"
      },
      "execution_count": null,
      "outputs": []
    },
    {
      "cell_type": "code",
      "source": [
        "# Run All Models and Report Performance FS + Resampling\n",
        "models = [ 'svm(X_train_processed, X_test_processed, y_train_processed, y_test_processed)',\n",
        "          'rf(X_train_processed, X_test_processed, y_train_processed, y_test_processed)',\n",
        "          'knn(X_train_processed,X_test_processed, y_train_processed, y_test_processed)',\n",
        "          'xgb_hyperparam_weights(X_train_processed, X_test_processed, y_train_processed, y_test_processed)']\n",
        "\n",
        "oversampling_methods = ['SMOTE','ADASYN','ROS',\"BorderlineSMOTE\",'None']\n",
        "feature_selection_options = ['RFERF','FSGINI','PCA','None']\n",
        "input_options = [\"Visual Features\",\"Acoustic Features\", \"Combined Features\"]\n",
        "\n",
        "# Run baseline model\n",
        "y_pred = baseline(X_train_combined, X_test_combined, y_train_combined, y_test_combined)\n",
        "metrics_dict = report_performance(test_df_combined,y_pred)\n",
        "metrics_df = pd.Series(metrics_dict).to_frame().T\n",
        "metrics_df['model_name'] = \"baseline\"\n",
        "metrics_df['oversampling_method'] = \"None\"\n",
        "metrics_df['fs_option'] = \"None\"\n",
        "metrics_df['feature'] = \"None\"\n",
        "\n",
        "# loop through all combinations of feature selection algorithms, resampling strategies, classification algorithms, and input feature sets\n",
        "for i, model in enumerate(models):\n",
        "  for oversampling_method in oversampling_methods:\n",
        "    for fs in feature_selection_options:\n",
        "      for feature_set in input_options:\n",
        "        print(\"Model name:\" + model)\n",
        "        print(\"Resampling Method:\" + oversampling_method)\n",
        "        print(\"feature_selection_options:\" + fs)\n",
        "        print(\"Inputs:\" + feature_set)\n",
        "        # Use visual features as inputs\n",
        "        if feature_set == \"Visual Features\":\n",
        "          X_train_processed = X_train_vf\n",
        "          y_train_processed = y_train_vf\n",
        "          X_test_processed = X_test_vf\n",
        "          y_test_processed = y_test_vf\n",
        "          test_df = test_df_vf\n",
        "        # Use acoustic features as inputs\n",
        "        if feature_set == \"Acoustic Features\":\n",
        "          X_train_processed = X_train_af\n",
        "          y_train_processed = y_train_af\n",
        "          X_test_processed = X_test_af\n",
        "          y_test_processed = y_test_af\n",
        "          test_df = test_df_af\n",
        "        if feature_set == \"Combined Features\":\n",
        "          X_train_processed = X_train_combined\n",
        "          y_train_processed = y_train_combined\n",
        "          X_test_processed = X_test_combined\n",
        "          y_test_processed = y_test_combined\n",
        "          test_df = test_df_combined\n",
        "        if fs ==\"PCA\":\n",
        "          X_train_processed, X_test_processed = derive_pc(X_train_processed, X_test_processed)\n",
        "        if fs ==\"FSGINI\":\n",
        "          X_train_processed = X_train_processed[imp_score_dict[feature_set]]\n",
        "          X_test_processed = X_test_processed[imp_score_dict[feature_set]]\n",
        "        if fs ==\"RFERF\":\n",
        "          X_train_processed = X_train_processed[rfe_feature_dict[feature_set]]\n",
        "          X_test_processed = X_test_processed[rfe_feature_dict[feature_set]]\n",
        "        # oversample the minority group with SMOTE\n",
        "        if oversampling_method ==\"SMOTE\":\n",
        "          smt = SMOTE()\n",
        "          X_train_processed, y_train_processed = smt.fit_resample(X_train_processed, y_train_processed)\n",
        "        # oversample the minority group with Adaptive Synthetic (ADASYN) algorithm\n",
        "        if oversampling_method ==\"ADASYN\":\n",
        "          ada = ADASYN(random_state=42)\n",
        "          X_train_processed, y_train_processed = ada.fit_resample(X_train_processed, y_train_processed)\n",
        "        # oversample the minority group with random over sampler\n",
        "        if oversampling_method ==\"ROS\":\n",
        "          ros = RandomOverSampler(random_state=42)\n",
        "          X_train_processed, y_train_processed = ros.fit_resample(X_train_processed, y_train_processed)\n",
        "        # oversample the minority group with BorderlineSMOTE\n",
        "        if oversampling_method ==\"BorderlineSMOTE\":\n",
        "          borderlinesmote = BorderlineSMOTE(random_state=42)\n",
        "          X_train_processed, y_train_processed = borderlinesmote.fit_resample(X_train_processed, y_train_processed)\n",
        "        # Train model and make prediction based on the processed data\n",
        "        y_pred = eval(model)\n",
        "        # Report performance\n",
        "        metrics_dict = report_performance(test_df,y_pred)\n",
        "        temp_df = pd.Series(metrics_dict).to_frame().T\n",
        "        temp_df['model_name'] = model.split('(')[0]\n",
        "        temp_df['oversampling_method'] = oversampling_method\n",
        "        temp_df['fs_option'] = fs\n",
        "        temp_df['feature'] = feature_set\n",
        "        metrics_df = pd.concat([metrics_df, temp_df],axis = 0)\n",
        "        print(temp_df)\n",
        "        #metrics_df.to_csv(\"/content/gdrive/MyDrive/DS5500Jing/Binary_FS_Resampling.csv\")\n",
        "metrics_df"
      ],
      "metadata": {
        "id": "NHKVcMC0d5_X"
      },
      "execution_count": null,
      "outputs": []
    },
    {
      "cell_type": "code",
      "source": [
        "#SMOTE\n",
        "# smt = SMOTE()\n",
        "# X_train_processed = X_train_vf\n",
        "# y_train_processed = y_train_vf\n",
        "# X_test_processed = X_test_vf\n",
        "# y_test_processed = y_test_vf\n",
        "# X_train_processed, y_train_processed = smt.fit_resample(X_train_processed, y_train_processed)\n",
        "# rf = RandomForestClassifier(random_state=42,verbose=True)\n",
        "# # Recursively eliminate features with cross validation\n",
        "# min_features_to_select = 1\n",
        "# rfecv = RFECV(estimator=rf, min_features_to_select =min_features_to_select, step = 5, cv=3, scoring='f1_weighted')\n",
        "# rfecv.fit(X_train_processed, y_train_processed)\n",
        "# rfe_feature = rfecv.support_\n",
        "# X_test_processed.iloc[:, rfe_feature]\n",
        "# rfe_selected_feature_SMOTE = X_test_processed.iloc[:, rfe_feature].columns.values.tolist()\n",
        "# print(rfe_selected_feature_SMOTE)"
      ],
      "metadata": {
        "id": "yAcoWx6gUX2n"
      },
      "execution_count": null,
      "outputs": []
    },
    {
      "cell_type": "code",
      "source": [
        "#ADASYN\n",
        "# X_train_processed = X_train_vf\n",
        "# y_train_processed = y_train_vf\n",
        "# X_test_processed = X_test_vf\n",
        "# y_test_processed = y_test_vf\n",
        "# ada = ADASYN(random_state=42)\n",
        "# X_train_processed, y_train_processed = ada.fit_resample(X_train_processed, y_train_processed)\n",
        "# rf = RandomForestClassifier(random_state=42,verbose=True)\n",
        "# # Recursively eliminate features with cross validation\n",
        "# min_features_to_select = 1\n",
        "# rfecv = RFECV(estimator=rf, min_features_to_select =min_features_to_select, step = 5, cv=3, scoring='f1_weighted')\n",
        "# rfecv.fit(X_train_processed, y_train_processed)\n",
        "# rfe_feature = rfecv.support_\n",
        "# X_test_processed.iloc[:, rfe_feature]\n",
        "# rfe_selected_feature_ADASYN = X_test_processed.iloc[:, rfe_feature].columns.values.tolist()\n",
        "# print(\"ADASYN\")\n",
        "# print(rfe_selected_feature_ADASYN)\n"
      ],
      "metadata": {
        "id": "1I1aGREjUYzP"
      },
      "execution_count": null,
      "outputs": []
    },
    {
      "cell_type": "code",
      "source": [
        "\n",
        "#ROS\n",
        "# X_train_processed = X_train_vf\n",
        "# y_train_processed = y_train_vf\n",
        "# X_test_processed = X_test_vf\n",
        "# y_test_processed = y_test_vf\n",
        "# ros = RandomOverSampler(random_state=42)\n",
        "# X_train_processed, y_train_processed = ros.fit_resample(X_train_processed, y_train_processed)\n",
        "# rf = RandomForestClassifier(random_state=42,verbose=True)\n",
        "# # Recursively eliminate features with cross validation\n",
        "# min_features_to_select = 1\n",
        "# rfecv = RFECV(estimator=rf, min_features_to_select =min_features_to_select, step = 5, cv=3, scoring='f1_weighted')\n",
        "# rfecv.fit(X_train_processed, y_train_processed)\n",
        "# rfe_feature = rfecv.support_\n",
        "# X_test_processed.iloc[:, rfe_feature]\n",
        "# rfe_selected_feature_ROS = X_test_processed.iloc[:, rfe_feature].columns.values.tolist()\n",
        "# print(rfe_selected_feature_ROS)"
      ],
      "metadata": {
        "id": "j0F92QdhUbWL"
      },
      "execution_count": null,
      "outputs": []
    },
    {
      "cell_type": "code",
      "source": [
        "#BorderlineSMOTE\n",
        "# X_train_processed = X_train_vf\n",
        "# y_train_processed = y_train_vf\n",
        "# X_test_processed = X_test_vf\n",
        "# y_test_processed = y_test_vf\n",
        "# borderlinesmote = BorderlineSMOTE(random_state=42)\n",
        "# X_train_processed, y_train_processed = borderlinesmote.fit_resample(X_train_processed, y_train_processed)\n",
        "# rf = RandomForestClassifier(random_state=42,verbose=True)\n",
        "# # Recursively eliminate features with cross validation\n",
        "# min_features_to_select = 1\n",
        "# rfecv = RFECV(estimator=rf, min_features_to_select =min_features_to_select, step = 5, cv=3, scoring='f1_weighted')\n",
        "# rfecv.fit(X_train_processed, y_train_processed)\n",
        "# rfe_feature = rfecv.support_\n",
        "# X_test_processed.iloc[:, rfe_feature]\n",
        "# rfe_selected_feature_BorderlineSMOTE = X_test_processed.iloc[:, rfe_feature].columns.values.tolist()\n",
        "# print(rfe_selected_feature_BorderlineSMOTE)"
      ],
      "metadata": {
        "id": "ziFjPDK0UdKa"
      },
      "execution_count": null,
      "outputs": []
    },
    {
      "cell_type": "code",
      "source": [
        "rfe_feature_dict = {\n",
        "    \"ADASYN\": rfe_selected_feature_ADASYN,\n",
        "    \"ROS\":rfe_selected_feature_ROS,\n",
        "    \"BorderlineSMOTE\": rfe_selected_feature_BorderlineSMOTE,\n",
        "    \"SMOTE\": rfe_selected_feature_SMOTE\n",
        "}"
      ],
      "metadata": {
        "id": "bvdikUaGUe8I"
      },
      "execution_count": null,
      "outputs": []
    },
    {
      "cell_type": "code",
      "source": [
        "# Run All Models and Report Performance Resampling + FS\n",
        "models = [ 'svm(X_train_processed, X_test_processed, y_train_processed, y_test_processed)',\n",
        "           'rf(X_train_processed, X_test_processed, y_train_processed, y_test_processed)',\n",
        "           'knn(X_train_processed,X_test_processed, y_train_processed, y_test_processed)',\n",
        "           'xgb_hyperparam_weights(X_train_processed, X_test_processed, y_train_processed, y_test_processed)']\n",
        "\n",
        "oversampling_methods = [\"SMOTE\",'ADASYN','ROS',\"BorderlineSMOTE\",'None']\n",
        "feature_selection_options = ['FSGINI','PCA','None']\n",
        "input_options = [\"Visual Features\",\"Acoustic Features\", \"Combined Features\"]\n",
        "oversampling_methods = [\"SMOTE\",'ADASYN','ROS',\"BorderlineSMOTE\"]\n",
        "feature_selection_options = ['RFERF']\n",
        "input_options = [\"Visual Features\"]\n",
        "# Run baseline model\n",
        "y_pred = baseline(X_train_vf, X_test_vf, y_train_vf, y_test_vf)\n",
        "metrics_dict = report_performance(test_df_vf,y_pred)\n",
        "metrics_df = pd.Series(metrics_dict).to_frame().T\n",
        "metrics_df['model_name'] = \"baseline\"\n",
        "metrics_df['oversampling_method'] = \"None\"\n",
        "metrics_df['fs_option'] = \"None\"\n",
        "metrics_df['feature'] = \"None\"\n",
        "\n",
        "# loop through all combinations of feature selection algorithms, resampling strategies, classification algorithms, and input feature sets\n",
        "for i, model in enumerate(models):\n",
        "  for oversampling_method in oversampling_methods:\n",
        "    for fs in feature_selection_options:\n",
        "      for feature_set in input_options:\n",
        "        print(\"Model name:\" + model)\n",
        "        print(\"Resampling Method:\" + oversampling_method)\n",
        "        print(\"feature_selection_options:\" + fs)\n",
        "        print(\"Inputs:\" + feature_set)\n",
        "        # Use visual features as inputs\n",
        "        if feature_set == \"Visual Features\":\n",
        "          X_train_processed = X_train_vf\n",
        "          y_train_processed = y_train_vf\n",
        "          X_test_processed = X_test_vf\n",
        "          y_test_processed = y_test_vf\n",
        "          test_df = test_df_vf\n",
        "        # Use acoustic features as inputs\n",
        "        if feature_set == \"Acoustic Features\":\n",
        "          X_train_processed = X_train_af\n",
        "          y_train_processed = y_train_af\n",
        "          X_test_processed = X_test_af\n",
        "          y_test_processed = y_test_af\n",
        "          test_df = test_df_af\n",
        "        if feature_set == \"Combined Features\":\n",
        "          X_train_processed = X_train_combined\n",
        "          y_train_processed = y_train_combined\n",
        "          X_test_processed = X_test_combined\n",
        "          y_test_processed = y_test_combined\n",
        "          test_df = test_df_combined\n",
        "        # oversample the minority group with SMOTE\n",
        "        if oversampling_method ==\"SMOTE\":\n",
        "          smt = SMOTE()\n",
        "          X_train_processed, y_train_processed = smt.fit_resample(X_train_processed, y_train_processed)\n",
        "        # oversample the minority group with Adaptive Synthetic (ADASYN) algorithm\n",
        "        if oversampling_method ==\"ADASYN\":\n",
        "          ada = ADASYN(random_state=42)\n",
        "          X_train_processed, y_train_processed = ada.fit_resample(X_train_processed, y_train_processed)\n",
        "        # oversample the minority group with random over sampler\n",
        "        if oversampling_method ==\"ROS\":\n",
        "          ros = RandomOverSampler(random_state=42)\n",
        "          X_train_processed, y_train_processed = ros.fit_resample(X_train_processed, y_train_processed)\n",
        "        # oversample the minority group with BorderlineSMOTE\n",
        "        if oversampling_method ==\"BorderlineSMOTE\":\n",
        "          borderlinesmote = BorderlineSMOTE(random_state=42)\n",
        "          X_train_processed, y_train_processed = borderlinesmote.fit_resample(X_train_processed, y_train_processed)\n",
        "        if fs ==\"PCA\":\n",
        "          X_train_processed, X_test_processed = derive_pc(X_train_processed, X_test_processed)\n",
        "        if fs ==\"FSGINI\":\n",
        "          real_imp, null_imp, imp_score = get_null_imp_distribs(X_train_processed, y_train_processed, n_null=200, rf_params=rf_params)\n",
        "          feature_selected = imp_score['feature'][:60]\n",
        "          X_train_processed = X_train_processed[feature_selected]\n",
        "          X_test_processed = X_test_processed[feature_selected]\n",
        "        if fs ==\"RFERF\":\n",
        "          X_train_processed = X_train_processed[rfe_feature_dict[oversampling_method]]\n",
        "          X_test_processed = X_test_processed[rfe_feature_dict[oversampling_method]]\n",
        "        # Train model and make prediction based on the processed data\n",
        "        y_pred = eval(model)\n",
        "        # Report performance\n",
        "        metrics_dict = report_performance(test_df,y_pred)\n",
        "        temp_df = pd.Series(metrics_dict).to_frame().T\n",
        "        temp_df['model_name'] = model.split('(')[0]\n",
        "        temp_df['oversampling_method'] = oversampling_method\n",
        "        temp_df['fs_option'] = fs\n",
        "        temp_df['feature'] = feature_set\n",
        "        metrics_df = pd.concat([metrics_df, temp_df],axis = 0)\n",
        "        print(temp_df)\n",
        "        #metrics_df.to_csv(\"/content/gdrive/MyDrive/DS5500Jing/Binary_Resampling_First_RFERF_RF.csv\")\n",
        "metrics_df"
      ],
      "metadata": {
        "id": "iHGHABoueDN5"
      },
      "execution_count": null,
      "outputs": []
    },
    {
      "cell_type": "code",
      "source": [],
      "metadata": {
        "id": "7Sq1uQ0x6D8K"
      },
      "execution_count": null,
      "outputs": []
    }
  ],
  "metadata": {
    "colab": {
      "machine_shape": "hm",
      "provenance": [],
      "gpuType": "A100"
    },
    "kernelspec": {
      "display_name": "Python 3",
      "name": "python3"
    },
    "language_info": {
      "codemirror_mode": {
        "name": "ipython",
        "version": 3
      },
      "file_extension": ".py",
      "mimetype": "text/x-python",
      "name": "python",
      "nbconvert_exporter": "python",
      "pygments_lexer": "ipython3",
      "version": "3.8.5"
    },
    "widgets": {
      "application/vnd.jupyter.widget-state+json": {
        "155dccf20ac04f16ac289b2b934feaa7": {
          "model_module": "@jupyter-widgets/controls",
          "model_name": "HBoxModel",
          "model_module_version": "1.5.0",
          "state": {
            "_dom_classes": [],
            "_model_module": "@jupyter-widgets/controls",
            "_model_module_version": "1.5.0",
            "_model_name": "HBoxModel",
            "_view_count": null,
            "_view_module": "@jupyter-widgets/controls",
            "_view_module_version": "1.5.0",
            "_view_name": "HBoxView",
            "box_style": "",
            "children": [
              "IPY_MODEL_bed10fe9d377492bbad88ac5bf6a95a3",
              "IPY_MODEL_8e88d179c8394a46b64ba5ea53de8b33",
              "IPY_MODEL_82b737166ad94e958f99b64bb2fed5c9"
            ],
            "layout": "IPY_MODEL_a407785113e6410882b74e11d7236722"
          }
        },
        "bed10fe9d377492bbad88ac5bf6a95a3": {
          "model_module": "@jupyter-widgets/controls",
          "model_name": "HTMLModel",
          "model_module_version": "1.5.0",
          "state": {
            "_dom_classes": [],
            "_model_module": "@jupyter-widgets/controls",
            "_model_module_version": "1.5.0",
            "_model_name": "HTMLModel",
            "_view_count": null,
            "_view_module": "@jupyter-widgets/controls",
            "_view_module_version": "1.5.0",
            "_view_name": "HTMLView",
            "description": "",
            "description_tooltip": null,
            "layout": "IPY_MODEL_47a33092d0964cf2b1a6b32a09c19480",
            "placeholder": "​",
            "style": "IPY_MODEL_04acc16632b040b3a6a2b527f0495e3a",
            "value": "100%"
          }
        },
        "8e88d179c8394a46b64ba5ea53de8b33": {
          "model_module": "@jupyter-widgets/controls",
          "model_name": "FloatProgressModel",
          "model_module_version": "1.5.0",
          "state": {
            "_dom_classes": [],
            "_model_module": "@jupyter-widgets/controls",
            "_model_module_version": "1.5.0",
            "_model_name": "FloatProgressModel",
            "_view_count": null,
            "_view_module": "@jupyter-widgets/controls",
            "_view_module_version": "1.5.0",
            "_view_name": "ProgressView",
            "bar_style": "success",
            "description": "",
            "description_tooltip": null,
            "layout": "IPY_MODEL_58473c66cf9d4121897b72eaa88def9f",
            "max": 300,
            "min": 0,
            "orientation": "horizontal",
            "style": "IPY_MODEL_b8412bef1c524aa0b013dde82ab14a49",
            "value": 300
          }
        },
        "82b737166ad94e958f99b64bb2fed5c9": {
          "model_module": "@jupyter-widgets/controls",
          "model_name": "HTMLModel",
          "model_module_version": "1.5.0",
          "state": {
            "_dom_classes": [],
            "_model_module": "@jupyter-widgets/controls",
            "_model_module_version": "1.5.0",
            "_model_name": "HTMLModel",
            "_view_count": null,
            "_view_module": "@jupyter-widgets/controls",
            "_view_module_version": "1.5.0",
            "_view_name": "HTMLView",
            "description": "",
            "description_tooltip": null,
            "layout": "IPY_MODEL_5f29d89114aa4bae8fb5ba5c3b971553",
            "placeholder": "​",
            "style": "IPY_MODEL_8f9b109b1db24c529e08e393c5279a61",
            "value": " 300/300 [06:09&lt;00:00,  1.23s/it]"
          }
        },
        "a407785113e6410882b74e11d7236722": {
          "model_module": "@jupyter-widgets/base",
          "model_name": "LayoutModel",
          "model_module_version": "1.2.0",
          "state": {
            "_model_module": "@jupyter-widgets/base",
            "_model_module_version": "1.2.0",
            "_model_name": "LayoutModel",
            "_view_count": null,
            "_view_module": "@jupyter-widgets/base",
            "_view_module_version": "1.2.0",
            "_view_name": "LayoutView",
            "align_content": null,
            "align_items": null,
            "align_self": null,
            "border": null,
            "bottom": null,
            "display": null,
            "flex": null,
            "flex_flow": null,
            "grid_area": null,
            "grid_auto_columns": null,
            "grid_auto_flow": null,
            "grid_auto_rows": null,
            "grid_column": null,
            "grid_gap": null,
            "grid_row": null,
            "grid_template_areas": null,
            "grid_template_columns": null,
            "grid_template_rows": null,
            "height": null,
            "justify_content": null,
            "justify_items": null,
            "left": null,
            "margin": null,
            "max_height": null,
            "max_width": null,
            "min_height": null,
            "min_width": null,
            "object_fit": null,
            "object_position": null,
            "order": null,
            "overflow": null,
            "overflow_x": null,
            "overflow_y": null,
            "padding": null,
            "right": null,
            "top": null,
            "visibility": null,
            "width": null
          }
        },
        "47a33092d0964cf2b1a6b32a09c19480": {
          "model_module": "@jupyter-widgets/base",
          "model_name": "LayoutModel",
          "model_module_version": "1.2.0",
          "state": {
            "_model_module": "@jupyter-widgets/base",
            "_model_module_version": "1.2.0",
            "_model_name": "LayoutModel",
            "_view_count": null,
            "_view_module": "@jupyter-widgets/base",
            "_view_module_version": "1.2.0",
            "_view_name": "LayoutView",
            "align_content": null,
            "align_items": null,
            "align_self": null,
            "border": null,
            "bottom": null,
            "display": null,
            "flex": null,
            "flex_flow": null,
            "grid_area": null,
            "grid_auto_columns": null,
            "grid_auto_flow": null,
            "grid_auto_rows": null,
            "grid_column": null,
            "grid_gap": null,
            "grid_row": null,
            "grid_template_areas": null,
            "grid_template_columns": null,
            "grid_template_rows": null,
            "height": null,
            "justify_content": null,
            "justify_items": null,
            "left": null,
            "margin": null,
            "max_height": null,
            "max_width": null,
            "min_height": null,
            "min_width": null,
            "object_fit": null,
            "object_position": null,
            "order": null,
            "overflow": null,
            "overflow_x": null,
            "overflow_y": null,
            "padding": null,
            "right": null,
            "top": null,
            "visibility": null,
            "width": null
          }
        },
        "04acc16632b040b3a6a2b527f0495e3a": {
          "model_module": "@jupyter-widgets/controls",
          "model_name": "DescriptionStyleModel",
          "model_module_version": "1.5.0",
          "state": {
            "_model_module": "@jupyter-widgets/controls",
            "_model_module_version": "1.5.0",
            "_model_name": "DescriptionStyleModel",
            "_view_count": null,
            "_view_module": "@jupyter-widgets/base",
            "_view_module_version": "1.2.0",
            "_view_name": "StyleView",
            "description_width": ""
          }
        },
        "58473c66cf9d4121897b72eaa88def9f": {
          "model_module": "@jupyter-widgets/base",
          "model_name": "LayoutModel",
          "model_module_version": "1.2.0",
          "state": {
            "_model_module": "@jupyter-widgets/base",
            "_model_module_version": "1.2.0",
            "_model_name": "LayoutModel",
            "_view_count": null,
            "_view_module": "@jupyter-widgets/base",
            "_view_module_version": "1.2.0",
            "_view_name": "LayoutView",
            "align_content": null,
            "align_items": null,
            "align_self": null,
            "border": null,
            "bottom": null,
            "display": null,
            "flex": null,
            "flex_flow": null,
            "grid_area": null,
            "grid_auto_columns": null,
            "grid_auto_flow": null,
            "grid_auto_rows": null,
            "grid_column": null,
            "grid_gap": null,
            "grid_row": null,
            "grid_template_areas": null,
            "grid_template_columns": null,
            "grid_template_rows": null,
            "height": null,
            "justify_content": null,
            "justify_items": null,
            "left": null,
            "margin": null,
            "max_height": null,
            "max_width": null,
            "min_height": null,
            "min_width": null,
            "object_fit": null,
            "object_position": null,
            "order": null,
            "overflow": null,
            "overflow_x": null,
            "overflow_y": null,
            "padding": null,
            "right": null,
            "top": null,
            "visibility": null,
            "width": null
          }
        },
        "b8412bef1c524aa0b013dde82ab14a49": {
          "model_module": "@jupyter-widgets/controls",
          "model_name": "ProgressStyleModel",
          "model_module_version": "1.5.0",
          "state": {
            "_model_module": "@jupyter-widgets/controls",
            "_model_module_version": "1.5.0",
            "_model_name": "ProgressStyleModel",
            "_view_count": null,
            "_view_module": "@jupyter-widgets/base",
            "_view_module_version": "1.2.0",
            "_view_name": "StyleView",
            "bar_color": null,
            "description_width": ""
          }
        },
        "5f29d89114aa4bae8fb5ba5c3b971553": {
          "model_module": "@jupyter-widgets/base",
          "model_name": "LayoutModel",
          "model_module_version": "1.2.0",
          "state": {
            "_model_module": "@jupyter-widgets/base",
            "_model_module_version": "1.2.0",
            "_model_name": "LayoutModel",
            "_view_count": null,
            "_view_module": "@jupyter-widgets/base",
            "_view_module_version": "1.2.0",
            "_view_name": "LayoutView",
            "align_content": null,
            "align_items": null,
            "align_self": null,
            "border": null,
            "bottom": null,
            "display": null,
            "flex": null,
            "flex_flow": null,
            "grid_area": null,
            "grid_auto_columns": null,
            "grid_auto_flow": null,
            "grid_auto_rows": null,
            "grid_column": null,
            "grid_gap": null,
            "grid_row": null,
            "grid_template_areas": null,
            "grid_template_columns": null,
            "grid_template_rows": null,
            "height": null,
            "justify_content": null,
            "justify_items": null,
            "left": null,
            "margin": null,
            "max_height": null,
            "max_width": null,
            "min_height": null,
            "min_width": null,
            "object_fit": null,
            "object_position": null,
            "order": null,
            "overflow": null,
            "overflow_x": null,
            "overflow_y": null,
            "padding": null,
            "right": null,
            "top": null,
            "visibility": null,
            "width": null
          }
        },
        "8f9b109b1db24c529e08e393c5279a61": {
          "model_module": "@jupyter-widgets/controls",
          "model_name": "DescriptionStyleModel",
          "model_module_version": "1.5.0",
          "state": {
            "_model_module": "@jupyter-widgets/controls",
            "_model_module_version": "1.5.0",
            "_model_name": "DescriptionStyleModel",
            "_view_count": null,
            "_view_module": "@jupyter-widgets/base",
            "_view_module_version": "1.2.0",
            "_view_name": "StyleView",
            "description_width": ""
          }
        },
        "165f496ad68a4ef397bc7ae915987224": {
          "model_module": "@jupyter-widgets/controls",
          "model_name": "HBoxModel",
          "model_module_version": "1.5.0",
          "state": {
            "_dom_classes": [],
            "_model_module": "@jupyter-widgets/controls",
            "_model_module_version": "1.5.0",
            "_model_name": "HBoxModel",
            "_view_count": null,
            "_view_module": "@jupyter-widgets/controls",
            "_view_module_version": "1.5.0",
            "_view_name": "HBoxView",
            "box_style": "",
            "children": [
              "IPY_MODEL_4d71f668a53a4b7ba64f64d2810f6f9c",
              "IPY_MODEL_508e4529b5644eb0ad5f7a0c76ba7386",
              "IPY_MODEL_8a45a6f12d8f4dc19a48ddffabe088e7"
            ],
            "layout": "IPY_MODEL_6c0c6272ce0744d3bd8d802cd9317df0"
          }
        },
        "4d71f668a53a4b7ba64f64d2810f6f9c": {
          "model_module": "@jupyter-widgets/controls",
          "model_name": "HTMLModel",
          "model_module_version": "1.5.0",
          "state": {
            "_dom_classes": [],
            "_model_module": "@jupyter-widgets/controls",
            "_model_module_version": "1.5.0",
            "_model_name": "HTMLModel",
            "_view_count": null,
            "_view_module": "@jupyter-widgets/controls",
            "_view_module_version": "1.5.0",
            "_view_name": "HTMLView",
            "description": "",
            "description_tooltip": null,
            "layout": "IPY_MODEL_cc975bcd532947a0a6c01aa525265864",
            "placeholder": "​",
            "style": "IPY_MODEL_e42de6dcee6e4eabb3ffa8c2199d3041",
            "value": "100%"
          }
        },
        "508e4529b5644eb0ad5f7a0c76ba7386": {
          "model_module": "@jupyter-widgets/controls",
          "model_name": "FloatProgressModel",
          "model_module_version": "1.5.0",
          "state": {
            "_dom_classes": [],
            "_model_module": "@jupyter-widgets/controls",
            "_model_module_version": "1.5.0",
            "_model_name": "FloatProgressModel",
            "_view_count": null,
            "_view_module": "@jupyter-widgets/controls",
            "_view_module_version": "1.5.0",
            "_view_name": "ProgressView",
            "bar_style": "success",
            "description": "",
            "description_tooltip": null,
            "layout": "IPY_MODEL_74addc7b59554e0c981cfd51bf12c537",
            "max": 300,
            "min": 0,
            "orientation": "horizontal",
            "style": "IPY_MODEL_42bdcd0cbf6340beaa4927790d68ae5f",
            "value": 300
          }
        },
        "8a45a6f12d8f4dc19a48ddffabe088e7": {
          "model_module": "@jupyter-widgets/controls",
          "model_name": "HTMLModel",
          "model_module_version": "1.5.0",
          "state": {
            "_dom_classes": [],
            "_model_module": "@jupyter-widgets/controls",
            "_model_module_version": "1.5.0",
            "_model_name": "HTMLModel",
            "_view_count": null,
            "_view_module": "@jupyter-widgets/controls",
            "_view_module_version": "1.5.0",
            "_view_name": "HTMLView",
            "description": "",
            "description_tooltip": null,
            "layout": "IPY_MODEL_5aac8efb7efd49e396ef30d4bc9f166b",
            "placeholder": "​",
            "style": "IPY_MODEL_18f586f5026b4f24b33768499353e777",
            "value": " 300/300 [01:40&lt;00:00,  2.99it/s]"
          }
        },
        "6c0c6272ce0744d3bd8d802cd9317df0": {
          "model_module": "@jupyter-widgets/base",
          "model_name": "LayoutModel",
          "model_module_version": "1.2.0",
          "state": {
            "_model_module": "@jupyter-widgets/base",
            "_model_module_version": "1.2.0",
            "_model_name": "LayoutModel",
            "_view_count": null,
            "_view_module": "@jupyter-widgets/base",
            "_view_module_version": "1.2.0",
            "_view_name": "LayoutView",
            "align_content": null,
            "align_items": null,
            "align_self": null,
            "border": null,
            "bottom": null,
            "display": null,
            "flex": null,
            "flex_flow": null,
            "grid_area": null,
            "grid_auto_columns": null,
            "grid_auto_flow": null,
            "grid_auto_rows": null,
            "grid_column": null,
            "grid_gap": null,
            "grid_row": null,
            "grid_template_areas": null,
            "grid_template_columns": null,
            "grid_template_rows": null,
            "height": null,
            "justify_content": null,
            "justify_items": null,
            "left": null,
            "margin": null,
            "max_height": null,
            "max_width": null,
            "min_height": null,
            "min_width": null,
            "object_fit": null,
            "object_position": null,
            "order": null,
            "overflow": null,
            "overflow_x": null,
            "overflow_y": null,
            "padding": null,
            "right": null,
            "top": null,
            "visibility": null,
            "width": null
          }
        },
        "cc975bcd532947a0a6c01aa525265864": {
          "model_module": "@jupyter-widgets/base",
          "model_name": "LayoutModel",
          "model_module_version": "1.2.0",
          "state": {
            "_model_module": "@jupyter-widgets/base",
            "_model_module_version": "1.2.0",
            "_model_name": "LayoutModel",
            "_view_count": null,
            "_view_module": "@jupyter-widgets/base",
            "_view_module_version": "1.2.0",
            "_view_name": "LayoutView",
            "align_content": null,
            "align_items": null,
            "align_self": null,
            "border": null,
            "bottom": null,
            "display": null,
            "flex": null,
            "flex_flow": null,
            "grid_area": null,
            "grid_auto_columns": null,
            "grid_auto_flow": null,
            "grid_auto_rows": null,
            "grid_column": null,
            "grid_gap": null,
            "grid_row": null,
            "grid_template_areas": null,
            "grid_template_columns": null,
            "grid_template_rows": null,
            "height": null,
            "justify_content": null,
            "justify_items": null,
            "left": null,
            "margin": null,
            "max_height": null,
            "max_width": null,
            "min_height": null,
            "min_width": null,
            "object_fit": null,
            "object_position": null,
            "order": null,
            "overflow": null,
            "overflow_x": null,
            "overflow_y": null,
            "padding": null,
            "right": null,
            "top": null,
            "visibility": null,
            "width": null
          }
        },
        "e42de6dcee6e4eabb3ffa8c2199d3041": {
          "model_module": "@jupyter-widgets/controls",
          "model_name": "DescriptionStyleModel",
          "model_module_version": "1.5.0",
          "state": {
            "_model_module": "@jupyter-widgets/controls",
            "_model_module_version": "1.5.0",
            "_model_name": "DescriptionStyleModel",
            "_view_count": null,
            "_view_module": "@jupyter-widgets/base",
            "_view_module_version": "1.2.0",
            "_view_name": "StyleView",
            "description_width": ""
          }
        },
        "74addc7b59554e0c981cfd51bf12c537": {
          "model_module": "@jupyter-widgets/base",
          "model_name": "LayoutModel",
          "model_module_version": "1.2.0",
          "state": {
            "_model_module": "@jupyter-widgets/base",
            "_model_module_version": "1.2.0",
            "_model_name": "LayoutModel",
            "_view_count": null,
            "_view_module": "@jupyter-widgets/base",
            "_view_module_version": "1.2.0",
            "_view_name": "LayoutView",
            "align_content": null,
            "align_items": null,
            "align_self": null,
            "border": null,
            "bottom": null,
            "display": null,
            "flex": null,
            "flex_flow": null,
            "grid_area": null,
            "grid_auto_columns": null,
            "grid_auto_flow": null,
            "grid_auto_rows": null,
            "grid_column": null,
            "grid_gap": null,
            "grid_row": null,
            "grid_template_areas": null,
            "grid_template_columns": null,
            "grid_template_rows": null,
            "height": null,
            "justify_content": null,
            "justify_items": null,
            "left": null,
            "margin": null,
            "max_height": null,
            "max_width": null,
            "min_height": null,
            "min_width": null,
            "object_fit": null,
            "object_position": null,
            "order": null,
            "overflow": null,
            "overflow_x": null,
            "overflow_y": null,
            "padding": null,
            "right": null,
            "top": null,
            "visibility": null,
            "width": null
          }
        },
        "42bdcd0cbf6340beaa4927790d68ae5f": {
          "model_module": "@jupyter-widgets/controls",
          "model_name": "ProgressStyleModel",
          "model_module_version": "1.5.0",
          "state": {
            "_model_module": "@jupyter-widgets/controls",
            "_model_module_version": "1.5.0",
            "_model_name": "ProgressStyleModel",
            "_view_count": null,
            "_view_module": "@jupyter-widgets/base",
            "_view_module_version": "1.2.0",
            "_view_name": "StyleView",
            "bar_color": null,
            "description_width": ""
          }
        },
        "5aac8efb7efd49e396ef30d4bc9f166b": {
          "model_module": "@jupyter-widgets/base",
          "model_name": "LayoutModel",
          "model_module_version": "1.2.0",
          "state": {
            "_model_module": "@jupyter-widgets/base",
            "_model_module_version": "1.2.0",
            "_model_name": "LayoutModel",
            "_view_count": null,
            "_view_module": "@jupyter-widgets/base",
            "_view_module_version": "1.2.0",
            "_view_name": "LayoutView",
            "align_content": null,
            "align_items": null,
            "align_self": null,
            "border": null,
            "bottom": null,
            "display": null,
            "flex": null,
            "flex_flow": null,
            "grid_area": null,
            "grid_auto_columns": null,
            "grid_auto_flow": null,
            "grid_auto_rows": null,
            "grid_column": null,
            "grid_gap": null,
            "grid_row": null,
            "grid_template_areas": null,
            "grid_template_columns": null,
            "grid_template_rows": null,
            "height": null,
            "justify_content": null,
            "justify_items": null,
            "left": null,
            "margin": null,
            "max_height": null,
            "max_width": null,
            "min_height": null,
            "min_width": null,
            "object_fit": null,
            "object_position": null,
            "order": null,
            "overflow": null,
            "overflow_x": null,
            "overflow_y": null,
            "padding": null,
            "right": null,
            "top": null,
            "visibility": null,
            "width": null
          }
        },
        "18f586f5026b4f24b33768499353e777": {
          "model_module": "@jupyter-widgets/controls",
          "model_name": "DescriptionStyleModel",
          "model_module_version": "1.5.0",
          "state": {
            "_model_module": "@jupyter-widgets/controls",
            "_model_module_version": "1.5.0",
            "_model_name": "DescriptionStyleModel",
            "_view_count": null,
            "_view_module": "@jupyter-widgets/base",
            "_view_module_version": "1.2.0",
            "_view_name": "StyleView",
            "description_width": ""
          }
        },
        "103584485e4e44ffb9b0ddec613d18cf": {
          "model_module": "@jupyter-widgets/controls",
          "model_name": "HBoxModel",
          "model_module_version": "1.5.0",
          "state": {
            "_dom_classes": [],
            "_model_module": "@jupyter-widgets/controls",
            "_model_module_version": "1.5.0",
            "_model_name": "HBoxModel",
            "_view_count": null,
            "_view_module": "@jupyter-widgets/controls",
            "_view_module_version": "1.5.0",
            "_view_name": "HBoxView",
            "box_style": "",
            "children": [
              "IPY_MODEL_b6e0bda24f2249a88728313530385fa8",
              "IPY_MODEL_7f26b40c7ae445598c5ea5a2fdb0d2d7",
              "IPY_MODEL_ed7b82bbd2fc4e83a7f9068a01390a88"
            ],
            "layout": "IPY_MODEL_c3057bec30fb4667bbc095c53dcf88de"
          }
        },
        "b6e0bda24f2249a88728313530385fa8": {
          "model_module": "@jupyter-widgets/controls",
          "model_name": "HTMLModel",
          "model_module_version": "1.5.0",
          "state": {
            "_dom_classes": [],
            "_model_module": "@jupyter-widgets/controls",
            "_model_module_version": "1.5.0",
            "_model_name": "HTMLModel",
            "_view_count": null,
            "_view_module": "@jupyter-widgets/controls",
            "_view_module_version": "1.5.0",
            "_view_name": "HTMLView",
            "description": "",
            "description_tooltip": null,
            "layout": "IPY_MODEL_49f8d1b45e8443bb923d79b51a838a25",
            "placeholder": "​",
            "style": "IPY_MODEL_0b3dd4cf619f4ec382bcd0de3e658506",
            "value": "100%"
          }
        },
        "7f26b40c7ae445598c5ea5a2fdb0d2d7": {
          "model_module": "@jupyter-widgets/controls",
          "model_name": "FloatProgressModel",
          "model_module_version": "1.5.0",
          "state": {
            "_dom_classes": [],
            "_model_module": "@jupyter-widgets/controls",
            "_model_module_version": "1.5.0",
            "_model_name": "FloatProgressModel",
            "_view_count": null,
            "_view_module": "@jupyter-widgets/controls",
            "_view_module_version": "1.5.0",
            "_view_name": "ProgressView",
            "bar_style": "success",
            "description": "",
            "description_tooltip": null,
            "layout": "IPY_MODEL_52dd42c187294c55a99af4f86195d096",
            "max": 300,
            "min": 0,
            "orientation": "horizontal",
            "style": "IPY_MODEL_9cb920cb3b974c69bb998cd70bc9e6db",
            "value": 300
          }
        },
        "ed7b82bbd2fc4e83a7f9068a01390a88": {
          "model_module": "@jupyter-widgets/controls",
          "model_name": "HTMLModel",
          "model_module_version": "1.5.0",
          "state": {
            "_dom_classes": [],
            "_model_module": "@jupyter-widgets/controls",
            "_model_module_version": "1.5.0",
            "_model_name": "HTMLModel",
            "_view_count": null,
            "_view_module": "@jupyter-widgets/controls",
            "_view_module_version": "1.5.0",
            "_view_name": "HTMLView",
            "description": "",
            "description_tooltip": null,
            "layout": "IPY_MODEL_f89d0281267043c6b92b7e49eca93424",
            "placeholder": "​",
            "style": "IPY_MODEL_0652c5e3c51a4b4699a19bdfa9b3dfcb",
            "value": " 300/300 [06:06&lt;00:00,  1.23s/it]"
          }
        },
        "c3057bec30fb4667bbc095c53dcf88de": {
          "model_module": "@jupyter-widgets/base",
          "model_name": "LayoutModel",
          "model_module_version": "1.2.0",
          "state": {
            "_model_module": "@jupyter-widgets/base",
            "_model_module_version": "1.2.0",
            "_model_name": "LayoutModel",
            "_view_count": null,
            "_view_module": "@jupyter-widgets/base",
            "_view_module_version": "1.2.0",
            "_view_name": "LayoutView",
            "align_content": null,
            "align_items": null,
            "align_self": null,
            "border": null,
            "bottom": null,
            "display": null,
            "flex": null,
            "flex_flow": null,
            "grid_area": null,
            "grid_auto_columns": null,
            "grid_auto_flow": null,
            "grid_auto_rows": null,
            "grid_column": null,
            "grid_gap": null,
            "grid_row": null,
            "grid_template_areas": null,
            "grid_template_columns": null,
            "grid_template_rows": null,
            "height": null,
            "justify_content": null,
            "justify_items": null,
            "left": null,
            "margin": null,
            "max_height": null,
            "max_width": null,
            "min_height": null,
            "min_width": null,
            "object_fit": null,
            "object_position": null,
            "order": null,
            "overflow": null,
            "overflow_x": null,
            "overflow_y": null,
            "padding": null,
            "right": null,
            "top": null,
            "visibility": null,
            "width": null
          }
        },
        "49f8d1b45e8443bb923d79b51a838a25": {
          "model_module": "@jupyter-widgets/base",
          "model_name": "LayoutModel",
          "model_module_version": "1.2.0",
          "state": {
            "_model_module": "@jupyter-widgets/base",
            "_model_module_version": "1.2.0",
            "_model_name": "LayoutModel",
            "_view_count": null,
            "_view_module": "@jupyter-widgets/base",
            "_view_module_version": "1.2.0",
            "_view_name": "LayoutView",
            "align_content": null,
            "align_items": null,
            "align_self": null,
            "border": null,
            "bottom": null,
            "display": null,
            "flex": null,
            "flex_flow": null,
            "grid_area": null,
            "grid_auto_columns": null,
            "grid_auto_flow": null,
            "grid_auto_rows": null,
            "grid_column": null,
            "grid_gap": null,
            "grid_row": null,
            "grid_template_areas": null,
            "grid_template_columns": null,
            "grid_template_rows": null,
            "height": null,
            "justify_content": null,
            "justify_items": null,
            "left": null,
            "margin": null,
            "max_height": null,
            "max_width": null,
            "min_height": null,
            "min_width": null,
            "object_fit": null,
            "object_position": null,
            "order": null,
            "overflow": null,
            "overflow_x": null,
            "overflow_y": null,
            "padding": null,
            "right": null,
            "top": null,
            "visibility": null,
            "width": null
          }
        },
        "0b3dd4cf619f4ec382bcd0de3e658506": {
          "model_module": "@jupyter-widgets/controls",
          "model_name": "DescriptionStyleModel",
          "model_module_version": "1.5.0",
          "state": {
            "_model_module": "@jupyter-widgets/controls",
            "_model_module_version": "1.5.0",
            "_model_name": "DescriptionStyleModel",
            "_view_count": null,
            "_view_module": "@jupyter-widgets/base",
            "_view_module_version": "1.2.0",
            "_view_name": "StyleView",
            "description_width": ""
          }
        },
        "52dd42c187294c55a99af4f86195d096": {
          "model_module": "@jupyter-widgets/base",
          "model_name": "LayoutModel",
          "model_module_version": "1.2.0",
          "state": {
            "_model_module": "@jupyter-widgets/base",
            "_model_module_version": "1.2.0",
            "_model_name": "LayoutModel",
            "_view_count": null,
            "_view_module": "@jupyter-widgets/base",
            "_view_module_version": "1.2.0",
            "_view_name": "LayoutView",
            "align_content": null,
            "align_items": null,
            "align_self": null,
            "border": null,
            "bottom": null,
            "display": null,
            "flex": null,
            "flex_flow": null,
            "grid_area": null,
            "grid_auto_columns": null,
            "grid_auto_flow": null,
            "grid_auto_rows": null,
            "grid_column": null,
            "grid_gap": null,
            "grid_row": null,
            "grid_template_areas": null,
            "grid_template_columns": null,
            "grid_template_rows": null,
            "height": null,
            "justify_content": null,
            "justify_items": null,
            "left": null,
            "margin": null,
            "max_height": null,
            "max_width": null,
            "min_height": null,
            "min_width": null,
            "object_fit": null,
            "object_position": null,
            "order": null,
            "overflow": null,
            "overflow_x": null,
            "overflow_y": null,
            "padding": null,
            "right": null,
            "top": null,
            "visibility": null,
            "width": null
          }
        },
        "9cb920cb3b974c69bb998cd70bc9e6db": {
          "model_module": "@jupyter-widgets/controls",
          "model_name": "ProgressStyleModel",
          "model_module_version": "1.5.0",
          "state": {
            "_model_module": "@jupyter-widgets/controls",
            "_model_module_version": "1.5.0",
            "_model_name": "ProgressStyleModel",
            "_view_count": null,
            "_view_module": "@jupyter-widgets/base",
            "_view_module_version": "1.2.0",
            "_view_name": "StyleView",
            "bar_color": null,
            "description_width": ""
          }
        },
        "f89d0281267043c6b92b7e49eca93424": {
          "model_module": "@jupyter-widgets/base",
          "model_name": "LayoutModel",
          "model_module_version": "1.2.0",
          "state": {
            "_model_module": "@jupyter-widgets/base",
            "_model_module_version": "1.2.0",
            "_model_name": "LayoutModel",
            "_view_count": null,
            "_view_module": "@jupyter-widgets/base",
            "_view_module_version": "1.2.0",
            "_view_name": "LayoutView",
            "align_content": null,
            "align_items": null,
            "align_self": null,
            "border": null,
            "bottom": null,
            "display": null,
            "flex": null,
            "flex_flow": null,
            "grid_area": null,
            "grid_auto_columns": null,
            "grid_auto_flow": null,
            "grid_auto_rows": null,
            "grid_column": null,
            "grid_gap": null,
            "grid_row": null,
            "grid_template_areas": null,
            "grid_template_columns": null,
            "grid_template_rows": null,
            "height": null,
            "justify_content": null,
            "justify_items": null,
            "left": null,
            "margin": null,
            "max_height": null,
            "max_width": null,
            "min_height": null,
            "min_width": null,
            "object_fit": null,
            "object_position": null,
            "order": null,
            "overflow": null,
            "overflow_x": null,
            "overflow_y": null,
            "padding": null,
            "right": null,
            "top": null,
            "visibility": null,
            "width": null
          }
        },
        "0652c5e3c51a4b4699a19bdfa9b3dfcb": {
          "model_module": "@jupyter-widgets/controls",
          "model_name": "DescriptionStyleModel",
          "model_module_version": "1.5.0",
          "state": {
            "_model_module": "@jupyter-widgets/controls",
            "_model_module_version": "1.5.0",
            "_model_name": "DescriptionStyleModel",
            "_view_count": null,
            "_view_module": "@jupyter-widgets/base",
            "_view_module_version": "1.2.0",
            "_view_name": "StyleView",
            "description_width": ""
          }
        },
        "e73f42d07a684e86bc5454bda667ee67": {
          "model_module": "@jupyter-widgets/controls",
          "model_name": "HBoxModel",
          "model_module_version": "1.5.0",
          "state": {
            "_dom_classes": [],
            "_model_module": "@jupyter-widgets/controls",
            "_model_module_version": "1.5.0",
            "_model_name": "HBoxModel",
            "_view_count": null,
            "_view_module": "@jupyter-widgets/controls",
            "_view_module_version": "1.5.0",
            "_view_name": "HBoxView",
            "box_style": "",
            "children": [
              "IPY_MODEL_231ac739c916463a912203882c6fac5c",
              "IPY_MODEL_3680a34ddc1140ebab5f319b441b0b09",
              "IPY_MODEL_04af4e137ffc4b33ad326900063c2bce"
            ],
            "layout": "IPY_MODEL_c3693e9d5c024eb681908ea5f3d64dcd"
          }
        },
        "231ac739c916463a912203882c6fac5c": {
          "model_module": "@jupyter-widgets/controls",
          "model_name": "HTMLModel",
          "model_module_version": "1.5.0",
          "state": {
            "_dom_classes": [],
            "_model_module": "@jupyter-widgets/controls",
            "_model_module_version": "1.5.0",
            "_model_name": "HTMLModel",
            "_view_count": null,
            "_view_module": "@jupyter-widgets/controls",
            "_view_module_version": "1.5.0",
            "_view_name": "HTMLView",
            "description": "",
            "description_tooltip": null,
            "layout": "IPY_MODEL_a62db1f1a13a47db8372da6c8f330c0b",
            "placeholder": "​",
            "style": "IPY_MODEL_92c163cf4875404b84ca273b8412ea73",
            "value": "100%"
          }
        },
        "3680a34ddc1140ebab5f319b441b0b09": {
          "model_module": "@jupyter-widgets/controls",
          "model_name": "FloatProgressModel",
          "model_module_version": "1.5.0",
          "state": {
            "_dom_classes": [],
            "_model_module": "@jupyter-widgets/controls",
            "_model_module_version": "1.5.0",
            "_model_name": "FloatProgressModel",
            "_view_count": null,
            "_view_module": "@jupyter-widgets/controls",
            "_view_module_version": "1.5.0",
            "_view_name": "ProgressView",
            "bar_style": "success",
            "description": "",
            "description_tooltip": null,
            "layout": "IPY_MODEL_790c64a317f64f4a98513c978d34508a",
            "max": 509,
            "min": 0,
            "orientation": "horizontal",
            "style": "IPY_MODEL_fcb2b5abd45d4663a870564eee47eb00",
            "value": 509
          }
        },
        "04af4e137ffc4b33ad326900063c2bce": {
          "model_module": "@jupyter-widgets/controls",
          "model_name": "HTMLModel",
          "model_module_version": "1.5.0",
          "state": {
            "_dom_classes": [],
            "_model_module": "@jupyter-widgets/controls",
            "_model_module_version": "1.5.0",
            "_model_name": "HTMLModel",
            "_view_count": null,
            "_view_module": "@jupyter-widgets/controls",
            "_view_module_version": "1.5.0",
            "_view_name": "HTMLView",
            "description": "",
            "description_tooltip": null,
            "layout": "IPY_MODEL_9eacd37863d74b8e8022a1417e6e185f",
            "placeholder": "​",
            "style": "IPY_MODEL_aac67d4574a640e399e6049c6ec2bfa4",
            "value": " 509/509 [00:08&lt;00:00, 163.50it/s]"
          }
        },
        "c3693e9d5c024eb681908ea5f3d64dcd": {
          "model_module": "@jupyter-widgets/base",
          "model_name": "LayoutModel",
          "model_module_version": "1.2.0",
          "state": {
            "_model_module": "@jupyter-widgets/base",
            "_model_module_version": "1.2.0",
            "_model_name": "LayoutModel",
            "_view_count": null,
            "_view_module": "@jupyter-widgets/base",
            "_view_module_version": "1.2.0",
            "_view_name": "LayoutView",
            "align_content": null,
            "align_items": null,
            "align_self": null,
            "border": null,
            "bottom": null,
            "display": null,
            "flex": null,
            "flex_flow": null,
            "grid_area": null,
            "grid_auto_columns": null,
            "grid_auto_flow": null,
            "grid_auto_rows": null,
            "grid_column": null,
            "grid_gap": null,
            "grid_row": null,
            "grid_template_areas": null,
            "grid_template_columns": null,
            "grid_template_rows": null,
            "height": null,
            "justify_content": null,
            "justify_items": null,
            "left": null,
            "margin": null,
            "max_height": null,
            "max_width": null,
            "min_height": null,
            "min_width": null,
            "object_fit": null,
            "object_position": null,
            "order": null,
            "overflow": null,
            "overflow_x": null,
            "overflow_y": null,
            "padding": null,
            "right": null,
            "top": null,
            "visibility": null,
            "width": null
          }
        },
        "a62db1f1a13a47db8372da6c8f330c0b": {
          "model_module": "@jupyter-widgets/base",
          "model_name": "LayoutModel",
          "model_module_version": "1.2.0",
          "state": {
            "_model_module": "@jupyter-widgets/base",
            "_model_module_version": "1.2.0",
            "_model_name": "LayoutModel",
            "_view_count": null,
            "_view_module": "@jupyter-widgets/base",
            "_view_module_version": "1.2.0",
            "_view_name": "LayoutView",
            "align_content": null,
            "align_items": null,
            "align_self": null,
            "border": null,
            "bottom": null,
            "display": null,
            "flex": null,
            "flex_flow": null,
            "grid_area": null,
            "grid_auto_columns": null,
            "grid_auto_flow": null,
            "grid_auto_rows": null,
            "grid_column": null,
            "grid_gap": null,
            "grid_row": null,
            "grid_template_areas": null,
            "grid_template_columns": null,
            "grid_template_rows": null,
            "height": null,
            "justify_content": null,
            "justify_items": null,
            "left": null,
            "margin": null,
            "max_height": null,
            "max_width": null,
            "min_height": null,
            "min_width": null,
            "object_fit": null,
            "object_position": null,
            "order": null,
            "overflow": null,
            "overflow_x": null,
            "overflow_y": null,
            "padding": null,
            "right": null,
            "top": null,
            "visibility": null,
            "width": null
          }
        },
        "92c163cf4875404b84ca273b8412ea73": {
          "model_module": "@jupyter-widgets/controls",
          "model_name": "DescriptionStyleModel",
          "model_module_version": "1.5.0",
          "state": {
            "_model_module": "@jupyter-widgets/controls",
            "_model_module_version": "1.5.0",
            "_model_name": "DescriptionStyleModel",
            "_view_count": null,
            "_view_module": "@jupyter-widgets/base",
            "_view_module_version": "1.2.0",
            "_view_name": "StyleView",
            "description_width": ""
          }
        },
        "790c64a317f64f4a98513c978d34508a": {
          "model_module": "@jupyter-widgets/base",
          "model_name": "LayoutModel",
          "model_module_version": "1.2.0",
          "state": {
            "_model_module": "@jupyter-widgets/base",
            "_model_module_version": "1.2.0",
            "_model_name": "LayoutModel",
            "_view_count": null,
            "_view_module": "@jupyter-widgets/base",
            "_view_module_version": "1.2.0",
            "_view_name": "LayoutView",
            "align_content": null,
            "align_items": null,
            "align_self": null,
            "border": null,
            "bottom": null,
            "display": null,
            "flex": null,
            "flex_flow": null,
            "grid_area": null,
            "grid_auto_columns": null,
            "grid_auto_flow": null,
            "grid_auto_rows": null,
            "grid_column": null,
            "grid_gap": null,
            "grid_row": null,
            "grid_template_areas": null,
            "grid_template_columns": null,
            "grid_template_rows": null,
            "height": null,
            "justify_content": null,
            "justify_items": null,
            "left": null,
            "margin": null,
            "max_height": null,
            "max_width": null,
            "min_height": null,
            "min_width": null,
            "object_fit": null,
            "object_position": null,
            "order": null,
            "overflow": null,
            "overflow_x": null,
            "overflow_y": null,
            "padding": null,
            "right": null,
            "top": null,
            "visibility": null,
            "width": null
          }
        },
        "fcb2b5abd45d4663a870564eee47eb00": {
          "model_module": "@jupyter-widgets/controls",
          "model_name": "ProgressStyleModel",
          "model_module_version": "1.5.0",
          "state": {
            "_model_module": "@jupyter-widgets/controls",
            "_model_module_version": "1.5.0",
            "_model_name": "ProgressStyleModel",
            "_view_count": null,
            "_view_module": "@jupyter-widgets/base",
            "_view_module_version": "1.2.0",
            "_view_name": "StyleView",
            "bar_color": null,
            "description_width": ""
          }
        },
        "9eacd37863d74b8e8022a1417e6e185f": {
          "model_module": "@jupyter-widgets/base",
          "model_name": "LayoutModel",
          "model_module_version": "1.2.0",
          "state": {
            "_model_module": "@jupyter-widgets/base",
            "_model_module_version": "1.2.0",
            "_model_name": "LayoutModel",
            "_view_count": null,
            "_view_module": "@jupyter-widgets/base",
            "_view_module_version": "1.2.0",
            "_view_name": "LayoutView",
            "align_content": null,
            "align_items": null,
            "align_self": null,
            "border": null,
            "bottom": null,
            "display": null,
            "flex": null,
            "flex_flow": null,
            "grid_area": null,
            "grid_auto_columns": null,
            "grid_auto_flow": null,
            "grid_auto_rows": null,
            "grid_column": null,
            "grid_gap": null,
            "grid_row": null,
            "grid_template_areas": null,
            "grid_template_columns": null,
            "grid_template_rows": null,
            "height": null,
            "justify_content": null,
            "justify_items": null,
            "left": null,
            "margin": null,
            "max_height": null,
            "max_width": null,
            "min_height": null,
            "min_width": null,
            "object_fit": null,
            "object_position": null,
            "order": null,
            "overflow": null,
            "overflow_x": null,
            "overflow_y": null,
            "padding": null,
            "right": null,
            "top": null,
            "visibility": null,
            "width": null
          }
        },
        "aac67d4574a640e399e6049c6ec2bfa4": {
          "model_module": "@jupyter-widgets/controls",
          "model_name": "DescriptionStyleModel",
          "model_module_version": "1.5.0",
          "state": {
            "_model_module": "@jupyter-widgets/controls",
            "_model_module_version": "1.5.0",
            "_model_name": "DescriptionStyleModel",
            "_view_count": null,
            "_view_module": "@jupyter-widgets/base",
            "_view_module_version": "1.2.0",
            "_view_name": "StyleView",
            "description_width": ""
          }
        },
        "6654f14f3fdb44f4a91fc9d60f0c1674": {
          "model_module": "@jupyter-widgets/controls",
          "model_name": "HBoxModel",
          "model_module_version": "1.5.0",
          "state": {
            "_dom_classes": [],
            "_model_module": "@jupyter-widgets/controls",
            "_model_module_version": "1.5.0",
            "_model_name": "HBoxModel",
            "_view_count": null,
            "_view_module": "@jupyter-widgets/controls",
            "_view_module_version": "1.5.0",
            "_view_name": "HBoxView",
            "box_style": "",
            "children": [
              "IPY_MODEL_bfc7f07ea0934d3494b1e56ea40e2571",
              "IPY_MODEL_317d4e4ed72a47b4825ea9ceb1580f60",
              "IPY_MODEL_fbabc8d6ca034a1fa0d1f50f18185282"
            ],
            "layout": "IPY_MODEL_3499beaeb2c14aba899491c5232ece5c"
          }
        },
        "bfc7f07ea0934d3494b1e56ea40e2571": {
          "model_module": "@jupyter-widgets/controls",
          "model_name": "HTMLModel",
          "model_module_version": "1.5.0",
          "state": {
            "_dom_classes": [],
            "_model_module": "@jupyter-widgets/controls",
            "_model_module_version": "1.5.0",
            "_model_name": "HTMLModel",
            "_view_count": null,
            "_view_module": "@jupyter-widgets/controls",
            "_view_module_version": "1.5.0",
            "_view_name": "HTMLView",
            "description": "",
            "description_tooltip": null,
            "layout": "IPY_MODEL_ba408a10c4fa420a979e1aa7a4d8d314",
            "placeholder": "​",
            "style": "IPY_MODEL_769db866abb64a57ab3a40505a2ccc0b",
            "value": "100%"
          }
        },
        "317d4e4ed72a47b4825ea9ceb1580f60": {
          "model_module": "@jupyter-widgets/controls",
          "model_name": "FloatProgressModel",
          "model_module_version": "1.5.0",
          "state": {
            "_dom_classes": [],
            "_model_module": "@jupyter-widgets/controls",
            "_model_module_version": "1.5.0",
            "_model_name": "FloatProgressModel",
            "_view_count": null,
            "_view_module": "@jupyter-widgets/controls",
            "_view_module_version": "1.5.0",
            "_view_name": "ProgressView",
            "bar_style": "success",
            "description": "",
            "description_tooltip": null,
            "layout": "IPY_MODEL_e4b8359eac0c487b83dbf5b8c38a6ba0",
            "max": 509,
            "min": 0,
            "orientation": "horizontal",
            "style": "IPY_MODEL_b4605db1e11c49e58a3d528b52e51981",
            "value": 509
          }
        },
        "fbabc8d6ca034a1fa0d1f50f18185282": {
          "model_module": "@jupyter-widgets/controls",
          "model_name": "HTMLModel",
          "model_module_version": "1.5.0",
          "state": {
            "_dom_classes": [],
            "_model_module": "@jupyter-widgets/controls",
            "_model_module_version": "1.5.0",
            "_model_name": "HTMLModel",
            "_view_count": null,
            "_view_module": "@jupyter-widgets/controls",
            "_view_module_version": "1.5.0",
            "_view_name": "HTMLView",
            "description": "",
            "description_tooltip": null,
            "layout": "IPY_MODEL_8d48fe4e1b2a4e2abcedd4f7b93e7fc7",
            "placeholder": "​",
            "style": "IPY_MODEL_fddba2034aa84352aada32644686389d",
            "value": " 509/509 [00:03&lt;00:00, 143.04it/s]"
          }
        },
        "3499beaeb2c14aba899491c5232ece5c": {
          "model_module": "@jupyter-widgets/base",
          "model_name": "LayoutModel",
          "model_module_version": "1.2.0",
          "state": {
            "_model_module": "@jupyter-widgets/base",
            "_model_module_version": "1.2.0",
            "_model_name": "LayoutModel",
            "_view_count": null,
            "_view_module": "@jupyter-widgets/base",
            "_view_module_version": "1.2.0",
            "_view_name": "LayoutView",
            "align_content": null,
            "align_items": null,
            "align_self": null,
            "border": null,
            "bottom": null,
            "display": null,
            "flex": null,
            "flex_flow": null,
            "grid_area": null,
            "grid_auto_columns": null,
            "grid_auto_flow": null,
            "grid_auto_rows": null,
            "grid_column": null,
            "grid_gap": null,
            "grid_row": null,
            "grid_template_areas": null,
            "grid_template_columns": null,
            "grid_template_rows": null,
            "height": null,
            "justify_content": null,
            "justify_items": null,
            "left": null,
            "margin": null,
            "max_height": null,
            "max_width": null,
            "min_height": null,
            "min_width": null,
            "object_fit": null,
            "object_position": null,
            "order": null,
            "overflow": null,
            "overflow_x": null,
            "overflow_y": null,
            "padding": null,
            "right": null,
            "top": null,
            "visibility": null,
            "width": null
          }
        },
        "ba408a10c4fa420a979e1aa7a4d8d314": {
          "model_module": "@jupyter-widgets/base",
          "model_name": "LayoutModel",
          "model_module_version": "1.2.0",
          "state": {
            "_model_module": "@jupyter-widgets/base",
            "_model_module_version": "1.2.0",
            "_model_name": "LayoutModel",
            "_view_count": null,
            "_view_module": "@jupyter-widgets/base",
            "_view_module_version": "1.2.0",
            "_view_name": "LayoutView",
            "align_content": null,
            "align_items": null,
            "align_self": null,
            "border": null,
            "bottom": null,
            "display": null,
            "flex": null,
            "flex_flow": null,
            "grid_area": null,
            "grid_auto_columns": null,
            "grid_auto_flow": null,
            "grid_auto_rows": null,
            "grid_column": null,
            "grid_gap": null,
            "grid_row": null,
            "grid_template_areas": null,
            "grid_template_columns": null,
            "grid_template_rows": null,
            "height": null,
            "justify_content": null,
            "justify_items": null,
            "left": null,
            "margin": null,
            "max_height": null,
            "max_width": null,
            "min_height": null,
            "min_width": null,
            "object_fit": null,
            "object_position": null,
            "order": null,
            "overflow": null,
            "overflow_x": null,
            "overflow_y": null,
            "padding": null,
            "right": null,
            "top": null,
            "visibility": null,
            "width": null
          }
        },
        "769db866abb64a57ab3a40505a2ccc0b": {
          "model_module": "@jupyter-widgets/controls",
          "model_name": "DescriptionStyleModel",
          "model_module_version": "1.5.0",
          "state": {
            "_model_module": "@jupyter-widgets/controls",
            "_model_module_version": "1.5.0",
            "_model_name": "DescriptionStyleModel",
            "_view_count": null,
            "_view_module": "@jupyter-widgets/base",
            "_view_module_version": "1.2.0",
            "_view_name": "StyleView",
            "description_width": ""
          }
        },
        "e4b8359eac0c487b83dbf5b8c38a6ba0": {
          "model_module": "@jupyter-widgets/base",
          "model_name": "LayoutModel",
          "model_module_version": "1.2.0",
          "state": {
            "_model_module": "@jupyter-widgets/base",
            "_model_module_version": "1.2.0",
            "_model_name": "LayoutModel",
            "_view_count": null,
            "_view_module": "@jupyter-widgets/base",
            "_view_module_version": "1.2.0",
            "_view_name": "LayoutView",
            "align_content": null,
            "align_items": null,
            "align_self": null,
            "border": null,
            "bottom": null,
            "display": null,
            "flex": null,
            "flex_flow": null,
            "grid_area": null,
            "grid_auto_columns": null,
            "grid_auto_flow": null,
            "grid_auto_rows": null,
            "grid_column": null,
            "grid_gap": null,
            "grid_row": null,
            "grid_template_areas": null,
            "grid_template_columns": null,
            "grid_template_rows": null,
            "height": null,
            "justify_content": null,
            "justify_items": null,
            "left": null,
            "margin": null,
            "max_height": null,
            "max_width": null,
            "min_height": null,
            "min_width": null,
            "object_fit": null,
            "object_position": null,
            "order": null,
            "overflow": null,
            "overflow_x": null,
            "overflow_y": null,
            "padding": null,
            "right": null,
            "top": null,
            "visibility": null,
            "width": null
          }
        },
        "b4605db1e11c49e58a3d528b52e51981": {
          "model_module": "@jupyter-widgets/controls",
          "model_name": "ProgressStyleModel",
          "model_module_version": "1.5.0",
          "state": {
            "_model_module": "@jupyter-widgets/controls",
            "_model_module_version": "1.5.0",
            "_model_name": "ProgressStyleModel",
            "_view_count": null,
            "_view_module": "@jupyter-widgets/base",
            "_view_module_version": "1.2.0",
            "_view_name": "StyleView",
            "bar_color": null,
            "description_width": ""
          }
        },
        "8d48fe4e1b2a4e2abcedd4f7b93e7fc7": {
          "model_module": "@jupyter-widgets/base",
          "model_name": "LayoutModel",
          "model_module_version": "1.2.0",
          "state": {
            "_model_module": "@jupyter-widgets/base",
            "_model_module_version": "1.2.0",
            "_model_name": "LayoutModel",
            "_view_count": null,
            "_view_module": "@jupyter-widgets/base",
            "_view_module_version": "1.2.0",
            "_view_name": "LayoutView",
            "align_content": null,
            "align_items": null,
            "align_self": null,
            "border": null,
            "bottom": null,
            "display": null,
            "flex": null,
            "flex_flow": null,
            "grid_area": null,
            "grid_auto_columns": null,
            "grid_auto_flow": null,
            "grid_auto_rows": null,
            "grid_column": null,
            "grid_gap": null,
            "grid_row": null,
            "grid_template_areas": null,
            "grid_template_columns": null,
            "grid_template_rows": null,
            "height": null,
            "justify_content": null,
            "justify_items": null,
            "left": null,
            "margin": null,
            "max_height": null,
            "max_width": null,
            "min_height": null,
            "min_width": null,
            "object_fit": null,
            "object_position": null,
            "order": null,
            "overflow": null,
            "overflow_x": null,
            "overflow_y": null,
            "padding": null,
            "right": null,
            "top": null,
            "visibility": null,
            "width": null
          }
        },
        "fddba2034aa84352aada32644686389d": {
          "model_module": "@jupyter-widgets/controls",
          "model_name": "DescriptionStyleModel",
          "model_module_version": "1.5.0",
          "state": {
            "_model_module": "@jupyter-widgets/controls",
            "_model_module_version": "1.5.0",
            "_model_name": "DescriptionStyleModel",
            "_view_count": null,
            "_view_module": "@jupyter-widgets/base",
            "_view_module_version": "1.2.0",
            "_view_name": "StyleView",
            "description_width": ""
          }
        },
        "53dc3988a5eb4659a1f55f7d48ff6bba": {
          "model_module": "@jupyter-widgets/controls",
          "model_name": "HBoxModel",
          "model_module_version": "1.5.0",
          "state": {
            "_dom_classes": [],
            "_model_module": "@jupyter-widgets/controls",
            "_model_module_version": "1.5.0",
            "_model_name": "HBoxModel",
            "_view_count": null,
            "_view_module": "@jupyter-widgets/controls",
            "_view_module_version": "1.5.0",
            "_view_name": "HBoxView",
            "box_style": "",
            "children": [
              "IPY_MODEL_01339b67e6964481ac124d2772d02a6d",
              "IPY_MODEL_5ae5aa107e5841d9bd5f3bb767a453b4",
              "IPY_MODEL_64a8e09aa2b442178158e5db5c5e29ee"
            ],
            "layout": "IPY_MODEL_9fc90501a21c465d8a6bfae6a050d238"
          }
        },
        "01339b67e6964481ac124d2772d02a6d": {
          "model_module": "@jupyter-widgets/controls",
          "model_name": "HTMLModel",
          "model_module_version": "1.5.0",
          "state": {
            "_dom_classes": [],
            "_model_module": "@jupyter-widgets/controls",
            "_model_module_version": "1.5.0",
            "_model_name": "HTMLModel",
            "_view_count": null,
            "_view_module": "@jupyter-widgets/controls",
            "_view_module_version": "1.5.0",
            "_view_name": "HTMLView",
            "description": "",
            "description_tooltip": null,
            "layout": "IPY_MODEL_6f84f1b19cb847728f3d54133321009a",
            "placeholder": "​",
            "style": "IPY_MODEL_438cf327bce74649b25f2a06b160f6be",
            "value": "100%"
          }
        },
        "5ae5aa107e5841d9bd5f3bb767a453b4": {
          "model_module": "@jupyter-widgets/controls",
          "model_name": "FloatProgressModel",
          "model_module_version": "1.5.0",
          "state": {
            "_dom_classes": [],
            "_model_module": "@jupyter-widgets/controls",
            "_model_module_version": "1.5.0",
            "_model_name": "FloatProgressModel",
            "_view_count": null,
            "_view_module": "@jupyter-widgets/controls",
            "_view_module_version": "1.5.0",
            "_view_name": "ProgressView",
            "bar_style": "success",
            "description": "",
            "description_tooltip": null,
            "layout": "IPY_MODEL_c277a769f64e4b6488d110bac4c3b78b",
            "max": 509,
            "min": 0,
            "orientation": "horizontal",
            "style": "IPY_MODEL_1792b77da7ea4e2690059bce0b70e62d",
            "value": 509
          }
        },
        "64a8e09aa2b442178158e5db5c5e29ee": {
          "model_module": "@jupyter-widgets/controls",
          "model_name": "HTMLModel",
          "model_module_version": "1.5.0",
          "state": {
            "_dom_classes": [],
            "_model_module": "@jupyter-widgets/controls",
            "_model_module_version": "1.5.0",
            "_model_name": "HTMLModel",
            "_view_count": null,
            "_view_module": "@jupyter-widgets/controls",
            "_view_module_version": "1.5.0",
            "_view_name": "HTMLView",
            "description": "",
            "description_tooltip": null,
            "layout": "IPY_MODEL_34ff65e180b64fa1aa7d91e4d365009e",
            "placeholder": "​",
            "style": "IPY_MODEL_24dccf17458f408f8eaaf17a5d4c812a",
            "value": " 509/509 [00:01&lt;00:00, 308.81it/s]"
          }
        },
        "9fc90501a21c465d8a6bfae6a050d238": {
          "model_module": "@jupyter-widgets/base",
          "model_name": "LayoutModel",
          "model_module_version": "1.2.0",
          "state": {
            "_model_module": "@jupyter-widgets/base",
            "_model_module_version": "1.2.0",
            "_model_name": "LayoutModel",
            "_view_count": null,
            "_view_module": "@jupyter-widgets/base",
            "_view_module_version": "1.2.0",
            "_view_name": "LayoutView",
            "align_content": null,
            "align_items": null,
            "align_self": null,
            "border": null,
            "bottom": null,
            "display": null,
            "flex": null,
            "flex_flow": null,
            "grid_area": null,
            "grid_auto_columns": null,
            "grid_auto_flow": null,
            "grid_auto_rows": null,
            "grid_column": null,
            "grid_gap": null,
            "grid_row": null,
            "grid_template_areas": null,
            "grid_template_columns": null,
            "grid_template_rows": null,
            "height": null,
            "justify_content": null,
            "justify_items": null,
            "left": null,
            "margin": null,
            "max_height": null,
            "max_width": null,
            "min_height": null,
            "min_width": null,
            "object_fit": null,
            "object_position": null,
            "order": null,
            "overflow": null,
            "overflow_x": null,
            "overflow_y": null,
            "padding": null,
            "right": null,
            "top": null,
            "visibility": null,
            "width": null
          }
        },
        "6f84f1b19cb847728f3d54133321009a": {
          "model_module": "@jupyter-widgets/base",
          "model_name": "LayoutModel",
          "model_module_version": "1.2.0",
          "state": {
            "_model_module": "@jupyter-widgets/base",
            "_model_module_version": "1.2.0",
            "_model_name": "LayoutModel",
            "_view_count": null,
            "_view_module": "@jupyter-widgets/base",
            "_view_module_version": "1.2.0",
            "_view_name": "LayoutView",
            "align_content": null,
            "align_items": null,
            "align_self": null,
            "border": null,
            "bottom": null,
            "display": null,
            "flex": null,
            "flex_flow": null,
            "grid_area": null,
            "grid_auto_columns": null,
            "grid_auto_flow": null,
            "grid_auto_rows": null,
            "grid_column": null,
            "grid_gap": null,
            "grid_row": null,
            "grid_template_areas": null,
            "grid_template_columns": null,
            "grid_template_rows": null,
            "height": null,
            "justify_content": null,
            "justify_items": null,
            "left": null,
            "margin": null,
            "max_height": null,
            "max_width": null,
            "min_height": null,
            "min_width": null,
            "object_fit": null,
            "object_position": null,
            "order": null,
            "overflow": null,
            "overflow_x": null,
            "overflow_y": null,
            "padding": null,
            "right": null,
            "top": null,
            "visibility": null,
            "width": null
          }
        },
        "438cf327bce74649b25f2a06b160f6be": {
          "model_module": "@jupyter-widgets/controls",
          "model_name": "DescriptionStyleModel",
          "model_module_version": "1.5.0",
          "state": {
            "_model_module": "@jupyter-widgets/controls",
            "_model_module_version": "1.5.0",
            "_model_name": "DescriptionStyleModel",
            "_view_count": null,
            "_view_module": "@jupyter-widgets/base",
            "_view_module_version": "1.2.0",
            "_view_name": "StyleView",
            "description_width": ""
          }
        },
        "c277a769f64e4b6488d110bac4c3b78b": {
          "model_module": "@jupyter-widgets/base",
          "model_name": "LayoutModel",
          "model_module_version": "1.2.0",
          "state": {
            "_model_module": "@jupyter-widgets/base",
            "_model_module_version": "1.2.0",
            "_model_name": "LayoutModel",
            "_view_count": null,
            "_view_module": "@jupyter-widgets/base",
            "_view_module_version": "1.2.0",
            "_view_name": "LayoutView",
            "align_content": null,
            "align_items": null,
            "align_self": null,
            "border": null,
            "bottom": null,
            "display": null,
            "flex": null,
            "flex_flow": null,
            "grid_area": null,
            "grid_auto_columns": null,
            "grid_auto_flow": null,
            "grid_auto_rows": null,
            "grid_column": null,
            "grid_gap": null,
            "grid_row": null,
            "grid_template_areas": null,
            "grid_template_columns": null,
            "grid_template_rows": null,
            "height": null,
            "justify_content": null,
            "justify_items": null,
            "left": null,
            "margin": null,
            "max_height": null,
            "max_width": null,
            "min_height": null,
            "min_width": null,
            "object_fit": null,
            "object_position": null,
            "order": null,
            "overflow": null,
            "overflow_x": null,
            "overflow_y": null,
            "padding": null,
            "right": null,
            "top": null,
            "visibility": null,
            "width": null
          }
        },
        "1792b77da7ea4e2690059bce0b70e62d": {
          "model_module": "@jupyter-widgets/controls",
          "model_name": "ProgressStyleModel",
          "model_module_version": "1.5.0",
          "state": {
            "_model_module": "@jupyter-widgets/controls",
            "_model_module_version": "1.5.0",
            "_model_name": "ProgressStyleModel",
            "_view_count": null,
            "_view_module": "@jupyter-widgets/base",
            "_view_module_version": "1.2.0",
            "_view_name": "StyleView",
            "bar_color": null,
            "description_width": ""
          }
        },
        "34ff65e180b64fa1aa7d91e4d365009e": {
          "model_module": "@jupyter-widgets/base",
          "model_name": "LayoutModel",
          "model_module_version": "1.2.0",
          "state": {
            "_model_module": "@jupyter-widgets/base",
            "_model_module_version": "1.2.0",
            "_model_name": "LayoutModel",
            "_view_count": null,
            "_view_module": "@jupyter-widgets/base",
            "_view_module_version": "1.2.0",
            "_view_name": "LayoutView",
            "align_content": null,
            "align_items": null,
            "align_self": null,
            "border": null,
            "bottom": null,
            "display": null,
            "flex": null,
            "flex_flow": null,
            "grid_area": null,
            "grid_auto_columns": null,
            "grid_auto_flow": null,
            "grid_auto_rows": null,
            "grid_column": null,
            "grid_gap": null,
            "grid_row": null,
            "grid_template_areas": null,
            "grid_template_columns": null,
            "grid_template_rows": null,
            "height": null,
            "justify_content": null,
            "justify_items": null,
            "left": null,
            "margin": null,
            "max_height": null,
            "max_width": null,
            "min_height": null,
            "min_width": null,
            "object_fit": null,
            "object_position": null,
            "order": null,
            "overflow": null,
            "overflow_x": null,
            "overflow_y": null,
            "padding": null,
            "right": null,
            "top": null,
            "visibility": null,
            "width": null
          }
        },
        "24dccf17458f408f8eaaf17a5d4c812a": {
          "model_module": "@jupyter-widgets/controls",
          "model_name": "DescriptionStyleModel",
          "model_module_version": "1.5.0",
          "state": {
            "_model_module": "@jupyter-widgets/controls",
            "_model_module_version": "1.5.0",
            "_model_name": "DescriptionStyleModel",
            "_view_count": null,
            "_view_module": "@jupyter-widgets/base",
            "_view_module_version": "1.2.0",
            "_view_name": "StyleView",
            "description_width": ""
          }
        },
        "c506badc5c904e2d825ded23e160766c": {
          "model_module": "@jupyter-widgets/controls",
          "model_name": "HBoxModel",
          "model_module_version": "1.5.0",
          "state": {
            "_dom_classes": [],
            "_model_module": "@jupyter-widgets/controls",
            "_model_module_version": "1.5.0",
            "_model_name": "HBoxModel",
            "_view_count": null,
            "_view_module": "@jupyter-widgets/controls",
            "_view_module_version": "1.5.0",
            "_view_name": "HBoxView",
            "box_style": "",
            "children": [
              "IPY_MODEL_9c8427081f9847b5a2f94d08e6a9edb5",
              "IPY_MODEL_46046cdad4a04513a2a93d96ccac1f4d",
              "IPY_MODEL_8fb8db29c1344334b13401b9802b2162"
            ],
            "layout": "IPY_MODEL_c97b63eaf48e49bab4713e73b3115616"
          }
        },
        "9c8427081f9847b5a2f94d08e6a9edb5": {
          "model_module": "@jupyter-widgets/controls",
          "model_name": "HTMLModel",
          "model_module_version": "1.5.0",
          "state": {
            "_dom_classes": [],
            "_model_module": "@jupyter-widgets/controls",
            "_model_module_version": "1.5.0",
            "_model_name": "HTMLModel",
            "_view_count": null,
            "_view_module": "@jupyter-widgets/controls",
            "_view_module_version": "1.5.0",
            "_view_name": "HTMLView",
            "description": "",
            "description_tooltip": null,
            "layout": "IPY_MODEL_da86d5c4c8404449b40e2b8fcdb4a880",
            "placeholder": "​",
            "style": "IPY_MODEL_db94771f99d24fa28e86e46d01396af6",
            "value": "100%"
          }
        },
        "46046cdad4a04513a2a93d96ccac1f4d": {
          "model_module": "@jupyter-widgets/controls",
          "model_name": "FloatProgressModel",
          "model_module_version": "1.5.0",
          "state": {
            "_dom_classes": [],
            "_model_module": "@jupyter-widgets/controls",
            "_model_module_version": "1.5.0",
            "_model_name": "FloatProgressModel",
            "_view_count": null,
            "_view_module": "@jupyter-widgets/controls",
            "_view_module_version": "1.5.0",
            "_view_name": "ProgressView",
            "bar_style": "success",
            "description": "",
            "description_tooltip": null,
            "layout": "IPY_MODEL_63d820c7ff9b47f095f255c0a737bdb6",
            "max": 509,
            "min": 0,
            "orientation": "horizontal",
            "style": "IPY_MODEL_c346fd4dc05449f790ebb694decdfc57",
            "value": 509
          }
        },
        "8fb8db29c1344334b13401b9802b2162": {
          "model_module": "@jupyter-widgets/controls",
          "model_name": "HTMLModel",
          "model_module_version": "1.5.0",
          "state": {
            "_dom_classes": [],
            "_model_module": "@jupyter-widgets/controls",
            "_model_module_version": "1.5.0",
            "_model_name": "HTMLModel",
            "_view_count": null,
            "_view_module": "@jupyter-widgets/controls",
            "_view_module_version": "1.5.0",
            "_view_name": "HTMLView",
            "description": "",
            "description_tooltip": null,
            "layout": "IPY_MODEL_322feec896a546baadd0908fa037af22",
            "placeholder": "​",
            "style": "IPY_MODEL_aaedab85edac4e17a84a5fe757036a40",
            "value": " 509/509 [00:27&lt;00:00, 18.90it/s]"
          }
        },
        "c97b63eaf48e49bab4713e73b3115616": {
          "model_module": "@jupyter-widgets/base",
          "model_name": "LayoutModel",
          "model_module_version": "1.2.0",
          "state": {
            "_model_module": "@jupyter-widgets/base",
            "_model_module_version": "1.2.0",
            "_model_name": "LayoutModel",
            "_view_count": null,
            "_view_module": "@jupyter-widgets/base",
            "_view_module_version": "1.2.0",
            "_view_name": "LayoutView",
            "align_content": null,
            "align_items": null,
            "align_self": null,
            "border": null,
            "bottom": null,
            "display": null,
            "flex": null,
            "flex_flow": null,
            "grid_area": null,
            "grid_auto_columns": null,
            "grid_auto_flow": null,
            "grid_auto_rows": null,
            "grid_column": null,
            "grid_gap": null,
            "grid_row": null,
            "grid_template_areas": null,
            "grid_template_columns": null,
            "grid_template_rows": null,
            "height": null,
            "justify_content": null,
            "justify_items": null,
            "left": null,
            "margin": null,
            "max_height": null,
            "max_width": null,
            "min_height": null,
            "min_width": null,
            "object_fit": null,
            "object_position": null,
            "order": null,
            "overflow": null,
            "overflow_x": null,
            "overflow_y": null,
            "padding": null,
            "right": null,
            "top": null,
            "visibility": null,
            "width": null
          }
        },
        "da86d5c4c8404449b40e2b8fcdb4a880": {
          "model_module": "@jupyter-widgets/base",
          "model_name": "LayoutModel",
          "model_module_version": "1.2.0",
          "state": {
            "_model_module": "@jupyter-widgets/base",
            "_model_module_version": "1.2.0",
            "_model_name": "LayoutModel",
            "_view_count": null,
            "_view_module": "@jupyter-widgets/base",
            "_view_module_version": "1.2.0",
            "_view_name": "LayoutView",
            "align_content": null,
            "align_items": null,
            "align_self": null,
            "border": null,
            "bottom": null,
            "display": null,
            "flex": null,
            "flex_flow": null,
            "grid_area": null,
            "grid_auto_columns": null,
            "grid_auto_flow": null,
            "grid_auto_rows": null,
            "grid_column": null,
            "grid_gap": null,
            "grid_row": null,
            "grid_template_areas": null,
            "grid_template_columns": null,
            "grid_template_rows": null,
            "height": null,
            "justify_content": null,
            "justify_items": null,
            "left": null,
            "margin": null,
            "max_height": null,
            "max_width": null,
            "min_height": null,
            "min_width": null,
            "object_fit": null,
            "object_position": null,
            "order": null,
            "overflow": null,
            "overflow_x": null,
            "overflow_y": null,
            "padding": null,
            "right": null,
            "top": null,
            "visibility": null,
            "width": null
          }
        },
        "db94771f99d24fa28e86e46d01396af6": {
          "model_module": "@jupyter-widgets/controls",
          "model_name": "DescriptionStyleModel",
          "model_module_version": "1.5.0",
          "state": {
            "_model_module": "@jupyter-widgets/controls",
            "_model_module_version": "1.5.0",
            "_model_name": "DescriptionStyleModel",
            "_view_count": null,
            "_view_module": "@jupyter-widgets/base",
            "_view_module_version": "1.2.0",
            "_view_name": "StyleView",
            "description_width": ""
          }
        },
        "63d820c7ff9b47f095f255c0a737bdb6": {
          "model_module": "@jupyter-widgets/base",
          "model_name": "LayoutModel",
          "model_module_version": "1.2.0",
          "state": {
            "_model_module": "@jupyter-widgets/base",
            "_model_module_version": "1.2.0",
            "_model_name": "LayoutModel",
            "_view_count": null,
            "_view_module": "@jupyter-widgets/base",
            "_view_module_version": "1.2.0",
            "_view_name": "LayoutView",
            "align_content": null,
            "align_items": null,
            "align_self": null,
            "border": null,
            "bottom": null,
            "display": null,
            "flex": null,
            "flex_flow": null,
            "grid_area": null,
            "grid_auto_columns": null,
            "grid_auto_flow": null,
            "grid_auto_rows": null,
            "grid_column": null,
            "grid_gap": null,
            "grid_row": null,
            "grid_template_areas": null,
            "grid_template_columns": null,
            "grid_template_rows": null,
            "height": null,
            "justify_content": null,
            "justify_items": null,
            "left": null,
            "margin": null,
            "max_height": null,
            "max_width": null,
            "min_height": null,
            "min_width": null,
            "object_fit": null,
            "object_position": null,
            "order": null,
            "overflow": null,
            "overflow_x": null,
            "overflow_y": null,
            "padding": null,
            "right": null,
            "top": null,
            "visibility": null,
            "width": null
          }
        },
        "c346fd4dc05449f790ebb694decdfc57": {
          "model_module": "@jupyter-widgets/controls",
          "model_name": "ProgressStyleModel",
          "model_module_version": "1.5.0",
          "state": {
            "_model_module": "@jupyter-widgets/controls",
            "_model_module_version": "1.5.0",
            "_model_name": "ProgressStyleModel",
            "_view_count": null,
            "_view_module": "@jupyter-widgets/base",
            "_view_module_version": "1.2.0",
            "_view_name": "StyleView",
            "bar_color": null,
            "description_width": ""
          }
        },
        "322feec896a546baadd0908fa037af22": {
          "model_module": "@jupyter-widgets/base",
          "model_name": "LayoutModel",
          "model_module_version": "1.2.0",
          "state": {
            "_model_module": "@jupyter-widgets/base",
            "_model_module_version": "1.2.0",
            "_model_name": "LayoutModel",
            "_view_count": null,
            "_view_module": "@jupyter-widgets/base",
            "_view_module_version": "1.2.0",
            "_view_name": "LayoutView",
            "align_content": null,
            "align_items": null,
            "align_self": null,
            "border": null,
            "bottom": null,
            "display": null,
            "flex": null,
            "flex_flow": null,
            "grid_area": null,
            "grid_auto_columns": null,
            "grid_auto_flow": null,
            "grid_auto_rows": null,
            "grid_column": null,
            "grid_gap": null,
            "grid_row": null,
            "grid_template_areas": null,
            "grid_template_columns": null,
            "grid_template_rows": null,
            "height": null,
            "justify_content": null,
            "justify_items": null,
            "left": null,
            "margin": null,
            "max_height": null,
            "max_width": null,
            "min_height": null,
            "min_width": null,
            "object_fit": null,
            "object_position": null,
            "order": null,
            "overflow": null,
            "overflow_x": null,
            "overflow_y": null,
            "padding": null,
            "right": null,
            "top": null,
            "visibility": null,
            "width": null
          }
        },
        "aaedab85edac4e17a84a5fe757036a40": {
          "model_module": "@jupyter-widgets/controls",
          "model_name": "DescriptionStyleModel",
          "model_module_version": "1.5.0",
          "state": {
            "_model_module": "@jupyter-widgets/controls",
            "_model_module_version": "1.5.0",
            "_model_name": "DescriptionStyleModel",
            "_view_count": null,
            "_view_module": "@jupyter-widgets/base",
            "_view_module_version": "1.2.0",
            "_view_name": "StyleView",
            "description_width": ""
          }
        },
        "d0d419f42aba43669f61b384c31c46fd": {
          "model_module": "@jupyter-widgets/controls",
          "model_name": "HBoxModel",
          "model_module_version": "1.5.0",
          "state": {
            "_dom_classes": [],
            "_model_module": "@jupyter-widgets/controls",
            "_model_module_version": "1.5.0",
            "_model_name": "HBoxModel",
            "_view_count": null,
            "_view_module": "@jupyter-widgets/controls",
            "_view_module_version": "1.5.0",
            "_view_name": "HBoxView",
            "box_style": "",
            "children": [
              "IPY_MODEL_c296c85f90f74de786a322d21eba6075",
              "IPY_MODEL_815c7ff6c7b94cfebf547dee612f10c7",
              "IPY_MODEL_66937253cec14ee78496df35073ecd15"
            ],
            "layout": "IPY_MODEL_6df742b2faeb48b182f205d4b1a44017"
          }
        },
        "c296c85f90f74de786a322d21eba6075": {
          "model_module": "@jupyter-widgets/controls",
          "model_name": "HTMLModel",
          "model_module_version": "1.5.0",
          "state": {
            "_dom_classes": [],
            "_model_module": "@jupyter-widgets/controls",
            "_model_module_version": "1.5.0",
            "_model_name": "HTMLModel",
            "_view_count": null,
            "_view_module": "@jupyter-widgets/controls",
            "_view_module_version": "1.5.0",
            "_view_name": "HTMLView",
            "description": "",
            "description_tooltip": null,
            "layout": "IPY_MODEL_7d796bb303864b49aab084b3c790fd81",
            "placeholder": "​",
            "style": "IPY_MODEL_fcf8ee5928d949eb9e10bfb236fb8a63",
            "value": "100%"
          }
        },
        "815c7ff6c7b94cfebf547dee612f10c7": {
          "model_module": "@jupyter-widgets/controls",
          "model_name": "FloatProgressModel",
          "model_module_version": "1.5.0",
          "state": {
            "_dom_classes": [],
            "_model_module": "@jupyter-widgets/controls",
            "_model_module_version": "1.5.0",
            "_model_name": "FloatProgressModel",
            "_view_count": null,
            "_view_module": "@jupyter-widgets/controls",
            "_view_module_version": "1.5.0",
            "_view_name": "ProgressView",
            "bar_style": "success",
            "description": "",
            "description_tooltip": null,
            "layout": "IPY_MODEL_b920e19c2c9a42e295bd36606aa819b0",
            "max": 502,
            "min": 0,
            "orientation": "horizontal",
            "style": "IPY_MODEL_7e0021e07ca640f28109f9009de48cc2",
            "value": 502
          }
        },
        "66937253cec14ee78496df35073ecd15": {
          "model_module": "@jupyter-widgets/controls",
          "model_name": "HTMLModel",
          "model_module_version": "1.5.0",
          "state": {
            "_dom_classes": [],
            "_model_module": "@jupyter-widgets/controls",
            "_model_module_version": "1.5.0",
            "_model_name": "HTMLModel",
            "_view_count": null,
            "_view_module": "@jupyter-widgets/controls",
            "_view_module_version": "1.5.0",
            "_view_name": "HTMLView",
            "description": "",
            "description_tooltip": null,
            "layout": "IPY_MODEL_343e4db770e7435a99aa385c7671b28e",
            "placeholder": "​",
            "style": "IPY_MODEL_c9149873e8f443a28f618dfc09e245c9",
            "value": " 502/502 [07:44&lt;00:00,  1.17it/s]"
          }
        },
        "6df742b2faeb48b182f205d4b1a44017": {
          "model_module": "@jupyter-widgets/base",
          "model_name": "LayoutModel",
          "model_module_version": "1.2.0",
          "state": {
            "_model_module": "@jupyter-widgets/base",
            "_model_module_version": "1.2.0",
            "_model_name": "LayoutModel",
            "_view_count": null,
            "_view_module": "@jupyter-widgets/base",
            "_view_module_version": "1.2.0",
            "_view_name": "LayoutView",
            "align_content": null,
            "align_items": null,
            "align_self": null,
            "border": null,
            "bottom": null,
            "display": null,
            "flex": null,
            "flex_flow": null,
            "grid_area": null,
            "grid_auto_columns": null,
            "grid_auto_flow": null,
            "grid_auto_rows": null,
            "grid_column": null,
            "grid_gap": null,
            "grid_row": null,
            "grid_template_areas": null,
            "grid_template_columns": null,
            "grid_template_rows": null,
            "height": null,
            "justify_content": null,
            "justify_items": null,
            "left": null,
            "margin": null,
            "max_height": null,
            "max_width": null,
            "min_height": null,
            "min_width": null,
            "object_fit": null,
            "object_position": null,
            "order": null,
            "overflow": null,
            "overflow_x": null,
            "overflow_y": null,
            "padding": null,
            "right": null,
            "top": null,
            "visibility": null,
            "width": null
          }
        },
        "7d796bb303864b49aab084b3c790fd81": {
          "model_module": "@jupyter-widgets/base",
          "model_name": "LayoutModel",
          "model_module_version": "1.2.0",
          "state": {
            "_model_module": "@jupyter-widgets/base",
            "_model_module_version": "1.2.0",
            "_model_name": "LayoutModel",
            "_view_count": null,
            "_view_module": "@jupyter-widgets/base",
            "_view_module_version": "1.2.0",
            "_view_name": "LayoutView",
            "align_content": null,
            "align_items": null,
            "align_self": null,
            "border": null,
            "bottom": null,
            "display": null,
            "flex": null,
            "flex_flow": null,
            "grid_area": null,
            "grid_auto_columns": null,
            "grid_auto_flow": null,
            "grid_auto_rows": null,
            "grid_column": null,
            "grid_gap": null,
            "grid_row": null,
            "grid_template_areas": null,
            "grid_template_columns": null,
            "grid_template_rows": null,
            "height": null,
            "justify_content": null,
            "justify_items": null,
            "left": null,
            "margin": null,
            "max_height": null,
            "max_width": null,
            "min_height": null,
            "min_width": null,
            "object_fit": null,
            "object_position": null,
            "order": null,
            "overflow": null,
            "overflow_x": null,
            "overflow_y": null,
            "padding": null,
            "right": null,
            "top": null,
            "visibility": null,
            "width": null
          }
        },
        "fcf8ee5928d949eb9e10bfb236fb8a63": {
          "model_module": "@jupyter-widgets/controls",
          "model_name": "DescriptionStyleModel",
          "model_module_version": "1.5.0",
          "state": {
            "_model_module": "@jupyter-widgets/controls",
            "_model_module_version": "1.5.0",
            "_model_name": "DescriptionStyleModel",
            "_view_count": null,
            "_view_module": "@jupyter-widgets/base",
            "_view_module_version": "1.2.0",
            "_view_name": "StyleView",
            "description_width": ""
          }
        },
        "b920e19c2c9a42e295bd36606aa819b0": {
          "model_module": "@jupyter-widgets/base",
          "model_name": "LayoutModel",
          "model_module_version": "1.2.0",
          "state": {
            "_model_module": "@jupyter-widgets/base",
            "_model_module_version": "1.2.0",
            "_model_name": "LayoutModel",
            "_view_count": null,
            "_view_module": "@jupyter-widgets/base",
            "_view_module_version": "1.2.0",
            "_view_name": "LayoutView",
            "align_content": null,
            "align_items": null,
            "align_self": null,
            "border": null,
            "bottom": null,
            "display": null,
            "flex": null,
            "flex_flow": null,
            "grid_area": null,
            "grid_auto_columns": null,
            "grid_auto_flow": null,
            "grid_auto_rows": null,
            "grid_column": null,
            "grid_gap": null,
            "grid_row": null,
            "grid_template_areas": null,
            "grid_template_columns": null,
            "grid_template_rows": null,
            "height": null,
            "justify_content": null,
            "justify_items": null,
            "left": null,
            "margin": null,
            "max_height": null,
            "max_width": null,
            "min_height": null,
            "min_width": null,
            "object_fit": null,
            "object_position": null,
            "order": null,
            "overflow": null,
            "overflow_x": null,
            "overflow_y": null,
            "padding": null,
            "right": null,
            "top": null,
            "visibility": null,
            "width": null
          }
        },
        "7e0021e07ca640f28109f9009de48cc2": {
          "model_module": "@jupyter-widgets/controls",
          "model_name": "ProgressStyleModel",
          "model_module_version": "1.5.0",
          "state": {
            "_model_module": "@jupyter-widgets/controls",
            "_model_module_version": "1.5.0",
            "_model_name": "ProgressStyleModel",
            "_view_count": null,
            "_view_module": "@jupyter-widgets/base",
            "_view_module_version": "1.2.0",
            "_view_name": "StyleView",
            "bar_color": null,
            "description_width": ""
          }
        },
        "343e4db770e7435a99aa385c7671b28e": {
          "model_module": "@jupyter-widgets/base",
          "model_name": "LayoutModel",
          "model_module_version": "1.2.0",
          "state": {
            "_model_module": "@jupyter-widgets/base",
            "_model_module_version": "1.2.0",
            "_model_name": "LayoutModel",
            "_view_count": null,
            "_view_module": "@jupyter-widgets/base",
            "_view_module_version": "1.2.0",
            "_view_name": "LayoutView",
            "align_content": null,
            "align_items": null,
            "align_self": null,
            "border": null,
            "bottom": null,
            "display": null,
            "flex": null,
            "flex_flow": null,
            "grid_area": null,
            "grid_auto_columns": null,
            "grid_auto_flow": null,
            "grid_auto_rows": null,
            "grid_column": null,
            "grid_gap": null,
            "grid_row": null,
            "grid_template_areas": null,
            "grid_template_columns": null,
            "grid_template_rows": null,
            "height": null,
            "justify_content": null,
            "justify_items": null,
            "left": null,
            "margin": null,
            "max_height": null,
            "max_width": null,
            "min_height": null,
            "min_width": null,
            "object_fit": null,
            "object_position": null,
            "order": null,
            "overflow": null,
            "overflow_x": null,
            "overflow_y": null,
            "padding": null,
            "right": null,
            "top": null,
            "visibility": null,
            "width": null
          }
        },
        "c9149873e8f443a28f618dfc09e245c9": {
          "model_module": "@jupyter-widgets/controls",
          "model_name": "DescriptionStyleModel",
          "model_module_version": "1.5.0",
          "state": {
            "_model_module": "@jupyter-widgets/controls",
            "_model_module_version": "1.5.0",
            "_model_name": "DescriptionStyleModel",
            "_view_count": null,
            "_view_module": "@jupyter-widgets/base",
            "_view_module_version": "1.2.0",
            "_view_name": "StyleView",
            "description_width": ""
          }
        }
      }
    }
  },
  "nbformat": 4,
  "nbformat_minor": 0
}
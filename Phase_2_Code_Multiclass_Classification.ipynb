{
  "cells": [
    {
      "cell_type": "markdown",
      "metadata": {
        "id": "ID7VBHALVeoM"
      },
      "source": [
        "# Baby Cry Classification using Machine Learning Algorithms Phase 2"
      ]
    },
    {
      "cell_type": "markdown",
      "metadata": {
        "id": "uI-cAETgZ58s"
      },
      "source": [
        "## Overview"
      ]
    },
    {
      "cell_type": "markdown",
      "metadata": {
        "id": "GIm0QrFJVeoP"
      },
      "source": [
        "**Project Goal**: The entire project (1st & 2nd phases) aims to classify baby cry reason based on the acoustic cry signals and babies' demographic features using machine learning techniques. The 2nd phase of our research will focus on building a new classifier based on  the insight from the first phase to achieve better F1 score and classification accuracy."
      ]
    },
    {
      "cell_type": "markdown",
      "source": [
        "**Summary of Codebook**: In this codebook, we design a process to extract the Local Binary Pattern (LBP) features and Histogram of Oriented Gradient features from spectrogram images, and extract acoustic features MFCC, LPCC, F1, F2, and F3 from audio files. The classification algorithms include KNN, Random Forest, SVM, XGBoost, and Fuzzy SVM for Class Imbalanced Learning."
      ],
      "metadata": {
        "id": "U2dzbvvMxg-J"
      }
    },
    {
      "cell_type": "markdown",
      "metadata": {
        "id": "jZtgOxF4VeoP"
      },
      "source": [
        "**Inputs**:\n",
        "*   Visual Features: LBP and HOG features extracted from Spectrogram images.\n",
        "*   Acoustic Features: MFCC, LPCC, F1,F2,F3 features extracted from audios.\n",
        "*   Combined feature set that includes both visual features and acoustic features.\n",
        "\n",
        "\n",
        "\n",
        "\n",
        "\n",
        "\n",
        "\n"
      ]
    },
    {
      "cell_type": "markdown",
      "metadata": {
        "id": "VbsTUloWVeoP"
      },
      "source": [
        "**Multi Class Classification Outputs**: Labels of cry reasons:\n",
        "*   belly pain\n",
        "*   burping\n",
        "*   discomfort\n",
        "*   hunger\n",
        "*   tiredness\n",
        "\n",
        "\n",
        "\n",
        "\n",
        "\n",
        "\n",
        "\n",
        "\n"
      ]
    },
    {
      "cell_type": "markdown",
      "metadata": {
        "id": "Di57lYVBR0WO"
      },
      "source": [
        "### Structure of Code\n",
        "\n",
        "        I. Install and Import Packages\n",
        "\n",
        "        II. Load Dataset- audio files\n",
        "\n",
        "        III. Exploratory Data Analysis\n",
        "\n",
        "        IV. Pre-processing and Feature Extraction\n",
        "\n",
        "        V. PCA/Feature Selection\n",
        "\n",
        "        VI. Build Classifier\n",
        "\n",
        "        VII. Run all models and Report Performance"
      ]
    },
    {
      "cell_type": "code",
      "execution_count": null,
      "metadata": {
        "id": "N-87MNPnKrpu"
      },
      "outputs": [],
      "source": [
        "# Please change the file path to where you have the input data saved.\n",
        "project_path = \"/content/gdrive/MyDrive/DS5500_Data/\""
      ]
    },
    {
      "cell_type": "markdown",
      "metadata": {
        "id": "Gz-CGiDkasP6"
      },
      "source": [
        "## I. Install and Import packages"
      ]
    },
    {
      "cell_type": "code",
      "source": [
        "!pip install pydub praat-parselmouth"
      ],
      "metadata": {
        "colab": {
          "base_uri": "https://localhost:8080/"
        },
        "id": "acMU1AUHI5ci",
        "outputId": "71519fb5-f928-4b55-df44-ce39326cbd32"
      },
      "execution_count": null,
      "outputs": [
        {
          "output_type": "stream",
          "name": "stdout",
          "text": [
            "Collecting pydub\n",
            "  Downloading pydub-0.25.1-py2.py3-none-any.whl (32 kB)\n",
            "Collecting praat-parselmouth\n",
            "  Downloading praat_parselmouth-0.4.3-cp310-cp310-manylinux_2_12_x86_64.manylinux2010_x86_64.whl (10.7 MB)\n",
            "\u001b[2K     \u001b[90m━━━━━━━━━━━━━━━━━━━━━━━━━━━━━━━━━━━━━━━━\u001b[0m \u001b[32m10.7/10.7 MB\u001b[0m \u001b[31m58.0 MB/s\u001b[0m eta \u001b[36m0:00:00\u001b[0m\n",
            "\u001b[?25hRequirement already satisfied: numpy>=1.7.0 in /usr/local/lib/python3.10/dist-packages (from praat-parselmouth) (1.22.4)\n",
            "Installing collected packages: pydub, praat-parselmouth\n",
            "Successfully installed praat-parselmouth-0.4.3 pydub-0.25.1\n"
          ]
        }
      ]
    },
    {
      "cell_type": "code",
      "source": [
        "!pip install pydub"
      ],
      "metadata": {
        "colab": {
          "base_uri": "https://localhost:8080/"
        },
        "id": "_sRKiBu6I7Tu",
        "outputId": "642a8cfc-48f5-4e0a-99f8-1a62396be653"
      },
      "execution_count": null,
      "outputs": [
        {
          "output_type": "stream",
          "name": "stdout",
          "text": [
            "Requirement already satisfied: pydub in /usr/local/lib/python3.10/dist-packages (0.25.1)\n"
          ]
        }
      ]
    },
    {
      "cell_type": "code",
      "source": [
        "! pip install -U tensorflow-addons"
      ],
      "metadata": {
        "colab": {
          "base_uri": "https://localhost:8080/"
        },
        "id": "MWeD6E8AI9ym",
        "outputId": "59ad2685-414f-443f-bbec-7c482eab50ff"
      },
      "execution_count": null,
      "outputs": [
        {
          "output_type": "stream",
          "name": "stdout",
          "text": [
            "Collecting tensorflow-addons\n",
            "  Downloading tensorflow_addons-0.21.0-cp310-cp310-manylinux_2_17_x86_64.manylinux2014_x86_64.whl (612 kB)\n",
            "\u001b[2K     \u001b[90m━━━━━━━━━━━━━━━━━━━━━━━━━━━━━━━━━━━━━━━\u001b[0m \u001b[32m612.1/612.1 kB\u001b[0m \u001b[31m8.1 MB/s\u001b[0m eta \u001b[36m0:00:00\u001b[0m\n",
            "\u001b[?25hRequirement already satisfied: packaging in /usr/local/lib/python3.10/dist-packages (from tensorflow-addons) (23.1)\n",
            "Collecting typeguard<3.0.0,>=2.7 (from tensorflow-addons)\n",
            "  Downloading typeguard-2.13.3-py3-none-any.whl (17 kB)\n",
            "Installing collected packages: typeguard, tensorflow-addons\n",
            "Successfully installed tensorflow-addons-0.21.0 typeguard-2.13.3\n"
          ]
        }
      ]
    },
    {
      "cell_type": "code",
      "source": [
        "!pip install spafe"
      ],
      "metadata": {
        "colab": {
          "base_uri": "https://localhost:8080/"
        },
        "id": "dEJzVEyExjyv",
        "outputId": "597ff70e-b3d2-4356-8e6e-a25336c5d329"
      },
      "execution_count": null,
      "outputs": [
        {
          "output_type": "stream",
          "name": "stdout",
          "text": [
            "Collecting spafe\n",
            "  Downloading spafe-0.3.2-py3-none-any.whl (93 kB)\n",
            "\u001b[?25l     \u001b[90m━━━━━━━━━━━━━━━━━━━━━━━━━━━━━━━━━━━━━━━━\u001b[0m \u001b[32m0.0/93.5 kB\u001b[0m \u001b[31m?\u001b[0m eta \u001b[36m-:--:--\u001b[0m\r\u001b[2K     \u001b[91m━━━━━━━━━━━━━━━━━━━━━━━━━━━━━━━━━━━━━━━\u001b[0m\u001b[90m╺\u001b[0m \u001b[32m92.2/93.5 kB\u001b[0m \u001b[31m2.7 MB/s\u001b[0m eta \u001b[36m0:00:01\u001b[0m\r\u001b[2K     \u001b[90m━━━━━━━━━━━━━━━━━━━━━━━━━━━━━━━━━━━━━━━━\u001b[0m \u001b[32m93.5/93.5 kB\u001b[0m \u001b[31m2.2 MB/s\u001b[0m eta \u001b[36m0:00:00\u001b[0m\n",
            "\u001b[?25hRequirement already satisfied: numpy>=1.21 in /usr/local/lib/python3.10/dist-packages (from spafe) (1.22.4)\n",
            "Requirement already satisfied: scipy>=1.7.3 in /usr/local/lib/python3.10/dist-packages (from spafe) (1.10.1)\n",
            "Requirement already satisfied: typing-extensions in /usr/local/lib/python3.10/dist-packages (from spafe) (4.7.1)\n",
            "Installing collected packages: spafe\n",
            "Successfully installed spafe-0.3.2\n"
          ]
        }
      ]
    },
    {
      "cell_type": "code",
      "execution_count": null,
      "metadata": {
        "id": "EqvWsuXGVeoQ"
      },
      "outputs": [],
      "source": [
        "# load required packages\n",
        "import math\n",
        "import os\n",
        "import os\n",
        "import cv2\n",
        "from skimage.feature import local_binary_pattern\n",
        "import matplotlib\n",
        "import matplotlib.pyplot as plt\n",
        "import librosa\n",
        "import librosa.display\n",
        "import wave\n",
        "import pandas as pd\n",
        "import numpy as np\n",
        "import pydub\n",
        "import parselmouth\n",
        "from parselmouth import praat\n",
        "from scipy.io.wavfile import read\n",
        "from pydub import AudioSegment\n",
        "from pydub.utils import make_chunks\n",
        "from os import walk\n",
        "from os import listdir\n",
        "from os.path import isfile, join\n",
        "import random\n",
        "import seaborn as sns\n",
        "%matplotlib inline\n",
        "from statistics import mean\n",
        "from matplotlib import pyplot, cm\n",
        "from sklearn.model_selection import train_test_split,cross_validate,RepeatedStratifiedKFold\n",
        "from sklearn.metrics import precision_score, recall_score, accuracy_score,precision_recall_fscore_support\n",
        "from sklearn.metrics import ConfusionMatrixDisplay, multilabel_confusion_matrix\n",
        "from sklearn.preprocessing import MinMaxScaler,StandardScaler,normalize,LabelEncoder\n",
        "from sklearn.decomposition import PCA\n",
        "from sklearn.ensemble import RandomForestClassifier, RandomForestRegressor\n",
        "from sklearn.model_selection import RandomizedSearchCV,StratifiedKFold,GridSearchCV, StratifiedKFold\n",
        "from sklearn.linear_model import LogisticRegression\n",
        "from sklearn.neighbors import KNeighborsClassifier\n",
        "from imblearn.over_sampling import SMOTE,ADASYN,RandomOverSampler,BorderlineSMOTE\n",
        "from skimage.io import imread\n",
        "from skimage.transform import resize\n",
        "from skimage.feature import hog\n",
        "from skimage import exposure\n",
        "import sklearn\n",
        "from imblearn.ensemble import BalancedRandomForestClassifier\n",
        "from collections import Counter\n",
        "from numpy.linalg import eigh\n",
        "from sklearn.svm import SVC\n",
        "from tensorflow import keras\n",
        "from keras.models import Sequential, load_model\n",
        "from keras.layers import Dense, Dropout, Activation, Flatten, Layer, Convolution2D, Conv2D, MaxPooling2D, GlobalAveragePooling2D, Embedding, Input, LayerNormalization, MultiHeadAttention\n",
        "from keras.layers import MultiHeadAttention as MHA\n",
        "from keras.optimizers import Adam\n",
        "from keras.utils import np_utils\n",
        "from sklearn import metrics\n",
        "from keras.callbacks import ModelCheckpoint\n",
        "from datetime import datetime\n",
        "from keras.utils import to_categorical\n",
        "from PIL import Image\n",
        "from IPython.display import display\n",
        "from keras.utils import to_categorical\n",
        "import tensorflow as tf\n",
        "from tensorflow.keras import layers\n",
        "import tensorflow_addons as tfa\n",
        "from tensorflow_addons.optimizers import AdamW\n",
        "from tqdm.auto import tqdm\n",
        "import soundfile as sf\n",
        "import xgboost as xgb\n",
        "from sklearn.utils.class_weight import compute_sample_weight\n",
        "from sklearn.feature_selection import RFECV"
      ]
    },
    {
      "cell_type": "markdown",
      "metadata": {
        "id": "Jnm25l7XVeoS"
      },
      "source": [
        "## II. Load Dataset- audio files"
      ]
    },
    {
      "cell_type": "markdown",
      "metadata": {
        "id": "9h0S2sBOVeoS"
      },
      "source": [
        "In this phase, we plan to record babies’ cries associated with belly pain, burping, discomfort, and tiredness and combine these new recordings with the Donate-A-Cry Dataset to build a new dataset for research use. The Donate-A-Cry corpus dataset consists of 457 children's cry audio files along with metadata for babies’ demographic information and cry reasons."
      ]
    },
    {
      "cell_type": "code",
      "execution_count": null,
      "metadata": {
        "colab": {
          "base_uri": "https://localhost:8080/"
        },
        "id": "G3vbYDWGsaM9",
        "outputId": "a55c2be8-bfce-4b8c-dfe0-0844faf97310"
      },
      "outputs": [
        {
          "output_type": "stream",
          "name": "stdout",
          "text": [
            "Mounted at /content/gdrive\n"
          ]
        }
      ],
      "source": [
        "# mount google drive to access files and folders\n",
        "from google.colab import drive\n",
        "drive.mount(\"/content/gdrive\")"
      ]
    },
    {
      "cell_type": "code",
      "source": [
        "# Convert new iphone recorded file to wave form and save them into the input data folder\n",
        "file_path_df = pd.DataFrame(columns=['file_name','audio_type'])\n",
        "sub_folder_name = [\"belly_pain\",\"burping\",\"discomfort\",\"tired\",\"hungry\"]\n",
        "\n",
        "# Generate a datafram that contains the filename and locations for all the new recordings in the new_recordings folder.\n",
        "for t in sub_folder_name:\n",
        "    wav_files = [project_path + \"new_recordings/\" +t+\"/\"+ f for f in os.listdir(project_path +\"/new_recordings/\"+t) if f.endswith(\".m4a\")]\n",
        "    short_file_names = [f.split(\".\")[0] for f in os.listdir(project_path +\"/new_recordings/\"+t) if f.endswith(\".m4a\")]\n",
        "    temp_df = pd.DataFrame({ \"file_name\" : wav_files,\n",
        "                            \"short_file_name\" : short_file_names,\n",
        "                            \"audio_type\" : t})\n",
        "    file_path_df = pd.concat([file_path_df, temp_df], ignore_index=True)\n",
        "\n",
        "label_dict = {\n",
        "    \"belly_pain\": \"bp\",\n",
        "    \"burping\": \"bu\",\n",
        "    \"discomfort\": \"dc\",\n",
        "    \"hungry\": \"hu\",\n",
        "    \"tired\": \"ti\"\n",
        "}\n",
        "\n",
        "# Go through all the files in the new_recordings folder.\n",
        "# If there is new file that doesn't exist in the audio folder as a wav file, we convert it to a wav file and then save it to the audio folder.\n",
        "for i in range(len(file_path_df)):\n",
        "  m4a_file = file_path_df['file_name'][i]\n",
        "  audio_path = project_path+f\"/audio/{file_path_df['audio_type'][i]}/\"+file_path_df['short_file_name'][i] + \".wav\"\n",
        "  if not os.path.isfile(audio_path):\n",
        "    track = AudioSegment.from_file(m4a_file,  format= 'm4a')\n",
        "    print(m4a_file)\n",
        "    track.export(project_path+f\"/new_recordings_wav/{file_path_df['audio_type'][i]}/\"+file_path_df['short_file_name'][i] + \".wav\", format='wav')\n",
        "    track.export(project_path+f\"/audio/{file_path_df['audio_type'][i]}/\"+file_path_df['short_file_name'][i] + \".wav\", format='wav')"
      ],
      "metadata": {
        "id": "FtOhFCnkguLE"
      },
      "execution_count": null,
      "outputs": []
    },
    {
      "cell_type": "code",
      "execution_count": null,
      "metadata": {
        "id": "QFleZNIbVeoS"
      },
      "outputs": [],
      "source": [
        "# create a data frame that contains all file path of audio files in the audio folder and associated label for cry reason\n",
        "dic_path = os.getcwd()\n",
        "sub_folder_name = [\"belly_pain\",\"burping\",\"discomfort\",\"hungry\",\"tired\"]\n",
        "file_path_df = pd.DataFrame(columns=['file_name','audio_type'])\n",
        "for t in sub_folder_name:\n",
        "    wav_files = [project_path+\"audio/\"+t+\"/\"+ f for f in os.listdir(project_path+\"audio/\"+t) if f.endswith(\".wav\")]\n",
        "    temp_df = pd.DataFrame({ \"file_name\" : wav_files, \"audio_type\" : t})\n",
        "    file_path_df = pd.concat([file_path_df, temp_df], ignore_index=True)"
      ]
    },
    {
      "cell_type": "markdown",
      "metadata": {
        "id": "mJIEIWiwVeoT"
      },
      "source": [
        "## III. Exploratory Data Analysis"
      ]
    },
    {
      "cell_type": "code",
      "execution_count": null,
      "metadata": {
        "id": "87lAFiTMVeoT"
      },
      "outputs": [],
      "source": [
        "# extract length of file, age and gender of babies from the files and append to the dataframe\n",
        "\n",
        "def calculate_audio_length(file_path):\n",
        "    # load audio file using file path and calculate the length of audio in minutes\n",
        "    y,sr = librosa.load(file_path)\n",
        "    length = len(y)/sr\n",
        "    return length\n",
        "\n",
        "def extract_gender(file_path):\n",
        "    # extract information on gender from file name\n",
        "    g = file_path.split(\"-\")[-3]\n",
        "    if g == \"m\":\n",
        "        return \"Male\"\n",
        "    else: return \"Female\"\n",
        "\n",
        "def extract_age(file_path):\n",
        "    # extract information on age in month from file name\n",
        "    a = int(file_path.split(\"-\")[-2])\n",
        "    return a\n",
        "\n",
        "def extract_audio_index(file_path):\n",
        "  # extract audio index from file name\n",
        "    audio_index = int(file_path.split(\"/\")[-1].split(\"-\")[0])\n",
        "    return audio_index\n",
        "\n",
        "def identify_source(audio_index):\n",
        "  # extract information on age in month from file name\n",
        "  if audio_index <=456:\n",
        "    return \"Donate-A-Cry Dataset\"\n",
        "  else:\n",
        "    return \"New Recordings\"\n",
        "\n",
        "def identify_binary_cry_type(cry_reason):\n",
        "  if cry_reason == \"hungry\":\n",
        "    return \"Hungry\"\n",
        "  else:\n",
        "    return \"Not Hungry\""
      ]
    },
    {
      "cell_type": "code",
      "execution_count": null,
      "metadata": {
        "id": "ThjKCjQOVeoU"
      },
      "outputs": [],
      "source": [
        "# Extract the demographic information from the audio file names\n",
        "#file_path_df[\"length\"] = file_path_df[\"file_name\"].map(lambda x:calculate_audio_length(x))\n",
        "file_path_df[\"gender\"] = file_path_df[\"file_name\"].map(lambda x:extract_gender(x))\n",
        "file_path_df[\"age_in_months\"] = file_path_df[\"file_name\"].map(lambda x:extract_age(x))\n",
        "file_path_df[\"audio_index\"] = file_path_df[\"file_name\"].map(lambda x:extract_audio_index(x))\n",
        "file_path_df[\"source\"] = file_path_df[\"audio_index\"].map(lambda x:identify_source(x))\n",
        "file_path_df[\"binary_type\"] = file_path_df[\"audio_type\"].map(lambda x:identify_binary_cry_type(x))"
      ]
    },
    {
      "cell_type": "markdown",
      "metadata": {
        "id": "icp0U1P9VeoU"
      },
      "source": [
        "### Age"
      ]
    },
    {
      "cell_type": "code",
      "execution_count": null,
      "metadata": {
        "colab": {
          "base_uri": "https://localhost:8080/"
        },
        "id": "0D_QeKW-VeoV",
        "outputId": "ddd1f653-96d8-4887-99ed-88cea23f6276"
      },
      "outputs": [
        {
          "output_type": "execute_result",
          "data": {
            "text/plain": [
              "max       72.0\n",
              "median    26.0\n",
              "min        4.0\n",
              "Name: age_in_months, dtype: float64"
            ]
          },
          "metadata": {},
          "execution_count": 13
        }
      ],
      "source": [
        "# Get the statistics on age of babies\n",
        "file_path_df['age_in_months'].apply([\"max\",\"median\",\"min\"])"
      ]
    },
    {
      "cell_type": "code",
      "execution_count": null,
      "metadata": {
        "colab": {
          "base_uri": "https://localhost:8080/",
          "height": 492
        },
        "id": "zQRMw_MrVeoV",
        "outputId": "0fdc63ee-62e7-4e8d-9917-34dfa886b712"
      },
      "outputs": [
        {
          "output_type": "display_data",
          "data": {
            "text/plain": [
              "<Figure size 640x480 with 1 Axes>"
            ],
            "image/png": "[encoded data removed]"
          },
          "metadata": {}
        }
      ],
      "source": [
        "# Create list of data according to different gender\n",
        "x1 = list(file_path_df[file_path_df['gender'] == \"Male\"]['age_in_months'])\n",
        "x2 = list(file_path_df[file_path_df['gender'] == \"Female\"]['age_in_months'])\n",
        "\n",
        "colors=['mediumturquoise', 'pink']\n",
        "names=['Male', 'Female']\n",
        "\n",
        "plt.hist([x1, x2], color=colors, label=names, stacked = True)\n",
        "plt.grid(color='#9ba3a3', linestyle='--', linewidth=1, axis='y', alpha=0.7)\n",
        "plt.xlabel('Age in Months', fontsize = 15)\n",
        "plt.ylabel('Number of Audio Files', fontsize = 15)\n",
        "plt.title('Number of Audio Files by Age in Months',fontsize = 20)\n",
        "plt.legend(title='Gender', fontsize = 20)\n",
        "plt.xticks(fontsize = 15)\n",
        "plt.show()"
      ]
    },
    {
      "cell_type": "markdown",
      "metadata": {
        "id": "632JPyyjVeoW"
      },
      "source": [
        "### Cry Reason"
      ]
    },
    {
      "cell_type": "code",
      "execution_count": null,
      "metadata": {
        "colab": {
          "base_uri": "https://localhost:8080/",
          "height": 489
        },
        "id": "LyqOHyoQVeoW",
        "outputId": "a81d15c8-fa61-4a86-cbd3-e883180ed3ab"
      },
      "outputs": [
        {
          "output_type": "display_data",
          "data": {
            "text/plain": [
              "<Figure size 640x480 with 1 Axes>"
            ],
            "image/png": "[encoded data removed]"
          },
          "metadata": {}
        }
      ],
      "source": [
        "# Plot number of file audios by cry reason and souce\n",
        "count_by_type = pd.DataFrame(file_path_df.groupby(['audio_type','source']).size()).rename(columns={0: \"count\"})\n",
        "count_by_type.reset_index(inplace=True)\n",
        "statistics = pd.pivot_table(count_by_type, values='count', index='audio_type', columns='source',fill_value=0)\n",
        "groups = statistics.index.tolist()\n",
        "values1 = statistics['Donate-A-Cry Dataset']\n",
        "values2 = statistics['New Recordings']\n",
        "fig, ax = plt.subplots()\n",
        "ax.bar(groups, values1, color = \"salmon\", alpha = 0.5, label = \"Donate-A-Cry Dataset\")\n",
        "ax.bar(groups, values2, bottom = values1, color = \"blue\", alpha = 0.5, label = \"New Recordings\")\n",
        "plt.xlabel('Cry Reason', fontsize = 14)\n",
        "plt.ylabel('Number of Audio Files', fontsize = 15)\n",
        "plt.title('Number of Audio Files by Cry Reason', fontsize = 20)\n",
        "ax.legend(loc=2)\n",
        "plt.xticks(fontsize = 12)\n",
        "plt.show()\n"
      ]
    },
    {
      "cell_type": "code",
      "source": [
        "# Plot number of file audios by cry reason and souce\n",
        "count_by_type = pd.DataFrame(file_path_df.groupby(['binary_type','source']).size()).rename(columns={0: \"count\"})\n",
        "count_by_type.reset_index(inplace=True)\n",
        "statistics = pd.pivot_table(count_by_type, values='count', index='binary_type', columns='source',fill_value=0)\n",
        "groups = statistics.index.tolist()\n",
        "values1 = statistics['Donate-A-Cry Dataset']\n",
        "values2 = statistics['New Recordings']\n",
        "fig, ax = plt.subplots()\n",
        "ax.bar(groups, values1, color = \"salmon\", alpha = 0.5, label = \"Donate-A-Cry Dataset\")\n",
        "ax.bar(groups, values2, bottom = values1, color = \"blue\", alpha = 0.5, label = \"New Recordings\")\n",
        "plt.xlabel('Cry Reason', fontsize = 14)\n",
        "plt.ylabel('Number of Audio Files', fontsize = 15)\n",
        "plt.title('Number of Audio Files by Cry Reason', fontsize = 20)\n",
        "ax.legend(loc=1)\n",
        "plt.xticks(fontsize = 12)\n",
        "plt.show()"
      ],
      "metadata": {
        "colab": {
          "base_uri": "https://localhost:8080/",
          "height": 489
        },
        "id": "HNZBUcF3AkJ4",
        "outputId": "1fe017a7-3cb9-4c88-d518-e1952ed7fac7"
      },
      "execution_count": null,
      "outputs": [
        {
          "output_type": "display_data",
          "data": {
            "text/plain": [
              "<Figure size 640x480 with 1 Axes>"
            ],
            "image/png": "[encoded data removed]"
          },
          "metadata": {}
        }
      ]
    },
    {
      "cell_type": "code",
      "source": [
        "file_path_df[file_path_df['binary_type']==\"Hungry\"].shape[0]/file_path_df.shape[0]"
      ],
      "metadata": {
        "colab": {
          "base_uri": "https://localhost:8080/"
        },
        "id": "Aa7EMbtRBZlZ",
        "outputId": "69a52c55-776f-47e9-fb13-7968ae491ad0"
      },
      "execution_count": null,
      "outputs": [
        {
          "output_type": "execute_result",
          "data": {
            "text/plain": [
              "0.7609561752988048"
            ]
          },
          "metadata": {},
          "execution_count": 17
        }
      ]
    },
    {
      "cell_type": "markdown",
      "metadata": {
        "id": "xwiB4px0VeoW"
      },
      "source": [
        "## IV. Pre-processing and Feature Extraction"
      ]
    },
    {
      "cell_type": "markdown",
      "source": [
        "### A. Extract Visual Features from Spectrogram Images"
      ],
      "metadata": {
        "id": "KlJ1eKPn0Rgw"
      }
    },
    {
      "cell_type": "markdown",
      "source": [
        "**Local Binary Pattern (LBP)** was introduced by Ojala et al. in 1994, which characterizes an image with local spatial patterns and grayscale contrast in the image with three main steps.\n"
      ],
      "metadata": {
        "id": "pFrpKsHMKmpR"
      }
    },
    {
      "cell_type": "markdown",
      "metadata": {
        "id": "ALWGbdIuVeoW"
      },
      "source": [
        "**(1)** Convert audio files into spectrogram images\n",
        "\n",
        "**(2)** Convert the RGB image to grayscale.\n",
        "\n",
        "**(3)** Extract LBP-based features: Consider the spectrogram as a texture and use the Local Binary Pattern (LBP) operator to get features\n"
      ]
    },
    {
      "cell_type": "code",
      "execution_count": null,
      "metadata": {
        "colab": {
          "base_uri": "https://localhost:8080/",
          "height": 49,
          "referenced_widgets": [
            "22ae53f807a7410ab1d701c341a80e87",
            "287c101142e549f0aa5bd81958ce2d3b",
            "e8f5e46d95b34ffa80ae1453e4c5fcdd",
            "adc964952f504ec59b3759e8d49df38f",
            "5fa4f5f6506947f78f8ccc50d90bc222",
            "890bc7cb12be4654b1bfb9bc319df932",
            "5306047c632b4fee9078f7e12def4e1b",
            "308936b302b24e91a1f30447668a322a",
            "247380a254bc4e00842cc705d2ec9188",
            "9145c219e7f542c9a5c5970a7925aa96",
            "756fe70ebe504025b81d47c7148a9961"
          ]
        },
        "id": "SdeXWxvo97qP",
        "outputId": "c9818db6-8126-420e-e26c-2c98eb106a88"
      },
      "outputs": [
        {
          "output_type": "display_data",
          "data": {
            "text/plain": [
              "  0%|          | 0/502 [00:00<?, ?it/s]"
            ],
            "application/vnd.jupyter.widget-view+json": {
              "version_major": 2,
              "version_minor": 0,
              "model_id": "22ae53f807a7410ab1d701c341a80e87"
            }
          },
          "metadata": {}
        }
      ],
      "source": [
        "# convert audio files into spectrogram images if spectrogram image doesn't exist\n",
        "second_num = 6\n",
        "# this is the number of samples in a window per fft\n",
        "n_fft = 2048\n",
        "# The amount of samples we are shifting after each fft\n",
        "hop_length = 512\n",
        "\n",
        "for i in tqdm(range(file_path_df.shape[0])):\n",
        "  # check if spectrogram exists in the image folder\n",
        "  plt_image_path = project_path + f\"image/{str(file_path_df['audio_type'][i])},audio_{str(file_path_df['audio_index'][i])}_1.jpg\"\n",
        "  if not os.path.isfile(plt_image_path):  # if it doesn't exists in the image folder\n",
        "    signal, sr = librosa.load(file_path_df['file_name'][i])\n",
        "    signal, _ = librosa.effects.trim(signal)\n",
        "    j = 0\n",
        "    # cut the wav file into segment of 6 seconds and then convert it to spectrograms\n",
        "    while len(signal)>= second_num*sr:\n",
        "        signal_seg = signal[:second_num*sr]\n",
        "        signal = signal[second_num*sr:]\n",
        "        j += 1\n",
        "        # Generate Mel-spectrogram\n",
        "        mel_signal = librosa.feature.melspectrogram(y=signal_seg, sr=sr, hop_length=hop_length, n_fft=n_fft)\n",
        "        spectrogram = np.abs(mel_signal)\n",
        "        power_to_db = librosa.power_to_db(spectrogram, ref=np.max)\n",
        "        plt.figure(figsize=(3, 1))\n",
        "        librosa.display.specshow(power_to_db, sr=sr, x_axis='time', y_axis='mel', cmap='magma',hop_length=hop_length)\n",
        "        plt.axis('off')\n",
        "        #plt.savefig(project_path + f\"image/{str(file_path_df['audio_type'][i])},audio_{str(file_path_df['audio_index'][i])}_{j}.jpg\", bbox_inches='tight', dpi=300)"
      ]
    },
    {
      "cell_type": "code",
      "execution_count": null,
      "metadata": {
        "id": "cWuOHgpK94fR",
        "colab": {
          "base_uri": "https://localhost:8080/",
          "height": 49,
          "referenced_widgets": [
            "5b50d94410fd4456bbe0afee15414f92",
            "005c1ee78dcf4d318357bdf0dd8f722b",
            "790930f9e59744f2bce50e6fb5e28b13",
            "03f4ccb5f7df4856a5a9f3b1152f3656",
            "a7c31f3bab144582b904b40208fb9d7a",
            "c672bf22838a4d009ea2613c1ff503a6",
            "7465302a40744a68b7b7b5dcbb3c1311",
            "c472e2b35b564092894077356ecfc0e3",
            "a4e212ce52044923b386f4cab658926e",
            "7d01fe1e933548c1ab680a1b6ba5cba1",
            "c718e7531de44acd8941b7cf4e881347"
          ]
        },
        "outputId": "a17cbb1f-040d-442d-a5f4-83a1385a1954"
      },
      "outputs": [
        {
          "output_type": "display_data",
          "data": {
            "text/plain": [
              "  0%|          | 0/509 [00:00<?, ?it/s]"
            ],
            "application/vnd.jupyter.widget-view+json": {
              "version_major": 2,
              "version_minor": 0,
              "model_id": "5b50d94410fd4456bbe0afee15414f92"
            }
          },
          "metadata": {}
        }
      ],
      "source": [
        "# Load spectrogram images\n",
        "option  = \"image\"\n",
        "images_paths = os.listdir(project_path + option)\n",
        "images = []\n",
        "y = []\n",
        "image_size = 200\n",
        "class_name_dic = {\n",
        "    \"discomfort\": 0,\n",
        "    \"burping\":1,\n",
        "    \"hungry\":2,\n",
        "    \"tired\":3,\n",
        "    \"belly_pain\":4\n",
        "}\n",
        "for path in tqdm(images_paths):\n",
        "  img = cv2.imread(project_path + f\"{option}/\" + path)\n",
        "  img = cv2.cvtColor(img, cv2.COLOR_BGR2RGB)\n",
        "  img = cv2.resize(img, dsize=(image_size,image_size))\n",
        "  img = cv2.cvtColor(img, cv2.COLOR_RGB2GRAY)\n",
        "  class_name = path.split(\",\")[0]\n",
        "  images.append(img)\n",
        "  y.append(class_name_dic[class_name])\n",
        "images_array = np.array(images)\n",
        "y = np.array(y)"
      ]
    },
    {
      "cell_type": "code",
      "execution_count": null,
      "metadata": {
        "id": "xaNGC67-_nEk"
      },
      "outputs": [],
      "source": [
        "classnames = ['discomfort','burping','hungry','tired','belly_pain']"
      ]
    },
    {
      "cell_type": "code",
      "execution_count": null,
      "metadata": {
        "colab": {
          "base_uri": "https://localhost:8080/",
          "height": 49,
          "referenced_widgets": [
            "91aa6672c6d948e4b043f64d28314161",
            "a11ce3d178f94a439dafde1c15ea0081",
            "2b3388e8e2b9479d9abb0a8994095788",
            "bd9e568f5b5543a18bb58ca1d3e513d6",
            "e77a49905c6d4a699ac023eeaac627e2",
            "1a9b96b653e24150b1ada852a9524765",
            "dd76ceb0bc304570821a8cb001a05569",
            "c771a418687c48f4b3ca5505cd01492c",
            "34f54707e8914c769c2f5f097cb45a6c",
            "fd5b0980ae1f4ae7b7f5b8c88ba5dee5",
            "ef6627c6dca3469a90a8ed808a1a5ca1"
          ]
        },
        "id": "6rNNyHIxB8qC",
        "outputId": "17135784-d74a-470f-c8d7-bf24ce2f1e22"
      },
      "outputs": [
        {
          "output_type": "display_data",
          "data": {
            "text/plain": [
              "  0%|          | 0/509 [00:00<?, ?it/s]"
            ],
            "application/vnd.jupyter.widget-view+json": {
              "version_major": 2,
              "version_minor": 0,
              "model_id": "91aa6672c6d948e4b043f64d28314161"
            }
          },
          "metadata": {}
        }
      ],
      "source": [
        "# generate histogram based on LBP 2D array\n",
        "lbps = []\n",
        "for image in tqdm(images_array):\n",
        "  lbp = local_binary_pattern(image, P=8, R=1)\n",
        "  lbps.append(lbp)\n",
        "X_lbps = np.array(lbps)"
      ]
    },
    {
      "cell_type": "code",
      "execution_count": null,
      "metadata": {
        "colab": {
          "base_uri": "https://localhost:8080/",
          "height": 168,
          "referenced_widgets": [
            "005191875c624837b8bba399379626dd",
            "5d39bf1099b049159b8c6926ec5ce4ca",
            "19c70d67877e40bc8ca1da5b772ed099",
            "90db2979e76146fb8dc8f7f6f8686bb0",
            "884c32fe60d64447b75581c525c9b0d3",
            "819e0a497f9747a8bae988b7a370a7ac",
            "528866afd1c9493aad668aba917b151e",
            "66261f617afb4370913f06cefba13f9d",
            "f911d7543f1e4e37bbeb6970b419e0d6",
            "333c5faff37e4287950ae485b18fc3bf",
            "c31cae2417214d71a9130f6d43445d08"
          ]
        },
        "id": "IrVT-OaAfFSr",
        "outputId": "718f856d-fa24-4d81-8b20-f4e8c48a6626"
      },
      "outputs": [
        {
          "output_type": "display_data",
          "data": {
            "text/plain": [
              "  0%|          | 0/5 [00:00<?, ?it/s]"
            ],
            "application/vnd.jupyter.widget-view+json": {
              "version_major": 2,
              "version_minor": 0,
              "model_id": "005191875c624837b8bba399379626dd"
            }
          },
          "metadata": {}
        },
        {
          "output_type": "display_data",
          "data": {
            "text/plain": [
              "<Figure size 1500x300 with 5 Axes>"
            ],
            "image/png": "[encoded data removed]"
          },
          "metadata": {}
        }
      ],
      "source": [
        "# Visualizing images, gray-scale images, lbp\n",
        "# Load spectrogram images\n",
        "example_images_paths = ['tired,audio_454_1.jpg',\n",
        "                        'hungry,audio_363_1.jpg',\n",
        "                        'belly_pain,audio_0_1.jpg',\n",
        "                        'burping,audio_18_1.jpg',\n",
        "                        'discomfort,audio_27_1.jpg']\n",
        "example_images = []\n",
        "example_images_labels = []\n",
        "example_lbps = []\n",
        "example_images_gray = []\n",
        "\n",
        "for path in tqdm(example_images_paths):\n",
        "  img = cv2.imread(project_path + \"image/\" + path)\n",
        "  img = cv2.cvtColor(img, cv2.COLOR_BGR2RGB)\n",
        "  example_images.append(img)\n",
        "  img = cv2.cvtColor(img, cv2.COLOR_RGB2GRAY)\n",
        "  example_images_gray.append(img)\n",
        "  lbp = local_binary_pattern(img, P=8, R=1)\n",
        "  example_lbps.append(lbp)\n",
        "  class_name = path.split(\",\")[0]\n",
        "  example_images_labels.append(class_name)\n",
        "\n",
        "fig, ax = plt.subplots(1,5,figsize=(15, 3))\n",
        "for i in range(5):\n",
        "    ax[i].imshow(example_images[i], cmap='gray')\n",
        "    ax[i].set_title(example_images_labels[i])\n",
        "    ax[i].axis('off')\n",
        "plt.show()"
      ]
    },
    {
      "cell_type": "code",
      "source": [
        "# Visualizing gray-scale images\n",
        "fig, ax = plt.subplots(1,5,figsize=(15, 3))\n",
        "for i in range(5):\n",
        "    ax[i].imshow(example_images_gray[i], cmap='gray')\n",
        "    ax[i].set_title(example_images_labels[i])\n",
        "    ax[i].axis('off')\n",
        "plt.show()"
      ],
      "metadata": {
        "colab": {
          "base_uri": "https://localhost:8080/",
          "height": 136
        },
        "id": "sYbl-thDofte",
        "outputId": "002ab8ea-04ed-486a-f143-973300fec947"
      },
      "execution_count": null,
      "outputs": [
        {
          "output_type": "display_data",
          "data": {
            "text/plain": [
              "<Figure size 1500x300 with 5 Axes>"
            ],
            "image/png": "[encoded data removed]"
          },
          "metadata": {}
        }
      ]
    },
    {
      "cell_type": "code",
      "execution_count": null,
      "metadata": {
        "colab": {
          "base_uri": "https://localhost:8080/",
          "height": 136
        },
        "id": "a6Y6lbCchc-m",
        "outputId": "a7f7ae22-c55a-428d-bf7e-fa539d3f7b61"
      },
      "outputs": [
        {
          "output_type": "display_data",
          "data": {
            "text/plain": [
              "<Figure size 1500x300 with 5 Axes>"
            ],
            "image/png": "[encoded data removed]"
          },
          "metadata": {}
        }
      ],
      "source": [
        "# Visualizing lbp\n",
        "fig, ax = plt.subplots(1,5,figsize=(15, 3))\n",
        "for i in range(5):\n",
        "    ax[i].imshow(example_lbps[i], cmap='gray')\n",
        "    ax[i].set_title(example_images_labels[i])\n",
        "    ax[i].axis('off')\n",
        "plt.show()"
      ]
    },
    {
      "cell_type": "code",
      "execution_count": null,
      "metadata": {
        "id": "IrS7E6l2ay0u",
        "colab": {
          "base_uri": "https://localhost:8080/",
          "height": 49,
          "referenced_widgets": [
            "ae8e2a19d0ed4fce9c5691a17d3980f7",
            "bec06000b7f247af875816e28edc8e8b",
            "84d8d33ec9fc483cb4a9d2f4a2201be7",
            "5a94ab3c80f04a38b430395fd861dc17",
            "28a53f7af32f430f8d96fae43aca841d",
            "697bde4c7d7241f7a81e722682a24947",
            "9f827cfd2d9a451d9caf75ba4390ef8f",
            "f79f10e36e2943e4a7da78eedfcdc760",
            "4f74096da6e540389464c7f6bba0c540",
            "84c9b04a0705427999c6d7fd714db9d7",
            "ef30307c565b408bae26f484b51c0677"
          ]
        },
        "outputId": "b537982c-f65a-4821-f7af-31b6ee390c2f"
      },
      "outputs": [
        {
          "output_type": "display_data",
          "data": {
            "text/plain": [
              "  0%|          | 0/509 [00:00<?, ?it/s]"
            ],
            "application/vnd.jupyter.widget-view+json": {
              "version_major": 2,
              "version_minor": 0,
              "model_id": "ae8e2a19d0ed4fce9c5691a17d3980f7"
            }
          },
          "metadata": {}
        }
      ],
      "source": [
        "# generate histogram based on the LBP 2D array\n",
        "cell_width = 4\n",
        "bins_num = 64\n",
        "X_list = []\n",
        "for x in tqdm(X_lbps):\n",
        "  grid = np.arange(0, image_size +1, image_size//cell_width)\n",
        "  cell_histograms = []\n",
        "  cell_num = len(grid)\n",
        "  for i in range(cell_num - 1):\n",
        "      for j in range(cell_num - 1):\n",
        "          cell = x[grid[i]:grid[i+1], grid[j]:grid[j+1]]\n",
        "          cell_hist = np.histogram(cell, bins=bins_num)[0]\n",
        "          cell_histograms.append(cell_hist)\n",
        "  image_histogram = np.array(cell_histograms).flatten()\n",
        "  X_list.append(image_histogram)\n",
        "X_lbp_features  = np.array(X_list)"
      ]
    },
    {
      "cell_type": "markdown",
      "source": [
        "**Histogram of Oriented Gradients (HOG)** describes the local object appearance and shape within an image by the distribution of intensity gradients or edge directions with 3 main steps: (1) Divide the image  into small connected cells; (2) Calculate the magnitude of horizontal and vertical gradients at every pixel; and (3) Generate and compile histograms of gradients."
      ],
      "metadata": {
        "id": "kZUzI8n0K9EX"
      }
    },
    {
      "cell_type": "code",
      "source": [
        "# Generate HOG based features\n",
        "hog_images = []\n",
        "hog_histograms = []\n",
        "# reading the image\n",
        "for i in tqdm(range(len(images_paths))):\n",
        "  img = imread(project_path + \"image/\" + images_paths[i])\n",
        "  # resizing image\n",
        "  resized_img = resize(img, (64, 64))\n",
        "  # creating hog features\n",
        "  hog_histogram, hog_image = hog(resized_img, orientations=9, pixels_per_cell=(8, 8),cells_per_block=(2, 2), visualize=True, multichannel=True)\n",
        "  hog_images.append(hog_image)\n",
        "  hog_histograms.append(hog_histogram)\n",
        "  if i==0:\n",
        "    plt.axis(\"off\")\n",
        "    plt.imshow(img)\n",
        "    plt.show()\n",
        "    plt.axis(\"off\")\n",
        "    plt.imshow(resized_img)\n",
        "    plt.show()\n",
        "    plt.axis(\"off\")\n",
        "    plt.imshow(hog_image, cmap=\"gray\")\n",
        "    plt.show()\n",
        "hog_images = np.array(hog_images)\n",
        "X_hog_features = np.array(hog_histograms)"
      ],
      "metadata": {
        "colab": {
          "base_uri": "https://localhost:8080/",
          "height": 1000,
          "referenced_widgets": [
            "0c09b9bb626a431daf4a4abf79ea73a5",
            "47dbe7190d5740efab56a3fda9cbbb7f",
            "bb34b7314fbc4bb792218fc088d8af45",
            "92743e5f6ac149eb979478f39aef5814",
            "ced79973680c4003bd100604dd0d2777",
            "91cbf6b954824926b9ea87f252a37eb3",
            "8a7668766a6644e8a0ddddf86c679395",
            "3847165b88ac4a4696845a2737dd0add",
            "636e3b0ec5514ad0b70a2e07120007c4",
            "0097a45e999c4d19b0dfd028eff5d63a",
            "c1ca6467571b447b8223783ffda73cde"
          ]
        },
        "id": "oLwfElxx45U9",
        "outputId": "37acc0e4-60be-4b7a-d20a-889bd38fe663"
      },
      "execution_count": null,
      "outputs": [
        {
          "output_type": "display_data",
          "data": {
            "text/plain": [
              "  0%|          | 0/509 [00:00<?, ?it/s]"
            ],
            "application/vnd.jupyter.widget-view+json": {
              "version_major": 2,
              "version_minor": 0,
              "model_id": "0c09b9bb626a431daf4a4abf79ea73a5"
            }
          },
          "metadata": {}
        },
        {
          "output_type": "stream",
          "name": "stderr",
          "text": [
            "<ipython-input-26-07579f4e9e01>:10: FutureWarning: `multichannel` is a deprecated argument name for `hog`. It will be removed in version 1.0. Please use `channel_axis` instead.\n",
            "  hog_histogram, hog_image = hog(resized_img, orientations=9, pixels_per_cell=(8, 8),cells_per_block=(2, 2), visualize=True, multichannel=True)\n"
          ]
        },
        {
          "output_type": "display_data",
          "data": {
            "text/plain": [
              "<Figure size 640x480 with 1 Axes>"
            ],
            "image/png": "[encoded data removed]"
          },
          "metadata": {}
        },
        {
          "output_type": "display_data",
          "data": {
            "text/plain": [
              "<Figure size 640x480 with 1 Axes>"
            ],
            "image/png": "[encoded data removed]"
          },
          "metadata": {}
        },
        {
          "output_type": "display_data",
          "data": {
            "text/plain": [
              "<Figure size 640x480 with 1 Axes>"
            ],
            "image/png": "[encoded data removed]"
          },
          "metadata": {}
        }
      ]
    },
    {
      "cell_type": "markdown",
      "source": [
        "Combine LBP features with HOG features"
      ],
      "metadata": {
        "id": "vlHP3zmbLRId"
      }
    },
    {
      "cell_type": "code",
      "source": [
        "X_lbp_features.shape"
      ],
      "metadata": {
        "colab": {
          "base_uri": "https://localhost:8080/"
        },
        "id": "BepE40P857t2",
        "outputId": "628b8ff0-a9dc-434f-bda6-32c681266a21"
      },
      "execution_count": null,
      "outputs": [
        {
          "output_type": "execute_result",
          "data": {
            "text/plain": [
              "(509, 1024)"
            ]
          },
          "metadata": {},
          "execution_count": 27
        }
      ]
    },
    {
      "cell_type": "code",
      "source": [
        "X_hog_features.shape"
      ],
      "metadata": {
        "colab": {
          "base_uri": "https://localhost:8080/"
        },
        "id": "_kc1e9gj6RZL",
        "outputId": "25156500-2b63-475e-8a7f-889f50cfc752"
      },
      "execution_count": null,
      "outputs": [
        {
          "output_type": "execute_result",
          "data": {
            "text/plain": [
              "(509, 1764)"
            ]
          },
          "metadata": {},
          "execution_count": 27
        }
      ]
    },
    {
      "cell_type": "code",
      "source": [
        "X = np.hstack((X_lbp_features,X_hog_features))\n",
        "X.shape"
      ],
      "metadata": {
        "colab": {
          "base_uri": "https://localhost:8080/"
        },
        "id": "3gGSR7IO6XMZ",
        "outputId": "bea68f05-98c9-407e-a4c6-a450e0143b32"
      },
      "execution_count": null,
      "outputs": [
        {
          "output_type": "execute_result",
          "data": {
            "text/plain": [
              "(509, 2788)"
            ]
          },
          "metadata": {},
          "execution_count": 28
        }
      ]
    },
    {
      "cell_type": "code",
      "execution_count": null,
      "metadata": {
        "id": "ETyxmYtdDl7p"
      },
      "outputs": [],
      "source": [
        "# Train test split\n",
        "X_index_list = list(file_path_df[\"audio_index\"])\n",
        "y_cry_reason = file_path_df['audio_type']\n",
        "X_train_index,X_test_index,_,_ = train_test_split(X_index_list,\n",
        "                                                  y_cry_reason,\n",
        "                                                  test_size=0.25,\n",
        "                                                  stratify=y_cry_reason,\n",
        "                                                  shuffle=True,\n",
        "                                                  random_state=100)"
      ]
    },
    {
      "cell_type": "code",
      "source": [
        "audio_type_dict = pd.Series(file_path_df['audio_type'].values,file_path_df['audio_index']).to_dict()"
      ],
      "metadata": {
        "id": "ShwH3CarPox9"
      },
      "execution_count": null,
      "outputs": []
    },
    {
      "cell_type": "code",
      "source": [
        "def find_cry_reason(audio_index):\n",
        "  type = audio_type_dict[audio_index]\n",
        "  return type"
      ],
      "metadata": {
        "id": "S85O2V_yOEFm"
      },
      "execution_count": null,
      "outputs": []
    },
    {
      "cell_type": "code",
      "source": [
        "image_segment_audio_index = pd.DataFrame(images_paths)[0].apply(lambda x: x.split(',')[1])\n",
        "image_segment_audio_index = image_segment_audio_index.apply(lambda x: x.split('_')[1]).astype(int)\n",
        "vf_df= pd.DataFrame(X)\n",
        "vf_df['audio_index'] = image_segment_audio_index\n",
        "#vf_df['cry_reason'] = vf_df['audio_index'].map(lambda x:find_cry_reason(x))\n",
        "vf_df['cry_reason'] = y\n",
        "vf_df.columns = [f\"vf_{i}\" for i in range(X.shape[1])] + ['audio_index','cry_reason']"
      ],
      "metadata": {
        "id": "kMfCgVZnBoqQ"
      },
      "execution_count": null,
      "outputs": []
    },
    {
      "cell_type": "code",
      "source": [
        "### Split data into train and test sets\n",
        "train_df_vf = vf_df[vf_df['audio_index'].isin(X_train_index).tolist()]\n",
        "test_df_vf = vf_df[vf_df['audio_index'].isin(X_test_index)]\n",
        "col = ['audio_index','cry_reason']\n",
        "X_train_vf = train_df_vf[[x for x in train_df_vf.columns if x not in col]]\n",
        "y_train_vf = train_df_vf['cry_reason']\n",
        "X_test_vf = test_df_vf[[x for x in test_df_vf.columns if x not in col]]\n",
        "y_test_vf = test_df_vf['cry_reason']"
      ],
      "metadata": {
        "id": "FNnIvvRqBryx"
      },
      "execution_count": null,
      "outputs": []
    },
    {
      "cell_type": "markdown",
      "source": [
        "### B. Extract Acoustic Features from Audio Files"
      ],
      "metadata": {
        "id": "-y44BaSO0eO5"
      }
    },
    {
      "cell_type": "markdown",
      "source": [
        "| Acoustic Feature | Definition | Number of Features Extracted per Frame |\n",
        "| :-: |:-- | :-: |\n",
        "| Mel-frequency cepstral coefficients (MFCC)| A set of features derived from log short-term power spectrum of a sound signal  on a nonlinear mel scale of frequency| 39 |\n",
        "| Linear predictive cepstrum coefficient (LPCC)|It is the spectral feature derived from the linear predictive analysis to represent the emotion-specific phonetic representation of the speech signal.| 39 |\n",
        "| Formant F1| Lowest resonant frequency of the vocal tract influenced by vertical position of tongue within the mouth and provides spectral information about the quantitative properties of the vocal tract. | 7 |\n",
        "| Formant F2| Second resonant frequency of the vocal tract  influenced by the horizontal position of the tongue within the mouth provides spectral information about the quantitative properties.| 7  |\n",
        "| Formant F3| Third resonant frequency of the vocal tract influenced by both vertical and horizontal position of the tongue within the mouth and provides spectral information of the vocal tract.| 7  |"
      ],
      "metadata": {
        "id": "w5ZJXdin_2Mf"
      }
    },
    {
      "cell_type": "code",
      "source": [
        "def acoustic_feature_extraction(audio_df = file_path_df, seg_dur = 6):\n",
        "  gender = []\n",
        "  age = []\n",
        "  cry_reason = []\n",
        "  audio_index = []\n",
        "  mfccs = []\n",
        "  mfccs_mean = []\n",
        "  mfccs_med = []\n",
        "  mfccs_sd = []\n",
        "  lpccs_coeff = []\n",
        "  lpccs_mean = []\n",
        "  lpccs_med = []\n",
        "  lpccs_sd = []\n",
        "  f1_mean = []\n",
        "  f2_mean = []\n",
        "  f3_mean = []\n",
        "  f1_med = []\n",
        "  f2_med = []\n",
        "  f3_med = []\n",
        "  f1_min = []\n",
        "  f2_min = []\n",
        "  f3_min = []\n",
        "  f1_max = []\n",
        "  f2_max = []\n",
        "  f3_max = []\n",
        "  f1_r = []\n",
        "  f2_r = []\n",
        "  f3_r = []\n",
        "  f1_bwd = []\n",
        "  f2_bwd = []\n",
        "  f3_bwd = []\n",
        "  f1_sd = []\n",
        "  f2_sd = []\n",
        "  f3_sd = []\n",
        "  for i in tqdm(range(audio_df.shape[0])):\n",
        "    #read the audio file;returns the audio time series and sample rate\n",
        "    f = audio_df['file_name'][i]\n",
        "    audio, sr = librosa.load(f)\n",
        "    seg_len = sr * seg_dur\n",
        "    seg = 0\n",
        "    while len(audio)>= seg_len:\n",
        "      #get gender of the baby from the df\n",
        "      gender.append(audio_df['gender'][i])\n",
        "      #get age of the baby from the df\n",
        "      age.append(audio_df['age_in_months'][i])\n",
        "      #get the cry reason label of the audio from the df\n",
        "      cry_reason.append(audio_df['audio_type'][i])\n",
        "      # Start from dividing the sound signal into the form of frames with a duration of 1-seconds\n",
        "      audio_seg = audio[:seg_len]\n",
        "      audio = audio[seg_len:]\n",
        "\n",
        "      # Extract Mel-frequency cepstral coefficients (MFCCs) to represent the short-term power spectrum of sound.\n",
        "      mfcc = librosa.feature.mfcc(y=audio_seg, sr=sr, n_mfcc=13)\n",
        "      mfccs.append(mfcc)\n",
        "      # calculate mean, median and std deviation of each MFCC coeff\n",
        "      mfccs_mean.append(np.mean(mfcc.T,axis = 0))\n",
        "      mfccs_med.append(np.median(mfcc.T,axis = 0))\n",
        "      mfccs_sd.append(np.std(mfcc.T,axis = 0))\n",
        "\n",
        "      # Extract formants F1, F2 and F3 at each glottal pulse\n",
        "      out_filename = f\"segment{str(1)}.wav\"\n",
        "      sf.write(project_path+ \"/export_audio/\"+ out_filename, audio_seg, sr)\n",
        "      sound = parselmouth.Sound(project_path+ \"/export_audio/\"+ out_filename)\n",
        "      f0min=75\n",
        "      f0max=300\n",
        "      pointProcess = praat.call(sound, \"To PointProcess (periodic, cc)\", f0min, f0max)\n",
        "      formants = praat.call(sound, \"To Formant (burg)\", 0.0025, 3, 5500, 0.025, 50)\n",
        "      numPoints = praat.call(pointProcess, \"Get number of points\")\n",
        "      time_f1 = []\n",
        "      time_f2 = []\n",
        "      time_f3 = []\n",
        "      # extract formants only at glottal pulses\n",
        "      for j in range(0, numPoints):\n",
        "        j += 1\n",
        "        time = praat.call(pointProcess, \"Get time from index\", j)\n",
        "        f1 = praat.call(formants, \"Get value at time\", 1, time, 'Hertz', 'Linear')\n",
        "        f2 = praat.call(formants, \"Get value at time\", 2, time, 'Hertz', 'Linear')\n",
        "        f3 = praat.call(formants, \"Get value at time\", 3, time, 'Hertz', 'Linear')\n",
        "        time_f1.append(f1)\n",
        "        time_f2.append(f2)\n",
        "        time_f3.append(f3)\n",
        "      time_f1 = [f1 for f1 in time_f1 if str(f1) != 'nan']\n",
        "      time_f2 = [f2 for f2 in time_f2 if str(f2) != 'nan']\n",
        "      time_f3 = [f3 for f3 in time_f3 if str(f3) != 'nan']\n",
        "      #calculate mean, median, min, max, range and bandwidth of formants across pulses\n",
        "      if len(time_f1)== 0:\n",
        "        f1_mean.append(0)\n",
        "        f1_min.append(0)\n",
        "        f1_max.append(0)\n",
        "        f1_r.append(0)\n",
        "        f1_med.append(0)\n",
        "        f1_bwd.append(0)\n",
        "        f1_sd.append(0)\n",
        "      else:\n",
        "        f1_mean.append(np.mean(time_f1))\n",
        "        f1_min.append(min(time_f1))\n",
        "        f1_max.append(max(time_f1))\n",
        "        f1_r.append(max(time_f1)-min(time_f1))\n",
        "        f1_med.append(np.median(time_f1))\n",
        "        f1_bwd.append(np.mean(time_f1)-min(time_f1))\n",
        "        f1_sd.append(np.std(time_f1))\n",
        "      if len(time_f2)== 0:\n",
        "        f2_mean.append(0)\n",
        "        f2_min.append(0)\n",
        "        f2_max.append(0)\n",
        "        f2_r.append(0)\n",
        "        f2_med.append(0)\n",
        "        f2_bwd.append(0)\n",
        "        f2_sd.append(0)\n",
        "      else:\n",
        "        f2_mean.append(np.mean(time_f2))\n",
        "        f2_min.append(min(time_f2))\n",
        "        f2_max.append(max(time_f2))\n",
        "        f2_r.append(max(time_f2)-min(time_f1))\n",
        "        f2_med.append(np.median(time_f2))\n",
        "        f2_bwd.append(np.mean(time_f2)-min(time_f1))\n",
        "        f2_sd.append(np.std(time_f2))\n",
        "      if len(time_f3)== 0:\n",
        "        f3_mean.append(0)\n",
        "        f3_min.append(0)\n",
        "        f3_max.append(0)\n",
        "        f3_r.append(0)\n",
        "        f3_med.append(0)\n",
        "        f3_bwd.append(0)\n",
        "        f3_sd.append(0)\n",
        "      else:\n",
        "        f3_mean.append(np.mean(time_f3))\n",
        "        f3_min.append(min(time_f3))\n",
        "        f3_max.append(max(time_f3))\n",
        "        f3_r.append(max(time_f3)-min(time_f1))\n",
        "        f3_med.append(np.median(time_f3))\n",
        "        f3_bwd.append(np.mean(time_f3)-min(time_f1))\n",
        "        f3_sd.append(np.std(time_f3))\n",
        "\n",
        "      # Extract LPCC features\n",
        "      try:\n",
        "        lpccs = lpcc(audio_seg,\n",
        "                   fs=22050,\n",
        "                   order=13,\n",
        "                   pre_emph=0,\n",
        "                   window=SlidingWindow(0.03, 0.015, \"hamming\"))\n",
        "      except:\n",
        "        lpccs = np.zeros((65,13))\n",
        "      lpccs_coeff.append(lpccs)\n",
        "      #calculate the mean, median and standard deviation of each LPCC coeff\n",
        "      lpccs_mean.append(np.mean(lpccs, axis = 0))\n",
        "      lpccs_med.append(np.median(lpccs, axis = 0))\n",
        "      lpccs_sd.append(np.std(lpccs, axis = 0))\n",
        "      seg += 1\n",
        "      audio_index.append(audio_df['audio_index'][i])\n",
        "  output_df = pd.DataFrame({\"audio_index\": audio_index,\n",
        "                            \"gender\" : gender,\n",
        "                            \"age\" : age,\n",
        "                            \"cry_reason\" : cry_reason,\n",
        "                            \"mfcc\" : mfccs,\n",
        "                            \"mfcc_mean\" : mfccs_mean,\n",
        "                            \"mfcc_med\" : mfccs_med,\n",
        "                            \"mfcc_sd\" : mfccs_sd,\n",
        "                            \"lpccs\" : lpccs_coeff,\n",
        "                            \"lpccs_mean\" : lpccs_mean,\n",
        "                            \"lpccs_med\" : lpccs_med,\n",
        "                            \"lpccs_sd\" : lpccs_sd,\n",
        "                            \"f1_mean\" : f1_mean,\n",
        "                            \"f2_mean\" : f2_mean,\n",
        "                            \"f3_mean\" : f3_mean,\n",
        "                            \"f1_med\" : f1_med,\n",
        "                            \"f2_med\" : f2_med,\n",
        "                            \"f3_med\" : f3_med,\n",
        "                            \"f1_min\" : f1_min,\n",
        "                            \"f2_min\" : f2_min,\n",
        "                            \"f3_min\" : f3_min,\n",
        "                            \"f1_max\" : f1_max,\n",
        "                            \"f2_max\" : f2_max,\n",
        "                            \"f3_max\" : f3_max,\n",
        "                            \"f1_r\" : f1_r,\n",
        "                            \"f2_r\" : f2_r,\n",
        "                            \"f3_r\" : f3_r,\n",
        "                            \"f1_bwd\" : f1_bwd,\n",
        "                            \"f2_bwd\" : f2_bwd,\n",
        "                            \"f3_bwd\" : f3_bwd,\n",
        "                            \"f1_sd\" : f1_sd,\n",
        "                            \"f2_sd\" : f2_sd,\n",
        "                            \"f3_sd\" : f3_sd\n",
        "                            })\n",
        "  return output_df"
      ],
      "metadata": {
        "id": "kLPnPJZm0hdd"
      },
      "execution_count": null,
      "outputs": []
    },
    {
      "cell_type": "code",
      "source": [
        "### Feature Extraction\n",
        "data_df = acoustic_feature_extraction(audio_df= file_path_df , seg_dur =6)"
      ],
      "metadata": {
        "colab": {
          "base_uri": "https://localhost:8080/",
          "height": 49,
          "referenced_widgets": [
            "36d9341a920249d6921dc5b0ad21b8fe",
            "05568f6174a54421ad75f5b39e13f1fa",
            "be6502c97f264e11bca64a61896753e6",
            "583a99a1165c4e8089b81a6f5d5315bd",
            "85609357a057473eb5c8a796fb793701",
            "415a86a13b8e42b1aa92129a8d6ae87b",
            "43a64ad24aeb4d3985bc4012ccd2a789",
            "9fdeaa596a044078b9f6f06f8bd7f587",
            "7850f6b80d34487ba3c11bd0d4392b20",
            "11deab73717c43319c02a9a44a9f1d19",
            "d39d0e567cae4f48afda1f111eb951ea"
          ]
        },
        "id": "vqyM9_WL6DLK",
        "outputId": "381e2cc5-7a70-46be-8b78-61d55413b57a"
      },
      "execution_count": null,
      "outputs": [
        {
          "output_type": "display_data",
          "data": {
            "text/plain": [
              "  0%|          | 0/502 [00:00<?, ?it/s]"
            ],
            "application/vnd.jupyter.widget-view+json": {
              "version_major": 2,
              "version_minor": 0,
              "model_id": "36d9341a920249d6921dc5b0ad21b8fe"
            }
          },
          "metadata": {}
        }
      ]
    },
    {
      "cell_type": "code",
      "source": [
        "# Check the shape of selected features\n",
        "print(data_df['mfcc'][0].shape)\n",
        "print(data_df['lpccs'][0].shape)"
      ],
      "metadata": {
        "colab": {
          "base_uri": "https://localhost:8080/"
        },
        "id": "kSvcPyDZGn9x",
        "outputId": "ace51b7f-05dc-4f77-81f2-fe616e71f69c"
      },
      "execution_count": null,
      "outputs": [
        {
          "output_type": "stream",
          "name": "stdout",
          "text": [
            "(13, 259)\n",
            "(65, 13)\n"
          ]
        }
      ]
    },
    {
      "cell_type": "code",
      "source": [
        "# define functions to flatten the 2d array columns\n",
        "def convert_matrix_vector_to_df(matrix_vector):\n",
        "    # convert a vector of matrix to a vector of arrays by flattening all nested arrays\n",
        "    flatten_df = matrix_vector.flatten()\n",
        "    return flatten_df\n",
        "def convert_matrix_to_columns(data, column_name):\n",
        "    # if the first cell of the column is a matrix then convert this column into multiple columns by flattening the matrix\n",
        "    df = data[column_name].map(lambda x:convert_matrix_vector_to_df(x))\n",
        "    temp_df = pd.DataFrame(df.tolist(),index = df.index)\n",
        "    temp_df.columns = [column_name + f'{c}' for c in temp_df.columns]\n",
        "    data = pd.concat([data,temp_df],axis =1)\n",
        "    data = data.drop([column_name], axis=1)\n",
        "    return data\n",
        "def flattening(data_df):\n",
        "    #2-D acoustic features are converted into 1-d vector before passing as input in the next process by flattening.\n",
        "    flatten_data_df = data_df.copy()\n",
        "    for column_name in data_df.columns:\n",
        "      if type( data_df[column_name][0]) != str and not isinstance(data_df[column_name][0], (int, np.integer,float)):\n",
        "            flatten_data_df = convert_matrix_to_columns(flatten_data_df, column_name)\n",
        "    return flatten_data_df"
      ],
      "metadata": {
        "id": "BOj-rIQ4GrXW"
      },
      "execution_count": null,
      "outputs": []
    },
    {
      "cell_type": "code",
      "source": [
        "# drop the mfcc and lpcc feature columns and just keep their mean, median and std deviation columns\n",
        "data_df_drop = data_df.drop(['mfcc','lpccs'], axis = 1)"
      ],
      "metadata": {
        "id": "PHBIOsUrJCn-"
      },
      "execution_count": null,
      "outputs": []
    },
    {
      "cell_type": "code",
      "source": [
        "# flatten 2D features to 1D vector\n",
        "flatten_data_df = flattening(data_df_drop)"
      ],
      "metadata": {
        "id": "TKAvLgSPG2kU"
      },
      "execution_count": null,
      "outputs": []
    },
    {
      "cell_type": "code",
      "source": [
        "flatten_data_df_2 = flatten_data_df.drop_duplicates(subset = 'audio_index', keep='first')\n",
        "class_name_dic = {\n",
        "    \"discomfort\": 0,\n",
        "    \"burping\":1,\n",
        "    \"hungry\":2,\n",
        "    \"tired\":3,\n",
        "    \"belly_pain\":4\n",
        "}\n",
        "def convert_label_to_number(label):\n",
        "  return class_name_dic[label]\n",
        "flatten_data_df_2[\"cry_reason\"] = flatten_data_df_2[\"cry_reason\"].map(lambda x: convert_label_to_number(x))"
      ],
      "metadata": {
        "colab": {
          "base_uri": "https://localhost:8080/"
        },
        "id": "KTP4HxM3Fths",
        "outputId": "628286ea-be23-4b1f-e508-7ea8630676e5"
      },
      "execution_count": null,
      "outputs": [
        {
          "output_type": "stream",
          "name": "stderr",
          "text": [
            "<ipython-input-81-4055cff4831e>:11: SettingWithCopyWarning: \n",
            "A value is trying to be set on a copy of a slice from a DataFrame.\n",
            "Try using .loc[row_indexer,col_indexer] = value instead\n",
            "\n",
            "See the caveats in the documentation: https://pandas.pydata.org/pandas-docs/stable/user_guide/indexing.html#returning-a-view-versus-a-copy\n",
            "  flatten_data_df_2[\"cry_reason\"] = flatten_data_df_2[\"cry_reason\"].map(lambda x: convert_label_to_number(x))\n"
          ]
        }
      ]
    },
    {
      "cell_type": "code",
      "source": [
        "### Split data into train and test sets\n",
        "train_df_af = flatten_data_df_2[flatten_data_df_2['audio_index'].isin(X_train_index).tolist()]\n",
        "test_df_af = flatten_data_df_2[flatten_data_df_2['audio_index'].isin(X_test_index)]\n",
        "col = ['audio_index','cry_reason','gender','k_fold_index',\"age\"]\n",
        "X_train_af = train_df_af[[x for x in train_df_af.columns if x not in col]]\n",
        "y_train_af = train_df_af['cry_reason']\n",
        "X_test_af = test_df_af[[x for x in test_df_af.columns if x not in col]]\n",
        "y_test_af = test_df_af['cry_reason']"
      ],
      "metadata": {
        "id": "04WMrBBhkEZF"
      },
      "execution_count": null,
      "outputs": []
    },
    {
      "cell_type": "code",
      "source": [
        "vf_df_2 = vf_df.drop_duplicates(subset = 'audio_index', keep='first')\n",
        "X_combined = pd.merge(flatten_data_df_2, vf_df_2, on=['audio_index','cry_reason'])"
      ],
      "metadata": {
        "id": "btdqGOq27Of7"
      },
      "execution_count": null,
      "outputs": []
    },
    {
      "cell_type": "code",
      "source": [
        "X_combined.shape"
      ],
      "metadata": {
        "colab": {
          "base_uri": "https://localhost:8080/"
        },
        "id": "J8JvhI9wXOe0",
        "outputId": "f203d0b7-abd6-4e2d-d435-2dee37c0ed2c"
      },
      "execution_count": null,
      "outputs": [
        {
          "output_type": "execute_result",
          "data": {
            "text/plain": [
              "(497, 2891)"
            ]
          },
          "metadata": {},
          "execution_count": 84
        }
      ]
    },
    {
      "cell_type": "code",
      "source": [
        "### Split data into train and test sets\n",
        "train_df_combined = X_combined[X_combined['audio_index'].isin(X_train_index).tolist()]\n",
        "test_df_combined =X_combined[X_combined['audio_index'].isin(X_test_index)]\n",
        "col = ['audio_index','cry_reason','gender','k_fold_index',\"age\"]\n",
        "X_train_combined = train_df_combined[[x for x in train_df_combined.columns if x not in col]]\n",
        "y_train_combined = train_df_combined['cry_reason']\n",
        "X_test_combined = test_df_combined[[x for x in test_df_combined.columns if x not in col]]\n",
        "y_test_combined = test_df_combined['cry_reason']"
      ],
      "metadata": {
        "id": "Yo0h2mmA9WyN"
      },
      "execution_count": null,
      "outputs": []
    },
    {
      "cell_type": "markdown",
      "source": [
        "## V. Dimensionality Reduction or Feature Selection"
      ],
      "metadata": {
        "id": "Oy8Z5crU4HVA"
      }
    },
    {
      "cell_type": "markdown",
      "source": [
        "Principal Component Analysis for Dimensionality Reduction"
      ],
      "metadata": {
        "id": "c1OKGRvY4w9h"
      }
    },
    {
      "cell_type": "code",
      "source": [
        "# Function that reduces train and test data to key components that explain at least 90% of the variance\n",
        "def derive_pc(X_train,X_test):\n",
        "    # input: X matrix\n",
        "    # output: principal components that explain at least 90% of the variance\n",
        "\n",
        "    # Standardize X_train for classification\n",
        "    X_train_standardized = StandardScaler().fit_transform(X_train)\n",
        "\n",
        "     # Calculate the Eigenvectors and eigenvalues\n",
        "    covariance_matrix = np.cov(X_train_standardized.T)\n",
        "    eigen_values, eigen_vectors = eigh(covariance_matrix)\n",
        "\n",
        "    # Calculate share of explained variance by number of features\n",
        "    tot = sum(eigen_values)\n",
        "    variance_explained = [(i/tot)*100 for i in sorted(eigen_values, reverse=True)]\n",
        "    cum_variance_explained = np.cumsum(variance_explained)\n",
        "\n",
        "    # Find the smallest number of features that explain at least 90% of the variance\n",
        "    eigen_count = next(x for x, val in enumerate(cum_variance_explained)if val > 90) + 1\n",
        "\n",
        "    # Calculate principal components\n",
        "    pca = PCA(n_components= eigen_count)\n",
        "    pca.fit(X_train_standardized)\n",
        "    X_train_pc = pca.transform(X_train_standardized)\n",
        "\n",
        "    # Sandardize and normalize X_test matrix\n",
        "    X_test_standardized = StandardScaler().fit_transform(X_test)\n",
        "    X_test_pc = pca.transform(X_test_standardized)\n",
        "\n",
        "    return X_train_pc, X_test_pc"
      ],
      "metadata": {
        "id": "GogzhFGT4N-i"
      },
      "execution_count": null,
      "outputs": []
    },
    {
      "cell_type": "markdown",
      "source": [
        "Feature Selection with Distribution of Null Importance"
      ],
      "metadata": {
        "id": "r_riXtzx4z3x"
      }
    },
    {
      "cell_type": "code",
      "source": [
        "def get_rf_importances(X, y, shuffle, rf_params=None):\n",
        "  # calculate the importance of features\n",
        "  # output is a dataframe that includes the feature names and associated Gini importance.\n",
        "  if rf_params is None:\n",
        "    rf_params = dict()\n",
        "  rf_params['oob_score'] = True\n",
        "  y_new = y.copy()\n",
        "  if shuffle:\n",
        "    y_new = y_new.sample(frac = 1.0)\n",
        "\n",
        "  clf = RandomForestClassifier(**rf_params)\n",
        "  clf.fit(X, y_new)\n",
        "  imp_df = pd.DataFrame({\n",
        "      'feature': clf.feature_names_in_,\n",
        "      'importance': clf.feature_importances_,\n",
        "      'train_oob_score': clf.oob_score_,\n",
        "  })\n",
        "  return imp_df.sort_values(by=['importance'], ascending=False).reset_index(drop=True)\n",
        "\n",
        "def get_null_imp_distribs(X, y, n_bench=1, n_null=50, rf_params=None):\n",
        "  ### importance of the real label distribution\n",
        "  real_imp = []\n",
        "  for i in range(n_bench):\n",
        "    curr_imp = get_rf_importances(X, y, shuffle=False, rf_params=rf_params)\n",
        "    curr_imp['iter'] = i\n",
        "    real_imp.append(curr_imp)\n",
        "  real_imp = pd.concat(real_imp, axis=0, ignore_index=True)\n",
        "\n",
        "  ### importance of the null label distribution\n",
        "  null_imp = []\n",
        "  for i in tqdm(range(n_null)):\n",
        "    curr_imp = get_rf_importances(X, y, shuffle=True, rf_params=rf_params)\n",
        "    curr_imp['iter'] = i\n",
        "    null_imp.append(curr_imp)\n",
        "  null_imp = pd.concat(null_imp, axis=0, ignore_index=True)\n",
        "  ### calculate feature score based on the distribution of null importances and the value of real importance\n",
        "  mean_real_imp = real_imp.groupby('feature')['importance'].median().to_frame('real_importance').reset_index()\n",
        "  tmp_score_df = null_imp.merge(mean_real_imp, on=['feature'], how='left')\n",
        "  tmp_score_df['is_real_better'] = tmp_score_df['real_importance'] > tmp_score_df['importance']\n",
        "  score_df = tmp_score_df.groupby('feature')['is_real_better'].sum().to_frame('C').reset_index()\n",
        "  score_df['score'] = (score_df['C'] - n_null/2)/np.sqrt(n_null/4)\n",
        "  score_df = score_df.sort_values(by=['score'], ascending=False).reset_index(drop=True)\n",
        "  return real_imp, null_imp, score_df\n",
        "\n",
        "def show_null_distribs(real_imp, null_imp, feature_list):\n",
        "  # This function is defined for data visualization\n",
        "  n = len(feature_list)\n",
        "  ncols = 2\n",
        "  nrows = (n-1)//ncols + 1\n",
        "  fig, axes = plt.subplots(nrows=nrows, ncols=ncols, figsize=(16, 5*nrows))\n",
        "  for i, feat in enumerate(feature_list):\n",
        "    fig_row = i//ncols\n",
        "    fig_col = i - fig_row*ncols\n",
        "    ax = axes[fig_row][fig_col]\n",
        "    fig.patch.set_facecolor('white')\n",
        "    p = ax.hist(null_imp.loc[null_imp['feature']==feat, 'importance'].values,\n",
        "                label='null importances',color=\"skyblue\", edgecolor= \"skyblue\")\n",
        "    ax.vlines(x=real_imp.loc[real_imp['feature']==feat, 'importance'].mean(),\n",
        "             ymin=0, ymax=np.max(p[0]),\n",
        "              color='coral',\n",
        "              linewidth=8,\n",
        "              label='real importance')\n",
        "    ax.set_title(feat, fontsize = 20)\n"
      ],
      "metadata": {
        "id": "J2yxFafS46lD"
      },
      "execution_count": null,
      "outputs": []
    },
    {
      "cell_type": "code",
      "source": [
        "def select_feature_null_importance(X_train,X_test,y_train):\n",
        "  X_train_selected = X_train[imp_score['feature'][:60]]\n",
        "  X_test_selected = X_test[imp_score['feature'][:60]]\n",
        "  return X_train_selected,X_test_selected"
      ],
      "metadata": {
        "id": "LQH-YpSqTLGd"
      },
      "execution_count": null,
      "outputs": []
    },
    {
      "cell_type": "code",
      "source": [
        "rf_params = None\n",
        "real_imp_vf, null_imp_vf, imp_score_vf = get_null_imp_distribs(X_train_vf, y_train_vf, n_null=300, rf_params=rf_params)\n",
        "real_imp_af, null_imp_af, imp_score_af = get_null_imp_distribs(X_train_af, y_train_af, n_null=300, rf_params=rf_params)\n",
        "real_imp_combined, null_imp_combined, imp_score_combined = get_null_imp_distribs(X_train_combined, y_train_combined, n_null=300, rf_params=rf_params)"
      ],
      "metadata": {
        "colab": {
          "base_uri": "https://localhost:8080/",
          "height": 113,
          "referenced_widgets": [
            "bb87f09bff934077ac0f764127a229b4",
            "3938c59337fd418b93620d6747ad139c",
            "e6f2ad0c054e46ee87ce6ec8f9bb88a7",
            "55b0039d9eac459ba3c44935ffdd9bf9",
            "8273801cb1de40e0b251b7dc587ac210",
            "ac89991f2352444389f6e63f5eea88cf",
            "471d11099873486d9f3b3aa18ac3421d",
            "cbb6c7318cc4483ebcfdea2fff9109b0",
            "b3861b0926c542ca83735ebf76a20e3c",
            "4d65a859fcfe442eb4f58c675847bf6f",
            "d6fc89e2ecb748eaa97114fc50cabf10",
            "004b9cc1a04840d89465477d357cd367",
            "e6decf7d6546459bacbf0a13df3e6dc3",
            "758f0cd5d9a74bbdb4cc4db5b21d6353",
            "756652dfd43c4d348c505ad2b036569c",
            "264ac46f7174408c81f77a3e8ced22bc",
            "4973df85fa91436baad86bcc708a16e4",
            "7c3bee8d4e644d30a5d6d6fdf309c618",
            "5fa52892e17741389bd2d4bac649d6b9",
            "b2f7fdc545134d4189fbe3cb2a362efc",
            "a670c35b2b9a4793a98c2e587db626e9",
            "a3f49670a7b94783ae04f2e6b28d6838",
            "78bce625d4674478882b8dfbd7c3e03a",
            "4861ea3f29144cd9bc806b9a152185f3",
            "c7016db1d56d416ca521950cb7fe48e6",
            "50001918ded64c6faed93819167b8038",
            "3d22a4ec47914ff699e88c6835b1c3e3",
            "4b9c7a0230aa4724931f3625899ac0c4",
            "1a6b50963b6545419ff32680c3bc6a15",
            "55a43608a8674716909210e94c18ebe2",
            "617afb811b4b422ca28fa33347dbb4f7",
            "2fbe11cdf8c44f5aa94b7e625edf9724",
            "11b7afdc2a544fa8887d252efa4ac26d"
          ]
        },
        "id": "T05YRwXrrtbE",
        "outputId": "6217b85c-2bf4-4d6a-fb98-a777b5fb4556"
      },
      "execution_count": null,
      "outputs": [
        {
          "output_type": "display_data",
          "data": {
            "text/plain": [
              "  0%|          | 0/300 [00:00<?, ?it/s]"
            ],
            "application/vnd.jupyter.widget-view+json": {
              "version_major": 2,
              "version_minor": 0,
              "model_id": "bb87f09bff934077ac0f764127a229b4"
            }
          },
          "metadata": {}
        },
        {
          "output_type": "display_data",
          "data": {
            "text/plain": [
              "  0%|          | 0/300 [00:00<?, ?it/s]"
            ],
            "application/vnd.jupyter.widget-view+json": {
              "version_major": 2,
              "version_minor": 0,
              "model_id": "004b9cc1a04840d89465477d357cd367"
            }
          },
          "metadata": {}
        },
        {
          "output_type": "display_data",
          "data": {
            "text/plain": [
              "  0%|          | 0/300 [00:00<?, ?it/s]"
            ],
            "application/vnd.jupyter.widget-view+json": {
              "version_major": 2,
              "version_minor": 0,
              "model_id": "78bce625d4674478882b8dfbd7c3e03a"
            }
          },
          "metadata": {}
        }
      ]
    },
    {
      "cell_type": "markdown",
      "source": [
        "Recursive Feature Elimination with Random Forest"
      ],
      "metadata": {
        "id": "vgVBRGmfUZAO"
      }
    },
    {
      "cell_type": "code",
      "source": [
        "rf = RandomForestClassifier(random_state=42,verbose=True)\n",
        "# Recursively eliminate features with cross validation\n",
        "min_features_to_select = 1\n",
        "rfecv = RFECV(estimator=rf, min_features_to_select =min_features_to_select, step = 1, cv=3, scoring='f1_weighted')\n",
        "rfecv.fit(X_train_af, y_train_af)\n",
        "rfe_feature_af = rfecv.support_\n",
        "X_test_af.iloc[:, rfe_feature_af]\n",
        "rfe_selected_feature_af = X_test_af.iloc[:, rfe_feature_af].columns.values.tolist()\n",
        "\n",
        "rf = RandomForestClassifier(random_state=42,verbose=True)\n",
        "# Recursively eliminate features with cross validation\n",
        "min_features_to_select = 1\n",
        "rfecv = RFECV(estimator=rf, min_features_to_select =min_features_to_select, step = 5, cv=3, scoring='f1_weighted')\n",
        "rfecv.fit(X_train_vf, y_train_vf)\n",
        "rfe_feature_vf = rfecv.support_\n",
        "X_test_vf.iloc[:, rfe_feature_vf]\n",
        "rfe_selected_feature_vf = X_test_vf.iloc[:, rfe_feature_vf].columns.values.tolist()\n",
        "\n",
        "rf = RandomForestClassifier(random_state=42,verbose=True)\n",
        "# Recursively eliminate features with cross validation\n",
        "min_features_to_select = 1\n",
        "rfecv = RFECV(estimator=rf, min_features_to_select =min_features_to_select, step = 5, cv=3, scoring='f1_weighted')\n",
        "rfecv.fit(X_train_combined, y_train_combined)\n",
        "rfe_feature_combined = rfecv.support_\n",
        "X_test_combined.iloc[:, rfe_feature_combined]\n",
        "rfe_selected_feature_combined = X_test_combined.iloc[:, rfe_feature_combined].columns.values.tolist()"
      ],
      "metadata": {
        "id": "18BaRc5iUVmB"
      },
      "execution_count": null,
      "outputs": []
    },
    {
      "cell_type": "markdown",
      "metadata": {
        "id": "dMSqRv_UVeoY"
      },
      "source": [
        "## VI. Build Classifiers"
      ]
    },
    {
      "cell_type": "markdown",
      "metadata": {
        "id": "P2XTsRgRVeoY"
      },
      "source": [
        "#### **Baseline Model**"
      ]
    },
    {
      "cell_type": "markdown",
      "metadata": {
        "id": "aWg84UjhVeoY"
      },
      "source": [
        "**Baseline Model** predicts the label with majority group in training data"
      ]
    },
    {
      "cell_type": "code",
      "execution_count": null,
      "metadata": {
        "id": "qUj-lPqdVeoZ"
      },
      "outputs": [],
      "source": [
        "def baseline(X_train, X_test, y_train, y_test):\n",
        "    # baseline predicts the cry reason with majority group in y_train\n",
        "    stats = Counter(y_train)\n",
        "    majority_group = max(stats, key=lambda key: stats[key])\n",
        "    y_pred = [majority_group for i in range(y_test.shape[0])]\n",
        "    return y_pred"
      ]
    },
    {
      "cell_type": "markdown",
      "metadata": {
        "id": "wU34Br0fVeoZ"
      },
      "source": [
        "#### **Random Forest**"
      ]
    },
    {
      "cell_type": "markdown",
      "metadata": {
        "id": "OxzHq7EzVeoZ"
      },
      "source": [
        "**Random Forest (RF)**: RF combines the outputs of all decision trees (DT) to generate a single classification label.\n",
        "\n",
        "For each DT:\n",
        "\n",
        "(1) Draw a bootstrap sample of size N from training data\n",
        "\n",
        "(2) Grow a RF tree with bootstrap sample by recursively repeat the steps below  at node until hyperparameter setting  is reached.\n",
        "\n",
        "    Select a subset of variable at random\n",
        "    Perform partition\n",
        "\n",
        "Combine the output of all trees by taking the majority vote of classification prediction from all trees.\n"
      ]
    },
    {
      "cell_type": "code",
      "source": [
        "def rf(XX_train_processed, X_test_processed, y_train_processed, y_test_processed):\n",
        "\n",
        "    # Set hyperparameters grid\n",
        "    n_estimators = [50,100,200,300,400] # Number of trees in random forest\n",
        "    max_features = [None]\n",
        "    max_depth = [None] # Maximum number of levels in tree\n",
        "    max_depth.append(None)\n",
        "    min_samples_split = [2] # Minimum number of samples required to split a node\n",
        "    min_samples_leaf = [1] # Minimum number of samples required at each leaf node\n",
        "    bootstrap = [True] # Method of selecting samples for training each tree\n",
        "    # Create the hyperparameter grid\n",
        "    random_grid = {'n_estimators': n_estimators,\n",
        "                   'max_features': max_features,\n",
        "                   'max_depth': max_depth,\n",
        "                   'min_samples_split': min_samples_split,\n",
        "                   'min_samples_leaf': min_samples_leaf,\n",
        "                   'bootstrap': bootstrap}\n",
        "\n",
        "    # Set the base model\n",
        "    rf_model = RandomForestClassifier()\n",
        "    # Find the hyperparameter combination that returns the best result\n",
        "    rf_model_optimal = GridSearchCV(estimator = rf_model,\n",
        "                                        param_grid = random_grid,\n",
        "                                        cv = 2,# 2-fold cross validation,\n",
        "                                        verbose=2,# the computation time for each fold, parameter candidate, and the score are displayed\n",
        "                                        n_jobs = -1) #using all processor\n",
        "\n",
        "    rf_model_optimal.fit(X_train_processed, y_train_processed)\n",
        "\n",
        "    y_pred = rf_model_optimal.predict(X_test_processed)\n",
        "    return y_pred"
      ],
      "metadata": {
        "id": "e6OK6sU6pW4L"
      },
      "execution_count": null,
      "outputs": []
    },
    {
      "cell_type": "markdown",
      "source": [
        "## **KNN**   \n",
        "The k-nearest neighbors algorithm (KNN) is a non-parametric supervised learning algorithm first developed by Evelyn Fix and Joseph Hodges in 1951. An observation is assigned to the most common class of its k nearest neighbors."
      ],
      "metadata": {
        "id": "u0nh3SBLAgI7"
      }
    },
    {
      "cell_type": "code",
      "source": [
        "def knn(X_train_processed, X_test_processed, y_train_processed, y_test_processed):\n",
        "  knn = KNeighborsClassifier()\n",
        "  params = {'n_neighbors':[1,2,3,4,5,6],\n",
        "            'leaf_size':list(range(1,50,5))}\n",
        "  optimal_knn = GridSearchCV(knn, param_grid= params, cv = 5,scoring='f1_weighted',verbose=1)\n",
        "  optimal_knn.fit(X_train_processed, y_train_processed)\n",
        "  y_pred = optimal_knn.predict(X_test_processed)\n",
        "  print('best params',optimal_knn.best_params_)\n",
        "  return y_pred"
      ],
      "metadata": {
        "id": "mugwRNC5BmWA"
      },
      "execution_count": null,
      "outputs": []
    },
    {
      "cell_type": "markdown",
      "source": [
        "## **SVM**"
      ],
      "metadata": {
        "id": "9_w772EZFV9z"
      }
    },
    {
      "cell_type": "markdown",
      "source": [
        "Its main objective is to identify the best hyperplane in an N-dimensional space that effectively separates data points into distinct classes. The algorithm achieves this by maximizing the margin between the hyperplane and the closest data points from each class, which are referred to as “support vectors”."
      ],
      "metadata": {
        "id": "CAuzEOwg3KOw"
      }
    },
    {
      "cell_type": "code",
      "source": [
        "def svm(X_train_processed, X_test_processed, y_train_processed, y_test_processed):\n",
        "\n",
        "    # Create the hyperparameter grid\n",
        "    param_grid = [{'kernel': ['rbf','poly','sigmoid'],\n",
        "                    'gamma': [1e-2,1e-3],\n",
        "                    'C': [1,10,100],\n",
        "                    'degree':[2,3]}]\n",
        "\n",
        "    # Set the base model with class_weight as balanced\n",
        "    svm_grid_model = SVC()\n",
        "    # Find the hyperparameter combination that returns the best result\n",
        "    svm_grid_model_optimal = GridSearchCV(estimator = svm_grid_model,\n",
        "                                        param_grid = param_grid,\n",
        "                                        refit=True, # refit the model with best paramter on the dataset\n",
        "                                        cv = 2,# 4-fold cross validation,\n",
        "                                        verbose=2,# the computation time for each fold, parameter candidate, and the score are displayed\n",
        "                                        n_jobs = -1) #using all processor\n",
        "\n",
        "    # fit the model\n",
        "    svm_grid_model_optimal.fit(X_train_processed, y_train_processed)\n",
        "\n",
        "    # Get the best SVM classifier from the grid search\n",
        "    y_pred = svm_grid_model_optimal.predict(X_test_processed)\n",
        "\n",
        "    print('best params',svm_grid_model_optimal.best_params_)\n",
        "\n",
        "    return y_pred"
      ],
      "metadata": {
        "id": "EUJ0N_plE0x9"
      },
      "execution_count": null,
      "outputs": []
    },
    {
      "cell_type": "markdown",
      "source": [
        "## **XGBoost**"
      ],
      "metadata": {
        "id": "vZxbhMVqyh5F"
      }
    },
    {
      "cell_type": "code",
      "source": [
        "# XGB with hyperparameters\n",
        "def xgb_hyperparam_weights(X_train_processed, X_test_processed, y_train_processed, y_test_processed):\n",
        "  X_train, X_val, y_train, y_val = train_test_split(X_train_processed,\n",
        "                                                    y_train_processed,\n",
        "                                                    test_size=0.3,\n",
        "                                                    stratify=y_train_processed,\n",
        "                                                    shuffle=True,\n",
        "                                                    random_state=42)\n",
        "  sample_weight = compute_sample_weight(class_weight='balanced', y=y_train)\n",
        "  params = {\n",
        "        'min_child_weight': [5, 10],\n",
        "        'gamma': [0 , 0.5, 1.5],\n",
        "        'subsample': [0.6, 0.8],\n",
        "        'colsample_bytree': [0.6, 0.8],\n",
        "        'max_depth': [3, 6],\n",
        "        'learning_rate': [0.01, 0.1]\n",
        "        }\n",
        "\n",
        "  xgbhyp = xgb.XGBClassifier(\n",
        "                            objective='multi:softmax',\n",
        "                            eval_metric=['merror','mlogloss'],\n",
        "                            reg_lambda=1,\n",
        "                            early_stopping_rounds=10,\n",
        "                            seed=33\n",
        "                             )\n",
        "\n",
        "  xgb_model = GridSearchCV(\n",
        "                          estimator=xgbhyp,\n",
        "                           param_grid=params,\n",
        "                           cv=2,\n",
        "                           verbose=2,\n",
        "                           n_jobs = -1\n",
        "                           )\n",
        "\n",
        "\n",
        "  # training the model\n",
        "  xgb_model.fit(\n",
        "                X_train,y_train,\n",
        "                eval_set=[(X_train, y_train),(X_val, y_val)],\n",
        "                sample_weight= sample_weight,\n",
        "                verbose= 0\n",
        "                )\n",
        "\n",
        "  # Get the best classifier from the grid search\n",
        "  best_model = xgb_model.best_estimator_\n",
        "  # best hyperparams\n",
        "  print(xgb_model.best_params_)\n",
        "\n",
        "  # testing the model\n",
        "  y_preds = best_model.predict(X_test_processed)\n",
        "  return y_preds"
      ],
      "metadata": {
        "id": "huxOcuboyhds"
      },
      "execution_count": null,
      "outputs": []
    },
    {
      "cell_type": "markdown",
      "metadata": {
        "id": "7HcCiFu2Veoe"
      },
      "source": [
        "## VII. Report Performance"
      ]
    },
    {
      "cell_type": "markdown",
      "source": [
        "This study will be done using 2 feature selection algorithms, 4 resampling strategies, 5 classification algorithms, and 3 input feature sets."
      ],
      "metadata": {
        "id": "LS-ODMXnEm8L"
      }
    },
    {
      "cell_type": "markdown",
      "source": [
        "## Feature Selection/ Dimensionality Reduction Algorithms:\n",
        "\n",
        "Feature Selection:   \n",
        "Feature selection based on real Gini importance and distribution of null Importances\n",
        "SVM Recursive Feature Elimination\n",
        "\n",
        "Dimensionality Reduction:  \n",
        "Principal Component Analysis (PCA) and\n",
        "Linear Discriminant Analysis (LDA)\n",
        "\n"
      ],
      "metadata": {
        "id": "oMxF1EDUq6RY"
      }
    },
    {
      "cell_type": "markdown",
      "source": [
        "### Resampling Techniques:"
      ],
      "metadata": {
        "id": "hF0Kg4ZGqJzB"
      }
    },
    {
      "cell_type": "markdown",
      "source": [
        "**Random Oversampling** (ROS) (Japkowicz, 2000) duplicates instances from the minority class.   \n",
        "\n",
        "**Synthetic Minority Oversampling Technique** (SMOTE) (Chawla et al., 2002) generates instances that are close in feature space, using interpolation between positive cases that are close to each other.  \n",
        "\n",
        "**Adaptive Synthetic** (ADASYN) algorithm (He et al., 2008) adaptively generates minority data samples according to their distributions.   \n",
        "\n",
        "**Borderline SMOTE** (Han, Wang and Mao, 2005) finds out the borderline minority samples and generates synthetic samples along the line between the borderline samples and their nearest neighbors of the same class\n",
        "\n"
      ],
      "metadata": {
        "id": "QWQWw_6Hp07r"
      }
    },
    {
      "cell_type": "markdown",
      "source": [
        "### Classification Algorithms:"
      ],
      "metadata": {
        "id": "s-0WL4A1qwLG"
      }
    },
    {
      "cell_type": "markdown",
      "source": [
        "  \n",
        "\n",
        "*   Random Forest (RF)\n",
        "*   XGBoost\n",
        "*   Support Vector Machine (SVM)  \n",
        "*   K-Nearest Neighbors (KNN) Algorithm  \n",
        "*   Fuzzy SVM for Class Imbalanced Learning (FSVM-CIL) proposed by Batuwita and Palade in 2010. This algorithm assigns each sample a fuzzy membership value based on its relevance, making it less sensitive to noise or outliers in the data.  \n"
      ],
      "metadata": {
        "id": "XhktPJRyqq1R"
      }
    },
    {
      "cell_type": "markdown",
      "source": [
        "### Inputs\n",
        "\n"
      ],
      "metadata": {
        "id": "GOXGPv3a9pUx"
      }
    },
    {
      "cell_type": "markdown",
      "source": [
        "\n",
        "\n",
        "*   Visual Features: LBP and HOG features extracted from Spectrogram images.\n",
        "*   Acoustic Features: MFCC, LPCC, F1,F2,F3 features extracted from audios.\n",
        "*   Combined feature set that include both visual features and acoustic features\n",
        "\n",
        "\n",
        "\n"
      ],
      "metadata": {
        "id": "H_00nei09z7U"
      }
    },
    {
      "cell_type": "code",
      "source": [
        "# Define function for reporting performance metrics\n",
        "\n",
        "def report_performance(test_df,y_pred):\n",
        "    # input: test data that contains both real label of cry reason and all features\n",
        "    # output: a dictionary with metric names as keys.\n",
        "\n",
        "    # calculate the number of audios by cry reason\n",
        "    test_count = test_df.groupby(['cry_reason']).size()\n",
        "    reason_dict = test_count.to_dict()\n",
        "\n",
        "    # build a function that only keeps the most frequent cry reason from an array\n",
        "    def parse_pred(entry):\n",
        "        if isinstance(entry, str) or isinstance(entry, np.int64) or isinstance(entry, int) or isinstance(entry, np.int32):\n",
        "            return entry\n",
        "        return max(entry, key=lambda x: reason_dict[x])\n",
        "    # if model == \"knn(X_train_processed,X_test_processed, y_train_processed, y_test_processed)\":\n",
        "    #   def parse_pred(entry):\n",
        "    #       if isinstance(entry, int) or isinstance(entry, np.int64):\n",
        "    #           return entry\n",
        "    #       return max(entry, key=lambda x: reason_dict[x])\n",
        "    pred_dict = {'audio_index': test_df['audio_index'], 'y_test': test_df['cry_reason'], 'y_pred': y_pred}\n",
        "    temp_df = pd.DataFrame(pred_dict)\n",
        "\n",
        "    # predict the entire audio's cry reason based on the majority group of predicted labels of its cuts\n",
        "    temp_result = temp_df.groupby(['audio_index'])[['y_test','y_pred']].agg(pd.Series.mode)\n",
        "    temp_result['y_pred'] = temp_result['y_pred'].map(parse_pred)\n",
        "\n",
        "    # calculate precision, recall, and f1 based on the cry reason of orginal audio and predictions\n",
        "    precision_1, recall_1,f1_1, null_value_1 = precision_recall_fscore_support(temp_result['y_test'],\n",
        "                                                                               temp_result['y_pred'],\n",
        "                                                                               average='macro',\n",
        "                                                                               zero_division=0)\n",
        "\n",
        "    precision_2, recall_2,f1_2, null_value_2 = precision_recall_fscore_support(temp_result['y_test'],\n",
        "                                                                               temp_result['y_pred'],\n",
        "                                                                               average='weighted',\n",
        "                                                                               zero_division=0)\n",
        "    # calucate accuracy rate\n",
        "\n",
        "    accuracy = accuracy_score(temp_result['y_test'],temp_result['y_pred'])\n",
        "    return {\n",
        "        'precision_macro': precision_1,\n",
        "        'recall_macro': recall_1,\n",
        "        'f1_macro': f1_1,\n",
        "        'precision_weighted': precision_2,\n",
        "        'recall_weighted': recall_2,\n",
        "        'f1_weighted': f1_2,\n",
        "        'accuracy': accuracy\n",
        "    }"
      ],
      "metadata": {
        "id": "hUaDJ6dHBD_l"
      },
      "execution_count": null,
      "outputs": []
    },
    {
      "cell_type": "code",
      "source": [
        "imp_score_dict = {\n",
        "    \"Visual Features\": imp_score_vf['feature'][:60],\n",
        "    \"Acoustic Features\":imp_score_af['feature'][:60],\n",
        "    \"Combined Features\":imp_score_combined['feature'][:60]\n",
        "}"
      ],
      "metadata": {
        "id": "jMR_sXRcs-aH"
      },
      "execution_count": null,
      "outputs": []
    },
    {
      "cell_type": "code",
      "source": [
        "#intermediate results from previous run\n",
        "rfe_selected_feature_vf = ['vf_159', 'vf_179', 'vf_187', 'vf_198', 'vf_224', 'vf_251', 'vf_255', 'vf_319', 'vf_321', 'vf_383', 'vf_398', 'vf_399', 'vf_447', 'vf_496', 'vf_511', 'vf_543', 'vf_640', 'vf_643', 'vf_657', 'vf_710', 'vf_761', 'vf_771', 'vf_775', 'vf_783', 'vf_811', 'vf_828', 'vf_835', 'vf_839', 'vf_888', 'vf_892', 'vf_897', 'vf_899', 'vf_903', 'vf_908', 'vf_912', 'vf_952', 'vf_956', 'vf_957', 'vf_960', 'vf_993', 'vf_1055', 'vf_1082', 'vf_1244', 'vf_1253', 'vf_1257', 'vf_1262', 'vf_1270', 'vf_1305', 'vf_1316', 'vf_1325', 'vf_1342', 'vf_1345', 'vf_1380', 'vf_1460', 'vf_1504', 'vf_1514', 'vf_1521', 'vf_1527', 'vf_1594', 'vf_1609', 'vf_1683', 'vf_1748', 'vf_1755', 'vf_1758', 'vf_1764', 'vf_1805', 'vf_1846', 'vf_1881', 'vf_1935', 'vf_1948', 'vf_1966', 'vf_1998', 'vf_2024', 'vf_2026', 'vf_2059', 'vf_2087', 'vf_2089', 'vf_2092', 'vf_2146', 'vf_2258', 'vf_2260', 'vf_2264', 'vf_2271', 'vf_2284', 'vf_2292', 'vf_2310', 'vf_2312', 'vf_2314', 'vf_2326', 'vf_2385', 'vf_2415', 'vf_2422', 'vf_2444', 'vf_2449', 'vf_2493', 'vf_2528', 'vf_2544', 'vf_2547', 'vf_2550', 'vf_2558', 'vf_2560', 'vf_2567', 'vf_2577', 'vf_2594', 'vf_2603', 'vf_2638', 'vf_2646', 'vf_2648', 'vf_2665', 'vf_2667', 'vf_2670', 'vf_2683', 'vf_2696', 'vf_2712', 'vf_2719', 'vf_2739', 'vf_2774', 'vf_2779']\n",
        "rfe_selected_feature_af = ['f1_mean', 'f2_mean', 'f3_mean', 'f1_med', 'f2_med', 'f3_med',\n",
        "                           'f1_min', 'f2_min', 'f3_min', 'f1_max', 'f2_max', 'f3_max', 'f1_r',\n",
        "                           'f3_r', 'f1_bwd', 'f2_bwd', 'f3_bwd', 'f1_sd', 'f3_sd',\n",
        "                           'mfcc_mean0', 'mfcc_mean1', 'mfcc_mean2', 'mfcc_mean3',\n",
        "                           'mfcc_mean4', 'mfcc_mean5', 'mfcc_mean6', 'mfcc_mean7',\n",
        "                           'mfcc_mean8', 'mfcc_mean10', 'mfcc_mean11', 'mfcc_med0',\n",
        "                           'mfcc_med1', 'mfcc_med2', 'mfcc_med4', 'mfcc_med5', 'mfcc_med6',\n",
        "                           'mfcc_med7', 'mfcc_med8', 'mfcc_med10', 'mfcc_med11', 'mfcc_med12',\n",
        "                           'mfcc_sd2', 'mfcc_sd3', 'mfcc_sd4', 'mfcc_sd6', 'mfcc_sd8',\n",
        "                           'mfcc_sd12']\n",
        "rfe_selected_feature_combined = ['f3_mean', 'f1_med', 'f1_min', 'f3_min', 'f3_r', 'mfcc_mean5', 'vf_132', 'vf_319', 'vf_398', 'vf_399', 'vf_511', 'vf_543', 'vf_775', 'vf_828', 'vf_835', 'vf_952', 'vf_1055', 'vf_1244', 'vf_1253', 'vf_1262', 'vf_1270', 'vf_1504', 'vf_1764', 'vf_1881', 'vf_2059', 'vf_2087', 'vf_2146', 'vf_2493', 'vf_2577', 'vf_2665', 'vf_2667', 'vf_2779']"
      ],
      "metadata": {
        "id": "Lx_RJGisMqk1"
      },
      "execution_count": null,
      "outputs": []
    },
    {
      "cell_type": "code",
      "source": [
        "rfe_feature_dict = {\n",
        "    \"Visual Features\": rfe_selected_feature_vf,\n",
        "    \"Acoustic Features\":rfe_selected_feature_af,\n",
        "    \"Combined Features\":rfe_selected_feature_combined\n",
        "}"
      ],
      "metadata": {
        "id": "7jeBwhaRUDT-"
      },
      "execution_count": null,
      "outputs": []
    },
    {
      "cell_type": "code",
      "source": [
        "# Run All Models and Report Performance FS + Resampling\n",
        "models = [ 'svm(X_train_processed, X_test_processed, y_train_processed, y_test_processed)',\n",
        "          'rf(X_train_processed, X_test_processed, y_train_processed, y_test_processed)',\n",
        "          'knn(X_train_processed,X_test_processed, y_train_processed, y_test_processed)',\n",
        "           'xgb_hyperparam_weights(X_train_processed, X_test_processed, y_train_processed, y_test_processed)']\n",
        "\n",
        "oversampling_methods = ['SMOTE','ADASYN','ROS',\"BorderlineSMOTE\",'None']\n",
        "feature_selection_options = ['RFERF','FSGINI','PCA','None']\n",
        "feature_selection_options = ['RFERF']\n",
        "input_options = [\"Visual Features\",\"Acoustic Features\", \"Combined Features\"]\n",
        "\n",
        "# Run baseline model\n",
        "y_pred = baseline(X_train_combined, X_test_combined, y_train_combined, y_test_combined)\n",
        "metrics_dict = report_performance(test_df_combined,y_pred)\n",
        "metrics_df = pd.Series(metrics_dict).to_frame().T\n",
        "metrics_df['model_name'] = \"baseline\"\n",
        "metrics_df['oversampling_method'] = \"None\"\n",
        "metrics_df['fs_option'] = \"None\"\n",
        "metrics_df['feature'] = \"None\"\n",
        "\n",
        "# loop through all combinations of feature selection algorithms, resampling strategies, classification algorithms, and input feature sets\n",
        "for i, model in enumerate(models):\n",
        "  for oversampling_method in oversampling_methods:\n",
        "    for fs in feature_selection_options:\n",
        "      for feature_set in input_options:\n",
        "        print(\"Model name:\" + model)\n",
        "        print(\"Resampling Method:\" + oversampling_method)\n",
        "        print(\"feature_selection_options:\" + fs)\n",
        "        print(\"Inputs:\" + feature_set)\n",
        "        # Use visual features as inputs\n",
        "        if feature_set == \"Visual Features\":\n",
        "          X_train_processed = X_train_vf\n",
        "          y_train_processed = y_train_vf\n",
        "          X_test_processed = X_test_vf\n",
        "          y_test_processed = y_test_vf\n",
        "          test_df = test_df_vf\n",
        "        # Use acoustic features as inputs\n",
        "        if feature_set == \"Acoustic Features\":\n",
        "          X_train_processed = X_train_af\n",
        "          y_train_processed = y_train_af\n",
        "          X_test_processed = X_test_af\n",
        "          y_test_processed = y_test_af\n",
        "          test_df = test_df_af\n",
        "        if feature_set == \"Combined Features\":\n",
        "          X_train_processed = X_train_combined\n",
        "          y_train_processed = y_train_combined\n",
        "          X_test_processed = X_test_combined\n",
        "          y_test_processed = y_test_combined\n",
        "          test_df = test_df_combined\n",
        "        if fs ==\"PCA\":\n",
        "          X_train_processed, X_test_processed = derive_pc(X_train_processed, X_test_processed)\n",
        "        if fs ==\"FSGINI\":\n",
        "          X_train_processed = X_train_processed[imp_score_dict[feature_set]]\n",
        "          X_test_processed = X_test_processed[imp_score_dict[feature_set]]\n",
        "        if fs ==\"RFERF\":\n",
        "          X_train_processed = X_train_processed[rfe_feature_dict[feature_set]]\n",
        "          X_test_processed = X_test_processed[rfe_feature_dict[feature_set]]\n",
        "        # oversample the minority group with SMOTE\n",
        "        if oversampling_method ==\"SMOTE\":\n",
        "          smt = SMOTE()\n",
        "          X_train_processed, y_train_processed = smt.fit_resample(X_train_processed, y_train_processed)\n",
        "        # oversample the minority group with Adaptive Synthetic (ADASYN) algorithm\n",
        "        if oversampling_method ==\"ADASYN\":\n",
        "          ada = ADASYN(random_state=42)\n",
        "          X_train_processed, y_train_processed = ada.fit_resample(X_train_processed, y_train_processed)\n",
        "        # oversample the minority group with random over sampler\n",
        "        if oversampling_method ==\"ROS\":\n",
        "          ros = RandomOverSampler(random_state=42)\n",
        "          X_train_processed, y_train_processed = ros.fit_resample(X_train_processed, y_train_processed)\n",
        "        # oversample the minority group with BorderlineSMOTE\n",
        "        if oversampling_method ==\"BorderlineSMOTE\":\n",
        "          borderlinesmote = BorderlineSMOTE(random_state=42)\n",
        "          X_train_processed, y_train_processed = borderlinesmote.fit_resample(X_train_processed, y_train_processed)\n",
        "        # Train model and make prediction based on the processed data\n",
        "        y_pred = eval(model)\n",
        "        # Report performance\n",
        "        metrics_dict = report_performance(test_df,y_pred)\n",
        "        temp_df = pd.Series(metrics_dict).to_frame().T\n",
        "        temp_df['model_name'] = model.split('(')[0]\n",
        "        temp_df['oversampling_method'] = oversampling_method\n",
        "        temp_df['fs_option'] = fs\n",
        "        temp_df['feature'] = feature_set\n",
        "        metrics_df = pd.concat([metrics_df, temp_df],axis = 0)\n",
        "        print(temp_df)\n",
        "metrics_df"
      ],
      "metadata": {
        "id": "GFguCTd6dPkJ"
      },
      "execution_count": null,
      "outputs": []
    },
    {
      "cell_type": "code",
      "source": [
        "#SMOTE\n",
        "smt = SMOTE()\n",
        "X_train_processed = X_train_vf\n",
        "y_train_processed = y_train_vf\n",
        "X_test_processed = X_test_vf\n",
        "y_test_processed = y_test_vf\n",
        "X_train_processed, y_train_processed = smt.fit_resample(X_train_processed, y_train_processed)\n",
        "rf = RandomForestClassifier(random_state=42,verbose=True)\n",
        "# Recursively eliminate features with cross validation\n",
        "min_features_to_select = 1\n",
        "rfecv = RFECV(estimator=rf, min_features_to_select =min_features_to_select, step = 5, cv=3, scoring='f1_weighted')\n",
        "rfecv.fit(X_train_processed, y_train_processed)\n",
        "rfe_feature = rfecv.support_\n",
        "X_test_processed.iloc[:, rfe_feature]\n",
        "rfe_selected_feature_SMOTE = X_test_processed.iloc[:, rfe_feature].columns.values.tolist()\n",
        "print(rfe_selected_feature_SMOTE)"
      ],
      "metadata": {
        "id": "p8gokubfBIF5"
      },
      "execution_count": null,
      "outputs": []
    },
    {
      "cell_type": "code",
      "source": [
        "#ADASYN\n",
        "X_train_processed = X_train_vf\n",
        "y_train_processed = y_train_vf\n",
        "X_test_processed = X_test_vf\n",
        "y_test_processed = y_test_vf\n",
        "ada = ADASYN(random_state=42)\n",
        "X_train_processed, y_train_processed = ada.fit_resample(X_train_processed, y_train_processed)\n",
        "rf = RandomForestClassifier(random_state=42,verbose=True)\n",
        "# Recursively eliminate features with cross validation\n",
        "min_features_to_select = 1\n",
        "rfecv = RFECV(estimator=rf, min_features_to_select =min_features_to_select, step = 5, cv=3, scoring='f1_weighted')\n",
        "rfecv.fit(X_train_processed, y_train_processed)\n",
        "rfe_feature = rfecv.support_\n",
        "X_test_processed.iloc[:, rfe_feature]\n",
        "rfe_selected_feature_ADASYN = X_test_processed.iloc[:, rfe_feature].columns.values.tolist()\n",
        "print(\"ADASYN\")\n",
        "print(rfe_selected_feature_ADASYN)"
      ],
      "metadata": {
        "id": "X0hOPu7pBJS5"
      },
      "execution_count": null,
      "outputs": []
    },
    {
      "cell_type": "code",
      "source": [
        "#ROS\n",
        "X_train_processed = X_train_vf\n",
        "y_train_processed = y_train_vf\n",
        "X_test_processed = X_test_vf\n",
        "y_test_processed = y_test_vf\n",
        "ros = RandomOverSampler(random_state=42)\n",
        "X_train_processed, y_train_processed = ros.fit_resample(X_train_processed, y_train_processed)\n",
        "rf = RandomForestClassifier(random_state=42,verbose=True)\n",
        "# Recursively eliminate features with cross validation\n",
        "min_features_to_select = 1\n",
        "rfecv = RFECV(estimator=rf, min_features_to_select =min_features_to_select, step = 5, cv=3, scoring='f1_weighted')\n",
        "rfecv.fit(X_train_processed, y_train_processed)\n",
        "rfe_feature = rfecv.support_\n",
        "X_test_processed.iloc[:, rfe_feature]\n",
        "rfe_selected_feature_ROS = X_test_processed.iloc[:, rfe_feature].columns.values.tolist()\n",
        "print(rfe_selected_feature_ROS)"
      ],
      "metadata": {
        "id": "Nh8WlnUVBMgE"
      },
      "execution_count": null,
      "outputs": []
    },
    {
      "cell_type": "code",
      "source": [
        "#BorderlineSMOTE\n",
        "X_train_processed = X_train_vf\n",
        "y_train_processed = y_train_vf\n",
        "X_test_processed = X_test_vf\n",
        "y_test_processed = y_test_vf\n",
        "borderlinesmote = BorderlineSMOTE(random_state=42)\n",
        "X_train_processed, y_train_processed = borderlinesmote.fit_resample(X_train_processed, y_train_processed)\n",
        "rf = RandomForestClassifier(random_state=42,verbose=True)\n",
        "# Recursively eliminate features with cross validation\n",
        "min_features_to_select = 1\n",
        "rfecv = RFECV(estimator=rf, min_features_to_select =min_features_to_select, step = 5, cv=3, scoring='f1_weighted')\n",
        "rfecv.fit(X_train_processed, y_train_processed)\n",
        "rfe_feature = rfecv.support_\n",
        "X_test_processed.iloc[:, rfe_feature]\n",
        "rfe_selected_feature_BorderlineSMOTE = X_test_processed.iloc[:, rfe_feature].columns.values.tolist()\n",
        "print(rfe_selected_feature_BorderlineSMOTE)"
      ],
      "metadata": {
        "id": "_Li1nLwoBOtl"
      },
      "execution_count": null,
      "outputs": []
    },
    {
      "cell_type": "code",
      "source": [
        "rfe_feature_dict = {\n",
        "    \"ADASYN\": rfe_selected_feature_ADASYN,\n",
        "    \"ROS\":rfe_selected_feature_ROS,\n",
        "    \"BorderlineSMOTE\": rfe_selected_feature_BorderlineSMOTE,\n",
        "    \"SMOTE\": rfe_selected_feature_SMOTE\n",
        "}"
      ],
      "metadata": {
        "id": "cXmrueaDTuKW"
      },
      "execution_count": null,
      "outputs": []
    },
    {
      "cell_type": "code",
      "source": [
        "# Run All Models and Report Performance Resampling + FS\n",
        "models = [ 'svm(X_train_processed, X_test_processed, y_train_processed, y_test_processed)',\n",
        "           'rf(X_train_processed, X_test_processed, y_train_processed, y_test_processed)',\n",
        "           'knn(X_train_processed,X_test_processed, y_train_processed, y_test_processed)',\n",
        "           'xgb_hyperparam_weights(X_train_processed, X_test_processed, y_train_processed, y_test_processed)']\n",
        "\n",
        "#oversampling_methods = ['ADASYN','ROS',\"BorderlineSMOTE\",'None']\n",
        "oversampling_methods = ['ADASYN','ROS',\"BorderlineSMOTE\",\"SMOTE\"]\n",
        "#feature_selection_options = ['FSGINI','PCA','None']\n",
        "feature_selection_options = ['RFERF']\n",
        "#input_options = [\"Visual Features\",\"Acoustic Features\", \"Combined Features\"]\n",
        "input_options = [\"Visual Features\"]\n",
        "\n",
        "# Run baseline model\n",
        "y_pred = baseline(X_train_vf, X_test_vf, y_train_vf, y_test_vf)\n",
        "metrics_dict = report_performance(test_df_vf,y_pred)\n",
        "metrics_df = pd.Series(metrics_dict).to_frame().T\n",
        "metrics_df['model_name'] = \"baseline\"\n",
        "metrics_df['oversampling_method'] = \"None\"\n",
        "metrics_df['fs_option'] = \"None\"\n",
        "metrics_df['feature'] = \"None\"\n",
        "\n",
        "# loop through all combinations of feature selection algorithms, resampling strategies, classification algorithms, and input feature sets\n",
        "for i, model in enumerate(models):\n",
        "  for oversampling_method in oversampling_methods:\n",
        "    for fs in feature_selection_options:\n",
        "      for feature_set in input_options:\n",
        "        print(\"Model name:\" + model)\n",
        "        print(\"Resampling Method:\" + oversampling_method)\n",
        "        print(\"feature_selection_options:\" + fs)\n",
        "        print(\"Inputs:\" + feature_set)\n",
        "        # Use visual features as inputs\n",
        "        if feature_set == \"Visual Features\":\n",
        "          X_train_processed = X_train_vf\n",
        "          y_train_processed = y_train_vf\n",
        "          X_test_processed = X_test_vf\n",
        "          y_test_processed = y_test_vf\n",
        "          test_df = test_df_vf\n",
        "        # Use acoustic features as inputs\n",
        "        if feature_set == \"Acoustic Features\":\n",
        "          X_train_processed = X_train_af\n",
        "          y_train_processed = y_train_af\n",
        "          X_test_processed = X_test_af\n",
        "          y_test_processed = y_test_af\n",
        "          test_df = test_df_af\n",
        "        if feature_set == \"Combined Features\":\n",
        "          X_train_processed = X_train_combined\n",
        "          y_train_processed = y_train_combined\n",
        "          X_test_processed = X_test_combined\n",
        "          y_test_processed = y_test_combined\n",
        "          test_df = test_df_combined\n",
        "        # oversample the minority group with SMOTE\n",
        "        if oversampling_method ==\"SMOTE\":\n",
        "          smt = SMOTE()\n",
        "          X_train_processed, y_train_processed = smt.fit_resample(X_train_processed, y_train_processed)\n",
        "        # oversample the minority group with Adaptive Synthetic (ADASYN) algorithm\n",
        "        if oversampling_method ==\"ADASYN\":\n",
        "          ada = ADASYN(random_state=42)\n",
        "          X_train_processed, y_train_processed = ada.fit_resample(X_train_processed, y_train_processed)\n",
        "        # oversample the minority group with random over sampler\n",
        "        if oversampling_method ==\"ROS\":\n",
        "          ros = RandomOverSampler(random_state=42)\n",
        "          X_train_processed, y_train_processed = ros.fit_resample(X_train_processed, y_train_processed)\n",
        "        # oversample the minority group with BorderlineSMOTE\n",
        "        if oversampling_method ==\"BorderlineSMOTE\":\n",
        "          borderlinesmote = BorderlineSMOTE(random_state=42)\n",
        "          X_train_processed, y_train_processed = borderlinesmote.fit_resample(X_train_processed, y_train_processed)\n",
        "        if fs ==\"PCA\":\n",
        "          X_train_processed, X_test_processed = derive_pc(X_train_processed, X_test_processed)\n",
        "        if fs ==\"FSGINI\":\n",
        "          real_imp, null_imp, imp_score = get_null_imp_distribs(X_train_processed, y_train_processed, n_null=200, rf_params=rf_params)\n",
        "          feature_selected = imp_score['feature'][:60]\n",
        "          X_train_processed = X_train_processed[feature_selected]\n",
        "          X_test_processed = X_test_processed[feature_selected]\n",
        "        if fs ==\"RFERF\":\n",
        "          X_train_processed = X_train_processed[rfe_feature_dict[oversampling_method]]\n",
        "          X_test_processed = X_test_processed[rfe_feature_dict[oversampling_method]]\n",
        "        # Train model and make prediction based on the processed data\n",
        "        y_pred = eval(model)\n",
        "        # Report performance\n",
        "        metrics_dict = report_performance(test_df,y_pred)\n",
        "        temp_df = pd.Series(metrics_dict).to_frame().T\n",
        "        temp_df['model_name'] = model.split('(')[0]\n",
        "        temp_df['oversampling_method'] = oversampling_method\n",
        "        temp_df['fs_option'] = fs\n",
        "        temp_df['feature'] = feature_set\n",
        "        metrics_df = pd.concat([metrics_df, temp_df],axis = 0)\n",
        "        print(temp_df)\n",
        "        #metrics_df.to_csv(\"/content/gdrive/MyDrive/DS5500Jing/Multi_Resampling_First_RFERF_RFSVM.csv\")\n",
        "metrics_df"
      ],
      "metadata": {
        "id": "Y3R_EywVdG1b"
      },
      "execution_count": null,
      "outputs": []
    },
    {
      "cell_type": "code",
      "source": [],
      "metadata": {
        "id": "AToqGcBC3nnA"
      },
      "execution_count": null,
      "outputs": []
    }
  ],
  "metadata": {
    "colab": {
      "machine_shape": "hm",
      "provenance": [],
      "gpuType": "A100"
    },
    "kernelspec": {
      "display_name": "Python 3",
      "name": "python3"
    },
    "language_info": {
      "codemirror_mode": {
        "name": "ipython",
        "version": 3
      },
      "file_extension": ".py",
      "mimetype": "text/x-python",
      "name": "python",
      "nbconvert_exporter": "python",
      "pygments_lexer": "ipython3",
      "version": "3.8.5"
    },
    "widgets": {
      "application/vnd.jupyter.widget-state+json": {
        "bb87f09bff934077ac0f764127a229b4": {
          "model_module": "@jupyter-widgets/controls",
          "model_name": "HBoxModel",
          "model_module_version": "1.5.0",
          "state": {
            "_dom_classes": [],
            "_model_module": "@jupyter-widgets/controls",
            "_model_module_version": "1.5.0",
            "_model_name": "HBoxModel",
            "_view_count": null,
            "_view_module": "@jupyter-widgets/controls",
            "_view_module_version": "1.5.0",
            "_view_name": "HBoxView",
            "box_style": "",
            "children": [
              "IPY_MODEL_3938c59337fd418b93620d6747ad139c",
              "IPY_MODEL_e6f2ad0c054e46ee87ce6ec8f9bb88a7",
              "IPY_MODEL_55b0039d9eac459ba3c44935ffdd9bf9"
            ],
            "layout": "IPY_MODEL_8273801cb1de40e0b251b7dc587ac210"
          }
        },
        "3938c59337fd418b93620d6747ad139c": {
          "model_module": "@jupyter-widgets/controls",
          "model_name": "HTMLModel",
          "model_module_version": "1.5.0",
          "state": {
            "_dom_classes": [],
            "_model_module": "@jupyter-widgets/controls",
            "_model_module_version": "1.5.0",
            "_model_name": "HTMLModel",
            "_view_count": null,
            "_view_module": "@jupyter-widgets/controls",
            "_view_module_version": "1.5.0",
            "_view_name": "HTMLView",
            "description": "",
            "description_tooltip": null,
            "layout": "IPY_MODEL_ac89991f2352444389f6e63f5eea88cf",
            "placeholder": "​",
            "style": "IPY_MODEL_471d11099873486d9f3b3aa18ac3421d",
            "value": "100%"
          }
        },
        "e6f2ad0c054e46ee87ce6ec8f9bb88a7": {
          "model_module": "@jupyter-widgets/controls",
          "model_name": "FloatProgressModel",
          "model_module_version": "1.5.0",
          "state": {
            "_dom_classes": [],
            "_model_module": "@jupyter-widgets/controls",
            "_model_module_version": "1.5.0",
            "_model_name": "FloatProgressModel",
            "_view_count": null,
            "_view_module": "@jupyter-widgets/controls",
            "_view_module_version": "1.5.0",
            "_view_name": "ProgressView",
            "bar_style": "success",
            "description": "",
            "description_tooltip": null,
            "layout": "IPY_MODEL_cbb6c7318cc4483ebcfdea2fff9109b0",
            "max": 300,
            "min": 0,
            "orientation": "horizontal",
            "style": "IPY_MODEL_b3861b0926c542ca83735ebf76a20e3c",
            "value": 300
          }
        },
        "55b0039d9eac459ba3c44935ffdd9bf9": {
          "model_module": "@jupyter-widgets/controls",
          "model_name": "HTMLModel",
          "model_module_version": "1.5.0",
          "state": {
            "_dom_classes": [],
            "_model_module": "@jupyter-widgets/controls",
            "_model_module_version": "1.5.0",
            "_model_name": "HTMLModel",
            "_view_count": null,
            "_view_module": "@jupyter-widgets/controls",
            "_view_module_version": "1.5.0",
            "_view_name": "HTMLView",
            "description": "",
            "description_tooltip": null,
            "layout": "IPY_MODEL_4d65a859fcfe442eb4f58c675847bf6f",
            "placeholder": "​",
            "style": "IPY_MODEL_d6fc89e2ecb748eaa97114fc50cabf10",
            "value": " 300/300 [08:43&lt;00:00,  1.74s/it]"
          }
        },
        "8273801cb1de40e0b251b7dc587ac210": {
          "model_module": "@jupyter-widgets/base",
          "model_name": "LayoutModel",
          "model_module_version": "1.2.0",
          "state": {
            "_model_module": "@jupyter-widgets/base",
            "_model_module_version": "1.2.0",
            "_model_name": "LayoutModel",
            "_view_count": null,
            "_view_module": "@jupyter-widgets/base",
            "_view_module_version": "1.2.0",
            "_view_name": "LayoutView",
            "align_content": null,
            "align_items": null,
            "align_self": null,
            "border": null,
            "bottom": null,
            "display": null,
            "flex": null,
            "flex_flow": null,
            "grid_area": null,
            "grid_auto_columns": null,
            "grid_auto_flow": null,
            "grid_auto_rows": null,
            "grid_column": null,
            "grid_gap": null,
            "grid_row": null,
            "grid_template_areas": null,
            "grid_template_columns": null,
            "grid_template_rows": null,
            "height": null,
            "justify_content": null,
            "justify_items": null,
            "left": null,
            "margin": null,
            "max_height": null,
            "max_width": null,
            "min_height": null,
            "min_width": null,
            "object_fit": null,
            "object_position": null,
            "order": null,
            "overflow": null,
            "overflow_x": null,
            "overflow_y": null,
            "padding": null,
            "right": null,
            "top": null,
            "visibility": null,
            "width": null
          }
        },
        "ac89991f2352444389f6e63f5eea88cf": {
          "model_module": "@jupyter-widgets/base",
          "model_name": "LayoutModel",
          "model_module_version": "1.2.0",
          "state": {
            "_model_module": "@jupyter-widgets/base",
            "_model_module_version": "1.2.0",
            "_model_name": "LayoutModel",
            "_view_count": null,
            "_view_module": "@jupyter-widgets/base",
            "_view_module_version": "1.2.0",
            "_view_name": "LayoutView",
            "align_content": null,
            "align_items": null,
            "align_self": null,
            "border": null,
            "bottom": null,
            "display": null,
            "flex": null,
            "flex_flow": null,
            "grid_area": null,
            "grid_auto_columns": null,
            "grid_auto_flow": null,
            "grid_auto_rows": null,
            "grid_column": null,
            "grid_gap": null,
            "grid_row": null,
            "grid_template_areas": null,
            "grid_template_columns": null,
            "grid_template_rows": null,
            "height": null,
            "justify_content": null,
            "justify_items": null,
            "left": null,
            "margin": null,
            "max_height": null,
            "max_width": null,
            "min_height": null,
            "min_width": null,
            "object_fit": null,
            "object_position": null,
            "order": null,
            "overflow": null,
            "overflow_x": null,
            "overflow_y": null,
            "padding": null,
            "right": null,
            "top": null,
            "visibility": null,
            "width": null
          }
        },
        "471d11099873486d9f3b3aa18ac3421d": {
          "model_module": "@jupyter-widgets/controls",
          "model_name": "DescriptionStyleModel",
          "model_module_version": "1.5.0",
          "state": {
            "_model_module": "@jupyter-widgets/controls",
            "_model_module_version": "1.5.0",
            "_model_name": "DescriptionStyleModel",
            "_view_count": null,
            "_view_module": "@jupyter-widgets/base",
            "_view_module_version": "1.2.0",
            "_view_name": "StyleView",
            "description_width": ""
          }
        },
        "cbb6c7318cc4483ebcfdea2fff9109b0": {
          "model_module": "@jupyter-widgets/base",
          "model_name": "LayoutModel",
          "model_module_version": "1.2.0",
          "state": {
            "_model_module": "@jupyter-widgets/base",
            "_model_module_version": "1.2.0",
            "_model_name": "LayoutModel",
            "_view_count": null,
            "_view_module": "@jupyter-widgets/base",
            "_view_module_version": "1.2.0",
            "_view_name": "LayoutView",
            "align_content": null,
            "align_items": null,
            "align_self": null,
            "border": null,
            "bottom": null,
            "display": null,
            "flex": null,
            "flex_flow": null,
            "grid_area": null,
            "grid_auto_columns": null,
            "grid_auto_flow": null,
            "grid_auto_rows": null,
            "grid_column": null,
            "grid_gap": null,
            "grid_row": null,
            "grid_template_areas": null,
            "grid_template_columns": null,
            "grid_template_rows": null,
            "height": null,
            "justify_content": null,
            "justify_items": null,
            "left": null,
            "margin": null,
            "max_height": null,
            "max_width": null,
            "min_height": null,
            "min_width": null,
            "object_fit": null,
            "object_position": null,
            "order": null,
            "overflow": null,
            "overflow_x": null,
            "overflow_y": null,
            "padding": null,
            "right": null,
            "top": null,
            "visibility": null,
            "width": null
          }
        },
        "b3861b0926c542ca83735ebf76a20e3c": {
          "model_module": "@jupyter-widgets/controls",
          "model_name": "ProgressStyleModel",
          "model_module_version": "1.5.0",
          "state": {
            "_model_module": "@jupyter-widgets/controls",
            "_model_module_version": "1.5.0",
            "_model_name": "ProgressStyleModel",
            "_view_count": null,
            "_view_module": "@jupyter-widgets/base",
            "_view_module_version": "1.2.0",
            "_view_name": "StyleView",
            "bar_color": null,
            "description_width": ""
          }
        },
        "4d65a859fcfe442eb4f58c675847bf6f": {
          "model_module": "@jupyter-widgets/base",
          "model_name": "LayoutModel",
          "model_module_version": "1.2.0",
          "state": {
            "_model_module": "@jupyter-widgets/base",
            "_model_module_version": "1.2.0",
            "_model_name": "LayoutModel",
            "_view_count": null,
            "_view_module": "@jupyter-widgets/base",
            "_view_module_version": "1.2.0",
            "_view_name": "LayoutView",
            "align_content": null,
            "align_items": null,
            "align_self": null,
            "border": null,
            "bottom": null,
            "display": null,
            "flex": null,
            "flex_flow": null,
            "grid_area": null,
            "grid_auto_columns": null,
            "grid_auto_flow": null,
            "grid_auto_rows": null,
            "grid_column": null,
            "grid_gap": null,
            "grid_row": null,
            "grid_template_areas": null,
            "grid_template_columns": null,
            "grid_template_rows": null,
            "height": null,
            "justify_content": null,
            "justify_items": null,
            "left": null,
            "margin": null,
            "max_height": null,
            "max_width": null,
            "min_height": null,
            "min_width": null,
            "object_fit": null,
            "object_position": null,
            "order": null,
            "overflow": null,
            "overflow_x": null,
            "overflow_y": null,
            "padding": null,
            "right": null,
            "top": null,
            "visibility": null,
            "width": null
          }
        },
        "d6fc89e2ecb748eaa97114fc50cabf10": {
          "model_module": "@jupyter-widgets/controls",
          "model_name": "DescriptionStyleModel",
          "model_module_version": "1.5.0",
          "state": {
            "_model_module": "@jupyter-widgets/controls",
            "_model_module_version": "1.5.0",
            "_model_name": "DescriptionStyleModel",
            "_view_count": null,
            "_view_module": "@jupyter-widgets/base",
            "_view_module_version": "1.2.0",
            "_view_name": "StyleView",
            "description_width": ""
          }
        },
        "004b9cc1a04840d89465477d357cd367": {
          "model_module": "@jupyter-widgets/controls",
          "model_name": "HBoxModel",
          "model_module_version": "1.5.0",
          "state": {
            "_dom_classes": [],
            "_model_module": "@jupyter-widgets/controls",
            "_model_module_version": "1.5.0",
            "_model_name": "HBoxModel",
            "_view_count": null,
            "_view_module": "@jupyter-widgets/controls",
            "_view_module_version": "1.5.0",
            "_view_name": "HBoxView",
            "box_style": "",
            "children": [
              "IPY_MODEL_e6decf7d6546459bacbf0a13df3e6dc3",
              "IPY_MODEL_758f0cd5d9a74bbdb4cc4db5b21d6353",
              "IPY_MODEL_756652dfd43c4d348c505ad2b036569c"
            ],
            "layout": "IPY_MODEL_264ac46f7174408c81f77a3e8ced22bc"
          }
        },
        "e6decf7d6546459bacbf0a13df3e6dc3": {
          "model_module": "@jupyter-widgets/controls",
          "model_name": "HTMLModel",
          "model_module_version": "1.5.0",
          "state": {
            "_dom_classes": [],
            "_model_module": "@jupyter-widgets/controls",
            "_model_module_version": "1.5.0",
            "_model_name": "HTMLModel",
            "_view_count": null,
            "_view_module": "@jupyter-widgets/controls",
            "_view_module_version": "1.5.0",
            "_view_name": "HTMLView",
            "description": "",
            "description_tooltip": null,
            "layout": "IPY_MODEL_4973df85fa91436baad86bcc708a16e4",
            "placeholder": "​",
            "style": "IPY_MODEL_7c3bee8d4e644d30a5d6d6fdf309c618",
            "value": "100%"
          }
        },
        "758f0cd5d9a74bbdb4cc4db5b21d6353": {
          "model_module": "@jupyter-widgets/controls",
          "model_name": "FloatProgressModel",
          "model_module_version": "1.5.0",
          "state": {
            "_dom_classes": [],
            "_model_module": "@jupyter-widgets/controls",
            "_model_module_version": "1.5.0",
            "_model_name": "FloatProgressModel",
            "_view_count": null,
            "_view_module": "@jupyter-widgets/controls",
            "_view_module_version": "1.5.0",
            "_view_name": "ProgressView",
            "bar_style": "success",
            "description": "",
            "description_tooltip": null,
            "layout": "IPY_MODEL_5fa52892e17741389bd2d4bac649d6b9",
            "max": 300,
            "min": 0,
            "orientation": "horizontal",
            "style": "IPY_MODEL_b2f7fdc545134d4189fbe3cb2a362efc",
            "value": 300
          }
        },
        "756652dfd43c4d348c505ad2b036569c": {
          "model_module": "@jupyter-widgets/controls",
          "model_name": "HTMLModel",
          "model_module_version": "1.5.0",
          "state": {
            "_dom_classes": [],
            "_model_module": "@jupyter-widgets/controls",
            "_model_module_version": "1.5.0",
            "_model_name": "HTMLModel",
            "_view_count": null,
            "_view_module": "@jupyter-widgets/controls",
            "_view_module_version": "1.5.0",
            "_view_name": "HTMLView",
            "description": "",
            "description_tooltip": null,
            "layout": "IPY_MODEL_a670c35b2b9a4793a98c2e587db626e9",
            "placeholder": "​",
            "style": "IPY_MODEL_a3f49670a7b94783ae04f2e6b28d6838",
            "value": " 300/300 [01:50&lt;00:00,  2.68it/s]"
          }
        },
        "264ac46f7174408c81f77a3e8ced22bc": {
          "model_module": "@jupyter-widgets/base",
          "model_name": "LayoutModel",
          "model_module_version": "1.2.0",
          "state": {
            "_model_module": "@jupyter-widgets/base",
            "_model_module_version": "1.2.0",
            "_model_name": "LayoutModel",
            "_view_count": null,
            "_view_module": "@jupyter-widgets/base",
            "_view_module_version": "1.2.0",
            "_view_name": "LayoutView",
            "align_content": null,
            "align_items": null,
            "align_self": null,
            "border": null,
            "bottom": null,
            "display": null,
            "flex": null,
            "flex_flow": null,
            "grid_area": null,
            "grid_auto_columns": null,
            "grid_auto_flow": null,
            "grid_auto_rows": null,
            "grid_column": null,
            "grid_gap": null,
            "grid_row": null,
            "grid_template_areas": null,
            "grid_template_columns": null,
            "grid_template_rows": null,
            "height": null,
            "justify_content": null,
            "justify_items": null,
            "left": null,
            "margin": null,
            "max_height": null,
            "max_width": null,
            "min_height": null,
            "min_width": null,
            "object_fit": null,
            "object_position": null,
            "order": null,
            "overflow": null,
            "overflow_x": null,
            "overflow_y": null,
            "padding": null,
            "right": null,
            "top": null,
            "visibility": null,
            "width": null
          }
        },
        "4973df85fa91436baad86bcc708a16e4": {
          "model_module": "@jupyter-widgets/base",
          "model_name": "LayoutModel",
          "model_module_version": "1.2.0",
          "state": {
            "_model_module": "@jupyter-widgets/base",
            "_model_module_version": "1.2.0",
            "_model_name": "LayoutModel",
            "_view_count": null,
            "_view_module": "@jupyter-widgets/base",
            "_view_module_version": "1.2.0",
            "_view_name": "LayoutView",
            "align_content": null,
            "align_items": null,
            "align_self": null,
            "border": null,
            "bottom": null,
            "display": null,
            "flex": null,
            "flex_flow": null,
            "grid_area": null,
            "grid_auto_columns": null,
            "grid_auto_flow": null,
            "grid_auto_rows": null,
            "grid_column": null,
            "grid_gap": null,
            "grid_row": null,
            "grid_template_areas": null,
            "grid_template_columns": null,
            "grid_template_rows": null,
            "height": null,
            "justify_content": null,
            "justify_items": null,
            "left": null,
            "margin": null,
            "max_height": null,
            "max_width": null,
            "min_height": null,
            "min_width": null,
            "object_fit": null,
            "object_position": null,
            "order": null,
            "overflow": null,
            "overflow_x": null,
            "overflow_y": null,
            "padding": null,
            "right": null,
            "top": null,
            "visibility": null,
            "width": null
          }
        },
        "7c3bee8d4e644d30a5d6d6fdf309c618": {
          "model_module": "@jupyter-widgets/controls",
          "model_name": "DescriptionStyleModel",
          "model_module_version": "1.5.0",
          "state": {
            "_model_module": "@jupyter-widgets/controls",
            "_model_module_version": "1.5.0",
            "_model_name": "DescriptionStyleModel",
            "_view_count": null,
            "_view_module": "@jupyter-widgets/base",
            "_view_module_version": "1.2.0",
            "_view_name": "StyleView",
            "description_width": ""
          }
        },
        "5fa52892e17741389bd2d4bac649d6b9": {
          "model_module": "@jupyter-widgets/base",
          "model_name": "LayoutModel",
          "model_module_version": "1.2.0",
          "state": {
            "_model_module": "@jupyter-widgets/base",
            "_model_module_version": "1.2.0",
            "_model_name": "LayoutModel",
            "_view_count": null,
            "_view_module": "@jupyter-widgets/base",
            "_view_module_version": "1.2.0",
            "_view_name": "LayoutView",
            "align_content": null,
            "align_items": null,
            "align_self": null,
            "border": null,
            "bottom": null,
            "display": null,
            "flex": null,
            "flex_flow": null,
            "grid_area": null,
            "grid_auto_columns": null,
            "grid_auto_flow": null,
            "grid_auto_rows": null,
            "grid_column": null,
            "grid_gap": null,
            "grid_row": null,
            "grid_template_areas": null,
            "grid_template_columns": null,
            "grid_template_rows": null,
            "height": null,
            "justify_content": null,
            "justify_items": null,
            "left": null,
            "margin": null,
            "max_height": null,
            "max_width": null,
            "min_height": null,
            "min_width": null,
            "object_fit": null,
            "object_position": null,
            "order": null,
            "overflow": null,
            "overflow_x": null,
            "overflow_y": null,
            "padding": null,
            "right": null,
            "top": null,
            "visibility": null,
            "width": null
          }
        },
        "b2f7fdc545134d4189fbe3cb2a362efc": {
          "model_module": "@jupyter-widgets/controls",
          "model_name": "ProgressStyleModel",
          "model_module_version": "1.5.0",
          "state": {
            "_model_module": "@jupyter-widgets/controls",
            "_model_module_version": "1.5.0",
            "_model_name": "ProgressStyleModel",
            "_view_count": null,
            "_view_module": "@jupyter-widgets/base",
            "_view_module_version": "1.2.0",
            "_view_name": "StyleView",
            "bar_color": null,
            "description_width": ""
          }
        },
        "a670c35b2b9a4793a98c2e587db626e9": {
          "model_module": "@jupyter-widgets/base",
          "model_name": "LayoutModel",
          "model_module_version": "1.2.0",
          "state": {
            "_model_module": "@jupyter-widgets/base",
            "_model_module_version": "1.2.0",
            "_model_name": "LayoutModel",
            "_view_count": null,
            "_view_module": "@jupyter-widgets/base",
            "_view_module_version": "1.2.0",
            "_view_name": "LayoutView",
            "align_content": null,
            "align_items": null,
            "align_self": null,
            "border": null,
            "bottom": null,
            "display": null,
            "flex": null,
            "flex_flow": null,
            "grid_area": null,
            "grid_auto_columns": null,
            "grid_auto_flow": null,
            "grid_auto_rows": null,
            "grid_column": null,
            "grid_gap": null,
            "grid_row": null,
            "grid_template_areas": null,
            "grid_template_columns": null,
            "grid_template_rows": null,
            "height": null,
            "justify_content": null,
            "justify_items": null,
            "left": null,
            "margin": null,
            "max_height": null,
            "max_width": null,
            "min_height": null,
            "min_width": null,
            "object_fit": null,
            "object_position": null,
            "order": null,
            "overflow": null,
            "overflow_x": null,
            "overflow_y": null,
            "padding": null,
            "right": null,
            "top": null,
            "visibility": null,
            "width": null
          }
        },
        "a3f49670a7b94783ae04f2e6b28d6838": {
          "model_module": "@jupyter-widgets/controls",
          "model_name": "DescriptionStyleModel",
          "model_module_version": "1.5.0",
          "state": {
            "_model_module": "@jupyter-widgets/controls",
            "_model_module_version": "1.5.0",
            "_model_name": "DescriptionStyleModel",
            "_view_count": null,
            "_view_module": "@jupyter-widgets/base",
            "_view_module_version": "1.2.0",
            "_view_name": "StyleView",
            "description_width": ""
          }
        },
        "78bce625d4674478882b8dfbd7c3e03a": {
          "model_module": "@jupyter-widgets/controls",
          "model_name": "HBoxModel",
          "model_module_version": "1.5.0",
          "state": {
            "_dom_classes": [],
            "_model_module": "@jupyter-widgets/controls",
            "_model_module_version": "1.5.0",
            "_model_name": "HBoxModel",
            "_view_count": null,
            "_view_module": "@jupyter-widgets/controls",
            "_view_module_version": "1.5.0",
            "_view_name": "HBoxView",
            "box_style": "",
            "children": [
              "IPY_MODEL_4861ea3f29144cd9bc806b9a152185f3",
              "IPY_MODEL_c7016db1d56d416ca521950cb7fe48e6",
              "IPY_MODEL_50001918ded64c6faed93819167b8038"
            ],
            "layout": "IPY_MODEL_3d22a4ec47914ff699e88c6835b1c3e3"
          }
        },
        "4861ea3f29144cd9bc806b9a152185f3": {
          "model_module": "@jupyter-widgets/controls",
          "model_name": "HTMLModel",
          "model_module_version": "1.5.0",
          "state": {
            "_dom_classes": [],
            "_model_module": "@jupyter-widgets/controls",
            "_model_module_version": "1.5.0",
            "_model_name": "HTMLModel",
            "_view_count": null,
            "_view_module": "@jupyter-widgets/controls",
            "_view_module_version": "1.5.0",
            "_view_name": "HTMLView",
            "description": "",
            "description_tooltip": null,
            "layout": "IPY_MODEL_4b9c7a0230aa4724931f3625899ac0c4",
            "placeholder": "​",
            "style": "IPY_MODEL_1a6b50963b6545419ff32680c3bc6a15",
            "value": "100%"
          }
        },
        "c7016db1d56d416ca521950cb7fe48e6": {
          "model_module": "@jupyter-widgets/controls",
          "model_name": "FloatProgressModel",
          "model_module_version": "1.5.0",
          "state": {
            "_dom_classes": [],
            "_model_module": "@jupyter-widgets/controls",
            "_model_module_version": "1.5.0",
            "_model_name": "FloatProgressModel",
            "_view_count": null,
            "_view_module": "@jupyter-widgets/controls",
            "_view_module_version": "1.5.0",
            "_view_name": "ProgressView",
            "bar_style": "success",
            "description": "",
            "description_tooltip": null,
            "layout": "IPY_MODEL_55a43608a8674716909210e94c18ebe2",
            "max": 300,
            "min": 0,
            "orientation": "horizontal",
            "style": "IPY_MODEL_617afb811b4b422ca28fa33347dbb4f7",
            "value": 300
          }
        },
        "50001918ded64c6faed93819167b8038": {
          "model_module": "@jupyter-widgets/controls",
          "model_name": "HTMLModel",
          "model_module_version": "1.5.0",
          "state": {
            "_dom_classes": [],
            "_model_module": "@jupyter-widgets/controls",
            "_model_module_version": "1.5.0",
            "_model_name": "HTMLModel",
            "_view_count": null,
            "_view_module": "@jupyter-widgets/controls",
            "_view_module_version": "1.5.0",
            "_view_name": "HTMLView",
            "description": "",
            "description_tooltip": null,
            "layout": "IPY_MODEL_2fbe11cdf8c44f5aa94b7e625edf9724",
            "placeholder": "​",
            "style": "IPY_MODEL_11b7afdc2a544fa8887d252efa4ac26d",
            "value": " 300/300 [08:41&lt;00:00,  1.73s/it]"
          }
        },
        "3d22a4ec47914ff699e88c6835b1c3e3": {
          "model_module": "@jupyter-widgets/base",
          "model_name": "LayoutModel",
          "model_module_version": "1.2.0",
          "state": {
            "_model_module": "@jupyter-widgets/base",
            "_model_module_version": "1.2.0",
            "_model_name": "LayoutModel",
            "_view_count": null,
            "_view_module": "@jupyter-widgets/base",
            "_view_module_version": "1.2.0",
            "_view_name": "LayoutView",
            "align_content": null,
            "align_items": null,
            "align_self": null,
            "border": null,
            "bottom": null,
            "display": null,
            "flex": null,
            "flex_flow": null,
            "grid_area": null,
            "grid_auto_columns": null,
            "grid_auto_flow": null,
            "grid_auto_rows": null,
            "grid_column": null,
            "grid_gap": null,
            "grid_row": null,
            "grid_template_areas": null,
            "grid_template_columns": null,
            "grid_template_rows": null,
            "height": null,
            "justify_content": null,
            "justify_items": null,
            "left": null,
            "margin": null,
            "max_height": null,
            "max_width": null,
            "min_height": null,
            "min_width": null,
            "object_fit": null,
            "object_position": null,
            "order": null,
            "overflow": null,
            "overflow_x": null,
            "overflow_y": null,
            "padding": null,
            "right": null,
            "top": null,
            "visibility": null,
            "width": null
          }
        },
        "4b9c7a0230aa4724931f3625899ac0c4": {
          "model_module": "@jupyter-widgets/base",
          "model_name": "LayoutModel",
          "model_module_version": "1.2.0",
          "state": {
            "_model_module": "@jupyter-widgets/base",
            "_model_module_version": "1.2.0",
            "_model_name": "LayoutModel",
            "_view_count": null,
            "_view_module": "@jupyter-widgets/base",
            "_view_module_version": "1.2.0",
            "_view_name": "LayoutView",
            "align_content": null,
            "align_items": null,
            "align_self": null,
            "border": null,
            "bottom": null,
            "display": null,
            "flex": null,
            "flex_flow": null,
            "grid_area": null,
            "grid_auto_columns": null,
            "grid_auto_flow": null,
            "grid_auto_rows": null,
            "grid_column": null,
            "grid_gap": null,
            "grid_row": null,
            "grid_template_areas": null,
            "grid_template_columns": null,
            "grid_template_rows": null,
            "height": null,
            "justify_content": null,
            "justify_items": null,
            "left": null,
            "margin": null,
            "max_height": null,
            "max_width": null,
            "min_height": null,
            "min_width": null,
            "object_fit": null,
            "object_position": null,
            "order": null,
            "overflow": null,
            "overflow_x": null,
            "overflow_y": null,
            "padding": null,
            "right": null,
            "top": null,
            "visibility": null,
            "width": null
          }
        },
        "1a6b50963b6545419ff32680c3bc6a15": {
          "model_module": "@jupyter-widgets/controls",
          "model_name": "DescriptionStyleModel",
          "model_module_version": "1.5.0",
          "state": {
            "_model_module": "@jupyter-widgets/controls",
            "_model_module_version": "1.5.0",
            "_model_name": "DescriptionStyleModel",
            "_view_count": null,
            "_view_module": "@jupyter-widgets/base",
            "_view_module_version": "1.2.0",
            "_view_name": "StyleView",
            "description_width": ""
          }
        },
        "55a43608a8674716909210e94c18ebe2": {
          "model_module": "@jupyter-widgets/base",
          "model_name": "LayoutModel",
          "model_module_version": "1.2.0",
          "state": {
            "_model_module": "@jupyter-widgets/base",
            "_model_module_version": "1.2.0",
            "_model_name": "LayoutModel",
            "_view_count": null,
            "_view_module": "@jupyter-widgets/base",
            "_view_module_version": "1.2.0",
            "_view_name": "LayoutView",
            "align_content": null,
            "align_items": null,
            "align_self": null,
            "border": null,
            "bottom": null,
            "display": null,
            "flex": null,
            "flex_flow": null,
            "grid_area": null,
            "grid_auto_columns": null,
            "grid_auto_flow": null,
            "grid_auto_rows": null,
            "grid_column": null,
            "grid_gap": null,
            "grid_row": null,
            "grid_template_areas": null,
            "grid_template_columns": null,
            "grid_template_rows": null,
            "height": null,
            "justify_content": null,
            "justify_items": null,
            "left": null,
            "margin": null,
            "max_height": null,
            "max_width": null,
            "min_height": null,
            "min_width": null,
            "object_fit": null,
            "object_position": null,
            "order": null,
            "overflow": null,
            "overflow_x": null,
            "overflow_y": null,
            "padding": null,
            "right": null,
            "top": null,
            "visibility": null,
            "width": null
          }
        },
        "617afb811b4b422ca28fa33347dbb4f7": {
          "model_module": "@jupyter-widgets/controls",
          "model_name": "ProgressStyleModel",
          "model_module_version": "1.5.0",
          "state": {
            "_model_module": "@jupyter-widgets/controls",
            "_model_module_version": "1.5.0",
            "_model_name": "ProgressStyleModel",
            "_view_count": null,
            "_view_module": "@jupyter-widgets/base",
            "_view_module_version": "1.2.0",
            "_view_name": "StyleView",
            "bar_color": null,
            "description_width": ""
          }
        },
        "2fbe11cdf8c44f5aa94b7e625edf9724": {
          "model_module": "@jupyter-widgets/base",
          "model_name": "LayoutModel",
          "model_module_version": "1.2.0",
          "state": {
            "_model_module": "@jupyter-widgets/base",
            "_model_module_version": "1.2.0",
            "_model_name": "LayoutModel",
            "_view_count": null,
            "_view_module": "@jupyter-widgets/base",
            "_view_module_version": "1.2.0",
            "_view_name": "LayoutView",
            "align_content": null,
            "align_items": null,
            "align_self": null,
            "border": null,
            "bottom": null,
            "display": null,
            "flex": null,
            "flex_flow": null,
            "grid_area": null,
            "grid_auto_columns": null,
            "grid_auto_flow": null,
            "grid_auto_rows": null,
            "grid_column": null,
            "grid_gap": null,
            "grid_row": null,
            "grid_template_areas": null,
            "grid_template_columns": null,
            "grid_template_rows": null,
            "height": null,
            "justify_content": null,
            "justify_items": null,
            "left": null,
            "margin": null,
            "max_height": null,
            "max_width": null,
            "min_height": null,
            "min_width": null,
            "object_fit": null,
            "object_position": null,
            "order": null,
            "overflow": null,
            "overflow_x": null,
            "overflow_y": null,
            "padding": null,
            "right": null,
            "top": null,
            "visibility": null,
            "width": null
          }
        },
        "11b7afdc2a544fa8887d252efa4ac26d": {
          "model_module": "@jupyter-widgets/controls",
          "model_name": "DescriptionStyleModel",
          "model_module_version": "1.5.0",
          "state": {
            "_model_module": "@jupyter-widgets/controls",
            "_model_module_version": "1.5.0",
            "_model_name": "DescriptionStyleModel",
            "_view_count": null,
            "_view_module": "@jupyter-widgets/base",
            "_view_module_version": "1.2.0",
            "_view_name": "StyleView",
            "description_width": ""
          }
        },
        "22ae53f807a7410ab1d701c341a80e87": {
          "model_module": "@jupyter-widgets/controls",
          "model_name": "HBoxModel",
          "model_module_version": "1.5.0",
          "state": {
            "_dom_classes": [],
            "_model_module": "@jupyter-widgets/controls",
            "_model_module_version": "1.5.0",
            "_model_name": "HBoxModel",
            "_view_count": null,
            "_view_module": "@jupyter-widgets/controls",
            "_view_module_version": "1.5.0",
            "_view_name": "HBoxView",
            "box_style": "",
            "children": [
              "IPY_MODEL_287c101142e549f0aa5bd81958ce2d3b",
              "IPY_MODEL_e8f5e46d95b34ffa80ae1453e4c5fcdd",
              "IPY_MODEL_adc964952f504ec59b3759e8d49df38f"
            ],
            "layout": "IPY_MODEL_5fa4f5f6506947f78f8ccc50d90bc222"
          }
        },
        "287c101142e549f0aa5bd81958ce2d3b": {
          "model_module": "@jupyter-widgets/controls",
          "model_name": "HTMLModel",
          "model_module_version": "1.5.0",
          "state": {
            "_dom_classes": [],
            "_model_module": "@jupyter-widgets/controls",
            "_model_module_version": "1.5.0",
            "_model_name": "HTMLModel",
            "_view_count": null,
            "_view_module": "@jupyter-widgets/controls",
            "_view_module_version": "1.5.0",
            "_view_name": "HTMLView",
            "description": "",
            "description_tooltip": null,
            "layout": "IPY_MODEL_890bc7cb12be4654b1bfb9bc319df932",
            "placeholder": "​",
            "style": "IPY_MODEL_5306047c632b4fee9078f7e12def4e1b",
            "value": "100%"
          }
        },
        "e8f5e46d95b34ffa80ae1453e4c5fcdd": {
          "model_module": "@jupyter-widgets/controls",
          "model_name": "FloatProgressModel",
          "model_module_version": "1.5.0",
          "state": {
            "_dom_classes": [],
            "_model_module": "@jupyter-widgets/controls",
            "_model_module_version": "1.5.0",
            "_model_name": "FloatProgressModel",
            "_view_count": null,
            "_view_module": "@jupyter-widgets/controls",
            "_view_module_version": "1.5.0",
            "_view_name": "ProgressView",
            "bar_style": "success",
            "description": "",
            "description_tooltip": null,
            "layout": "IPY_MODEL_308936b302b24e91a1f30447668a322a",
            "max": 502,
            "min": 0,
            "orientation": "horizontal",
            "style": "IPY_MODEL_247380a254bc4e00842cc705d2ec9188",
            "value": 502
          }
        },
        "adc964952f504ec59b3759e8d49df38f": {
          "model_module": "@jupyter-widgets/controls",
          "model_name": "HTMLModel",
          "model_module_version": "1.5.0",
          "state": {
            "_dom_classes": [],
            "_model_module": "@jupyter-widgets/controls",
            "_model_module_version": "1.5.0",
            "_model_name": "HTMLModel",
            "_view_count": null,
            "_view_module": "@jupyter-widgets/controls",
            "_view_module_version": "1.5.0",
            "_view_name": "HTMLView",
            "description": "",
            "description_tooltip": null,
            "layout": "IPY_MODEL_9145c219e7f542c9a5c5970a7925aa96",
            "placeholder": "​",
            "style": "IPY_MODEL_756fe70ebe504025b81d47c7148a9961",
            "value": " 502/502 [00:15&lt;00:00, 64.53it/s]"
          }
        },
        "5fa4f5f6506947f78f8ccc50d90bc222": {
          "model_module": "@jupyter-widgets/base",
          "model_name": "LayoutModel",
          "model_module_version": "1.2.0",
          "state": {
            "_model_module": "@jupyter-widgets/base",
            "_model_module_version": "1.2.0",
            "_model_name": "LayoutModel",
            "_view_count": null,
            "_view_module": "@jupyter-widgets/base",
            "_view_module_version": "1.2.0",
            "_view_name": "LayoutView",
            "align_content": null,
            "align_items": null,
            "align_self": null,
            "border": null,
            "bottom": null,
            "display": null,
            "flex": null,
            "flex_flow": null,
            "grid_area": null,
            "grid_auto_columns": null,
            "grid_auto_flow": null,
            "grid_auto_rows": null,
            "grid_column": null,
            "grid_gap": null,
            "grid_row": null,
            "grid_template_areas": null,
            "grid_template_columns": null,
            "grid_template_rows": null,
            "height": null,
            "justify_content": null,
            "justify_items": null,
            "left": null,
            "margin": null,
            "max_height": null,
            "max_width": null,
            "min_height": null,
            "min_width": null,
            "object_fit": null,
            "object_position": null,
            "order": null,
            "overflow": null,
            "overflow_x": null,
            "overflow_y": null,
            "padding": null,
            "right": null,
            "top": null,
            "visibility": null,
            "width": null
          }
        },
        "890bc7cb12be4654b1bfb9bc319df932": {
          "model_module": "@jupyter-widgets/base",
          "model_name": "LayoutModel",
          "model_module_version": "1.2.0",
          "state": {
            "_model_module": "@jupyter-widgets/base",
            "_model_module_version": "1.2.0",
            "_model_name": "LayoutModel",
            "_view_count": null,
            "_view_module": "@jupyter-widgets/base",
            "_view_module_version": "1.2.0",
            "_view_name": "LayoutView",
            "align_content": null,
            "align_items": null,
            "align_self": null,
            "border": null,
            "bottom": null,
            "display": null,
            "flex": null,
            "flex_flow": null,
            "grid_area": null,
            "grid_auto_columns": null,
            "grid_auto_flow": null,
            "grid_auto_rows": null,
            "grid_column": null,
            "grid_gap": null,
            "grid_row": null,
            "grid_template_areas": null,
            "grid_template_columns": null,
            "grid_template_rows": null,
            "height": null,
            "justify_content": null,
            "justify_items": null,
            "left": null,
            "margin": null,
            "max_height": null,
            "max_width": null,
            "min_height": null,
            "min_width": null,
            "object_fit": null,
            "object_position": null,
            "order": null,
            "overflow": null,
            "overflow_x": null,
            "overflow_y": null,
            "padding": null,
            "right": null,
            "top": null,
            "visibility": null,
            "width": null
          }
        },
        "5306047c632b4fee9078f7e12def4e1b": {
          "model_module": "@jupyter-widgets/controls",
          "model_name": "DescriptionStyleModel",
          "model_module_version": "1.5.0",
          "state": {
            "_model_module": "@jupyter-widgets/controls",
            "_model_module_version": "1.5.0",
            "_model_name": "DescriptionStyleModel",
            "_view_count": null,
            "_view_module": "@jupyter-widgets/base",
            "_view_module_version": "1.2.0",
            "_view_name": "StyleView",
            "description_width": ""
          }
        },
        "308936b302b24e91a1f30447668a322a": {
          "model_module": "@jupyter-widgets/base",
          "model_name": "LayoutModel",
          "model_module_version": "1.2.0",
          "state": {
            "_model_module": "@jupyter-widgets/base",
            "_model_module_version": "1.2.0",
            "_model_name": "LayoutModel",
            "_view_count": null,
            "_view_module": "@jupyter-widgets/base",
            "_view_module_version": "1.2.0",
            "_view_name": "LayoutView",
            "align_content": null,
            "align_items": null,
            "align_self": null,
            "border": null,
            "bottom": null,
            "display": null,
            "flex": null,
            "flex_flow": null,
            "grid_area": null,
            "grid_auto_columns": null,
            "grid_auto_flow": null,
            "grid_auto_rows": null,
            "grid_column": null,
            "grid_gap": null,
            "grid_row": null,
            "grid_template_areas": null,
            "grid_template_columns": null,
            "grid_template_rows": null,
            "height": null,
            "justify_content": null,
            "justify_items": null,
            "left": null,
            "margin": null,
            "max_height": null,
            "max_width": null,
            "min_height": null,
            "min_width": null,
            "object_fit": null,
            "object_position": null,
            "order": null,
            "overflow": null,
            "overflow_x": null,
            "overflow_y": null,
            "padding": null,
            "right": null,
            "top": null,
            "visibility": null,
            "width": null
          }
        },
        "247380a254bc4e00842cc705d2ec9188": {
          "model_module": "@jupyter-widgets/controls",
          "model_name": "ProgressStyleModel",
          "model_module_version": "1.5.0",
          "state": {
            "_model_module": "@jupyter-widgets/controls",
            "_model_module_version": "1.5.0",
            "_model_name": "ProgressStyleModel",
            "_view_count": null,
            "_view_module": "@jupyter-widgets/base",
            "_view_module_version": "1.2.0",
            "_view_name": "StyleView",
            "bar_color": null,
            "description_width": ""
          }
        },
        "9145c219e7f542c9a5c5970a7925aa96": {
          "model_module": "@jupyter-widgets/base",
          "model_name": "LayoutModel",
          "model_module_version": "1.2.0",
          "state": {
            "_model_module": "@jupyter-widgets/base",
            "_model_module_version": "1.2.0",
            "_model_name": "LayoutModel",
            "_view_count": null,
            "_view_module": "@jupyter-widgets/base",
            "_view_module_version": "1.2.0",
            "_view_name": "LayoutView",
            "align_content": null,
            "align_items": null,
            "align_self": null,
            "border": null,
            "bottom": null,
            "display": null,
            "flex": null,
            "flex_flow": null,
            "grid_area": null,
            "grid_auto_columns": null,
            "grid_auto_flow": null,
            "grid_auto_rows": null,
            "grid_column": null,
            "grid_gap": null,
            "grid_row": null,
            "grid_template_areas": null,
            "grid_template_columns": null,
            "grid_template_rows": null,
            "height": null,
            "justify_content": null,
            "justify_items": null,
            "left": null,
            "margin": null,
            "max_height": null,
            "max_width": null,
            "min_height": null,
            "min_width": null,
            "object_fit": null,
            "object_position": null,
            "order": null,
            "overflow": null,
            "overflow_x": null,
            "overflow_y": null,
            "padding": null,
            "right": null,
            "top": null,
            "visibility": null,
            "width": null
          }
        },
        "756fe70ebe504025b81d47c7148a9961": {
          "model_module": "@jupyter-widgets/controls",
          "model_name": "DescriptionStyleModel",
          "model_module_version": "1.5.0",
          "state": {
            "_model_module": "@jupyter-widgets/controls",
            "_model_module_version": "1.5.0",
            "_model_name": "DescriptionStyleModel",
            "_view_count": null,
            "_view_module": "@jupyter-widgets/base",
            "_view_module_version": "1.2.0",
            "_view_name": "StyleView",
            "description_width": ""
          }
        },
        "5b50d94410fd4456bbe0afee15414f92": {
          "model_module": "@jupyter-widgets/controls",
          "model_name": "HBoxModel",
          "model_module_version": "1.5.0",
          "state": {
            "_dom_classes": [],
            "_model_module": "@jupyter-widgets/controls",
            "_model_module_version": "1.5.0",
            "_model_name": "HBoxModel",
            "_view_count": null,
            "_view_module": "@jupyter-widgets/controls",
            "_view_module_version": "1.5.0",
            "_view_name": "HBoxView",
            "box_style": "",
            "children": [
              "IPY_MODEL_005c1ee78dcf4d318357bdf0dd8f722b",
              "IPY_MODEL_790930f9e59744f2bce50e6fb5e28b13",
              "IPY_MODEL_03f4ccb5f7df4856a5a9f3b1152f3656"
            ],
            "layout": "IPY_MODEL_a7c31f3bab144582b904b40208fb9d7a"
          }
        },
        "005c1ee78dcf4d318357bdf0dd8f722b": {
          "model_module": "@jupyter-widgets/controls",
          "model_name": "HTMLModel",
          "model_module_version": "1.5.0",
          "state": {
            "_dom_classes": [],
            "_model_module": "@jupyter-widgets/controls",
            "_model_module_version": "1.5.0",
            "_model_name": "HTMLModel",
            "_view_count": null,
            "_view_module": "@jupyter-widgets/controls",
            "_view_module_version": "1.5.0",
            "_view_name": "HTMLView",
            "description": "",
            "description_tooltip": null,
            "layout": "IPY_MODEL_c672bf22838a4d009ea2613c1ff503a6",
            "placeholder": "​",
            "style": "IPY_MODEL_7465302a40744a68b7b7b5dcbb3c1311",
            "value": "100%"
          }
        },
        "790930f9e59744f2bce50e6fb5e28b13": {
          "model_module": "@jupyter-widgets/controls",
          "model_name": "FloatProgressModel",
          "model_module_version": "1.5.0",
          "state": {
            "_dom_classes": [],
            "_model_module": "@jupyter-widgets/controls",
            "_model_module_version": "1.5.0",
            "_model_name": "FloatProgressModel",
            "_view_count": null,
            "_view_module": "@jupyter-widgets/controls",
            "_view_module_version": "1.5.0",
            "_view_name": "ProgressView",
            "bar_style": "success",
            "description": "",
            "description_tooltip": null,
            "layout": "IPY_MODEL_c472e2b35b564092894077356ecfc0e3",
            "max": 509,
            "min": 0,
            "orientation": "horizontal",
            "style": "IPY_MODEL_a4e212ce52044923b386f4cab658926e",
            "value": 509
          }
        },
        "03f4ccb5f7df4856a5a9f3b1152f3656": {
          "model_module": "@jupyter-widgets/controls",
          "model_name": "HTMLModel",
          "model_module_version": "1.5.0",
          "state": {
            "_dom_classes": [],
            "_model_module": "@jupyter-widgets/controls",
            "_model_module_version": "1.5.0",
            "_model_name": "HTMLModel",
            "_view_count": null,
            "_view_module": "@jupyter-widgets/controls",
            "_view_module_version": "1.5.0",
            "_view_name": "HTMLView",
            "description": "",
            "description_tooltip": null,
            "layout": "IPY_MODEL_7d01fe1e933548c1ab680a1b6ba5cba1",
            "placeholder": "​",
            "style": "IPY_MODEL_c718e7531de44acd8941b7cf4e881347",
            "value": " 509/509 [02:27&lt;00:00,  2.86it/s]"
          }
        },
        "a7c31f3bab144582b904b40208fb9d7a": {
          "model_module": "@jupyter-widgets/base",
          "model_name": "LayoutModel",
          "model_module_version": "1.2.0",
          "state": {
            "_model_module": "@jupyter-widgets/base",
            "_model_module_version": "1.2.0",
            "_model_name": "LayoutModel",
            "_view_count": null,
            "_view_module": "@jupyter-widgets/base",
            "_view_module_version": "1.2.0",
            "_view_name": "LayoutView",
            "align_content": null,
            "align_items": null,
            "align_self": null,
            "border": null,
            "bottom": null,
            "display": null,
            "flex": null,
            "flex_flow": null,
            "grid_area": null,
            "grid_auto_columns": null,
            "grid_auto_flow": null,
            "grid_auto_rows": null,
            "grid_column": null,
            "grid_gap": null,
            "grid_row": null,
            "grid_template_areas": null,
            "grid_template_columns": null,
            "grid_template_rows": null,
            "height": null,
            "justify_content": null,
            "justify_items": null,
            "left": null,
            "margin": null,
            "max_height": null,
            "max_width": null,
            "min_height": null,
            "min_width": null,
            "object_fit": null,
            "object_position": null,
            "order": null,
            "overflow": null,
            "overflow_x": null,
            "overflow_y": null,
            "padding": null,
            "right": null,
            "top": null,
            "visibility": null,
            "width": null
          }
        },
        "c672bf22838a4d009ea2613c1ff503a6": {
          "model_module": "@jupyter-widgets/base",
          "model_name": "LayoutModel",
          "model_module_version": "1.2.0",
          "state": {
            "_model_module": "@jupyter-widgets/base",
            "_model_module_version": "1.2.0",
            "_model_name": "LayoutModel",
            "_view_count": null,
            "_view_module": "@jupyter-widgets/base",
            "_view_module_version": "1.2.0",
            "_view_name": "LayoutView",
            "align_content": null,
            "align_items": null,
            "align_self": null,
            "border": null,
            "bottom": null,
            "display": null,
            "flex": null,
            "flex_flow": null,
            "grid_area": null,
            "grid_auto_columns": null,
            "grid_auto_flow": null,
            "grid_auto_rows": null,
            "grid_column": null,
            "grid_gap": null,
            "grid_row": null,
            "grid_template_areas": null,
            "grid_template_columns": null,
            "grid_template_rows": null,
            "height": null,
            "justify_content": null,
            "justify_items": null,
            "left": null,
            "margin": null,
            "max_height": null,
            "max_width": null,
            "min_height": null,
            "min_width": null,
            "object_fit": null,
            "object_position": null,
            "order": null,
            "overflow": null,
            "overflow_x": null,
            "overflow_y": null,
            "padding": null,
            "right": null,
            "top": null,
            "visibility": null,
            "width": null
          }
        },
        "7465302a40744a68b7b7b5dcbb3c1311": {
          "model_module": "@jupyter-widgets/controls",
          "model_name": "DescriptionStyleModel",
          "model_module_version": "1.5.0",
          "state": {
            "_model_module": "@jupyter-widgets/controls",
            "_model_module_version": "1.5.0",
            "_model_name": "DescriptionStyleModel",
            "_view_count": null,
            "_view_module": "@jupyter-widgets/base",
            "_view_module_version": "1.2.0",
            "_view_name": "StyleView",
            "description_width": ""
          }
        },
        "c472e2b35b564092894077356ecfc0e3": {
          "model_module": "@jupyter-widgets/base",
          "model_name": "LayoutModel",
          "model_module_version": "1.2.0",
          "state": {
            "_model_module": "@jupyter-widgets/base",
            "_model_module_version": "1.2.0",
            "_model_name": "LayoutModel",
            "_view_count": null,
            "_view_module": "@jupyter-widgets/base",
            "_view_module_version": "1.2.0",
            "_view_name": "LayoutView",
            "align_content": null,
            "align_items": null,
            "align_self": null,
            "border": null,
            "bottom": null,
            "display": null,
            "flex": null,
            "flex_flow": null,
            "grid_area": null,
            "grid_auto_columns": null,
            "grid_auto_flow": null,
            "grid_auto_rows": null,
            "grid_column": null,
            "grid_gap": null,
            "grid_row": null,
            "grid_template_areas": null,
            "grid_template_columns": null,
            "grid_template_rows": null,
            "height": null,
            "justify_content": null,
            "justify_items": null,
            "left": null,
            "margin": null,
            "max_height": null,
            "max_width": null,
            "min_height": null,
            "min_width": null,
            "object_fit": null,
            "object_position": null,
            "order": null,
            "overflow": null,
            "overflow_x": null,
            "overflow_y": null,
            "padding": null,
            "right": null,
            "top": null,
            "visibility": null,
            "width": null
          }
        },
        "a4e212ce52044923b386f4cab658926e": {
          "model_module": "@jupyter-widgets/controls",
          "model_name": "ProgressStyleModel",
          "model_module_version": "1.5.0",
          "state": {
            "_model_module": "@jupyter-widgets/controls",
            "_model_module_version": "1.5.0",
            "_model_name": "ProgressStyleModel",
            "_view_count": null,
            "_view_module": "@jupyter-widgets/base",
            "_view_module_version": "1.2.0",
            "_view_name": "StyleView",
            "bar_color": null,
            "description_width": ""
          }
        },
        "7d01fe1e933548c1ab680a1b6ba5cba1": {
          "model_module": "@jupyter-widgets/base",
          "model_name": "LayoutModel",
          "model_module_version": "1.2.0",
          "state": {
            "_model_module": "@jupyter-widgets/base",
            "_model_module_version": "1.2.0",
            "_model_name": "LayoutModel",
            "_view_count": null,
            "_view_module": "@jupyter-widgets/base",
            "_view_module_version": "1.2.0",
            "_view_name": "LayoutView",
            "align_content": null,
            "align_items": null,
            "align_self": null,
            "border": null,
            "bottom": null,
            "display": null,
            "flex": null,
            "flex_flow": null,
            "grid_area": null,
            "grid_auto_columns": null,
            "grid_auto_flow": null,
            "grid_auto_rows": null,
            "grid_column": null,
            "grid_gap": null,
            "grid_row": null,
            "grid_template_areas": null,
            "grid_template_columns": null,
            "grid_template_rows": null,
            "height": null,
            "justify_content": null,
            "justify_items": null,
            "left": null,
            "margin": null,
            "max_height": null,
            "max_width": null,
            "min_height": null,
            "min_width": null,
            "object_fit": null,
            "object_position": null,
            "order": null,
            "overflow": null,
            "overflow_x": null,
            "overflow_y": null,
            "padding": null,
            "right": null,
            "top": null,
            "visibility": null,
            "width": null
          }
        },
        "c718e7531de44acd8941b7cf4e881347": {
          "model_module": "@jupyter-widgets/controls",
          "model_name": "DescriptionStyleModel",
          "model_module_version": "1.5.0",
          "state": {
            "_model_module": "@jupyter-widgets/controls",
            "_model_module_version": "1.5.0",
            "_model_name": "DescriptionStyleModel",
            "_view_count": null,
            "_view_module": "@jupyter-widgets/base",
            "_view_module_version": "1.2.0",
            "_view_name": "StyleView",
            "description_width": ""
          }
        },
        "91aa6672c6d948e4b043f64d28314161": {
          "model_module": "@jupyter-widgets/controls",
          "model_name": "HBoxModel",
          "model_module_version": "1.5.0",
          "state": {
            "_dom_classes": [],
            "_model_module": "@jupyter-widgets/controls",
            "_model_module_version": "1.5.0",
            "_model_name": "HBoxModel",
            "_view_count": null,
            "_view_module": "@jupyter-widgets/controls",
            "_view_module_version": "1.5.0",
            "_view_name": "HBoxView",
            "box_style": "",
            "children": [
              "IPY_MODEL_a11ce3d178f94a439dafde1c15ea0081",
              "IPY_MODEL_2b3388e8e2b9479d9abb0a8994095788",
              "IPY_MODEL_bd9e568f5b5543a18bb58ca1d3e513d6"
            ],
            "layout": "IPY_MODEL_e77a49905c6d4a699ac023eeaac627e2"
          }
        },
        "a11ce3d178f94a439dafde1c15ea0081": {
          "model_module": "@jupyter-widgets/controls",
          "model_name": "HTMLModel",
          "model_module_version": "1.5.0",
          "state": {
            "_dom_classes": [],
            "_model_module": "@jupyter-widgets/controls",
            "_model_module_version": "1.5.0",
            "_model_name": "HTMLModel",
            "_view_count": null,
            "_view_module": "@jupyter-widgets/controls",
            "_view_module_version": "1.5.0",
            "_view_name": "HTMLView",
            "description": "",
            "description_tooltip": null,
            "layout": "IPY_MODEL_1a9b96b653e24150b1ada852a9524765",
            "placeholder": "​",
            "style": "IPY_MODEL_dd76ceb0bc304570821a8cb001a05569",
            "value": "100%"
          }
        },
        "2b3388e8e2b9479d9abb0a8994095788": {
          "model_module": "@jupyter-widgets/controls",
          "model_name": "FloatProgressModel",
          "model_module_version": "1.5.0",
          "state": {
            "_dom_classes": [],
            "_model_module": "@jupyter-widgets/controls",
            "_model_module_version": "1.5.0",
            "_model_name": "FloatProgressModel",
            "_view_count": null,
            "_view_module": "@jupyter-widgets/controls",
            "_view_module_version": "1.5.0",
            "_view_name": "ProgressView",
            "bar_style": "success",
            "description": "",
            "description_tooltip": null,
            "layout": "IPY_MODEL_c771a418687c48f4b3ca5505cd01492c",
            "max": 509,
            "min": 0,
            "orientation": "horizontal",
            "style": "IPY_MODEL_34f54707e8914c769c2f5f097cb45a6c",
            "value": 509
          }
        },
        "bd9e568f5b5543a18bb58ca1d3e513d6": {
          "model_module": "@jupyter-widgets/controls",
          "model_name": "HTMLModel",
          "model_module_version": "1.5.0",
          "state": {
            "_dom_classes": [],
            "_model_module": "@jupyter-widgets/controls",
            "_model_module_version": "1.5.0",
            "_model_name": "HTMLModel",
            "_view_count": null,
            "_view_module": "@jupyter-widgets/controls",
            "_view_module_version": "1.5.0",
            "_view_name": "HTMLView",
            "description": "",
            "description_tooltip": null,
            "layout": "IPY_MODEL_fd5b0980ae1f4ae7b7f5b8c88ba5dee5",
            "placeholder": "​",
            "style": "IPY_MODEL_ef6627c6dca3469a90a8ed808a1a5ca1",
            "value": " 509/509 [00:03&lt;00:00, 133.77it/s]"
          }
        },
        "e77a49905c6d4a699ac023eeaac627e2": {
          "model_module": "@jupyter-widgets/base",
          "model_name": "LayoutModel",
          "model_module_version": "1.2.0",
          "state": {
            "_model_module": "@jupyter-widgets/base",
            "_model_module_version": "1.2.0",
            "_model_name": "LayoutModel",
            "_view_count": null,
            "_view_module": "@jupyter-widgets/base",
            "_view_module_version": "1.2.0",
            "_view_name": "LayoutView",
            "align_content": null,
            "align_items": null,
            "align_self": null,
            "border": null,
            "bottom": null,
            "display": null,
            "flex": null,
            "flex_flow": null,
            "grid_area": null,
            "grid_auto_columns": null,
            "grid_auto_flow": null,
            "grid_auto_rows": null,
            "grid_column": null,
            "grid_gap": null,
            "grid_row": null,
            "grid_template_areas": null,
            "grid_template_columns": null,
            "grid_template_rows": null,
            "height": null,
            "justify_content": null,
            "justify_items": null,
            "left": null,
            "margin": null,
            "max_height": null,
            "max_width": null,
            "min_height": null,
            "min_width": null,
            "object_fit": null,
            "object_position": null,
            "order": null,
            "overflow": null,
            "overflow_x": null,
            "overflow_y": null,
            "padding": null,
            "right": null,
            "top": null,
            "visibility": null,
            "width": null
          }
        },
        "1a9b96b653e24150b1ada852a9524765": {
          "model_module": "@jupyter-widgets/base",
          "model_name": "LayoutModel",
          "model_module_version": "1.2.0",
          "state": {
            "_model_module": "@jupyter-widgets/base",
            "_model_module_version": "1.2.0",
            "_model_name": "LayoutModel",
            "_view_count": null,
            "_view_module": "@jupyter-widgets/base",
            "_view_module_version": "1.2.0",
            "_view_name": "LayoutView",
            "align_content": null,
            "align_items": null,
            "align_self": null,
            "border": null,
            "bottom": null,
            "display": null,
            "flex": null,
            "flex_flow": null,
            "grid_area": null,
            "grid_auto_columns": null,
            "grid_auto_flow": null,
            "grid_auto_rows": null,
            "grid_column": null,
            "grid_gap": null,
            "grid_row": null,
            "grid_template_areas": null,
            "grid_template_columns": null,
            "grid_template_rows": null,
            "height": null,
            "justify_content": null,
            "justify_items": null,
            "left": null,
            "margin": null,
            "max_height": null,
            "max_width": null,
            "min_height": null,
            "min_width": null,
            "object_fit": null,
            "object_position": null,
            "order": null,
            "overflow": null,
            "overflow_x": null,
            "overflow_y": null,
            "padding": null,
            "right": null,
            "top": null,
            "visibility": null,
            "width": null
          }
        },
        "dd76ceb0bc304570821a8cb001a05569": {
          "model_module": "@jupyter-widgets/controls",
          "model_name": "DescriptionStyleModel",
          "model_module_version": "1.5.0",
          "state": {
            "_model_module": "@jupyter-widgets/controls",
            "_model_module_version": "1.5.0",
            "_model_name": "DescriptionStyleModel",
            "_view_count": null,
            "_view_module": "@jupyter-widgets/base",
            "_view_module_version": "1.2.0",
            "_view_name": "StyleView",
            "description_width": ""
          }
        },
        "c771a418687c48f4b3ca5505cd01492c": {
          "model_module": "@jupyter-widgets/base",
          "model_name": "LayoutModel",
          "model_module_version": "1.2.0",
          "state": {
            "_model_module": "@jupyter-widgets/base",
            "_model_module_version": "1.2.0",
            "_model_name": "LayoutModel",
            "_view_count": null,
            "_view_module": "@jupyter-widgets/base",
            "_view_module_version": "1.2.0",
            "_view_name": "LayoutView",
            "align_content": null,
            "align_items": null,
            "align_self": null,
            "border": null,
            "bottom": null,
            "display": null,
            "flex": null,
            "flex_flow": null,
            "grid_area": null,
            "grid_auto_columns": null,
            "grid_auto_flow": null,
            "grid_auto_rows": null,
            "grid_column": null,
            "grid_gap": null,
            "grid_row": null,
            "grid_template_areas": null,
            "grid_template_columns": null,
            "grid_template_rows": null,
            "height": null,
            "justify_content": null,
            "justify_items": null,
            "left": null,
            "margin": null,
            "max_height": null,
            "max_width": null,
            "min_height": null,
            "min_width": null,
            "object_fit": null,
            "object_position": null,
            "order": null,
            "overflow": null,
            "overflow_x": null,
            "overflow_y": null,
            "padding": null,
            "right": null,
            "top": null,
            "visibility": null,
            "width": null
          }
        },
        "34f54707e8914c769c2f5f097cb45a6c": {
          "model_module": "@jupyter-widgets/controls",
          "model_name": "ProgressStyleModel",
          "model_module_version": "1.5.0",
          "state": {
            "_model_module": "@jupyter-widgets/controls",
            "_model_module_version": "1.5.0",
            "_model_name": "ProgressStyleModel",
            "_view_count": null,
            "_view_module": "@jupyter-widgets/base",
            "_view_module_version": "1.2.0",
            "_view_name": "StyleView",
            "bar_color": null,
            "description_width": ""
          }
        },
        "fd5b0980ae1f4ae7b7f5b8c88ba5dee5": {
          "model_module": "@jupyter-widgets/base",
          "model_name": "LayoutModel",
          "model_module_version": "1.2.0",
          "state": {
            "_model_module": "@jupyter-widgets/base",
            "_model_module_version": "1.2.0",
            "_model_name": "LayoutModel",
            "_view_count": null,
            "_view_module": "@jupyter-widgets/base",
            "_view_module_version": "1.2.0",
            "_view_name": "LayoutView",
            "align_content": null,
            "align_items": null,
            "align_self": null,
            "border": null,
            "bottom": null,
            "display": null,
            "flex": null,
            "flex_flow": null,
            "grid_area": null,
            "grid_auto_columns": null,
            "grid_auto_flow": null,
            "grid_auto_rows": null,
            "grid_column": null,
            "grid_gap": null,
            "grid_row": null,
            "grid_template_areas": null,
            "grid_template_columns": null,
            "grid_template_rows": null,
            "height": null,
            "justify_content": null,
            "justify_items": null,
            "left": null,
            "margin": null,
            "max_height": null,
            "max_width": null,
            "min_height": null,
            "min_width": null,
            "object_fit": null,
            "object_position": null,
            "order": null,
            "overflow": null,
            "overflow_x": null,
            "overflow_y": null,
            "padding": null,
            "right": null,
            "top": null,
            "visibility": null,
            "width": null
          }
        },
        "ef6627c6dca3469a90a8ed808a1a5ca1": {
          "model_module": "@jupyter-widgets/controls",
          "model_name": "DescriptionStyleModel",
          "model_module_version": "1.5.0",
          "state": {
            "_model_module": "@jupyter-widgets/controls",
            "_model_module_version": "1.5.0",
            "_model_name": "DescriptionStyleModel",
            "_view_count": null,
            "_view_module": "@jupyter-widgets/base",
            "_view_module_version": "1.2.0",
            "_view_name": "StyleView",
            "description_width": ""
          }
        },
        "005191875c624837b8bba399379626dd": {
          "model_module": "@jupyter-widgets/controls",
          "model_name": "HBoxModel",
          "model_module_version": "1.5.0",
          "state": {
            "_dom_classes": [],
            "_model_module": "@jupyter-widgets/controls",
            "_model_module_version": "1.5.0",
            "_model_name": "HBoxModel",
            "_view_count": null,
            "_view_module": "@jupyter-widgets/controls",
            "_view_module_version": "1.5.0",
            "_view_name": "HBoxView",
            "box_style": "",
            "children": [
              "IPY_MODEL_5d39bf1099b049159b8c6926ec5ce4ca",
              "IPY_MODEL_19c70d67877e40bc8ca1da5b772ed099",
              "IPY_MODEL_90db2979e76146fb8dc8f7f6f8686bb0"
            ],
            "layout": "IPY_MODEL_884c32fe60d64447b75581c525c9b0d3"
          }
        },
        "5d39bf1099b049159b8c6926ec5ce4ca": {
          "model_module": "@jupyter-widgets/controls",
          "model_name": "HTMLModel",
          "model_module_version": "1.5.0",
          "state": {
            "_dom_classes": [],
            "_model_module": "@jupyter-widgets/controls",
            "_model_module_version": "1.5.0",
            "_model_name": "HTMLModel",
            "_view_count": null,
            "_view_module": "@jupyter-widgets/controls",
            "_view_module_version": "1.5.0",
            "_view_name": "HTMLView",
            "description": "",
            "description_tooltip": null,
            "layout": "IPY_MODEL_819e0a497f9747a8bae988b7a370a7ac",
            "placeholder": "​",
            "style": "IPY_MODEL_528866afd1c9493aad668aba917b151e",
            "value": "100%"
          }
        },
        "19c70d67877e40bc8ca1da5b772ed099": {
          "model_module": "@jupyter-widgets/controls",
          "model_name": "FloatProgressModel",
          "model_module_version": "1.5.0",
          "state": {
            "_dom_classes": [],
            "_model_module": "@jupyter-widgets/controls",
            "_model_module_version": "1.5.0",
            "_model_name": "FloatProgressModel",
            "_view_count": null,
            "_view_module": "@jupyter-widgets/controls",
            "_view_module_version": "1.5.0",
            "_view_name": "ProgressView",
            "bar_style": "success",
            "description": "",
            "description_tooltip": null,
            "layout": "IPY_MODEL_66261f617afb4370913f06cefba13f9d",
            "max": 5,
            "min": 0,
            "orientation": "horizontal",
            "style": "IPY_MODEL_f911d7543f1e4e37bbeb6970b419e0d6",
            "value": 5
          }
        },
        "90db2979e76146fb8dc8f7f6f8686bb0": {
          "model_module": "@jupyter-widgets/controls",
          "model_name": "HTMLModel",
          "model_module_version": "1.5.0",
          "state": {
            "_dom_classes": [],
            "_model_module": "@jupyter-widgets/controls",
            "_model_module_version": "1.5.0",
            "_model_name": "HTMLModel",
            "_view_count": null,
            "_view_module": "@jupyter-widgets/controls",
            "_view_module_version": "1.5.0",
            "_view_name": "HTMLView",
            "description": "",
            "description_tooltip": null,
            "layout": "IPY_MODEL_333c5faff37e4287950ae485b18fc3bf",
            "placeholder": "​",
            "style": "IPY_MODEL_c31cae2417214d71a9130f6d43445d08",
            "value": " 5/5 [00:00&lt;00:00, 21.29it/s]"
          }
        },
        "884c32fe60d64447b75581c525c9b0d3": {
          "model_module": "@jupyter-widgets/base",
          "model_name": "LayoutModel",
          "model_module_version": "1.2.0",
          "state": {
            "_model_module": "@jupyter-widgets/base",
            "_model_module_version": "1.2.0",
            "_model_name": "LayoutModel",
            "_view_count": null,
            "_view_module": "@jupyter-widgets/base",
            "_view_module_version": "1.2.0",
            "_view_name": "LayoutView",
            "align_content": null,
            "align_items": null,
            "align_self": null,
            "border": null,
            "bottom": null,
            "display": null,
            "flex": null,
            "flex_flow": null,
            "grid_area": null,
            "grid_auto_columns": null,
            "grid_auto_flow": null,
            "grid_auto_rows": null,
            "grid_column": null,
            "grid_gap": null,
            "grid_row": null,
            "grid_template_areas": null,
            "grid_template_columns": null,
            "grid_template_rows": null,
            "height": null,
            "justify_content": null,
            "justify_items": null,
            "left": null,
            "margin": null,
            "max_height": null,
            "max_width": null,
            "min_height": null,
            "min_width": null,
            "object_fit": null,
            "object_position": null,
            "order": null,
            "overflow": null,
            "overflow_x": null,
            "overflow_y": null,
            "padding": null,
            "right": null,
            "top": null,
            "visibility": null,
            "width": null
          }
        },
        "819e0a497f9747a8bae988b7a370a7ac": {
          "model_module": "@jupyter-widgets/base",
          "model_name": "LayoutModel",
          "model_module_version": "1.2.0",
          "state": {
            "_model_module": "@jupyter-widgets/base",
            "_model_module_version": "1.2.0",
            "_model_name": "LayoutModel",
            "_view_count": null,
            "_view_module": "@jupyter-widgets/base",
            "_view_module_version": "1.2.0",
            "_view_name": "LayoutView",
            "align_content": null,
            "align_items": null,
            "align_self": null,
            "border": null,
            "bottom": null,
            "display": null,
            "flex": null,
            "flex_flow": null,
            "grid_area": null,
            "grid_auto_columns": null,
            "grid_auto_flow": null,
            "grid_auto_rows": null,
            "grid_column": null,
            "grid_gap": null,
            "grid_row": null,
            "grid_template_areas": null,
            "grid_template_columns": null,
            "grid_template_rows": null,
            "height": null,
            "justify_content": null,
            "justify_items": null,
            "left": null,
            "margin": null,
            "max_height": null,
            "max_width": null,
            "min_height": null,
            "min_width": null,
            "object_fit": null,
            "object_position": null,
            "order": null,
            "overflow": null,
            "overflow_x": null,
            "overflow_y": null,
            "padding": null,
            "right": null,
            "top": null,
            "visibility": null,
            "width": null
          }
        },
        "528866afd1c9493aad668aba917b151e": {
          "model_module": "@jupyter-widgets/controls",
          "model_name": "DescriptionStyleModel",
          "model_module_version": "1.5.0",
          "state": {
            "_model_module": "@jupyter-widgets/controls",
            "_model_module_version": "1.5.0",
            "_model_name": "DescriptionStyleModel",
            "_view_count": null,
            "_view_module": "@jupyter-widgets/base",
            "_view_module_version": "1.2.0",
            "_view_name": "StyleView",
            "description_width": ""
          }
        },
        "66261f617afb4370913f06cefba13f9d": {
          "model_module": "@jupyter-widgets/base",
          "model_name": "LayoutModel",
          "model_module_version": "1.2.0",
          "state": {
            "_model_module": "@jupyter-widgets/base",
            "_model_module_version": "1.2.0",
            "_model_name": "LayoutModel",
            "_view_count": null,
            "_view_module": "@jupyter-widgets/base",
            "_view_module_version": "1.2.0",
            "_view_name": "LayoutView",
            "align_content": null,
            "align_items": null,
            "align_self": null,
            "border": null,
            "bottom": null,
            "display": null,
            "flex": null,
            "flex_flow": null,
            "grid_area": null,
            "grid_auto_columns": null,
            "grid_auto_flow": null,
            "grid_auto_rows": null,
            "grid_column": null,
            "grid_gap": null,
            "grid_row": null,
            "grid_template_areas": null,
            "grid_template_columns": null,
            "grid_template_rows": null,
            "height": null,
            "justify_content": null,
            "justify_items": null,
            "left": null,
            "margin": null,
            "max_height": null,
            "max_width": null,
            "min_height": null,
            "min_width": null,
            "object_fit": null,
            "object_position": null,
            "order": null,
            "overflow": null,
            "overflow_x": null,
            "overflow_y": null,
            "padding": null,
            "right": null,
            "top": null,
            "visibility": null,
            "width": null
          }
        },
        "f911d7543f1e4e37bbeb6970b419e0d6": {
          "model_module": "@jupyter-widgets/controls",
          "model_name": "ProgressStyleModel",
          "model_module_version": "1.5.0",
          "state": {
            "_model_module": "@jupyter-widgets/controls",
            "_model_module_version": "1.5.0",
            "_model_name": "ProgressStyleModel",
            "_view_count": null,
            "_view_module": "@jupyter-widgets/base",
            "_view_module_version": "1.2.0",
            "_view_name": "StyleView",
            "bar_color": null,
            "description_width": ""
          }
        },
        "333c5faff37e4287950ae485b18fc3bf": {
          "model_module": "@jupyter-widgets/base",
          "model_name": "LayoutModel",
          "model_module_version": "1.2.0",
          "state": {
            "_model_module": "@jupyter-widgets/base",
            "_model_module_version": "1.2.0",
            "_model_name": "LayoutModel",
            "_view_count": null,
            "_view_module": "@jupyter-widgets/base",
            "_view_module_version": "1.2.0",
            "_view_name": "LayoutView",
            "align_content": null,
            "align_items": null,
            "align_self": null,
            "border": null,
            "bottom": null,
            "display": null,
            "flex": null,
            "flex_flow": null,
            "grid_area": null,
            "grid_auto_columns": null,
            "grid_auto_flow": null,
            "grid_auto_rows": null,
            "grid_column": null,
            "grid_gap": null,
            "grid_row": null,
            "grid_template_areas": null,
            "grid_template_columns": null,
            "grid_template_rows": null,
            "height": null,
            "justify_content": null,
            "justify_items": null,
            "left": null,
            "margin": null,
            "max_height": null,
            "max_width": null,
            "min_height": null,
            "min_width": null,
            "object_fit": null,
            "object_position": null,
            "order": null,
            "overflow": null,
            "overflow_x": null,
            "overflow_y": null,
            "padding": null,
            "right": null,
            "top": null,
            "visibility": null,
            "width": null
          }
        },
        "c31cae2417214d71a9130f6d43445d08": {
          "model_module": "@jupyter-widgets/controls",
          "model_name": "DescriptionStyleModel",
          "model_module_version": "1.5.0",
          "state": {
            "_model_module": "@jupyter-widgets/controls",
            "_model_module_version": "1.5.0",
            "_model_name": "DescriptionStyleModel",
            "_view_count": null,
            "_view_module": "@jupyter-widgets/base",
            "_view_module_version": "1.2.0",
            "_view_name": "StyleView",
            "description_width": ""
          }
        },
        "ae8e2a19d0ed4fce9c5691a17d3980f7": {
          "model_module": "@jupyter-widgets/controls",
          "model_name": "HBoxModel",
          "model_module_version": "1.5.0",
          "state": {
            "_dom_classes": [],
            "_model_module": "@jupyter-widgets/controls",
            "_model_module_version": "1.5.0",
            "_model_name": "HBoxModel",
            "_view_count": null,
            "_view_module": "@jupyter-widgets/controls",
            "_view_module_version": "1.5.0",
            "_view_name": "HBoxView",
            "box_style": "",
            "children": [
              "IPY_MODEL_bec06000b7f247af875816e28edc8e8b",
              "IPY_MODEL_84d8d33ec9fc483cb4a9d2f4a2201be7",
              "IPY_MODEL_5a94ab3c80f04a38b430395fd861dc17"
            ],
            "layout": "IPY_MODEL_28a53f7af32f430f8d96fae43aca841d"
          }
        },
        "bec06000b7f247af875816e28edc8e8b": {
          "model_module": "@jupyter-widgets/controls",
          "model_name": "HTMLModel",
          "model_module_version": "1.5.0",
          "state": {
            "_dom_classes": [],
            "_model_module": "@jupyter-widgets/controls",
            "_model_module_version": "1.5.0",
            "_model_name": "HTMLModel",
            "_view_count": null,
            "_view_module": "@jupyter-widgets/controls",
            "_view_module_version": "1.5.0",
            "_view_name": "HTMLView",
            "description": "",
            "description_tooltip": null,
            "layout": "IPY_MODEL_697bde4c7d7241f7a81e722682a24947",
            "placeholder": "​",
            "style": "IPY_MODEL_9f827cfd2d9a451d9caf75ba4390ef8f",
            "value": "100%"
          }
        },
        "84d8d33ec9fc483cb4a9d2f4a2201be7": {
          "model_module": "@jupyter-widgets/controls",
          "model_name": "FloatProgressModel",
          "model_module_version": "1.5.0",
          "state": {
            "_dom_classes": [],
            "_model_module": "@jupyter-widgets/controls",
            "_model_module_version": "1.5.0",
            "_model_name": "FloatProgressModel",
            "_view_count": null,
            "_view_module": "@jupyter-widgets/controls",
            "_view_module_version": "1.5.0",
            "_view_name": "ProgressView",
            "bar_style": "success",
            "description": "",
            "description_tooltip": null,
            "layout": "IPY_MODEL_f79f10e36e2943e4a7da78eedfcdc760",
            "max": 509,
            "min": 0,
            "orientation": "horizontal",
            "style": "IPY_MODEL_4f74096da6e540389464c7f6bba0c540",
            "value": 509
          }
        },
        "5a94ab3c80f04a38b430395fd861dc17": {
          "model_module": "@jupyter-widgets/controls",
          "model_name": "HTMLModel",
          "model_module_version": "1.5.0",
          "state": {
            "_dom_classes": [],
            "_model_module": "@jupyter-widgets/controls",
            "_model_module_version": "1.5.0",
            "_model_name": "HTMLModel",
            "_view_count": null,
            "_view_module": "@jupyter-widgets/controls",
            "_view_module_version": "1.5.0",
            "_view_name": "HTMLView",
            "description": "",
            "description_tooltip": null,
            "layout": "IPY_MODEL_84c9b04a0705427999c6d7fd714db9d7",
            "placeholder": "​",
            "style": "IPY_MODEL_ef30307c565b408bae26f484b51c0677",
            "value": " 509/509 [00:01&lt;00:00, 296.07it/s]"
          }
        },
        "28a53f7af32f430f8d96fae43aca841d": {
          "model_module": "@jupyter-widgets/base",
          "model_name": "LayoutModel",
          "model_module_version": "1.2.0",
          "state": {
            "_model_module": "@jupyter-widgets/base",
            "_model_module_version": "1.2.0",
            "_model_name": "LayoutModel",
            "_view_count": null,
            "_view_module": "@jupyter-widgets/base",
            "_view_module_version": "1.2.0",
            "_view_name": "LayoutView",
            "align_content": null,
            "align_items": null,
            "align_self": null,
            "border": null,
            "bottom": null,
            "display": null,
            "flex": null,
            "flex_flow": null,
            "grid_area": null,
            "grid_auto_columns": null,
            "grid_auto_flow": null,
            "grid_auto_rows": null,
            "grid_column": null,
            "grid_gap": null,
            "grid_row": null,
            "grid_template_areas": null,
            "grid_template_columns": null,
            "grid_template_rows": null,
            "height": null,
            "justify_content": null,
            "justify_items": null,
            "left": null,
            "margin": null,
            "max_height": null,
            "max_width": null,
            "min_height": null,
            "min_width": null,
            "object_fit": null,
            "object_position": null,
            "order": null,
            "overflow": null,
            "overflow_x": null,
            "overflow_y": null,
            "padding": null,
            "right": null,
            "top": null,
            "visibility": null,
            "width": null
          }
        },
        "697bde4c7d7241f7a81e722682a24947": {
          "model_module": "@jupyter-widgets/base",
          "model_name": "LayoutModel",
          "model_module_version": "1.2.0",
          "state": {
            "_model_module": "@jupyter-widgets/base",
            "_model_module_version": "1.2.0",
            "_model_name": "LayoutModel",
            "_view_count": null,
            "_view_module": "@jupyter-widgets/base",
            "_view_module_version": "1.2.0",
            "_view_name": "LayoutView",
            "align_content": null,
            "align_items": null,
            "align_self": null,
            "border": null,
            "bottom": null,
            "display": null,
            "flex": null,
            "flex_flow": null,
            "grid_area": null,
            "grid_auto_columns": null,
            "grid_auto_flow": null,
            "grid_auto_rows": null,
            "grid_column": null,
            "grid_gap": null,
            "grid_row": null,
            "grid_template_areas": null,
            "grid_template_columns": null,
            "grid_template_rows": null,
            "height": null,
            "justify_content": null,
            "justify_items": null,
            "left": null,
            "margin": null,
            "max_height": null,
            "max_width": null,
            "min_height": null,
            "min_width": null,
            "object_fit": null,
            "object_position": null,
            "order": null,
            "overflow": null,
            "overflow_x": null,
            "overflow_y": null,
            "padding": null,
            "right": null,
            "top": null,
            "visibility": null,
            "width": null
          }
        },
        "9f827cfd2d9a451d9caf75ba4390ef8f": {
          "model_module": "@jupyter-widgets/controls",
          "model_name": "DescriptionStyleModel",
          "model_module_version": "1.5.0",
          "state": {
            "_model_module": "@jupyter-widgets/controls",
            "_model_module_version": "1.5.0",
            "_model_name": "DescriptionStyleModel",
            "_view_count": null,
            "_view_module": "@jupyter-widgets/base",
            "_view_module_version": "1.2.0",
            "_view_name": "StyleView",
            "description_width": ""
          }
        },
        "f79f10e36e2943e4a7da78eedfcdc760": {
          "model_module": "@jupyter-widgets/base",
          "model_name": "LayoutModel",
          "model_module_version": "1.2.0",
          "state": {
            "_model_module": "@jupyter-widgets/base",
            "_model_module_version": "1.2.0",
            "_model_name": "LayoutModel",
            "_view_count": null,
            "_view_module": "@jupyter-widgets/base",
            "_view_module_version": "1.2.0",
            "_view_name": "LayoutView",
            "align_content": null,
            "align_items": null,
            "align_self": null,
            "border": null,
            "bottom": null,
            "display": null,
            "flex": null,
            "flex_flow": null,
            "grid_area": null,
            "grid_auto_columns": null,
            "grid_auto_flow": null,
            "grid_auto_rows": null,
            "grid_column": null,
            "grid_gap": null,
            "grid_row": null,
            "grid_template_areas": null,
            "grid_template_columns": null,
            "grid_template_rows": null,
            "height": null,
            "justify_content": null,
            "justify_items": null,
            "left": null,
            "margin": null,
            "max_height": null,
            "max_width": null,
            "min_height": null,
            "min_width": null,
            "object_fit": null,
            "object_position": null,
            "order": null,
            "overflow": null,
            "overflow_x": null,
            "overflow_y": null,
            "padding": null,
            "right": null,
            "top": null,
            "visibility": null,
            "width": null
          }
        },
        "4f74096da6e540389464c7f6bba0c540": {
          "model_module": "@jupyter-widgets/controls",
          "model_name": "ProgressStyleModel",
          "model_module_version": "1.5.0",
          "state": {
            "_model_module": "@jupyter-widgets/controls",
            "_model_module_version": "1.5.0",
            "_model_name": "ProgressStyleModel",
            "_view_count": null,
            "_view_module": "@jupyter-widgets/base",
            "_view_module_version": "1.2.0",
            "_view_name": "StyleView",
            "bar_color": null,
            "description_width": ""
          }
        },
        "84c9b04a0705427999c6d7fd714db9d7": {
          "model_module": "@jupyter-widgets/base",
          "model_name": "LayoutModel",
          "model_module_version": "1.2.0",
          "state": {
            "_model_module": "@jupyter-widgets/base",
            "_model_module_version": "1.2.0",
            "_model_name": "LayoutModel",
            "_view_count": null,
            "_view_module": "@jupyter-widgets/base",
            "_view_module_version": "1.2.0",
            "_view_name": "LayoutView",
            "align_content": null,
            "align_items": null,
            "align_self": null,
            "border": null,
            "bottom": null,
            "display": null,
            "flex": null,
            "flex_flow": null,
            "grid_area": null,
            "grid_auto_columns": null,
            "grid_auto_flow": null,
            "grid_auto_rows": null,
            "grid_column": null,
            "grid_gap": null,
            "grid_row": null,
            "grid_template_areas": null,
            "grid_template_columns": null,
            "grid_template_rows": null,
            "height": null,
            "justify_content": null,
            "justify_items": null,
            "left": null,
            "margin": null,
            "max_height": null,
            "max_width": null,
            "min_height": null,
            "min_width": null,
            "object_fit": null,
            "object_position": null,
            "order": null,
            "overflow": null,
            "overflow_x": null,
            "overflow_y": null,
            "padding": null,
            "right": null,
            "top": null,
            "visibility": null,
            "width": null
          }
        },
        "ef30307c565b408bae26f484b51c0677": {
          "model_module": "@jupyter-widgets/controls",
          "model_name": "DescriptionStyleModel",
          "model_module_version": "1.5.0",
          "state": {
            "_model_module": "@jupyter-widgets/controls",
            "_model_module_version": "1.5.0",
            "_model_name": "DescriptionStyleModel",
            "_view_count": null,
            "_view_module": "@jupyter-widgets/base",
            "_view_module_version": "1.2.0",
            "_view_name": "StyleView",
            "description_width": ""
          }
        },
        "0c09b9bb626a431daf4a4abf79ea73a5": {
          "model_module": "@jupyter-widgets/controls",
          "model_name": "HBoxModel",
          "model_module_version": "1.5.0",
          "state": {
            "_dom_classes": [],
            "_model_module": "@jupyter-widgets/controls",
            "_model_module_version": "1.5.0",
            "_model_name": "HBoxModel",
            "_view_count": null,
            "_view_module": "@jupyter-widgets/controls",
            "_view_module_version": "1.5.0",
            "_view_name": "HBoxView",
            "box_style": "",
            "children": [
              "IPY_MODEL_47dbe7190d5740efab56a3fda9cbbb7f",
              "IPY_MODEL_bb34b7314fbc4bb792218fc088d8af45",
              "IPY_MODEL_92743e5f6ac149eb979478f39aef5814"
            ],
            "layout": "IPY_MODEL_ced79973680c4003bd100604dd0d2777"
          }
        },
        "47dbe7190d5740efab56a3fda9cbbb7f": {
          "model_module": "@jupyter-widgets/controls",
          "model_name": "HTMLModel",
          "model_module_version": "1.5.0",
          "state": {
            "_dom_classes": [],
            "_model_module": "@jupyter-widgets/controls",
            "_model_module_version": "1.5.0",
            "_model_name": "HTMLModel",
            "_view_count": null,
            "_view_module": "@jupyter-widgets/controls",
            "_view_module_version": "1.5.0",
            "_view_name": "HTMLView",
            "description": "",
            "description_tooltip": null,
            "layout": "IPY_MODEL_91cbf6b954824926b9ea87f252a37eb3",
            "placeholder": "​",
            "style": "IPY_MODEL_8a7668766a6644e8a0ddddf86c679395",
            "value": "100%"
          }
        },
        "bb34b7314fbc4bb792218fc088d8af45": {
          "model_module": "@jupyter-widgets/controls",
          "model_name": "FloatProgressModel",
          "model_module_version": "1.5.0",
          "state": {
            "_dom_classes": [],
            "_model_module": "@jupyter-widgets/controls",
            "_model_module_version": "1.5.0",
            "_model_name": "FloatProgressModel",
            "_view_count": null,
            "_view_module": "@jupyter-widgets/controls",
            "_view_module_version": "1.5.0",
            "_view_name": "ProgressView",
            "bar_style": "success",
            "description": "",
            "description_tooltip": null,
            "layout": "IPY_MODEL_3847165b88ac4a4696845a2737dd0add",
            "max": 509,
            "min": 0,
            "orientation": "horizontal",
            "style": "IPY_MODEL_636e3b0ec5514ad0b70a2e07120007c4",
            "value": 509
          }
        },
        "92743e5f6ac149eb979478f39aef5814": {
          "model_module": "@jupyter-widgets/controls",
          "model_name": "HTMLModel",
          "model_module_version": "1.5.0",
          "state": {
            "_dom_classes": [],
            "_model_module": "@jupyter-widgets/controls",
            "_model_module_version": "1.5.0",
            "_model_name": "HTMLModel",
            "_view_count": null,
            "_view_module": "@jupyter-widgets/controls",
            "_view_module_version": "1.5.0",
            "_view_name": "HTMLView",
            "description": "",
            "description_tooltip": null,
            "layout": "IPY_MODEL_0097a45e999c4d19b0dfd028eff5d63a",
            "placeholder": "​",
            "style": "IPY_MODEL_c1ca6467571b447b8223783ffda73cde",
            "value": " 509/509 [00:27&lt;00:00, 19.62it/s]"
          }
        },
        "ced79973680c4003bd100604dd0d2777": {
          "model_module": "@jupyter-widgets/base",
          "model_name": "LayoutModel",
          "model_module_version": "1.2.0",
          "state": {
            "_model_module": "@jupyter-widgets/base",
            "_model_module_version": "1.2.0",
            "_model_name": "LayoutModel",
            "_view_count": null,
            "_view_module": "@jupyter-widgets/base",
            "_view_module_version": "1.2.0",
            "_view_name": "LayoutView",
            "align_content": null,
            "align_items": null,
            "align_self": null,
            "border": null,
            "bottom": null,
            "display": null,
            "flex": null,
            "flex_flow": null,
            "grid_area": null,
            "grid_auto_columns": null,
            "grid_auto_flow": null,
            "grid_auto_rows": null,
            "grid_column": null,
            "grid_gap": null,
            "grid_row": null,
            "grid_template_areas": null,
            "grid_template_columns": null,
            "grid_template_rows": null,
            "height": null,
            "justify_content": null,
            "justify_items": null,
            "left": null,
            "margin": null,
            "max_height": null,
            "max_width": null,
            "min_height": null,
            "min_width": null,
            "object_fit": null,
            "object_position": null,
            "order": null,
            "overflow": null,
            "overflow_x": null,
            "overflow_y": null,
            "padding": null,
            "right": null,
            "top": null,
            "visibility": null,
            "width": null
          }
        },
        "91cbf6b954824926b9ea87f252a37eb3": {
          "model_module": "@jupyter-widgets/base",
          "model_name": "LayoutModel",
          "model_module_version": "1.2.0",
          "state": {
            "_model_module": "@jupyter-widgets/base",
            "_model_module_version": "1.2.0",
            "_model_name": "LayoutModel",
            "_view_count": null,
            "_view_module": "@jupyter-widgets/base",
            "_view_module_version": "1.2.0",
            "_view_name": "LayoutView",
            "align_content": null,
            "align_items": null,
            "align_self": null,
            "border": null,
            "bottom": null,
            "display": null,
            "flex": null,
            "flex_flow": null,
            "grid_area": null,
            "grid_auto_columns": null,
            "grid_auto_flow": null,
            "grid_auto_rows": null,
            "grid_column": null,
            "grid_gap": null,
            "grid_row": null,
            "grid_template_areas": null,
            "grid_template_columns": null,
            "grid_template_rows": null,
            "height": null,
            "justify_content": null,
            "justify_items": null,
            "left": null,
            "margin": null,
            "max_height": null,
            "max_width": null,
            "min_height": null,
            "min_width": null,
            "object_fit": null,
            "object_position": null,
            "order": null,
            "overflow": null,
            "overflow_x": null,
            "overflow_y": null,
            "padding": null,
            "right": null,
            "top": null,
            "visibility": null,
            "width": null
          }
        },
        "8a7668766a6644e8a0ddddf86c679395": {
          "model_module": "@jupyter-widgets/controls",
          "model_name": "DescriptionStyleModel",
          "model_module_version": "1.5.0",
          "state": {
            "_model_module": "@jupyter-widgets/controls",
            "_model_module_version": "1.5.0",
            "_model_name": "DescriptionStyleModel",
            "_view_count": null,
            "_view_module": "@jupyter-widgets/base",
            "_view_module_version": "1.2.0",
            "_view_name": "StyleView",
            "description_width": ""
          }
        },
        "3847165b88ac4a4696845a2737dd0add": {
          "model_module": "@jupyter-widgets/base",
          "model_name": "LayoutModel",
          "model_module_version": "1.2.0",
          "state": {
            "_model_module": "@jupyter-widgets/base",
            "_model_module_version": "1.2.0",
            "_model_name": "LayoutModel",
            "_view_count": null,
            "_view_module": "@jupyter-widgets/base",
            "_view_module_version": "1.2.0",
            "_view_name": "LayoutView",
            "align_content": null,
            "align_items": null,
            "align_self": null,
            "border": null,
            "bottom": null,
            "display": null,
            "flex": null,
            "flex_flow": null,
            "grid_area": null,
            "grid_auto_columns": null,
            "grid_auto_flow": null,
            "grid_auto_rows": null,
            "grid_column": null,
            "grid_gap": null,
            "grid_row": null,
            "grid_template_areas": null,
            "grid_template_columns": null,
            "grid_template_rows": null,
            "height": null,
            "justify_content": null,
            "justify_items": null,
            "left": null,
            "margin": null,
            "max_height": null,
            "max_width": null,
            "min_height": null,
            "min_width": null,
            "object_fit": null,
            "object_position": null,
            "order": null,
            "overflow": null,
            "overflow_x": null,
            "overflow_y": null,
            "padding": null,
            "right": null,
            "top": null,
            "visibility": null,
            "width": null
          }
        },
        "636e3b0ec5514ad0b70a2e07120007c4": {
          "model_module": "@jupyter-widgets/controls",
          "model_name": "ProgressStyleModel",
          "model_module_version": "1.5.0",
          "state": {
            "_model_module": "@jupyter-widgets/controls",
            "_model_module_version": "1.5.0",
            "_model_name": "ProgressStyleModel",
            "_view_count": null,
            "_view_module": "@jupyter-widgets/base",
            "_view_module_version": "1.2.0",
            "_view_name": "StyleView",
            "bar_color": null,
            "description_width": ""
          }
        },
        "0097a45e999c4d19b0dfd028eff5d63a": {
          "model_module": "@jupyter-widgets/base",
          "model_name": "LayoutModel",
          "model_module_version": "1.2.0",
          "state": {
            "_model_module": "@jupyter-widgets/base",
            "_model_module_version": "1.2.0",
            "_model_name": "LayoutModel",
            "_view_count": null,
            "_view_module": "@jupyter-widgets/base",
            "_view_module_version": "1.2.0",
            "_view_name": "LayoutView",
            "align_content": null,
            "align_items": null,
            "align_self": null,
            "border": null,
            "bottom": null,
            "display": null,
            "flex": null,
            "flex_flow": null,
            "grid_area": null,
            "grid_auto_columns": null,
            "grid_auto_flow": null,
            "grid_auto_rows": null,
            "grid_column": null,
            "grid_gap": null,
            "grid_row": null,
            "grid_template_areas": null,
            "grid_template_columns": null,
            "grid_template_rows": null,
            "height": null,
            "justify_content": null,
            "justify_items": null,
            "left": null,
            "margin": null,
            "max_height": null,
            "max_width": null,
            "min_height": null,
            "min_width": null,
            "object_fit": null,
            "object_position": null,
            "order": null,
            "overflow": null,
            "overflow_x": null,
            "overflow_y": null,
            "padding": null,
            "right": null,
            "top": null,
            "visibility": null,
            "width": null
          }
        },
        "c1ca6467571b447b8223783ffda73cde": {
          "model_module": "@jupyter-widgets/controls",
          "model_name": "DescriptionStyleModel",
          "model_module_version": "1.5.0",
          "state": {
            "_model_module": "@jupyter-widgets/controls",
            "_model_module_version": "1.5.0",
            "_model_name": "DescriptionStyleModel",
            "_view_count": null,
            "_view_module": "@jupyter-widgets/base",
            "_view_module_version": "1.2.0",
            "_view_name": "StyleView",
            "description_width": ""
          }
        },
        "36d9341a920249d6921dc5b0ad21b8fe": {
          "model_module": "@jupyter-widgets/controls",
          "model_name": "HBoxModel",
          "model_module_version": "1.5.0",
          "state": {
            "_dom_classes": [],
            "_model_module": "@jupyter-widgets/controls",
            "_model_module_version": "1.5.0",
            "_model_name": "HBoxModel",
            "_view_count": null,
            "_view_module": "@jupyter-widgets/controls",
            "_view_module_version": "1.5.0",
            "_view_name": "HBoxView",
            "box_style": "",
            "children": [
              "IPY_MODEL_05568f6174a54421ad75f5b39e13f1fa",
              "IPY_MODEL_be6502c97f264e11bca64a61896753e6",
              "IPY_MODEL_583a99a1165c4e8089b81a6f5d5315bd"
            ],
            "layout": "IPY_MODEL_85609357a057473eb5c8a796fb793701"
          }
        },
        "05568f6174a54421ad75f5b39e13f1fa": {
          "model_module": "@jupyter-widgets/controls",
          "model_name": "HTMLModel",
          "model_module_version": "1.5.0",
          "state": {
            "_dom_classes": [],
            "_model_module": "@jupyter-widgets/controls",
            "_model_module_version": "1.5.0",
            "_model_name": "HTMLModel",
            "_view_count": null,
            "_view_module": "@jupyter-widgets/controls",
            "_view_module_version": "1.5.0",
            "_view_name": "HTMLView",
            "description": "",
            "description_tooltip": null,
            "layout": "IPY_MODEL_415a86a13b8e42b1aa92129a8d6ae87b",
            "placeholder": "​",
            "style": "IPY_MODEL_43a64ad24aeb4d3985bc4012ccd2a789",
            "value": "100%"
          }
        },
        "be6502c97f264e11bca64a61896753e6": {
          "model_module": "@jupyter-widgets/controls",
          "model_name": "FloatProgressModel",
          "model_module_version": "1.5.0",
          "state": {
            "_dom_classes": [],
            "_model_module": "@jupyter-widgets/controls",
            "_model_module_version": "1.5.0",
            "_model_name": "FloatProgressModel",
            "_view_count": null,
            "_view_module": "@jupyter-widgets/controls",
            "_view_module_version": "1.5.0",
            "_view_name": "ProgressView",
            "bar_style": "success",
            "description": "",
            "description_tooltip": null,
            "layout": "IPY_MODEL_9fdeaa596a044078b9f6f06f8bd7f587",
            "max": 502,
            "min": 0,
            "orientation": "horizontal",
            "style": "IPY_MODEL_7850f6b80d34487ba3c11bd0d4392b20",
            "value": 502
          }
        },
        "583a99a1165c4e8089b81a6f5d5315bd": {
          "model_module": "@jupyter-widgets/controls",
          "model_name": "HTMLModel",
          "model_module_version": "1.5.0",
          "state": {
            "_dom_classes": [],
            "_model_module": "@jupyter-widgets/controls",
            "_model_module_version": "1.5.0",
            "_model_name": "HTMLModel",
            "_view_count": null,
            "_view_module": "@jupyter-widgets/controls",
            "_view_module_version": "1.5.0",
            "_view_name": "HTMLView",
            "description": "",
            "description_tooltip": null,
            "layout": "IPY_MODEL_11deab73717c43319c02a9a44a9f1d19",
            "placeholder": "​",
            "style": "IPY_MODEL_d39d0e567cae4f48afda1f111eb951ea",
            "value": " 502/502 [05:48&lt;00:00,  1.15it/s]"
          }
        },
        "85609357a057473eb5c8a796fb793701": {
          "model_module": "@jupyter-widgets/base",
          "model_name": "LayoutModel",
          "model_module_version": "1.2.0",
          "state": {
            "_model_module": "@jupyter-widgets/base",
            "_model_module_version": "1.2.0",
            "_model_name": "LayoutModel",
            "_view_count": null,
            "_view_module": "@jupyter-widgets/base",
            "_view_module_version": "1.2.0",
            "_view_name": "LayoutView",
            "align_content": null,
            "align_items": null,
            "align_self": null,
            "border": null,
            "bottom": null,
            "display": null,
            "flex": null,
            "flex_flow": null,
            "grid_area": null,
            "grid_auto_columns": null,
            "grid_auto_flow": null,
            "grid_auto_rows": null,
            "grid_column": null,
            "grid_gap": null,
            "grid_row": null,
            "grid_template_areas": null,
            "grid_template_columns": null,
            "grid_template_rows": null,
            "height": null,
            "justify_content": null,
            "justify_items": null,
            "left": null,
            "margin": null,
            "max_height": null,
            "max_width": null,
            "min_height": null,
            "min_width": null,
            "object_fit": null,
            "object_position": null,
            "order": null,
            "overflow": null,
            "overflow_x": null,
            "overflow_y": null,
            "padding": null,
            "right": null,
            "top": null,
            "visibility": null,
            "width": null
          }
        },
        "415a86a13b8e42b1aa92129a8d6ae87b": {
          "model_module": "@jupyter-widgets/base",
          "model_name": "LayoutModel",
          "model_module_version": "1.2.0",
          "state": {
            "_model_module": "@jupyter-widgets/base",
            "_model_module_version": "1.2.0",
            "_model_name": "LayoutModel",
            "_view_count": null,
            "_view_module": "@jupyter-widgets/base",
            "_view_module_version": "1.2.0",
            "_view_name": "LayoutView",
            "align_content": null,
            "align_items": null,
            "align_self": null,
            "border": null,
            "bottom": null,
            "display": null,
            "flex": null,
            "flex_flow": null,
            "grid_area": null,
            "grid_auto_columns": null,
            "grid_auto_flow": null,
            "grid_auto_rows": null,
            "grid_column": null,
            "grid_gap": null,
            "grid_row": null,
            "grid_template_areas": null,
            "grid_template_columns": null,
            "grid_template_rows": null,
            "height": null,
            "justify_content": null,
            "justify_items": null,
            "left": null,
            "margin": null,
            "max_height": null,
            "max_width": null,
            "min_height": null,
            "min_width": null,
            "object_fit": null,
            "object_position": null,
            "order": null,
            "overflow": null,
            "overflow_x": null,
            "overflow_y": null,
            "padding": null,
            "right": null,
            "top": null,
            "visibility": null,
            "width": null
          }
        },
        "43a64ad24aeb4d3985bc4012ccd2a789": {
          "model_module": "@jupyter-widgets/controls",
          "model_name": "DescriptionStyleModel",
          "model_module_version": "1.5.0",
          "state": {
            "_model_module": "@jupyter-widgets/controls",
            "_model_module_version": "1.5.0",
            "_model_name": "DescriptionStyleModel",
            "_view_count": null,
            "_view_module": "@jupyter-widgets/base",
            "_view_module_version": "1.2.0",
            "_view_name": "StyleView",
            "description_width": ""
          }
        },
        "9fdeaa596a044078b9f6f06f8bd7f587": {
          "model_module": "@jupyter-widgets/base",
          "model_name": "LayoutModel",
          "model_module_version": "1.2.0",
          "state": {
            "_model_module": "@jupyter-widgets/base",
            "_model_module_version": "1.2.0",
            "_model_name": "LayoutModel",
            "_view_count": null,
            "_view_module": "@jupyter-widgets/base",
            "_view_module_version": "1.2.0",
            "_view_name": "LayoutView",
            "align_content": null,
            "align_items": null,
            "align_self": null,
            "border": null,
            "bottom": null,
            "display": null,
            "flex": null,
            "flex_flow": null,
            "grid_area": null,
            "grid_auto_columns": null,
            "grid_auto_flow": null,
            "grid_auto_rows": null,
            "grid_column": null,
            "grid_gap": null,
            "grid_row": null,
            "grid_template_areas": null,
            "grid_template_columns": null,
            "grid_template_rows": null,
            "height": null,
            "justify_content": null,
            "justify_items": null,
            "left": null,
            "margin": null,
            "max_height": null,
            "max_width": null,
            "min_height": null,
            "min_width": null,
            "object_fit": null,
            "object_position": null,
            "order": null,
            "overflow": null,
            "overflow_x": null,
            "overflow_y": null,
            "padding": null,
            "right": null,
            "top": null,
            "visibility": null,
            "width": null
          }
        },
        "7850f6b80d34487ba3c11bd0d4392b20": {
          "model_module": "@jupyter-widgets/controls",
          "model_name": "ProgressStyleModel",
          "model_module_version": "1.5.0",
          "state": {
            "_model_module": "@jupyter-widgets/controls",
            "_model_module_version": "1.5.0",
            "_model_name": "ProgressStyleModel",
            "_view_count": null,
            "_view_module": "@jupyter-widgets/base",
            "_view_module_version": "1.2.0",
            "_view_name": "StyleView",
            "bar_color": null,
            "description_width": ""
          }
        },
        "11deab73717c43319c02a9a44a9f1d19": {
          "model_module": "@jupyter-widgets/base",
          "model_name": "LayoutModel",
          "model_module_version": "1.2.0",
          "state": {
            "_model_module": "@jupyter-widgets/base",
            "_model_module_version": "1.2.0",
            "_model_name": "LayoutModel",
            "_view_count": null,
            "_view_module": "@jupyter-widgets/base",
            "_view_module_version": "1.2.0",
            "_view_name": "LayoutView",
            "align_content": null,
            "align_items": null,
            "align_self": null,
            "border": null,
            "bottom": null,
            "display": null,
            "flex": null,
            "flex_flow": null,
            "grid_area": null,
            "grid_auto_columns": null,
            "grid_auto_flow": null,
            "grid_auto_rows": null,
            "grid_column": null,
            "grid_gap": null,
            "grid_row": null,
            "grid_template_areas": null,
            "grid_template_columns": null,
            "grid_template_rows": null,
            "height": null,
            "justify_content": null,
            "justify_items": null,
            "left": null,
            "margin": null,
            "max_height": null,
            "max_width": null,
            "min_height": null,
            "min_width": null,
            "object_fit": null,
            "object_position": null,
            "order": null,
            "overflow": null,
            "overflow_x": null,
            "overflow_y": null,
            "padding": null,
            "right": null,
            "top": null,
            "visibility": null,
            "width": null
          }
        },
        "d39d0e567cae4f48afda1f111eb951ea": {
          "model_module": "@jupyter-widgets/controls",
          "model_name": "DescriptionStyleModel",
          "model_module_version": "1.5.0",
          "state": {
            "_model_module": "@jupyter-widgets/controls",
            "_model_module_version": "1.5.0",
            "_model_name": "DescriptionStyleModel",
            "_view_count": null,
            "_view_module": "@jupyter-widgets/base",
            "_view_module_version": "1.2.0",
            "_view_name": "StyleView",
            "description_width": ""
          }
        }
      }
    }
  },
  "nbformat": 4,
  "nbformat_minor": 0
}